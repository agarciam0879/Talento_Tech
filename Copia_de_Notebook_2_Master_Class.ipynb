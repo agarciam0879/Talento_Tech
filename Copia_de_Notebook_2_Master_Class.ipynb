{
  "nbformat": 4,
  "nbformat_minor": 0,
  "metadata": {
    "colab": {
      "provenance": [],
      "include_colab_link": true
    },
    "kernelspec": {
      "name": "python3",
      "display_name": "Python 3"
    },
    "language_info": {
      "name": "python"
    }
  },
  "cells": [
    {
      "cell_type": "markdown",
      "metadata": {
        "id": "view-in-github",
        "colab_type": "text"
      },
      "source": [
        "<a href=\"https://colab.research.google.com/github/agarciam0879/Talento_Tech/blob/main/Copia_de_Notebook_2_Master_Class.ipynb\" target=\"_parent\"><img src=\"https://colab.research.google.com/assets/colab-badge.svg\" alt=\"Open In Colab\"/></a>"
      ]
    },
    {
      "cell_type": "markdown",
      "source": [
        "<FONT SIZE=4 COLOR=\"blue\"> Objetivos de la sesión: </FONT>\n",
        "\n",
        "✔  En esta sesión revisaremos algunos conceptos fundamentales de Machine Learning como por ejemplo, conjunto de entrenamiento, conjunto de prueba, métrica de evaluación, validación cruzada (cross-validation),  hiperparámetros, entre otros.\n",
        "\n",
        "✔ Por otro lado, estudiaremos en qué consisten los problemas de clasificación y estudiaremos el primer modelo clásico de este tipo: los *k-vecinos más cercanos*. Además, estudiaremos la matriz de confusión y las diferentes métricas como el *recall* , *accuracy*, *precision*, etc.\n"
      ],
      "metadata": {
        "id": "Ltcxu19TC-Vx"
      }
    },
    {
      "cell_type": "markdown",
      "source": [
        "# <FONT SIZE=5 COLOR=\"Purple\"> 1. Conceptos Generales </FONT>\n",
        "\n",
        "A continuación, presentaremos los conceptos de Inteligencia Artificial (AI), Machine Learning (ML) y Deep Learning (DL).\n",
        "\n",
        "\n",
        "<br>\n",
        "<center><FONT SIZE=5 COLOR=\"green\"> AI-ML-DL </FONT></center>\n",
        "<br>\n",
        "\n",
        "- ***Inteligencia Artificial:*** es una combinación de algoritmos y dispositivos, diseñados con el fin de crear máquinas que imiten capacidades del ser humano.\n",
        "\n",
        "- ***Machine Learning:*** es un campo de la Inteligencia Artificial que a través de algoritmos se trata de identificar patrones en conjuntos de datos masivos y hacer predicciones sobre estos conjuntos.\n",
        "\n",
        "- ***Deep Learning:*** son algoritmos que usan arquitecturas computacionalmente más complejas, como las redes neuronales, para procesar y hacer predicciones sobre conjuntos de datos.\n",
        "\n",
        "El siguiente gráfico presenta la relación entre los campos definidos anteriormente.\n",
        "\n",
        "<br>\n",
        "\n",
        "<center><img src=\"https://github.com/Fabian830348/cursos/blob/master/intro/IA_ML_DL.png?raw=true\" alt=\"centered image\" width=\"500\" height=\"300\"></center><center><figcaption> <FONT SIZE=1 COLOR=\"black\"> Fuente: Elaboración propia  </FONT> <figcaption></center>\n",
        "<br>"
      ],
      "metadata": {
        "id": "Z9V4I-c2P2vC"
      }
    },
    {
      "cell_type": "markdown",
      "source": [
        "## <FONT SIZE=4 COLOR=\"green\"> Machine Learning </FONT>\n",
        "\n",
        "- El *Machine Learning* o aprendizaje automático de máquina trata de generar conocimiento de los datos. Es decir, extraer información oculta de los datos.\n",
        "\n",
        "- Es un campo de investigación que intersecta la estadística, inteligencia artificial y ciencias de la computación.\n",
        "\n",
        "- Las aplicaciones del *Machine Learning* están presenten en muchos contextos de la vida diaria. Desde recomendaciones automáticas de cuáles películas ver, qué comida pedir, cuáles productos comprar, hasta el reconocimiento de amigos en tus fotos.\n",
        "\n",
        "- Al mirar un sitio web complejo como Facebook, Amazon o Netflix, es muy probable que cada parte del sitio contenga múltiples modelos de machine learning.\n",
        "\n",
        "Dentro del campo del machine learning se estudian algunos tipos de problemas.\n",
        "\n",
        "## <FONT SIZE=4 COLOR=\"green\"> Aprendizaje supervisado </FONT>\n",
        "\n",
        "En este caso se desea automatizar el proceso de toma de decisiones a partir de ejemplos conocidos. Estos algoritmos de *Machine Learning* aprenden de los pares input/output conocidos, para crear un **output** para un **input** que nunca ha visto antes sin más ayuda.\n",
        "\n",
        "Vamos a considerar dos conjuntos de datos:\n",
        "\n",
        "1. (**Clasificación**) Supongamos que tenemos estos datos\n",
        "\n",
        "<br>\n",
        "<center><img src=\"https://github.com/Fabian830348/cursos/blob/master/supervisado5.png?raw=true\" alt=\"centered image\" width=\"700\" height=\"200\"></center>\n",
        "<br>\n",
        "\n",
        "donde,\n",
        "\n",
        "- ***Pregnancies***: Número de embarazos que ha tenido en su vida\n",
        "- ***Glucose***: Nivel de concentración de glucosa en sangre\n",
        "- ***BloodPressure***: Presión arterial\n",
        "- ***SkinThikness***: Espesor de piel a la altura del triceps\n",
        "- ***Insulin***: Respuesta a dosis de insulina en 2 horas\n",
        "- ***BMI***: Índice de masa corporal\n",
        "- ***DiabetesPedigreeFunction***: Presencia de diabetes en ascendencia directa\n",
        "- ***Age***: Edad del paciente\n",
        "- ***Outcome***: Variable que queremos predecir:\n",
        "   - $1$ : Tiene diabetes\n",
        "   - $0$ : No tiene diabetes\n",
        "\n",
        "***Problema***: Predecir si una mujer, con ciertos valores en las variables antes mencionadas tiene o no diabetes.\n",
        "\n",
        "2. (**Regresión**) Los siguientes datos contienen la información de en pauta publicitaria en diferentes medios (en miles de dólares)\n",
        "\n",
        "<center><img src=\"https://github.com/Fabian830348/cursos/blob/master/supervisado4.png?raw=true\" alt=\"centered image\" width=\"600\" height=\"200\"></center>\n",
        "\n",
        "***Problema***: Predecir las ventas en función de las inversiones que se hacen en pauta publicitaria en cada categoria.\n",
        "\n",
        "Algunos ejemplos de aplicaciones del aprendizaje supervisado\n",
        "\n",
        "1. **Clasificación de correos spam**: El modelo de *Machine Learning* utiliza un algoritmo dotado de una gran cantidad de correos electrónicos (los inputs), junto con información sobre si alguno de estos correos electrónicos es spam (objetivo deseado). Dado un nuevo correo electrónico, el algoritmo producirá una predicción sobre si el nuevo correo electrónico es correo no deseado.\n",
        "\n",
        "2. **Determinar si un tumor es benigno en base a una imagen médica:** La entrada es la imagen y la salida es si el tumor es benigno. Para crear un conjunto de datos que permita generar un modelo, se necesita una base de datos de imágenes médicas. Así mismo se necesita la opinión y conocimiento de un experto, por lo que un médico debe observar todas las imágenes y decidir qué tumores son benignos y cuáles no. Incluso podría ser necesario hacer un diagnóstico adicional más allá del contenido de la imagen para determinar si el tumor en la imagen es canceroso o no.\n",
        "\n",
        "3. **Detección de actividad fraudulenta en transacciones con tarjetas de crédito** La entrada es un registro de la transacción de la tarjeta de crédito y la salida es si es probable que sea fraudulento o no. Suponiendo que usted es la entidad que distribuye las tarjetas de crédito, recopilar un conjunto de datos significa almacenar todas las transacciones y registro si un usuario reporta alguna transacción como fraudulenta.\n",
        "\n",
        "4. **Predicción del comsumo de tarjeta de crédito.** Con base a diferentes variables que representan las características de un cliente, se puede predecir su consumo de tarjeta de crédito en un determinado mes o periodo de tiempo.\n",
        "\n",
        "Por otra parte\n",
        "\n",
        "## <FONT SIZE=4 COLOR=\"green\"> Aprendizaje No Supervisado </FONT>\n",
        "\n",
        "Son algoritmos en el que solo se conocen los datos de entrada y no se conoce la salida o etiqueta.\n",
        "\n",
        "(**Clustering**) En los siguientes datos se muestra información de asesinatos, asaltos, tamaño de la población, violaciones, etc., de estados de EEUU.\n",
        "\n",
        "<center><img src=\"https://github.com/Fabian830348/cursos/blob/master/no_supervisado1.png?raw=true\" alt=\"centered image\" width=\"500\" height=\"200\"></center>\n",
        "\n",
        "**Problema**: Identificar grupos de elementos del conjunto que compartan ciertas características.\n",
        "\n",
        "También se aplica para reducción de dimensionalidad.\n",
        "\n",
        "Algunos ejemplos de aplicación:\n",
        "\n",
        "1. **Segmentación de clientes en grupos con preferencias similares:** Dado un conjunto de registros de clientes, es posible que desee identificar qué clientes son similares, y si hay grupos de clientes con preferencias similares.\n",
        "\n",
        "2. **Identificar temas en un conjunto de publicaciones de blog:** Si tiene una gran colección de datos de texto, es posible que desee resumirlos y encontrar temas predominantes en él. Es posible que no sepa de antemano cuáles son estos temas, o cuántos temas puede haber. Por lo tanto, no hay salidas conocidas.\n",
        "\n",
        "<center><FONT SIZE=5 COLOR=\"PURPLE\"> MACHINE LEARNING </FONT></center>\n",
        "\n",
        "<br>\n",
        "<center><img src=\"https://github.com/Fabian830348/cursos/blob/master/imagen_ML.png?raw=true\" alt=\"centered image\" width=\"500\" height=\"300\"></center><center><figcaption> <FONT SIZE=1 COLOR=\"black\"> Fuente: Elaboración propia  </FONT> <figcaption></center>\n",
        "<br>\n",
        "\n",
        "Observe que para entender y poder determinar si un problema es supervisado o no supervisado debemos tener claro el problema que debemos resolver y qué tipos de variables contiene el conjunto de datos.\n",
        "\n",
        "Un aspecto importante en el campo del Machine Learning, es que antes de aplicar cualquier modelo, se requiere conocer los datos y alistarlos.\n",
        "\n",
        "A continuación, revisaremos algunos de estos conceptos."
      ],
      "metadata": {
        "id": "pgif1vrxP9Qv"
      }
    },
    {
      "cell_type": "markdown",
      "source": [
        "# <FONT SIZE=5 COLOR=\"purple\"> 2. Conceptos básicos de Machine Learning 1 </FONT>\n",
        "\n",
        "En está sección revisaremos algunos conceptos básicos de machine learning en los cuales se profundizará en lo que sigue del notebook\n",
        "\n",
        "<FONT SIZE=3 COLOR=\"green\"> a. Algoritmos de clasificación: </FONT> son conjuntos de técnicas de aprendizaje supervisado, en el cual el resultado que queremos predecir, es decir, las \"etiquetas\" (variable $\\mathbf{y}$), es discreto.\n",
        "\n",
        "<br>\n",
        "<center><img src=\"https://github.com/Fabian830348/cursos/blob/master/supervisado5.png?raw=true\" alt=\"centered image\" width=\"700\" height=\"200\"></center>\n",
        "<br>\n",
        "\n",
        "<FONT SIZE=3 COLOR=\"green\"> b. Variable Objetivo: </FONT> también denominada **variable de respuesta**. En un algoritmo de aprendizaje de máquina supervisado, es la variable que queremos predecir (por lo general, denotada como $\\mathbf{y}$). Esta puede ser discreta o continua. En el primer caso, da lugar a algoritmos de ***clasificación*** y en el segundo caso a algoritmos de ***regresión***.\n",
        "\n",
        "<br>\n",
        "\n",
        "<FONT SIZE=3 COLOR=\"green\"> c. Variables Predictoras: </FONT> también denominada ***features***, son las variables que se usarán para predecir la variable objetivo. Estas se denotan como\n",
        "\n",
        "$$\\mathbf{X}=\\{X_1,X_2, \\dots, X_n \\}$$\n",
        "\n",
        "<br>\n",
        "\n",
        "<FONT SIZE=3 COLOR=\"green\"> d. Conjunto de Entrenamiento: </FONT> es el subconjunto de registros que se selecciona para entrenar el modelo. Este conjunto consta de dos partes:\n",
        "\n",
        "- $X_{train}$ : conjunto de entrenamiento de los predictores o *features*.\n",
        "\n",
        "- $y_{train}$: conjunto de entrenamiento de la variable objetivo asociada al conjunto $X_{train}$.\n",
        "\n",
        "El conjunto de entrenamiento se selecciona de manera aleatoria y por lo general se toma el $70\\%$ , $75\\%$ y $80 \\%$.\n",
        "\n",
        "<br>\n",
        "\n",
        "<FONT SIZE=3 COLOR=\"green\"> e. Conjunto de Prueba o Validación: </FONT>: Es el subconjunto de registros que se selecciona para validar el modelo. Consta de dos partes:\n",
        "\n",
        "- $X_{test}$ : conjunto de validación de los predictores o *features*.\n",
        "\n",
        "- $y_{test}$: conjunto de validación de la variable objetivo asociada al conjunto $X_{test}$.\n",
        "\n",
        "El tamaño de este conjunto es el complemento de los conjuntos de entrenamiento.\n",
        "\n",
        "<br>\n",
        "\n",
        "<FONT SIZE=3 COLOR=\"green\"> f. Matriz de Confusión:</FONT> Herramienta usada para evaluar el rendimiento del modelo. (se ampliará más adelante las métricas y conceptos).\n",
        "\n",
        "<br>\n",
        "\n",
        "<FONT SIZE=3 COLOR=\"green\"> g. Hiperparámetro: </FONT> son variables de configuración externa al modelo original (general) que se pueden ajustar para entrenar el modelo. (cada modelo tiene diferentes hiperparámetros)"
      ],
      "metadata": {
        "id": "M0hu572uGmEi"
      }
    },
    {
      "cell_type": "markdown",
      "source": [
        "\n",
        "<center><FONT SIZE=4 COLOR=\"BLUE\"> ESQUEMA GENERAL DE CLASIFICACIÓN EN MACHINE LEARNING </FONT></center>\n",
        "<br>\n",
        "<center><img src=\"https://github.com/Fabian830348/cursos/blob/master/Intro-knn/ESQUEMA%20DE%20CLASIFICACI%C3%93N.png?raw=true\" alt=\"centered image\" width=\"700\" height=\"400\"></center> <center><figcaption> <FONT SIZE=1 COLOR=\"black\"> Fuente: Elaboración propia  </FONT> <figcaption></center>\n",
        "<br>\n"
      ],
      "metadata": {
        "id": "xiRS809_Wddp"
      }
    },
    {
      "cell_type": "markdown",
      "source": [
        "A continuación, revisaremos en detalle uno de los primeros algoritmos de machine learning y con este ilustraremos algunos conceptos y herramientas que aplican también para otros algoritmos de clasificación."
      ],
      "metadata": {
        "id": "AYn5w5oBqtzP"
      }
    },
    {
      "cell_type": "markdown",
      "source": [
        "# <FONT SIZE=5 COLOR=\"Purple\"> 3. Algoritmo de clasificación KNN : K-vecinos más cercanos </FONT>\n",
        "\n",
        "En esta sección revisaremos el algoritmo de clasificación ***KNN: k-nearest neigbors*** : K-vecinos más cercanos."
      ],
      "metadata": {
        "id": "0TnsrU_7kbgR"
      }
    },
    {
      "cell_type": "markdown",
      "source": [
        "## <FONT SIZE=4 COLOR=\"blue\"> 3.1 ¿En qué consiste? </FONT>\n",
        "\n",
        "Este algoritmo consiste en consiste en clasificar los valores de una variable categórica de acuerdo con los vecinos más cercanos. A continuación explicaremos el funcionamiento"
      ],
      "metadata": {
        "id": "z6UUUh63lb0P"
      }
    },
    {
      "cell_type": "markdown",
      "source": [
        "1. Supongamos que queremos clasificar el cuadrado amarillo en las dos posibles clases.\n",
        "\n",
        "<br>\n",
        "<center><img src=\"https://github.com/Fabian830348/cursos/blob/master/Intro-knn/knn1.png?raw=true?\" alt=\"centered image\" width=\"600\" height=\"450\"></center> <center><figcaption> <FONT SIZE=1 COLOR=\"black\"> Fuente: Libro Guía  </FONT> <figcaption></center>\n",
        "\n",
        "\n"
      ],
      "metadata": {
        "id": "vcCknbLpmz51"
      }
    },
    {
      "cell_type": "markdown",
      "source": [
        "2. Por ejemplo, si tenemos otro valor de $k$ la clasificación puede cambiar.\n",
        "\n",
        "<br>\n",
        "<center><img src=\"https://github.com/Fabian830348/cursos/blob/master/Intro-knn/knn2.png?raw=true?\" alt=\"centered image\" width=\"600\" height=\"450\"></center> <center><figcaption> <FONT SIZE=1 COLOR=\"black\"> Fuente: Libro Guía  </FONT> <figcaption></center>\n",
        "\n"
      ],
      "metadata": {
        "id": "Wa22mH3xnPJf"
      }
    },
    {
      "cell_type": "markdown",
      "source": [
        "## <FONT SIZE=4 COLOR=\"blue\"> 3.2 Descripción del algoritmo: pseudocódigo </FONT>\n",
        "\n",
        "- Determinar el valor de $k$.\n",
        "\n",
        "- Calcular la distancia del punto a clasificar a todos los otros puntos.\n",
        "\n",
        "- Ordenar de manera ascendente las distancias.\n",
        "\n",
        "- Tomar los puntos más cercanos al punto a clasificar de acuerdo con el valor que le asignemos a $k$.\n",
        "\n",
        "- Contar cuántos puntos de cada clase están en la vecindad y definimos por mayoría.\n",
        "\n",
        "- Por ejemplo: Si k es 3 y tenemos\n",
        "\n",
        "   + Distancia 1 : 2.5 : clase a\n",
        "\n",
        "   + Distancia 2 : 2.51 : clase b\n",
        "\n",
        "   + Distancia 3 : 2.53 : clase a\n",
        "\n",
        "  Conclusión: El punto se clasifica en la clase a.\n",
        "\n",
        "En caso de que haya empate se pueden definir algunos criterios de desempate. Por ejemplo:\n",
        "\n",
        "  - la clase que contenga al vecino más cercano.\n",
        "  - la clase con la distancia media más pequeña."
      ],
      "metadata": {
        "id": "Rr63K3NRoDx9"
      }
    },
    {
      "cell_type": "markdown",
      "source": [
        "## <FONT SIZE=4 COLOR=\"blue\"> 3.3 Sobre el algoritmo </FONT>\n",
        "\n",
        "A continuación, algunos puntos importantes que se deben tener en cuenta sobre el algoritmo ***knn***\n",
        "\n",
        "1. Observe que no se genera un modelo que sea consecuencia de un entrenamiento previo, sino que el aprendizaje se da en el mismo momento en el que se prueban los datos de validación. A este tipo de algoritmos se les denomina ***lazy learning methods***.\n",
        "\n",
        "2. Como utiliza todo el set de entrenamiento para calcular las distancias, se tiene un costo computacional alto.\n",
        "\n",
        "3. Es un algoritmo que da buenos resultados, pero es recomendable para conjuntos de datos no tan grandes.\n",
        "\n",
        "4. Es muy sensible al valor de $k$ y a la distancia seleccionada.\n",
        "\n",
        "5. Es importante escalar los datos."
      ],
      "metadata": {
        "id": "uJOahxNMW7mZ"
      }
    },
    {
      "cell_type": "markdown",
      "source": [
        "## <FONT SIZE=4 COLOR=\"blue\"> 3.4 Sobre las distancias </FONT>\n",
        "\n",
        "El algoritmo $knn$ está fundamentado en la distancia entre dos puntos. Si bien, una de las distancias más conocida es la distancia euclideana, existen otras distancias que se pueden usar para el algoritmo.\n",
        "\n",
        "## <FONT SIZE=3 COLOR=\"magenta\"> Distancia Euclideana </FONT>\n",
        "\n",
        "$$ \\left (\\sum \\limits_{i=1}^m (x_i-y_i)^2 \\right)^{1/2}$$\n",
        "\n",
        "Esta métrica se puede usar para variables con valores discretos o continuos en general.\n",
        "\n",
        "## <FONT SIZE=3 COLOR=\"magenta\"> Distancia de Manhattan</FONT>\n",
        "\n",
        "$$ \\sum \\limits_{i=1}^{m} |x_i-y_i|$$\n",
        "\n",
        "Observe que es más sencilla que la euclideana (tiene menos cálculos)\n",
        "\n",
        "<br>\n",
        "<center><img src=\"https://github.com/Fabian830348/cursos/blob/master/Intro-knn/knn3.png?raw=true?\" alt=\"centered image\" width=\"600\" height=\"450\"></center> <center><figcaption> <FONT SIZE=1 COLOR=\"black\"> Fuente: Elaboración propia  </FONT> <figcaption></center>\n",
        "\n",
        "La métrica euclideana y de Manhattan tienen una generalización que se denomina.\n",
        "\n",
        "## <FONT SIZE=3 COLOR=\"magenta\"> Distancia de Minkowski</FONT>\n",
        "\n",
        "$$ \\left (\\sum \\limits_{i=1}^m (x_i-y_i)^p \\right)^{1/p}$$\n",
        "\n",
        "## <FONT SIZE=3 COLOR=\"magenta\"> Distancia de Hamming</FONT>\n",
        "\n",
        "$$Distancia \\,\\, Hamming : \\begin{cases} 0 & \\text{si $x=y$} \\\\ 1 & \\text{si $x \\neq y$}   \\end{cases}$$\n",
        "\n",
        "Esta distancia es equivalente a la de Manhattan para variables binarias, es decir, que solo tienen ceros y unos\n",
        "\n",
        "$$ a = \\begin{pmatrix} 1 \\\\ 0 \\\\ 1 \\\\ 1 \\end{pmatrix}  \\qquad b = \\begin{pmatrix} 0 \\\\ 1 \\\\ 1 \\\\ 1 \\end{pmatrix}$$\n",
        "\n",
        "## <FONT SIZE=3 COLOR=\"magenta\"> Distancia Euclideana con pesos </FONT>\n",
        "\n",
        "$$ \\left (\\sum \\limits_{i=1}^m w_i(x_i-y_i)^2 \\right)^{1/2}$$\n",
        "\n",
        "donde los pesos resultan, por ejemplo, del escalamiento de los datos.\n",
        "\n"
      ],
      "metadata": {
        "id": "E2oMMh1Goqyr"
      }
    },
    {
      "cell_type": "markdown",
      "source": [
        "## <FONT SIZE=4 COLOR=\"blue\"> 3.5 Sobre los valores de $k$ </FONT>\n",
        "\n",
        "Un parámetro muy importante en el algoritmo de *knn* es el valor de $k$.  Inicialmente, no hay una forma general de escogerlo, sin embargo\n",
        "\n",
        "- Si se toma un valor de $k$ muy pequeño se puede sobreajustar (overfitting).\n",
        "\n",
        "- Si el valor de $k$ es muy grande sucede lo contrario. Será más dificil clasificar.\n",
        "\n",
        "- Se recomienda **Tunear** (optimizar) el hiperparámetro $k$. Se dice hiperparámetro ya que es un parámetro que se utiliza para entrenar el modelo."
      ],
      "metadata": {
        "id": "Lypilljgelwo"
      }
    },
    {
      "cell_type": "markdown",
      "source": [
        "## <FONT SIZE=4 COLOR=\"blue\"> 3.6 Sobre el escalamiento </FONT>\n",
        "\n",
        "El algoritmo *knn* está fundamentado en seleccionar mínimas distancias, en ese orden de ideas, observe lo siguiente.\n",
        "\n",
        "- Si se tiene una variable $X_1$ que varía en $[1,2]$ y otra variable $X_2$ que varía en $[1000, 2000]$. Al calcular distancias con los valores de estas variables $X_2$ dominará a $X_1$ que tiene valores más pequeños y como la algoritmo utiliza la distancia para clasificar entonces queda sesgado el resultado.\n",
        "\n",
        "Por lo anterior, se deben escalar las variables predictoras y en general se usan las siguientes dos funciones.\n",
        "\n",
        "## <FONT SIZE=3 COLOR=\"blue\"> StandardScaler </FONT>\n",
        "\n",
        "$$\\dfrac{X-\\mu}{\\sigma}$$\n",
        "\n",
        "\n",
        "## <FONT SIZE=3 COLOR=\"blue\"> MaxminScaler </FONT>\n",
        "\n",
        "$$\\dfrac{X-X_{min}}{X_{max}-X_{min}}$$\n",
        "\n",
        "\n",
        "\n"
      ],
      "metadata": {
        "id": "yKuq0-jjgcgl"
      }
    },
    {
      "cell_type": "markdown",
      "source": [
        "A continuación, revisaremos un ejemplo donde ilustraremos los conceptos, el código de programación y otros elementos importantes."
      ],
      "metadata": {
        "id": "dmBWtchOkxMQ"
      }
    },
    {
      "cell_type": "markdown",
      "source": [
        "# <FONT SIZE=5 COLOR=\"purple\"> 4. Ejemplo Práctico </FONT>\n",
        "\n",
        "- En esta sección haremos un ejemplo práctico.\n",
        "\n",
        "- Iniciaremos indicando las librerías que debemos usar."
      ],
      "metadata": {
        "id": "jU2O_Ocdk-MD"
      }
    },
    {
      "cell_type": "markdown",
      "source": [
        "## <FONT SIZE=4 COLOR=\"blue\"> 4.1 Librerías de trabajo </FONT>"
      ],
      "metadata": {
        "id": "LQk9kTV1lZw0"
      }
    },
    {
      "cell_type": "code",
      "source": [
        "# Manipulación de data.frames\n",
        "import pandas as pd\n",
        "import numpy as np\n",
        "\n",
        "# Librerías para Gráficos\n",
        "import matplotlib.pyplot as plt\n",
        "import seaborn as sns\n",
        "import plotly.express as px\n",
        "%matplotlib inline\n",
        "plt.style.use(\"ggplot\")\n",
        "plt.rcParams[\"figure.figsize\"] = (15,6)\n",
        "\n",
        "# Librerías para datos de entrenamiento y prueba\n",
        "from sklearn.model_selection    import train_test_split\n",
        "\n",
        "# Para preprocesamiento\n",
        "from sklearn.preprocessing      import StandardScaler, MinMaxScaler\n",
        "\n",
        "# Para aplicar k-nearest neiborg\n",
        "from sklearn.neighbors          import KNeighborsClassifier\n",
        "\n",
        "# Métricas de evaluación\n",
        "from sklearn.metrics            import confusion_matrix, ConfusionMatrixDisplay, classification_report\n",
        "from sklearn.metrics            import accuracy_score, precision_score, recall_score, f1_score\n",
        "\n",
        "# Optimización de hiperparámetros\n",
        "from sklearn.model_selection    import GridSearchCV, RandomizedSearchCV\n",
        "\n",
        "# Para ignorar los warnings\n",
        "import warnings\n",
        "warnings.filterwarnings(\"ignore\")"
      ],
      "metadata": {
        "id": "fmJaik-Alf_S"
      },
      "execution_count": 1,
      "outputs": []
    },
    {
      "cell_type": "code",
      "source": [
        "from google.colab import drive # Traemos la clase drive, dentro del módulo colab, del paquete google\n",
        "drive.mount('/content/drive') # Establecemos la conexión através del método mount"
      ],
      "metadata": {
        "id": "bbrLKHb-SU43",
        "colab": {
          "base_uri": "https://localhost:8080/"
        },
        "outputId": "cd6e9fb5-f3c9-49f7-db1a-7ef8215a39e9"
      },
      "execution_count": 2,
      "outputs": [
        {
          "output_type": "stream",
          "name": "stdout",
          "text": [
            "Mounted at /content/drive\n"
          ]
        }
      ]
    },
    {
      "cell_type": "markdown",
      "source": [
        "## <FONT SIZE=4 COLOR=\"blue\"> 4.2 Contexto del problema </FONT>\n",
        "\n",
        " En este caso intentaremos predecir a qué categoría corresponde un conjunto de datos.\n",
        "\n",
        "En términos generales, seremos mucho más precisos si tenemos que modelar el comportamiento de una categoría que de una variable continua, por lo que veremos que muchas veces, incluso los problemas de predecir variables numéricas se pueden discretizar y convertir en problemas de clasificación.\n",
        "\n",
        "En este caso, veremos un caso típico de un problema de clasificación. Queremos predecir si una integrante de una muestra que representa a una población, tiene diabetes. Queremos hacer esto a partir de múltiples variables que tenemos de cada uno de los pacientes:\n",
        "\n",
        "- ***Pregnancies***: Número de embarazos que ha tenido en su vida\n",
        "- ***Glucose***: Nivel de concentración de glucosa en sangre\n",
        "- ***BloodPressure***: Presión arterial\n",
        "- ***SkinThikness***: Espesor de piel a la altura del triceps\n",
        "- ***Insulin***: Respuesta a dosis de insulina en 2 horas\n",
        "- ***BMI***: Índice de masa corporal\n",
        "- ***DiabetesPedigreeFunction***: Presencia de diabetes en ascendencia directa\n",
        "- ***Age***: Edad del paciente\n",
        "- ***Outcome***: Variable que queremos predecir:\n",
        "   - $1$ : Tiene diabetes\n",
        "   - $0$ : No tiene diabetes\n",
        "\n"
      ],
      "metadata": {
        "id": "HkINXW4WmU5O"
      }
    },
    {
      "cell_type": "markdown",
      "source": [
        "## <FONT SIZE=4 COLOR=\"blue\"> 4.4 Importar los datos </FONT>\n",
        "\n",
        "Vamos a cargar los datos."
      ],
      "metadata": {
        "id": "gvKTG0D5pHv9"
      }
    },
    {
      "cell_type": "code",
      "source": [
        "df_diabetes = pd.read_csv(\"/content/drive/MyDrive/Colab Notebooks/2. MENTORIA/diabetes.csv\")"
      ],
      "metadata": {
        "id": "gPKIEFqGqDJn"
      },
      "execution_count": 11,
      "outputs": []
    },
    {
      "cell_type": "code",
      "source": [
        "url_1 = \"/content/drive/MyDrive/Colab Notebooks/2. MENTORIA/diabetes.csv\"  # Reemplaza \"heart.csv\" con el nombre real de tu archivo\n",
        "diabetes = pd.read_csv(url_1)"
      ],
      "metadata": {
        "id": "9_8cDWKhZDM-"
      },
      "execution_count": 12,
      "outputs": []
    },
    {
      "cell_type": "code",
      "source": [
        "df_corazon = pd.read_csv(\"/content/drive/MyDrive/Colab Notebooks/2. MENTORIA/heart.csv\")"
      ],
      "metadata": {
        "id": "Zae5-79E2blK"
      },
      "execution_count": 13,
      "outputs": []
    },
    {
      "cell_type": "code",
      "source": [
        "url_2 = \"/content/drive/MyDrive/Colab Notebooks/2. MENTORIA/heart.csv\"  # Reemplaza \"heart.csv\" con el nombre real de tu archivo\n",
        "corazon = pd.read_csv(url_2)"
      ],
      "metadata": {
        "id": "N_0xL3ywN1cm"
      },
      "execution_count": 14,
      "outputs": []
    },
    {
      "cell_type": "markdown",
      "source": [
        "## <FONT SIZE=4 COLOR=\"blue\"> 4.5 Exploración de los datos </FONT>\n",
        "\n",
        "Este paso fue el que hicimos en el cuaderno anterior"
      ],
      "metadata": {
        "id": "wlgRkB50rYvW"
      }
    },
    {
      "cell_type": "code",
      "source": [
        "# últimos registros\n"
      ],
      "metadata": {
        "id": "STcYQTSag1Kn"
      },
      "execution_count": null,
      "outputs": []
    },
    {
      "cell_type": "code",
      "source": [
        "# tamaño de los datos\n"
      ],
      "metadata": {
        "id": "8abpttSyg2jj"
      },
      "execution_count": null,
      "outputs": []
    },
    {
      "cell_type": "code",
      "source": [
        "# primeros registros\n"
      ],
      "metadata": {
        "id": "04IgiY6vgxgD"
      },
      "execution_count": null,
      "outputs": []
    },
    {
      "cell_type": "code",
      "source": [
        "# información de los datos\n"
      ],
      "metadata": {
        "id": "E3GzMnUpg43x"
      },
      "execution_count": null,
      "outputs": []
    },
    {
      "cell_type": "code",
      "source": [
        "# estadísticas descriptivas\n"
      ],
      "metadata": {
        "id": "DQoZwNikg9Jr"
      },
      "execution_count": null,
      "outputs": []
    },
    {
      "cell_type": "code",
      "source": [
        "# contar las categorias de la variable outcome\n"
      ],
      "metadata": {
        "id": "uoFRd8uMqTNB"
      },
      "execution_count": null,
      "outputs": []
    },
    {
      "cell_type": "markdown",
      "source": [
        "Hacemos la gráfica de barras de las frecuencias"
      ],
      "metadata": {
        "id": "hS0mIidmxVYL"
      }
    },
    {
      "cell_type": "code",
      "source": [
        "px.bar(diabetes.Outcome.value_counts())"
      ],
      "metadata": {
        "colab": {
          "base_uri": "https://localhost:8080/",
          "height": 542
        },
        "id": "Emu5coqS8VXC",
        "outputId": "65c40080-f5d1-4873-b4a4-ebdf196362ec",
        "collapsed": true
      },
      "execution_count": 20,
      "outputs": [
        {
          "output_type": "display_data",
          "data": {
            "text/html": [
              "<html>\n",
              "<head><meta charset=\"utf-8\" /></head>\n",
              "<body>\n",
              "    <div>            <script src=\"https://cdnjs.cloudflare.com/ajax/libs/mathjax/2.7.5/MathJax.js?config=TeX-AMS-MML_SVG\"></script><script type=\"text/javascript\">if (window.MathJax && window.MathJax.Hub && window.MathJax.Hub.Config) {window.MathJax.Hub.Config({SVG: {font: \"STIX-Web\"}});}</script>                <script type=\"text/javascript\">window.PlotlyConfig = {MathJaxConfig: 'local'};</script>\n",
              "        <script charset=\"utf-8\" src=\"https://cdn.plot.ly/plotly-2.35.2.min.js\"></script>                <div id=\"7e103e73-3173-4bf3-a088-73e5cdc8f10d\" class=\"plotly-graph-div\" style=\"height:525px; width:100%;\"></div>            <script type=\"text/javascript\">                                    window.PLOTLYENV=window.PLOTLYENV || {};                                    if (document.getElementById(\"7e103e73-3173-4bf3-a088-73e5cdc8f10d\")) {                    Plotly.newPlot(                        \"7e103e73-3173-4bf3-a088-73e5cdc8f10d\",                        [{\"alignmentgroup\":\"True\",\"hovertemplate\":\"variable=count\\u003cbr\\u003eOutcome=%{x}\\u003cbr\\u003evalue=%{y}\\u003cextra\\u003e\\u003c\\u002fextra\\u003e\",\"legendgroup\":\"count\",\"marker\":{\"color\":\"#636efa\",\"pattern\":{\"shape\":\"\"}},\"name\":\"count\",\"offsetgroup\":\"count\",\"orientation\":\"v\",\"showlegend\":true,\"textposition\":\"auto\",\"x\":[0,1],\"xaxis\":\"x\",\"y\":[500,268],\"yaxis\":\"y\",\"type\":\"bar\"}],                        {\"template\":{\"data\":{\"histogram2dcontour\":[{\"type\":\"histogram2dcontour\",\"colorbar\":{\"outlinewidth\":0,\"ticks\":\"\"},\"colorscale\":[[0.0,\"#0d0887\"],[0.1111111111111111,\"#46039f\"],[0.2222222222222222,\"#7201a8\"],[0.3333333333333333,\"#9c179e\"],[0.4444444444444444,\"#bd3786\"],[0.5555555555555556,\"#d8576b\"],[0.6666666666666666,\"#ed7953\"],[0.7777777777777778,\"#fb9f3a\"],[0.8888888888888888,\"#fdca26\"],[1.0,\"#f0f921\"]]}],\"choropleth\":[{\"type\":\"choropleth\",\"colorbar\":{\"outlinewidth\":0,\"ticks\":\"\"}}],\"histogram2d\":[{\"type\":\"histogram2d\",\"colorbar\":{\"outlinewidth\":0,\"ticks\":\"\"},\"colorscale\":[[0.0,\"#0d0887\"],[0.1111111111111111,\"#46039f\"],[0.2222222222222222,\"#7201a8\"],[0.3333333333333333,\"#9c179e\"],[0.4444444444444444,\"#bd3786\"],[0.5555555555555556,\"#d8576b\"],[0.6666666666666666,\"#ed7953\"],[0.7777777777777778,\"#fb9f3a\"],[0.8888888888888888,\"#fdca26\"],[1.0,\"#f0f921\"]]}],\"heatmap\":[{\"type\":\"heatmap\",\"colorbar\":{\"outlinewidth\":0,\"ticks\":\"\"},\"colorscale\":[[0.0,\"#0d0887\"],[0.1111111111111111,\"#46039f\"],[0.2222222222222222,\"#7201a8\"],[0.3333333333333333,\"#9c179e\"],[0.4444444444444444,\"#bd3786\"],[0.5555555555555556,\"#d8576b\"],[0.6666666666666666,\"#ed7953\"],[0.7777777777777778,\"#fb9f3a\"],[0.8888888888888888,\"#fdca26\"],[1.0,\"#f0f921\"]]}],\"heatmapgl\":[{\"type\":\"heatmapgl\",\"colorbar\":{\"outlinewidth\":0,\"ticks\":\"\"},\"colorscale\":[[0.0,\"#0d0887\"],[0.1111111111111111,\"#46039f\"],[0.2222222222222222,\"#7201a8\"],[0.3333333333333333,\"#9c179e\"],[0.4444444444444444,\"#bd3786\"],[0.5555555555555556,\"#d8576b\"],[0.6666666666666666,\"#ed7953\"],[0.7777777777777778,\"#fb9f3a\"],[0.8888888888888888,\"#fdca26\"],[1.0,\"#f0f921\"]]}],\"contourcarpet\":[{\"type\":\"contourcarpet\",\"colorbar\":{\"outlinewidth\":0,\"ticks\":\"\"}}],\"contour\":[{\"type\":\"contour\",\"colorbar\":{\"outlinewidth\":0,\"ticks\":\"\"},\"colorscale\":[[0.0,\"#0d0887\"],[0.1111111111111111,\"#46039f\"],[0.2222222222222222,\"#7201a8\"],[0.3333333333333333,\"#9c179e\"],[0.4444444444444444,\"#bd3786\"],[0.5555555555555556,\"#d8576b\"],[0.6666666666666666,\"#ed7953\"],[0.7777777777777778,\"#fb9f3a\"],[0.8888888888888888,\"#fdca26\"],[1.0,\"#f0f921\"]]}],\"surface\":[{\"type\":\"surface\",\"colorbar\":{\"outlinewidth\":0,\"ticks\":\"\"},\"colorscale\":[[0.0,\"#0d0887\"],[0.1111111111111111,\"#46039f\"],[0.2222222222222222,\"#7201a8\"],[0.3333333333333333,\"#9c179e\"],[0.4444444444444444,\"#bd3786\"],[0.5555555555555556,\"#d8576b\"],[0.6666666666666666,\"#ed7953\"],[0.7777777777777778,\"#fb9f3a\"],[0.8888888888888888,\"#fdca26\"],[1.0,\"#f0f921\"]]}],\"mesh3d\":[{\"type\":\"mesh3d\",\"colorbar\":{\"outlinewidth\":0,\"ticks\":\"\"}}],\"scatter\":[{\"fillpattern\":{\"fillmode\":\"overlay\",\"size\":10,\"solidity\":0.2},\"type\":\"scatter\"}],\"parcoords\":[{\"type\":\"parcoords\",\"line\":{\"colorbar\":{\"outlinewidth\":0,\"ticks\":\"\"}}}],\"scatterpolargl\":[{\"type\":\"scatterpolargl\",\"marker\":{\"colorbar\":{\"outlinewidth\":0,\"ticks\":\"\"}}}],\"bar\":[{\"error_x\":{\"color\":\"#2a3f5f\"},\"error_y\":{\"color\":\"#2a3f5f\"},\"marker\":{\"line\":{\"color\":\"#E5ECF6\",\"width\":0.5},\"pattern\":{\"fillmode\":\"overlay\",\"size\":10,\"solidity\":0.2}},\"type\":\"bar\"}],\"scattergeo\":[{\"type\":\"scattergeo\",\"marker\":{\"colorbar\":{\"outlinewidth\":0,\"ticks\":\"\"}}}],\"scatterpolar\":[{\"type\":\"scatterpolar\",\"marker\":{\"colorbar\":{\"outlinewidth\":0,\"ticks\":\"\"}}}],\"histogram\":[{\"marker\":{\"pattern\":{\"fillmode\":\"overlay\",\"size\":10,\"solidity\":0.2}},\"type\":\"histogram\"}],\"scattergl\":[{\"type\":\"scattergl\",\"marker\":{\"colorbar\":{\"outlinewidth\":0,\"ticks\":\"\"}}}],\"scatter3d\":[{\"type\":\"scatter3d\",\"line\":{\"colorbar\":{\"outlinewidth\":0,\"ticks\":\"\"}},\"marker\":{\"colorbar\":{\"outlinewidth\":0,\"ticks\":\"\"}}}],\"scattermapbox\":[{\"type\":\"scattermapbox\",\"marker\":{\"colorbar\":{\"outlinewidth\":0,\"ticks\":\"\"}}}],\"scatterternary\":[{\"type\":\"scatterternary\",\"marker\":{\"colorbar\":{\"outlinewidth\":0,\"ticks\":\"\"}}}],\"scattercarpet\":[{\"type\":\"scattercarpet\",\"marker\":{\"colorbar\":{\"outlinewidth\":0,\"ticks\":\"\"}}}],\"carpet\":[{\"aaxis\":{\"endlinecolor\":\"#2a3f5f\",\"gridcolor\":\"white\",\"linecolor\":\"white\",\"minorgridcolor\":\"white\",\"startlinecolor\":\"#2a3f5f\"},\"baxis\":{\"endlinecolor\":\"#2a3f5f\",\"gridcolor\":\"white\",\"linecolor\":\"white\",\"minorgridcolor\":\"white\",\"startlinecolor\":\"#2a3f5f\"},\"type\":\"carpet\"}],\"table\":[{\"cells\":{\"fill\":{\"color\":\"#EBF0F8\"},\"line\":{\"color\":\"white\"}},\"header\":{\"fill\":{\"color\":\"#C8D4E3\"},\"line\":{\"color\":\"white\"}},\"type\":\"table\"}],\"barpolar\":[{\"marker\":{\"line\":{\"color\":\"#E5ECF6\",\"width\":0.5},\"pattern\":{\"fillmode\":\"overlay\",\"size\":10,\"solidity\":0.2}},\"type\":\"barpolar\"}],\"pie\":[{\"automargin\":true,\"type\":\"pie\"}]},\"layout\":{\"autotypenumbers\":\"strict\",\"colorway\":[\"#636efa\",\"#EF553B\",\"#00cc96\",\"#ab63fa\",\"#FFA15A\",\"#19d3f3\",\"#FF6692\",\"#B6E880\",\"#FF97FF\",\"#FECB52\"],\"font\":{\"color\":\"#2a3f5f\"},\"hovermode\":\"closest\",\"hoverlabel\":{\"align\":\"left\"},\"paper_bgcolor\":\"white\",\"plot_bgcolor\":\"#E5ECF6\",\"polar\":{\"bgcolor\":\"#E5ECF6\",\"angularaxis\":{\"gridcolor\":\"white\",\"linecolor\":\"white\",\"ticks\":\"\"},\"radialaxis\":{\"gridcolor\":\"white\",\"linecolor\":\"white\",\"ticks\":\"\"}},\"ternary\":{\"bgcolor\":\"#E5ECF6\",\"aaxis\":{\"gridcolor\":\"white\",\"linecolor\":\"white\",\"ticks\":\"\"},\"baxis\":{\"gridcolor\":\"white\",\"linecolor\":\"white\",\"ticks\":\"\"},\"caxis\":{\"gridcolor\":\"white\",\"linecolor\":\"white\",\"ticks\":\"\"}},\"coloraxis\":{\"colorbar\":{\"outlinewidth\":0,\"ticks\":\"\"}},\"colorscale\":{\"sequential\":[[0.0,\"#0d0887\"],[0.1111111111111111,\"#46039f\"],[0.2222222222222222,\"#7201a8\"],[0.3333333333333333,\"#9c179e\"],[0.4444444444444444,\"#bd3786\"],[0.5555555555555556,\"#d8576b\"],[0.6666666666666666,\"#ed7953\"],[0.7777777777777778,\"#fb9f3a\"],[0.8888888888888888,\"#fdca26\"],[1.0,\"#f0f921\"]],\"sequentialminus\":[[0.0,\"#0d0887\"],[0.1111111111111111,\"#46039f\"],[0.2222222222222222,\"#7201a8\"],[0.3333333333333333,\"#9c179e\"],[0.4444444444444444,\"#bd3786\"],[0.5555555555555556,\"#d8576b\"],[0.6666666666666666,\"#ed7953\"],[0.7777777777777778,\"#fb9f3a\"],[0.8888888888888888,\"#fdca26\"],[1.0,\"#f0f921\"]],\"diverging\":[[0,\"#8e0152\"],[0.1,\"#c51b7d\"],[0.2,\"#de77ae\"],[0.3,\"#f1b6da\"],[0.4,\"#fde0ef\"],[0.5,\"#f7f7f7\"],[0.6,\"#e6f5d0\"],[0.7,\"#b8e186\"],[0.8,\"#7fbc41\"],[0.9,\"#4d9221\"],[1,\"#276419\"]]},\"xaxis\":{\"gridcolor\":\"white\",\"linecolor\":\"white\",\"ticks\":\"\",\"title\":{\"standoff\":15},\"zerolinecolor\":\"white\",\"automargin\":true,\"zerolinewidth\":2},\"yaxis\":{\"gridcolor\":\"white\",\"linecolor\":\"white\",\"ticks\":\"\",\"title\":{\"standoff\":15},\"zerolinecolor\":\"white\",\"automargin\":true,\"zerolinewidth\":2},\"scene\":{\"xaxis\":{\"backgroundcolor\":\"#E5ECF6\",\"gridcolor\":\"white\",\"linecolor\":\"white\",\"showbackground\":true,\"ticks\":\"\",\"zerolinecolor\":\"white\",\"gridwidth\":2},\"yaxis\":{\"backgroundcolor\":\"#E5ECF6\",\"gridcolor\":\"white\",\"linecolor\":\"white\",\"showbackground\":true,\"ticks\":\"\",\"zerolinecolor\":\"white\",\"gridwidth\":2},\"zaxis\":{\"backgroundcolor\":\"#E5ECF6\",\"gridcolor\":\"white\",\"linecolor\":\"white\",\"showbackground\":true,\"ticks\":\"\",\"zerolinecolor\":\"white\",\"gridwidth\":2}},\"shapedefaults\":{\"line\":{\"color\":\"#2a3f5f\"}},\"annotationdefaults\":{\"arrowcolor\":\"#2a3f5f\",\"arrowhead\":0,\"arrowwidth\":1},\"geo\":{\"bgcolor\":\"white\",\"landcolor\":\"#E5ECF6\",\"subunitcolor\":\"white\",\"showland\":true,\"showlakes\":true,\"lakecolor\":\"white\"},\"title\":{\"x\":0.05},\"mapbox\":{\"style\":\"light\"}}},\"xaxis\":{\"anchor\":\"y\",\"domain\":[0.0,1.0],\"title\":{\"text\":\"Outcome\"}},\"yaxis\":{\"anchor\":\"x\",\"domain\":[0.0,1.0],\"title\":{\"text\":\"value\"}},\"legend\":{\"title\":{\"text\":\"variable\"},\"tracegroupgap\":0},\"margin\":{\"t\":60},\"barmode\":\"relative\"},                        {\"responsive\": true}                    ).then(function(){\n",
              "                            \n",
              "var gd = document.getElementById('7e103e73-3173-4bf3-a088-73e5cdc8f10d');\n",
              "var x = new MutationObserver(function (mutations, observer) {{\n",
              "        var display = window.getComputedStyle(gd).display;\n",
              "        if (!display || display === 'none') {{\n",
              "            console.log([gd, 'removed!']);\n",
              "            Plotly.purge(gd);\n",
              "            observer.disconnect();\n",
              "        }}\n",
              "}});\n",
              "\n",
              "// Listen for the removal of the full notebook cells\n",
              "var notebookContainer = gd.closest('#notebook-container');\n",
              "if (notebookContainer) {{\n",
              "    x.observe(notebookContainer, {childList: true});\n",
              "}}\n",
              "\n",
              "// Listen for the clearing of the current output cell\n",
              "var outputEl = gd.closest('.output');\n",
              "if (outputEl) {{\n",
              "    x.observe(outputEl, {childList: true});\n",
              "}}\n",
              "\n",
              "                        })                };                            </script>        </div>\n",
              "</body>\n",
              "</html>"
            ]
          },
          "metadata": {}
        }
      ]
    },
    {
      "cell_type": "code",
      "source": [
        "# Assuming the column containing the outcome information is named 'target'\n",
        "px.bar(corazon.target.value_counts())"
      ],
      "metadata": {
        "colab": {
          "base_uri": "https://localhost:8080/",
          "height": 542
        },
        "id": "1bBYnHve2zDj",
        "outputId": "d9a5af83-abca-4664-8871-3d71f5fcc7cf"
      },
      "execution_count": 21,
      "outputs": [
        {
          "output_type": "display_data",
          "data": {
            "text/html": [
              "<html>\n",
              "<head><meta charset=\"utf-8\" /></head>\n",
              "<body>\n",
              "    <div>            <script src=\"https://cdnjs.cloudflare.com/ajax/libs/mathjax/2.7.5/MathJax.js?config=TeX-AMS-MML_SVG\"></script><script type=\"text/javascript\">if (window.MathJax && window.MathJax.Hub && window.MathJax.Hub.Config) {window.MathJax.Hub.Config({SVG: {font: \"STIX-Web\"}});}</script>                <script type=\"text/javascript\">window.PlotlyConfig = {MathJaxConfig: 'local'};</script>\n",
              "        <script charset=\"utf-8\" src=\"https://cdn.plot.ly/plotly-2.35.2.min.js\"></script>                <div id=\"6e3f2ce9-0213-42d7-9ee1-86f4211c168e\" class=\"plotly-graph-div\" style=\"height:525px; width:100%;\"></div>            <script type=\"text/javascript\">                                    window.PLOTLYENV=window.PLOTLYENV || {};                                    if (document.getElementById(\"6e3f2ce9-0213-42d7-9ee1-86f4211c168e\")) {                    Plotly.newPlot(                        \"6e3f2ce9-0213-42d7-9ee1-86f4211c168e\",                        [{\"alignmentgroup\":\"True\",\"hovertemplate\":\"variable=count\\u003cbr\\u003etarget=%{x}\\u003cbr\\u003evalue=%{y}\\u003cextra\\u003e\\u003c\\u002fextra\\u003e\",\"legendgroup\":\"count\",\"marker\":{\"color\":\"#636efa\",\"pattern\":{\"shape\":\"\"}},\"name\":\"count\",\"offsetgroup\":\"count\",\"orientation\":\"v\",\"showlegend\":true,\"textposition\":\"auto\",\"x\":[1,0],\"xaxis\":\"x\",\"y\":[165,138],\"yaxis\":\"y\",\"type\":\"bar\"}],                        {\"template\":{\"data\":{\"histogram2dcontour\":[{\"type\":\"histogram2dcontour\",\"colorbar\":{\"outlinewidth\":0,\"ticks\":\"\"},\"colorscale\":[[0.0,\"#0d0887\"],[0.1111111111111111,\"#46039f\"],[0.2222222222222222,\"#7201a8\"],[0.3333333333333333,\"#9c179e\"],[0.4444444444444444,\"#bd3786\"],[0.5555555555555556,\"#d8576b\"],[0.6666666666666666,\"#ed7953\"],[0.7777777777777778,\"#fb9f3a\"],[0.8888888888888888,\"#fdca26\"],[1.0,\"#f0f921\"]]}],\"choropleth\":[{\"type\":\"choropleth\",\"colorbar\":{\"outlinewidth\":0,\"ticks\":\"\"}}],\"histogram2d\":[{\"type\":\"histogram2d\",\"colorbar\":{\"outlinewidth\":0,\"ticks\":\"\"},\"colorscale\":[[0.0,\"#0d0887\"],[0.1111111111111111,\"#46039f\"],[0.2222222222222222,\"#7201a8\"],[0.3333333333333333,\"#9c179e\"],[0.4444444444444444,\"#bd3786\"],[0.5555555555555556,\"#d8576b\"],[0.6666666666666666,\"#ed7953\"],[0.7777777777777778,\"#fb9f3a\"],[0.8888888888888888,\"#fdca26\"],[1.0,\"#f0f921\"]]}],\"heatmap\":[{\"type\":\"heatmap\",\"colorbar\":{\"outlinewidth\":0,\"ticks\":\"\"},\"colorscale\":[[0.0,\"#0d0887\"],[0.1111111111111111,\"#46039f\"],[0.2222222222222222,\"#7201a8\"],[0.3333333333333333,\"#9c179e\"],[0.4444444444444444,\"#bd3786\"],[0.5555555555555556,\"#d8576b\"],[0.6666666666666666,\"#ed7953\"],[0.7777777777777778,\"#fb9f3a\"],[0.8888888888888888,\"#fdca26\"],[1.0,\"#f0f921\"]]}],\"heatmapgl\":[{\"type\":\"heatmapgl\",\"colorbar\":{\"outlinewidth\":0,\"ticks\":\"\"},\"colorscale\":[[0.0,\"#0d0887\"],[0.1111111111111111,\"#46039f\"],[0.2222222222222222,\"#7201a8\"],[0.3333333333333333,\"#9c179e\"],[0.4444444444444444,\"#bd3786\"],[0.5555555555555556,\"#d8576b\"],[0.6666666666666666,\"#ed7953\"],[0.7777777777777778,\"#fb9f3a\"],[0.8888888888888888,\"#fdca26\"],[1.0,\"#f0f921\"]]}],\"contourcarpet\":[{\"type\":\"contourcarpet\",\"colorbar\":{\"outlinewidth\":0,\"ticks\":\"\"}}],\"contour\":[{\"type\":\"contour\",\"colorbar\":{\"outlinewidth\":0,\"ticks\":\"\"},\"colorscale\":[[0.0,\"#0d0887\"],[0.1111111111111111,\"#46039f\"],[0.2222222222222222,\"#7201a8\"],[0.3333333333333333,\"#9c179e\"],[0.4444444444444444,\"#bd3786\"],[0.5555555555555556,\"#d8576b\"],[0.6666666666666666,\"#ed7953\"],[0.7777777777777778,\"#fb9f3a\"],[0.8888888888888888,\"#fdca26\"],[1.0,\"#f0f921\"]]}],\"surface\":[{\"type\":\"surface\",\"colorbar\":{\"outlinewidth\":0,\"ticks\":\"\"},\"colorscale\":[[0.0,\"#0d0887\"],[0.1111111111111111,\"#46039f\"],[0.2222222222222222,\"#7201a8\"],[0.3333333333333333,\"#9c179e\"],[0.4444444444444444,\"#bd3786\"],[0.5555555555555556,\"#d8576b\"],[0.6666666666666666,\"#ed7953\"],[0.7777777777777778,\"#fb9f3a\"],[0.8888888888888888,\"#fdca26\"],[1.0,\"#f0f921\"]]}],\"mesh3d\":[{\"type\":\"mesh3d\",\"colorbar\":{\"outlinewidth\":0,\"ticks\":\"\"}}],\"scatter\":[{\"fillpattern\":{\"fillmode\":\"overlay\",\"size\":10,\"solidity\":0.2},\"type\":\"scatter\"}],\"parcoords\":[{\"type\":\"parcoords\",\"line\":{\"colorbar\":{\"outlinewidth\":0,\"ticks\":\"\"}}}],\"scatterpolargl\":[{\"type\":\"scatterpolargl\",\"marker\":{\"colorbar\":{\"outlinewidth\":0,\"ticks\":\"\"}}}],\"bar\":[{\"error_x\":{\"color\":\"#2a3f5f\"},\"error_y\":{\"color\":\"#2a3f5f\"},\"marker\":{\"line\":{\"color\":\"#E5ECF6\",\"width\":0.5},\"pattern\":{\"fillmode\":\"overlay\",\"size\":10,\"solidity\":0.2}},\"type\":\"bar\"}],\"scattergeo\":[{\"type\":\"scattergeo\",\"marker\":{\"colorbar\":{\"outlinewidth\":0,\"ticks\":\"\"}}}],\"scatterpolar\":[{\"type\":\"scatterpolar\",\"marker\":{\"colorbar\":{\"outlinewidth\":0,\"ticks\":\"\"}}}],\"histogram\":[{\"marker\":{\"pattern\":{\"fillmode\":\"overlay\",\"size\":10,\"solidity\":0.2}},\"type\":\"histogram\"}],\"scattergl\":[{\"type\":\"scattergl\",\"marker\":{\"colorbar\":{\"outlinewidth\":0,\"ticks\":\"\"}}}],\"scatter3d\":[{\"type\":\"scatter3d\",\"line\":{\"colorbar\":{\"outlinewidth\":0,\"ticks\":\"\"}},\"marker\":{\"colorbar\":{\"outlinewidth\":0,\"ticks\":\"\"}}}],\"scattermapbox\":[{\"type\":\"scattermapbox\",\"marker\":{\"colorbar\":{\"outlinewidth\":0,\"ticks\":\"\"}}}],\"scatterternary\":[{\"type\":\"scatterternary\",\"marker\":{\"colorbar\":{\"outlinewidth\":0,\"ticks\":\"\"}}}],\"scattercarpet\":[{\"type\":\"scattercarpet\",\"marker\":{\"colorbar\":{\"outlinewidth\":0,\"ticks\":\"\"}}}],\"carpet\":[{\"aaxis\":{\"endlinecolor\":\"#2a3f5f\",\"gridcolor\":\"white\",\"linecolor\":\"white\",\"minorgridcolor\":\"white\",\"startlinecolor\":\"#2a3f5f\"},\"baxis\":{\"endlinecolor\":\"#2a3f5f\",\"gridcolor\":\"white\",\"linecolor\":\"white\",\"minorgridcolor\":\"white\",\"startlinecolor\":\"#2a3f5f\"},\"type\":\"carpet\"}],\"table\":[{\"cells\":{\"fill\":{\"color\":\"#EBF0F8\"},\"line\":{\"color\":\"white\"}},\"header\":{\"fill\":{\"color\":\"#C8D4E3\"},\"line\":{\"color\":\"white\"}},\"type\":\"table\"}],\"barpolar\":[{\"marker\":{\"line\":{\"color\":\"#E5ECF6\",\"width\":0.5},\"pattern\":{\"fillmode\":\"overlay\",\"size\":10,\"solidity\":0.2}},\"type\":\"barpolar\"}],\"pie\":[{\"automargin\":true,\"type\":\"pie\"}]},\"layout\":{\"autotypenumbers\":\"strict\",\"colorway\":[\"#636efa\",\"#EF553B\",\"#00cc96\",\"#ab63fa\",\"#FFA15A\",\"#19d3f3\",\"#FF6692\",\"#B6E880\",\"#FF97FF\",\"#FECB52\"],\"font\":{\"color\":\"#2a3f5f\"},\"hovermode\":\"closest\",\"hoverlabel\":{\"align\":\"left\"},\"paper_bgcolor\":\"white\",\"plot_bgcolor\":\"#E5ECF6\",\"polar\":{\"bgcolor\":\"#E5ECF6\",\"angularaxis\":{\"gridcolor\":\"white\",\"linecolor\":\"white\",\"ticks\":\"\"},\"radialaxis\":{\"gridcolor\":\"white\",\"linecolor\":\"white\",\"ticks\":\"\"}},\"ternary\":{\"bgcolor\":\"#E5ECF6\",\"aaxis\":{\"gridcolor\":\"white\",\"linecolor\":\"white\",\"ticks\":\"\"},\"baxis\":{\"gridcolor\":\"white\",\"linecolor\":\"white\",\"ticks\":\"\"},\"caxis\":{\"gridcolor\":\"white\",\"linecolor\":\"white\",\"ticks\":\"\"}},\"coloraxis\":{\"colorbar\":{\"outlinewidth\":0,\"ticks\":\"\"}},\"colorscale\":{\"sequential\":[[0.0,\"#0d0887\"],[0.1111111111111111,\"#46039f\"],[0.2222222222222222,\"#7201a8\"],[0.3333333333333333,\"#9c179e\"],[0.4444444444444444,\"#bd3786\"],[0.5555555555555556,\"#d8576b\"],[0.6666666666666666,\"#ed7953\"],[0.7777777777777778,\"#fb9f3a\"],[0.8888888888888888,\"#fdca26\"],[1.0,\"#f0f921\"]],\"sequentialminus\":[[0.0,\"#0d0887\"],[0.1111111111111111,\"#46039f\"],[0.2222222222222222,\"#7201a8\"],[0.3333333333333333,\"#9c179e\"],[0.4444444444444444,\"#bd3786\"],[0.5555555555555556,\"#d8576b\"],[0.6666666666666666,\"#ed7953\"],[0.7777777777777778,\"#fb9f3a\"],[0.8888888888888888,\"#fdca26\"],[1.0,\"#f0f921\"]],\"diverging\":[[0,\"#8e0152\"],[0.1,\"#c51b7d\"],[0.2,\"#de77ae\"],[0.3,\"#f1b6da\"],[0.4,\"#fde0ef\"],[0.5,\"#f7f7f7\"],[0.6,\"#e6f5d0\"],[0.7,\"#b8e186\"],[0.8,\"#7fbc41\"],[0.9,\"#4d9221\"],[1,\"#276419\"]]},\"xaxis\":{\"gridcolor\":\"white\",\"linecolor\":\"white\",\"ticks\":\"\",\"title\":{\"standoff\":15},\"zerolinecolor\":\"white\",\"automargin\":true,\"zerolinewidth\":2},\"yaxis\":{\"gridcolor\":\"white\",\"linecolor\":\"white\",\"ticks\":\"\",\"title\":{\"standoff\":15},\"zerolinecolor\":\"white\",\"automargin\":true,\"zerolinewidth\":2},\"scene\":{\"xaxis\":{\"backgroundcolor\":\"#E5ECF6\",\"gridcolor\":\"white\",\"linecolor\":\"white\",\"showbackground\":true,\"ticks\":\"\",\"zerolinecolor\":\"white\",\"gridwidth\":2},\"yaxis\":{\"backgroundcolor\":\"#E5ECF6\",\"gridcolor\":\"white\",\"linecolor\":\"white\",\"showbackground\":true,\"ticks\":\"\",\"zerolinecolor\":\"white\",\"gridwidth\":2},\"zaxis\":{\"backgroundcolor\":\"#E5ECF6\",\"gridcolor\":\"white\",\"linecolor\":\"white\",\"showbackground\":true,\"ticks\":\"\",\"zerolinecolor\":\"white\",\"gridwidth\":2}},\"shapedefaults\":{\"line\":{\"color\":\"#2a3f5f\"}},\"annotationdefaults\":{\"arrowcolor\":\"#2a3f5f\",\"arrowhead\":0,\"arrowwidth\":1},\"geo\":{\"bgcolor\":\"white\",\"landcolor\":\"#E5ECF6\",\"subunitcolor\":\"white\",\"showland\":true,\"showlakes\":true,\"lakecolor\":\"white\"},\"title\":{\"x\":0.05},\"mapbox\":{\"style\":\"light\"}}},\"xaxis\":{\"anchor\":\"y\",\"domain\":[0.0,1.0],\"title\":{\"text\":\"target\"}},\"yaxis\":{\"anchor\":\"x\",\"domain\":[0.0,1.0],\"title\":{\"text\":\"value\"}},\"legend\":{\"title\":{\"text\":\"variable\"},\"tracegroupgap\":0},\"margin\":{\"t\":60},\"barmode\":\"relative\"},                        {\"responsive\": true}                    ).then(function(){\n",
              "                            \n",
              "var gd = document.getElementById('6e3f2ce9-0213-42d7-9ee1-86f4211c168e');\n",
              "var x = new MutationObserver(function (mutations, observer) {{\n",
              "        var display = window.getComputedStyle(gd).display;\n",
              "        if (!display || display === 'none') {{\n",
              "            console.log([gd, 'removed!']);\n",
              "            Plotly.purge(gd);\n",
              "            observer.disconnect();\n",
              "        }}\n",
              "}});\n",
              "\n",
              "// Listen for the removal of the full notebook cells\n",
              "var notebookContainer = gd.closest('#notebook-container');\n",
              "if (notebookContainer) {{\n",
              "    x.observe(notebookContainer, {childList: true});\n",
              "}}\n",
              "\n",
              "// Listen for the clearing of the current output cell\n",
              "var outputEl = gd.closest('.output');\n",
              "if (outputEl) {{\n",
              "    x.observe(outputEl, {childList: true});\n",
              "}}\n",
              "\n",
              "                        })                };                            </script>        </div>\n",
              "</body>\n",
              "</html>"
            ]
          },
          "metadata": {}
        }
      ]
    },
    {
      "cell_type": "markdown",
      "source": [
        "**Cuidado 🍳**: En esta parte hay que tener especial atención,  particularmente en otros algoritmos. Cuando los datos están desbalanceados pueden afectar los resultados. Para esto se puede usar algunas técnicas de balanceo de datos: *subsampling*, *oversampling* y *smote*.\n",
        "\n",
        "- Para continuar con el ejercicio, trabajaremos con las clases como están."
      ],
      "metadata": {
        "id": "rDxGEnEswVeV"
      }
    },
    {
      "cell_type": "markdown",
      "source": [
        "## <FONT SIZE=4 COLOR=\"blue\"> 4.6 Conjunto de Entrenamiento y Prueba </FONT>\n",
        "\n",
        "- **data training:** Datos que usamos para entrenar el modelo.\n",
        "\n",
        "- **testing data:** Datos que reservamos para comprobar si el modelo generado a partir de los datos funciona\n",
        "\n",
        "Normalmente, usamos $70\\%-30\\%$ / $80\\%-20\\%$"
      ],
      "metadata": {
        "id": "iod7SswDw-a3"
      }
    },
    {
      "cell_type": "code",
      "source": [
        "# variables predictoras\n",
        "X = diabetes.drop(\"Outcome\", axis=1)\n",
        "# variable objetivo\n",
        "y = diabetes.Outcome"
      ],
      "metadata": {
        "id": "3IzpP8VDKv5x"
      },
      "execution_count": 14,
      "outputs": []
    },
    {
      "cell_type": "code",
      "source": [
        "# seleccionar conjunto de train y test (entrenamiento y prueba)\n",
        "X_train, X_test, y_train, y_test = train_test_split(X,                        # variables predictoras\n",
        "                                                    y,                        # variable de respuesta\n",
        "                                                    random_state = 0,         # semilla para que al ejecutar siempre de igual\n",
        "                                                    test_size = 0.2)          # tamaño del conjunto de prueba"
      ],
      "metadata": {
        "id": "RsCcPQYaLRca"
      },
      "execution_count": 15,
      "outputs": []
    },
    {
      "cell_type": "code",
      "source": [
        "X_train.head(5)"
      ],
      "metadata": {
        "colab": {
          "base_uri": "https://localhost:8080/",
          "height": 226
        },
        "id": "-BHq7Cw4NBFd",
        "outputId": "d5960e28-b795-4c24-c6da-14637f67638c"
      },
      "execution_count": 16,
      "outputs": [
        {
          "output_type": "execute_result",
          "data": {
            "text/plain": [
              "     Pregnancies  Glucose  BloodPressure  SkinThickness  Insulin   BMI  \\\n",
              "603            7      150             78             29      126  35.2   \n",
              "118            4       97             60             23        0  28.2   \n",
              "247            0      165             90             33      680  52.3   \n",
              "157            1      109             56             21      135  25.2   \n",
              "468            8      120              0              0        0  30.0   \n",
              "\n",
              "     DiabetesPedigreeFunction  Age  \n",
              "603                     0.692   54  \n",
              "118                     0.443   22  \n",
              "247                     0.427   23  \n",
              "157                     0.833   23  \n",
              "468                     0.183   38  "
            ],
            "text/html": [
              "\n",
              "  <div id=\"df-6256de57-cbf7-480f-9f48-3ed30c3b113f\" class=\"colab-df-container\">\n",
              "    <div>\n",
              "<style scoped>\n",
              "    .dataframe tbody tr th:only-of-type {\n",
              "        vertical-align: middle;\n",
              "    }\n",
              "\n",
              "    .dataframe tbody tr th {\n",
              "        vertical-align: top;\n",
              "    }\n",
              "\n",
              "    .dataframe thead th {\n",
              "        text-align: right;\n",
              "    }\n",
              "</style>\n",
              "<table border=\"1\" class=\"dataframe\">\n",
              "  <thead>\n",
              "    <tr style=\"text-align: right;\">\n",
              "      <th></th>\n",
              "      <th>Pregnancies</th>\n",
              "      <th>Glucose</th>\n",
              "      <th>BloodPressure</th>\n",
              "      <th>SkinThickness</th>\n",
              "      <th>Insulin</th>\n",
              "      <th>BMI</th>\n",
              "      <th>DiabetesPedigreeFunction</th>\n",
              "      <th>Age</th>\n",
              "    </tr>\n",
              "  </thead>\n",
              "  <tbody>\n",
              "    <tr>\n",
              "      <th>603</th>\n",
              "      <td>7</td>\n",
              "      <td>150</td>\n",
              "      <td>78</td>\n",
              "      <td>29</td>\n",
              "      <td>126</td>\n",
              "      <td>35.2</td>\n",
              "      <td>0.692</td>\n",
              "      <td>54</td>\n",
              "    </tr>\n",
              "    <tr>\n",
              "      <th>118</th>\n",
              "      <td>4</td>\n",
              "      <td>97</td>\n",
              "      <td>60</td>\n",
              "      <td>23</td>\n",
              "      <td>0</td>\n",
              "      <td>28.2</td>\n",
              "      <td>0.443</td>\n",
              "      <td>22</td>\n",
              "    </tr>\n",
              "    <tr>\n",
              "      <th>247</th>\n",
              "      <td>0</td>\n",
              "      <td>165</td>\n",
              "      <td>90</td>\n",
              "      <td>33</td>\n",
              "      <td>680</td>\n",
              "      <td>52.3</td>\n",
              "      <td>0.427</td>\n",
              "      <td>23</td>\n",
              "    </tr>\n",
              "    <tr>\n",
              "      <th>157</th>\n",
              "      <td>1</td>\n",
              "      <td>109</td>\n",
              "      <td>56</td>\n",
              "      <td>21</td>\n",
              "      <td>135</td>\n",
              "      <td>25.2</td>\n",
              "      <td>0.833</td>\n",
              "      <td>23</td>\n",
              "    </tr>\n",
              "    <tr>\n",
              "      <th>468</th>\n",
              "      <td>8</td>\n",
              "      <td>120</td>\n",
              "      <td>0</td>\n",
              "      <td>0</td>\n",
              "      <td>0</td>\n",
              "      <td>30.0</td>\n",
              "      <td>0.183</td>\n",
              "      <td>38</td>\n",
              "    </tr>\n",
              "  </tbody>\n",
              "</table>\n",
              "</div>\n",
              "    <div class=\"colab-df-buttons\">\n",
              "\n",
              "  <div class=\"colab-df-container\">\n",
              "    <button class=\"colab-df-convert\" onclick=\"convertToInteractive('df-6256de57-cbf7-480f-9f48-3ed30c3b113f')\"\n",
              "            title=\"Convert this dataframe to an interactive table.\"\n",
              "            style=\"display:none;\">\n",
              "\n",
              "  <svg xmlns=\"http://www.w3.org/2000/svg\" height=\"24px\" viewBox=\"0 -960 960 960\">\n",
              "    <path d=\"M120-120v-720h720v720H120Zm60-500h600v-160H180v160Zm220 220h160v-160H400v160Zm0 220h160v-160H400v160ZM180-400h160v-160H180v160Zm440 0h160v-160H620v160ZM180-180h160v-160H180v160Zm440 0h160v-160H620v160Z\"/>\n",
              "  </svg>\n",
              "    </button>\n",
              "\n",
              "  <style>\n",
              "    .colab-df-container {\n",
              "      display:flex;\n",
              "      gap: 12px;\n",
              "    }\n",
              "\n",
              "    .colab-df-convert {\n",
              "      background-color: #E8F0FE;\n",
              "      border: none;\n",
              "      border-radius: 50%;\n",
              "      cursor: pointer;\n",
              "      display: none;\n",
              "      fill: #1967D2;\n",
              "      height: 32px;\n",
              "      padding: 0 0 0 0;\n",
              "      width: 32px;\n",
              "    }\n",
              "\n",
              "    .colab-df-convert:hover {\n",
              "      background-color: #E2EBFA;\n",
              "      box-shadow: 0px 1px 2px rgba(60, 64, 67, 0.3), 0px 1px 3px 1px rgba(60, 64, 67, 0.15);\n",
              "      fill: #174EA6;\n",
              "    }\n",
              "\n",
              "    .colab-df-buttons div {\n",
              "      margin-bottom: 4px;\n",
              "    }\n",
              "\n",
              "    [theme=dark] .colab-df-convert {\n",
              "      background-color: #3B4455;\n",
              "      fill: #D2E3FC;\n",
              "    }\n",
              "\n",
              "    [theme=dark] .colab-df-convert:hover {\n",
              "      background-color: #434B5C;\n",
              "      box-shadow: 0px 1px 3px 1px rgba(0, 0, 0, 0.15);\n",
              "      filter: drop-shadow(0px 1px 2px rgba(0, 0, 0, 0.3));\n",
              "      fill: #FFFFFF;\n",
              "    }\n",
              "  </style>\n",
              "\n",
              "    <script>\n",
              "      const buttonEl =\n",
              "        document.querySelector('#df-6256de57-cbf7-480f-9f48-3ed30c3b113f button.colab-df-convert');\n",
              "      buttonEl.style.display =\n",
              "        google.colab.kernel.accessAllowed ? 'block' : 'none';\n",
              "\n",
              "      async function convertToInteractive(key) {\n",
              "        const element = document.querySelector('#df-6256de57-cbf7-480f-9f48-3ed30c3b113f');\n",
              "        const dataTable =\n",
              "          await google.colab.kernel.invokeFunction('convertToInteractive',\n",
              "                                                    [key], {});\n",
              "        if (!dataTable) return;\n",
              "\n",
              "        const docLinkHtml = 'Like what you see? Visit the ' +\n",
              "          '<a target=\"_blank\" href=https://colab.research.google.com/notebooks/data_table.ipynb>data table notebook</a>'\n",
              "          + ' to learn more about interactive tables.';\n",
              "        element.innerHTML = '';\n",
              "        dataTable['output_type'] = 'display_data';\n",
              "        await google.colab.output.renderOutput(dataTable, element);\n",
              "        const docLink = document.createElement('div');\n",
              "        docLink.innerHTML = docLinkHtml;\n",
              "        element.appendChild(docLink);\n",
              "      }\n",
              "    </script>\n",
              "  </div>\n",
              "\n",
              "\n",
              "<div id=\"df-869daee5-aa1b-4c29-871c-20968cb10424\">\n",
              "  <button class=\"colab-df-quickchart\" onclick=\"quickchart('df-869daee5-aa1b-4c29-871c-20968cb10424')\"\n",
              "            title=\"Suggest charts\"\n",
              "            style=\"display:none;\">\n",
              "\n",
              "<svg xmlns=\"http://www.w3.org/2000/svg\" height=\"24px\"viewBox=\"0 0 24 24\"\n",
              "     width=\"24px\">\n",
              "    <g>\n",
              "        <path d=\"M19 3H5c-1.1 0-2 .9-2 2v14c0 1.1.9 2 2 2h14c1.1 0 2-.9 2-2V5c0-1.1-.9-2-2-2zM9 17H7v-7h2v7zm4 0h-2V7h2v10zm4 0h-2v-4h2v4z\"/>\n",
              "    </g>\n",
              "</svg>\n",
              "  </button>\n",
              "\n",
              "<style>\n",
              "  .colab-df-quickchart {\n",
              "      --bg-color: #E8F0FE;\n",
              "      --fill-color: #1967D2;\n",
              "      --hover-bg-color: #E2EBFA;\n",
              "      --hover-fill-color: #174EA6;\n",
              "      --disabled-fill-color: #AAA;\n",
              "      --disabled-bg-color: #DDD;\n",
              "  }\n",
              "\n",
              "  [theme=dark] .colab-df-quickchart {\n",
              "      --bg-color: #3B4455;\n",
              "      --fill-color: #D2E3FC;\n",
              "      --hover-bg-color: #434B5C;\n",
              "      --hover-fill-color: #FFFFFF;\n",
              "      --disabled-bg-color: #3B4455;\n",
              "      --disabled-fill-color: #666;\n",
              "  }\n",
              "\n",
              "  .colab-df-quickchart {\n",
              "    background-color: var(--bg-color);\n",
              "    border: none;\n",
              "    border-radius: 50%;\n",
              "    cursor: pointer;\n",
              "    display: none;\n",
              "    fill: var(--fill-color);\n",
              "    height: 32px;\n",
              "    padding: 0;\n",
              "    width: 32px;\n",
              "  }\n",
              "\n",
              "  .colab-df-quickchart:hover {\n",
              "    background-color: var(--hover-bg-color);\n",
              "    box-shadow: 0 1px 2px rgba(60, 64, 67, 0.3), 0 1px 3px 1px rgba(60, 64, 67, 0.15);\n",
              "    fill: var(--button-hover-fill-color);\n",
              "  }\n",
              "\n",
              "  .colab-df-quickchart-complete:disabled,\n",
              "  .colab-df-quickchart-complete:disabled:hover {\n",
              "    background-color: var(--disabled-bg-color);\n",
              "    fill: var(--disabled-fill-color);\n",
              "    box-shadow: none;\n",
              "  }\n",
              "\n",
              "  .colab-df-spinner {\n",
              "    border: 2px solid var(--fill-color);\n",
              "    border-color: transparent;\n",
              "    border-bottom-color: var(--fill-color);\n",
              "    animation:\n",
              "      spin 1s steps(1) infinite;\n",
              "  }\n",
              "\n",
              "  @keyframes spin {\n",
              "    0% {\n",
              "      border-color: transparent;\n",
              "      border-bottom-color: var(--fill-color);\n",
              "      border-left-color: var(--fill-color);\n",
              "    }\n",
              "    20% {\n",
              "      border-color: transparent;\n",
              "      border-left-color: var(--fill-color);\n",
              "      border-top-color: var(--fill-color);\n",
              "    }\n",
              "    30% {\n",
              "      border-color: transparent;\n",
              "      border-left-color: var(--fill-color);\n",
              "      border-top-color: var(--fill-color);\n",
              "      border-right-color: var(--fill-color);\n",
              "    }\n",
              "    40% {\n",
              "      border-color: transparent;\n",
              "      border-right-color: var(--fill-color);\n",
              "      border-top-color: var(--fill-color);\n",
              "    }\n",
              "    60% {\n",
              "      border-color: transparent;\n",
              "      border-right-color: var(--fill-color);\n",
              "    }\n",
              "    80% {\n",
              "      border-color: transparent;\n",
              "      border-right-color: var(--fill-color);\n",
              "      border-bottom-color: var(--fill-color);\n",
              "    }\n",
              "    90% {\n",
              "      border-color: transparent;\n",
              "      border-bottom-color: var(--fill-color);\n",
              "    }\n",
              "  }\n",
              "</style>\n",
              "\n",
              "  <script>\n",
              "    async function quickchart(key) {\n",
              "      const quickchartButtonEl =\n",
              "        document.querySelector('#' + key + ' button');\n",
              "      quickchartButtonEl.disabled = true;  // To prevent multiple clicks.\n",
              "      quickchartButtonEl.classList.add('colab-df-spinner');\n",
              "      try {\n",
              "        const charts = await google.colab.kernel.invokeFunction(\n",
              "            'suggestCharts', [key], {});\n",
              "      } catch (error) {\n",
              "        console.error('Error during call to suggestCharts:', error);\n",
              "      }\n",
              "      quickchartButtonEl.classList.remove('colab-df-spinner');\n",
              "      quickchartButtonEl.classList.add('colab-df-quickchart-complete');\n",
              "    }\n",
              "    (() => {\n",
              "      let quickchartButtonEl =\n",
              "        document.querySelector('#df-869daee5-aa1b-4c29-871c-20968cb10424 button');\n",
              "      quickchartButtonEl.style.display =\n",
              "        google.colab.kernel.accessAllowed ? 'block' : 'none';\n",
              "    })();\n",
              "  </script>\n",
              "</div>\n",
              "\n",
              "    </div>\n",
              "  </div>\n"
            ],
            "application/vnd.google.colaboratory.intrinsic+json": {
              "type": "dataframe",
              "variable_name": "X_train",
              "summary": "{\n  \"name\": \"X_train\",\n  \"rows\": 614,\n  \"fields\": [\n    {\n      \"column\": \"Pregnancies\",\n      \"properties\": {\n        \"dtype\": \"number\",\n        \"std\": 3,\n        \"min\": 0,\n        \"max\": 17,\n        \"num_unique_values\": 17,\n        \"samples\": [\n          7,\n          4,\n          11\n        ],\n        \"semantic_type\": \"\",\n        \"description\": \"\"\n      }\n    },\n    {\n      \"column\": \"Glucose\",\n      \"properties\": {\n        \"dtype\": \"number\",\n        \"std\": 31,\n        \"min\": 0,\n        \"max\": 198,\n        \"num_unique_values\": 128,\n        \"samples\": [\n          152,\n          139,\n          102\n        ],\n        \"semantic_type\": \"\",\n        \"description\": \"\"\n      }\n    },\n    {\n      \"column\": \"BloodPressure\",\n      \"properties\": {\n        \"dtype\": \"number\",\n        \"std\": 19,\n        \"min\": 0,\n        \"max\": 122,\n        \"num_unique_values\": 47,\n        \"samples\": [\n          44,\n          40,\n          61\n        ],\n        \"semantic_type\": \"\",\n        \"description\": \"\"\n      }\n    },\n    {\n      \"column\": \"SkinThickness\",\n      \"properties\": {\n        \"dtype\": \"number\",\n        \"std\": 16,\n        \"min\": 0,\n        \"max\": 99,\n        \"num_unique_values\": 51,\n        \"samples\": [\n          12,\n          10,\n          56\n        ],\n        \"semantic_type\": \"\",\n        \"description\": \"\"\n      }\n    },\n    {\n      \"column\": \"Insulin\",\n      \"properties\": {\n        \"dtype\": \"number\",\n        \"std\": 117,\n        \"min\": 0,\n        \"max\": 846,\n        \"num_unique_values\": 166,\n        \"samples\": [\n          170,\n          188,\n          65\n        ],\n        \"semantic_type\": \"\",\n        \"description\": \"\"\n      }\n    },\n    {\n      \"column\": \"BMI\",\n      \"properties\": {\n        \"dtype\": \"number\",\n        \"std\": 7.914275888671449,\n        \"min\": 0.0,\n        \"max\": 67.1,\n        \"num_unique_values\": 230,\n        \"samples\": [\n          40.0,\n          36.3,\n          35.1\n        ],\n        \"semantic_type\": \"\",\n        \"description\": \"\"\n      }\n    },\n    {\n      \"column\": \"DiabetesPedigreeFunction\",\n      \"properties\": {\n        \"dtype\": \"number\",\n        \"std\": 0.333203216244014,\n        \"min\": 0.078,\n        \"max\": 2.42,\n        \"num_unique_values\": 440,\n        \"samples\": [\n          0.759,\n          0.378,\n          0.571\n        ],\n        \"semantic_type\": \"\",\n        \"description\": \"\"\n      }\n    },\n    {\n      \"column\": \"Age\",\n      \"properties\": {\n        \"dtype\": \"number\",\n        \"std\": 12,\n        \"min\": 21,\n        \"max\": 81,\n        \"num_unique_values\": 52,\n        \"samples\": [\n          36,\n          34,\n          68\n        ],\n        \"semantic_type\": \"\",\n        \"description\": \"\"\n      }\n    }\n  ]\n}"
            }
          },
          "metadata": {},
          "execution_count": 16
        }
      ]
    },
    {
      "source": [
        "from matplotlib import pyplot as plt\n",
        "df_diabetes['BloodPressure'].plot(kind='hist', bins=20, title='BloodPressure')\n",
        "plt.gca().spines[['top', 'right',]].set_visible(False)"
      ],
      "cell_type": "code",
      "metadata": {
        "colab": {
          "base_uri": "https://localhost:8080/",
          "height": 287
        },
        "id": "g_eD43KPnn_0",
        "outputId": "51ab615b-5cc6-4634-afa5-1822c9d6e1d1"
      },
      "execution_count": 22,
      "outputs": [
        {
          "output_type": "display_data",
          "data": {
            "text/plain": [
              "<Figure size 1500x600 with 1 Axes>"
            ],
            "image/png": "[encoded data removed]"
          },
          "metadata": {}
        }
      ]
    },
    {
      "source": [
        "from matplotlib import pyplot as plt\n",
        "df_diabetes['Pregnancies'].plot(kind='hist', bins=20, title='Pregnancies')\n",
        "plt.gca().spines[['top', 'right',]].set_visible(False)"
      ],
      "cell_type": "code",
      "metadata": {
        "colab": {
          "base_uri": "https://localhost:8080/",
          "height": 287
        },
        "id": "oB8I9bO0npHj",
        "outputId": "19a84f2e-1796-48b3-afab-1b025657af75"
      },
      "execution_count": 23,
      "outputs": [
        {
          "output_type": "display_data",
          "data": {
            "text/plain": [
              "<Figure size 1500x600 with 1 Axes>"
            ],
            "image/png": "[encoded data removed]"
          },
          "metadata": {}
        }
      ]
    },
    {
      "cell_type": "code",
      "source": [
        "y_train.head(5)"
      ],
      "metadata": {
        "colab": {
          "base_uri": "https://localhost:8080/",
          "height": 241
        },
        "id": "6oYBnVRHOQgk",
        "outputId": "f514b1dc-2a50-4203-cce4-3fe3169ed595"
      },
      "execution_count": 18,
      "outputs": [
        {
          "output_type": "execute_result",
          "data": {
            "text/plain": [
              "603    1\n",
              "118    0\n",
              "247    0\n",
              "157    0\n",
              "468    1\n",
              "Name: Outcome, dtype: int64"
            ],
            "text/html": [
              "<div>\n",
              "<style scoped>\n",
              "    .dataframe tbody tr th:only-of-type {\n",
              "        vertical-align: middle;\n",
              "    }\n",
              "\n",
              "    .dataframe tbody tr th {\n",
              "        vertical-align: top;\n",
              "    }\n",
              "\n",
              "    .dataframe thead th {\n",
              "        text-align: right;\n",
              "    }\n",
              "</style>\n",
              "<table border=\"1\" class=\"dataframe\">\n",
              "  <thead>\n",
              "    <tr style=\"text-align: right;\">\n",
              "      <th></th>\n",
              "      <th>Outcome</th>\n",
              "    </tr>\n",
              "  </thead>\n",
              "  <tbody>\n",
              "    <tr>\n",
              "      <th>603</th>\n",
              "      <td>1</td>\n",
              "    </tr>\n",
              "    <tr>\n",
              "      <th>118</th>\n",
              "      <td>0</td>\n",
              "    </tr>\n",
              "    <tr>\n",
              "      <th>247</th>\n",
              "      <td>0</td>\n",
              "    </tr>\n",
              "    <tr>\n",
              "      <th>157</th>\n",
              "      <td>0</td>\n",
              "    </tr>\n",
              "    <tr>\n",
              "      <th>468</th>\n",
              "      <td>1</td>\n",
              "    </tr>\n",
              "  </tbody>\n",
              "</table>\n",
              "</div><br><label><b>dtype:</b> int64</label>"
            ]
          },
          "metadata": {},
          "execution_count": 18
        }
      ]
    },
    {
      "cell_type": "markdown",
      "source": [
        "Veamos los tamaños de estos conjuntos"
      ],
      "metadata": {
        "id": "q1LiaIp50Y2L"
      }
    },
    {
      "cell_type": "code",
      "source": [
        "X_train.shape\n",
        "y_train.shape\n",
        "X_test.shape\n",
        "y_test.shape"
      ],
      "metadata": {
        "id": "pJRMrfwi0e_g",
        "colab": {
          "base_uri": "https://localhost:8080/"
        },
        "outputId": "a28cfb1e-ca02-4b45-c322-a169e77dd1f2"
      },
      "execution_count": 19,
      "outputs": [
        {
          "output_type": "execute_result",
          "data": {
            "text/plain": [
              "(154,)"
            ]
          },
          "metadata": {},
          "execution_count": 19
        }
      ]
    },
    {
      "cell_type": "markdown",
      "source": [
        "## <FONT SIZE=4 COLOR=\"blue\"> 4.7 Escalar las variables predictoras </FONT>\n",
        "\n",
        "- En los algoritmos donde se vea involucrada una distancia es importante hacer el escalamiento.\n",
        "\n",
        "- Una recomendación es hacer el escalamiento después de dividir en entrenamiento y prueba. Ya que la idea es que no se sobreentrene el modelo.\n"
      ],
      "metadata": {
        "id": "_IvjR_fr0mBP"
      }
    },
    {
      "cell_type": "code",
      "source": [
        "escalar = StandardScaler()\n",
        "X_train = escalar.fit_transform(X_train)\n",
        "X_test = escalar.transform(X_test)"
      ],
      "metadata": {
        "id": "NXOutoIs1CcK"
      },
      "execution_count": 20,
      "outputs": []
    },
    {
      "cell_type": "code",
      "source": [
        "X_train"
      ],
      "metadata": {
        "id": "Bi3nj5NmDTgv",
        "colab": {
          "base_uri": "https://localhost:8080/"
        },
        "outputId": "65ee2ebb-7369-4d36-8663-f87220897635"
      },
      "execution_count": 21,
      "outputs": [
        {
          "output_type": "execute_result",
          "data": {
            "text/plain": [
              "array([[ 0.90832902,  0.91569367,  0.44912368, ...,  0.37852648,\n",
              "         0.67740401,  1.69955804],\n",
              "       [ 0.03644676, -0.75182191, -0.47230103, ..., -0.50667229,\n",
              "        -0.07049698, -0.96569189],\n",
              "       [-1.12606292,  1.38763205,  1.06340683, ...,  2.54094063,\n",
              "        -0.11855487, -0.88240283],\n",
              "       ...,\n",
              "       [ 0.03644676, -0.84620959, -0.21634972, ..., -0.94927168,\n",
              "        -0.95656442, -1.04898095],\n",
              "       [ 2.0708387 , -1.12937261,  0.24436264, ..., -0.26640405,\n",
              "        -0.50001442,  0.11706589],\n",
              "       [ 0.32707418,  0.47521786,  0.65388473, ..., -4.07275877,\n",
              "         0.52121586,  2.94889395]])"
            ]
          },
          "metadata": {},
          "execution_count": 21
        }
      ]
    },
    {
      "cell_type": "markdown",
      "source": [
        "**Observación importante de lo anterior**.\n",
        "\n",
        "a. Para $X_{train}$ usamos ***fit.transform*** esto significa que los datos se este conjunto se escalarán con base a su $\\mu$ media y $\\sigma$ desviación estándar. (que no son lo mismo que calcularla sobre todo el conjunto)\n",
        "\n",
        "b. Para $X_{test}$ usamos ***.transform*** esto significa que para escalar los datos del conjunto de prueba se usan los parámetros $\\mu$ y $\\sigma$ obtenidos en la parte a. con el conjunto de entrenamiento $X_{train.}$\n",
        "\n",
        "<br>\n",
        "<center><img src=\"https://github.com/Fabian830348/cursos/blob/master/Intro-knn/knn4.png?raw=true?\" alt=\"centered image\" width=\"600\" height=\"400\"></center> <center><figcaption> <FONT SIZE=1 COLOR=\"black\"> Fuente: Elaboración propia  </FONT> <figcaption></center>\n",
        "\n"
      ],
      "metadata": {
        "id": "aJncrGo-1F_R"
      }
    },
    {
      "cell_type": "markdown",
      "source": [
        "## <FONT SIZE=4 COLOR=\"blue\"> 4.8 Selección de $k$  </FONT>\n",
        "\n",
        "- Inicialmente seleccionamos un valor un $k$, ejecutamos el modelo y luego revisamos otros valores de $k$ para ver si tenemos mejores resultados."
      ],
      "metadata": {
        "id": "ImKRyOLx2vVs"
      }
    },
    {
      "cell_type": "markdown",
      "source": [
        "## <FONT SIZE=4 COLOR=\"blue\"> 4.9 Generar el Modelo  </FONT>\n",
        "\n",
        "En esta parte usaremos la librería *sciki-learn* y la función *KNeighborsClassifier*"
      ],
      "metadata": {
        "id": "j904Yynv3D7C"
      }
    },
    {
      "cell_type": "code",
      "source": [
        "KNN = KNeighborsClassifier(n_neighbors = 15,              # número de vecinos k=15 variar.\n",
        "                           metric = 'euclidean')          # métrica euclideana\n",
        "KNN.fit(X_train,y_train)"
      ],
      "metadata": {
        "id": "EVHP8iWx3GKI",
        "colab": {
          "base_uri": "https://localhost:8080/",
          "height": 80
        },
        "outputId": "c621e3d5-2ae6-423f-f2ee-47de50bbf6e9"
      },
      "execution_count": 22,
      "outputs": [
        {
          "output_type": "execute_result",
          "data": {
            "text/plain": [
              "KNeighborsClassifier(metric='euclidean', n_neighbors=15)"
            ],
            "text/html": [
              "<style>#sk-container-id-1 {\n",
              "  /* Definition of color scheme common for light and dark mode */\n",
              "  --sklearn-color-text: black;\n",
              "  --sklearn-color-line: gray;\n",
              "  /* Definition of color scheme for unfitted estimators */\n",
              "  --sklearn-color-unfitted-level-0: #fff5e6;\n",
              "  --sklearn-color-unfitted-level-1: #f6e4d2;\n",
              "  --sklearn-color-unfitted-level-2: #ffe0b3;\n",
              "  --sklearn-color-unfitted-level-3: chocolate;\n",
              "  /* Definition of color scheme for fitted estimators */\n",
              "  --sklearn-color-fitted-level-0: #f0f8ff;\n",
              "  --sklearn-color-fitted-level-1: #d4ebff;\n",
              "  --sklearn-color-fitted-level-2: #b3dbfd;\n",
              "  --sklearn-color-fitted-level-3: cornflowerblue;\n",
              "\n",
              "  /* Specific color for light theme */\n",
              "  --sklearn-color-text-on-default-background: var(--sg-text-color, var(--theme-code-foreground, var(--jp-content-font-color1, black)));\n",
              "  --sklearn-color-background: var(--sg-background-color, var(--theme-background, var(--jp-layout-color0, white)));\n",
              "  --sklearn-color-border-box: var(--sg-text-color, var(--theme-code-foreground, var(--jp-content-font-color1, black)));\n",
              "  --sklearn-color-icon: #696969;\n",
              "\n",
              "  @media (prefers-color-scheme: dark) {\n",
              "    /* Redefinition of color scheme for dark theme */\n",
              "    --sklearn-color-text-on-default-background: var(--sg-text-color, var(--theme-code-foreground, var(--jp-content-font-color1, white)));\n",
              "    --sklearn-color-background: var(--sg-background-color, var(--theme-background, var(--jp-layout-color0, #111)));\n",
              "    --sklearn-color-border-box: var(--sg-text-color, var(--theme-code-foreground, var(--jp-content-font-color1, white)));\n",
              "    --sklearn-color-icon: #878787;\n",
              "  }\n",
              "}\n",
              "\n",
              "#sk-container-id-1 {\n",
              "  color: var(--sklearn-color-text);\n",
              "}\n",
              "\n",
              "#sk-container-id-1 pre {\n",
              "  padding: 0;\n",
              "}\n",
              "\n",
              "#sk-container-id-1 input.sk-hidden--visually {\n",
              "  border: 0;\n",
              "  clip: rect(1px 1px 1px 1px);\n",
              "  clip: rect(1px, 1px, 1px, 1px);\n",
              "  height: 1px;\n",
              "  margin: -1px;\n",
              "  overflow: hidden;\n",
              "  padding: 0;\n",
              "  position: absolute;\n",
              "  width: 1px;\n",
              "}\n",
              "\n",
              "#sk-container-id-1 div.sk-dashed-wrapped {\n",
              "  border: 1px dashed var(--sklearn-color-line);\n",
              "  margin: 0 0.4em 0.5em 0.4em;\n",
              "  box-sizing: border-box;\n",
              "  padding-bottom: 0.4em;\n",
              "  background-color: var(--sklearn-color-background);\n",
              "}\n",
              "\n",
              "#sk-container-id-1 div.sk-container {\n",
              "  /* jupyter's `normalize.less` sets `[hidden] { display: none; }`\n",
              "     but bootstrap.min.css set `[hidden] { display: none !important; }`\n",
              "     so we also need the `!important` here to be able to override the\n",
              "     default hidden behavior on the sphinx rendered scikit-learn.org.\n",
              "     See: https://github.com/scikit-learn/scikit-learn/issues/21755 */\n",
              "  display: inline-block !important;\n",
              "  position: relative;\n",
              "}\n",
              "\n",
              "#sk-container-id-1 div.sk-text-repr-fallback {\n",
              "  display: none;\n",
              "}\n",
              "\n",
              "div.sk-parallel-item,\n",
              "div.sk-serial,\n",
              "div.sk-item {\n",
              "  /* draw centered vertical line to link estimators */\n",
              "  background-image: linear-gradient(var(--sklearn-color-text-on-default-background), var(--sklearn-color-text-on-default-background));\n",
              "  background-size: 2px 100%;\n",
              "  background-repeat: no-repeat;\n",
              "  background-position: center center;\n",
              "}\n",
              "\n",
              "/* Parallel-specific style estimator block */\n",
              "\n",
              "#sk-container-id-1 div.sk-parallel-item::after {\n",
              "  content: \"\";\n",
              "  width: 100%;\n",
              "  border-bottom: 2px solid var(--sklearn-color-text-on-default-background);\n",
              "  flex-grow: 1;\n",
              "}\n",
              "\n",
              "#sk-container-id-1 div.sk-parallel {\n",
              "  display: flex;\n",
              "  align-items: stretch;\n",
              "  justify-content: center;\n",
              "  background-color: var(--sklearn-color-background);\n",
              "  position: relative;\n",
              "}\n",
              "\n",
              "#sk-container-id-1 div.sk-parallel-item {\n",
              "  display: flex;\n",
              "  flex-direction: column;\n",
              "}\n",
              "\n",
              "#sk-container-id-1 div.sk-parallel-item:first-child::after {\n",
              "  align-self: flex-end;\n",
              "  width: 50%;\n",
              "}\n",
              "\n",
              "#sk-container-id-1 div.sk-parallel-item:last-child::after {\n",
              "  align-self: flex-start;\n",
              "  width: 50%;\n",
              "}\n",
              "\n",
              "#sk-container-id-1 div.sk-parallel-item:only-child::after {\n",
              "  width: 0;\n",
              "}\n",
              "\n",
              "/* Serial-specific style estimator block */\n",
              "\n",
              "#sk-container-id-1 div.sk-serial {\n",
              "  display: flex;\n",
              "  flex-direction: column;\n",
              "  align-items: center;\n",
              "  background-color: var(--sklearn-color-background);\n",
              "  padding-right: 1em;\n",
              "  padding-left: 1em;\n",
              "}\n",
              "\n",
              "\n",
              "/* Toggleable style: style used for estimator/Pipeline/ColumnTransformer box that is\n",
              "clickable and can be expanded/collapsed.\n",
              "- Pipeline and ColumnTransformer use this feature and define the default style\n",
              "- Estimators will overwrite some part of the style using the `sk-estimator` class\n",
              "*/\n",
              "\n",
              "/* Pipeline and ColumnTransformer style (default) */\n",
              "\n",
              "#sk-container-id-1 div.sk-toggleable {\n",
              "  /* Default theme specific background. It is overwritten whether we have a\n",
              "  specific estimator or a Pipeline/ColumnTransformer */\n",
              "  background-color: var(--sklearn-color-background);\n",
              "}\n",
              "\n",
              "/* Toggleable label */\n",
              "#sk-container-id-1 label.sk-toggleable__label {\n",
              "  cursor: pointer;\n",
              "  display: block;\n",
              "  width: 100%;\n",
              "  margin-bottom: 0;\n",
              "  padding: 0.5em;\n",
              "  box-sizing: border-box;\n",
              "  text-align: center;\n",
              "}\n",
              "\n",
              "#sk-container-id-1 label.sk-toggleable__label-arrow:before {\n",
              "  /* Arrow on the left of the label */\n",
              "  content: \"▸\";\n",
              "  float: left;\n",
              "  margin-right: 0.25em;\n",
              "  color: var(--sklearn-color-icon);\n",
              "}\n",
              "\n",
              "#sk-container-id-1 label.sk-toggleable__label-arrow:hover:before {\n",
              "  color: var(--sklearn-color-text);\n",
              "}\n",
              "\n",
              "/* Toggleable content - dropdown */\n",
              "\n",
              "#sk-container-id-1 div.sk-toggleable__content {\n",
              "  max-height: 0;\n",
              "  max-width: 0;\n",
              "  overflow: hidden;\n",
              "  text-align: left;\n",
              "  /* unfitted */\n",
              "  background-color: var(--sklearn-color-unfitted-level-0);\n",
              "}\n",
              "\n",
              "#sk-container-id-1 div.sk-toggleable__content.fitted {\n",
              "  /* fitted */\n",
              "  background-color: var(--sklearn-color-fitted-level-0);\n",
              "}\n",
              "\n",
              "#sk-container-id-1 div.sk-toggleable__content pre {\n",
              "  margin: 0.2em;\n",
              "  border-radius: 0.25em;\n",
              "  color: var(--sklearn-color-text);\n",
              "  /* unfitted */\n",
              "  background-color: var(--sklearn-color-unfitted-level-0);\n",
              "}\n",
              "\n",
              "#sk-container-id-1 div.sk-toggleable__content.fitted pre {\n",
              "  /* unfitted */\n",
              "  background-color: var(--sklearn-color-fitted-level-0);\n",
              "}\n",
              "\n",
              "#sk-container-id-1 input.sk-toggleable__control:checked~div.sk-toggleable__content {\n",
              "  /* Expand drop-down */\n",
              "  max-height: 200px;\n",
              "  max-width: 100%;\n",
              "  overflow: auto;\n",
              "}\n",
              "\n",
              "#sk-container-id-1 input.sk-toggleable__control:checked~label.sk-toggleable__label-arrow:before {\n",
              "  content: \"▾\";\n",
              "}\n",
              "\n",
              "/* Pipeline/ColumnTransformer-specific style */\n",
              "\n",
              "#sk-container-id-1 div.sk-label input.sk-toggleable__control:checked~label.sk-toggleable__label {\n",
              "  color: var(--sklearn-color-text);\n",
              "  background-color: var(--sklearn-color-unfitted-level-2);\n",
              "}\n",
              "\n",
              "#sk-container-id-1 div.sk-label.fitted input.sk-toggleable__control:checked~label.sk-toggleable__label {\n",
              "  background-color: var(--sklearn-color-fitted-level-2);\n",
              "}\n",
              "\n",
              "/* Estimator-specific style */\n",
              "\n",
              "/* Colorize estimator box */\n",
              "#sk-container-id-1 div.sk-estimator input.sk-toggleable__control:checked~label.sk-toggleable__label {\n",
              "  /* unfitted */\n",
              "  background-color: var(--sklearn-color-unfitted-level-2);\n",
              "}\n",
              "\n",
              "#sk-container-id-1 div.sk-estimator.fitted input.sk-toggleable__control:checked~label.sk-toggleable__label {\n",
              "  /* fitted */\n",
              "  background-color: var(--sklearn-color-fitted-level-2);\n",
              "}\n",
              "\n",
              "#sk-container-id-1 div.sk-label label.sk-toggleable__label,\n",
              "#sk-container-id-1 div.sk-label label {\n",
              "  /* The background is the default theme color */\n",
              "  color: var(--sklearn-color-text-on-default-background);\n",
              "}\n",
              "\n",
              "/* On hover, darken the color of the background */\n",
              "#sk-container-id-1 div.sk-label:hover label.sk-toggleable__label {\n",
              "  color: var(--sklearn-color-text);\n",
              "  background-color: var(--sklearn-color-unfitted-level-2);\n",
              "}\n",
              "\n",
              "/* Label box, darken color on hover, fitted */\n",
              "#sk-container-id-1 div.sk-label.fitted:hover label.sk-toggleable__label.fitted {\n",
              "  color: var(--sklearn-color-text);\n",
              "  background-color: var(--sklearn-color-fitted-level-2);\n",
              "}\n",
              "\n",
              "/* Estimator label */\n",
              "\n",
              "#sk-container-id-1 div.sk-label label {\n",
              "  font-family: monospace;\n",
              "  font-weight: bold;\n",
              "  display: inline-block;\n",
              "  line-height: 1.2em;\n",
              "}\n",
              "\n",
              "#sk-container-id-1 div.sk-label-container {\n",
              "  text-align: center;\n",
              "}\n",
              "\n",
              "/* Estimator-specific */\n",
              "#sk-container-id-1 div.sk-estimator {\n",
              "  font-family: monospace;\n",
              "  border: 1px dotted var(--sklearn-color-border-box);\n",
              "  border-radius: 0.25em;\n",
              "  box-sizing: border-box;\n",
              "  margin-bottom: 0.5em;\n",
              "  /* unfitted */\n",
              "  background-color: var(--sklearn-color-unfitted-level-0);\n",
              "}\n",
              "\n",
              "#sk-container-id-1 div.sk-estimator.fitted {\n",
              "  /* fitted */\n",
              "  background-color: var(--sklearn-color-fitted-level-0);\n",
              "}\n",
              "\n",
              "/* on hover */\n",
              "#sk-container-id-1 div.sk-estimator:hover {\n",
              "  /* unfitted */\n",
              "  background-color: var(--sklearn-color-unfitted-level-2);\n",
              "}\n",
              "\n",
              "#sk-container-id-1 div.sk-estimator.fitted:hover {\n",
              "  /* fitted */\n",
              "  background-color: var(--sklearn-color-fitted-level-2);\n",
              "}\n",
              "\n",
              "/* Specification for estimator info (e.g. \"i\" and \"?\") */\n",
              "\n",
              "/* Common style for \"i\" and \"?\" */\n",
              "\n",
              ".sk-estimator-doc-link,\n",
              "a:link.sk-estimator-doc-link,\n",
              "a:visited.sk-estimator-doc-link {\n",
              "  float: right;\n",
              "  font-size: smaller;\n",
              "  line-height: 1em;\n",
              "  font-family: monospace;\n",
              "  background-color: var(--sklearn-color-background);\n",
              "  border-radius: 1em;\n",
              "  height: 1em;\n",
              "  width: 1em;\n",
              "  text-decoration: none !important;\n",
              "  margin-left: 1ex;\n",
              "  /* unfitted */\n",
              "  border: var(--sklearn-color-unfitted-level-1) 1pt solid;\n",
              "  color: var(--sklearn-color-unfitted-level-1);\n",
              "}\n",
              "\n",
              ".sk-estimator-doc-link.fitted,\n",
              "a:link.sk-estimator-doc-link.fitted,\n",
              "a:visited.sk-estimator-doc-link.fitted {\n",
              "  /* fitted */\n",
              "  border: var(--sklearn-color-fitted-level-1) 1pt solid;\n",
              "  color: var(--sklearn-color-fitted-level-1);\n",
              "}\n",
              "\n",
              "/* On hover */\n",
              "div.sk-estimator:hover .sk-estimator-doc-link:hover,\n",
              ".sk-estimator-doc-link:hover,\n",
              "div.sk-label-container:hover .sk-estimator-doc-link:hover,\n",
              ".sk-estimator-doc-link:hover {\n",
              "  /* unfitted */\n",
              "  background-color: var(--sklearn-color-unfitted-level-3);\n",
              "  color: var(--sklearn-color-background);\n",
              "  text-decoration: none;\n",
              "}\n",
              "\n",
              "div.sk-estimator.fitted:hover .sk-estimator-doc-link.fitted:hover,\n",
              ".sk-estimator-doc-link.fitted:hover,\n",
              "div.sk-label-container:hover .sk-estimator-doc-link.fitted:hover,\n",
              ".sk-estimator-doc-link.fitted:hover {\n",
              "  /* fitted */\n",
              "  background-color: var(--sklearn-color-fitted-level-3);\n",
              "  color: var(--sklearn-color-background);\n",
              "  text-decoration: none;\n",
              "}\n",
              "\n",
              "/* Span, style for the box shown on hovering the info icon */\n",
              ".sk-estimator-doc-link span {\n",
              "  display: none;\n",
              "  z-index: 9999;\n",
              "  position: relative;\n",
              "  font-weight: normal;\n",
              "  right: .2ex;\n",
              "  padding: .5ex;\n",
              "  margin: .5ex;\n",
              "  width: min-content;\n",
              "  min-width: 20ex;\n",
              "  max-width: 50ex;\n",
              "  color: var(--sklearn-color-text);\n",
              "  box-shadow: 2pt 2pt 4pt #999;\n",
              "  /* unfitted */\n",
              "  background: var(--sklearn-color-unfitted-level-0);\n",
              "  border: .5pt solid var(--sklearn-color-unfitted-level-3);\n",
              "}\n",
              "\n",
              ".sk-estimator-doc-link.fitted span {\n",
              "  /* fitted */\n",
              "  background: var(--sklearn-color-fitted-level-0);\n",
              "  border: var(--sklearn-color-fitted-level-3);\n",
              "}\n",
              "\n",
              ".sk-estimator-doc-link:hover span {\n",
              "  display: block;\n",
              "}\n",
              "\n",
              "/* \"?\"-specific style due to the `<a>` HTML tag */\n",
              "\n",
              "#sk-container-id-1 a.estimator_doc_link {\n",
              "  float: right;\n",
              "  font-size: 1rem;\n",
              "  line-height: 1em;\n",
              "  font-family: monospace;\n",
              "  background-color: var(--sklearn-color-background);\n",
              "  border-radius: 1rem;\n",
              "  height: 1rem;\n",
              "  width: 1rem;\n",
              "  text-decoration: none;\n",
              "  /* unfitted */\n",
              "  color: var(--sklearn-color-unfitted-level-1);\n",
              "  border: var(--sklearn-color-unfitted-level-1) 1pt solid;\n",
              "}\n",
              "\n",
              "#sk-container-id-1 a.estimator_doc_link.fitted {\n",
              "  /* fitted */\n",
              "  border: var(--sklearn-color-fitted-level-1) 1pt solid;\n",
              "  color: var(--sklearn-color-fitted-level-1);\n",
              "}\n",
              "\n",
              "/* On hover */\n",
              "#sk-container-id-1 a.estimator_doc_link:hover {\n",
              "  /* unfitted */\n",
              "  background-color: var(--sklearn-color-unfitted-level-3);\n",
              "  color: var(--sklearn-color-background);\n",
              "  text-decoration: none;\n",
              "}\n",
              "\n",
              "#sk-container-id-1 a.estimator_doc_link.fitted:hover {\n",
              "  /* fitted */\n",
              "  background-color: var(--sklearn-color-fitted-level-3);\n",
              "}\n",
              "</style><div id=\"sk-container-id-1\" class=\"sk-top-container\"><div class=\"sk-text-repr-fallback\"><pre>KNeighborsClassifier(metric=&#x27;euclidean&#x27;, n_neighbors=15)</pre><b>In a Jupyter environment, please rerun this cell to show the HTML representation or trust the notebook. <br />On GitHub, the HTML representation is unable to render, please try loading this page with nbviewer.org.</b></div><div class=\"sk-container\" hidden><div class=\"sk-item\"><div class=\"sk-estimator fitted sk-toggleable\"><input class=\"sk-toggleable__control sk-hidden--visually\" id=\"sk-estimator-id-1\" type=\"checkbox\" checked><label for=\"sk-estimator-id-1\" class=\"sk-toggleable__label fitted sk-toggleable__label-arrow fitted\">&nbsp;&nbsp;KNeighborsClassifier<a class=\"sk-estimator-doc-link fitted\" rel=\"noreferrer\" target=\"_blank\" href=\"https://scikit-learn.org/1.5/modules/generated/sklearn.neighbors.KNeighborsClassifier.html\">?<span>Documentation for KNeighborsClassifier</span></a><span class=\"sk-estimator-doc-link fitted\">i<span>Fitted</span></span></label><div class=\"sk-toggleable__content fitted\"><pre>KNeighborsClassifier(metric=&#x27;euclidean&#x27;, n_neighbors=15)</pre></div> </div></div></div></div>"
            ]
          },
          "metadata": {},
          "execution_count": 22
        }
      ]
    },
    {
      "cell_type": "markdown",
      "source": [
        "## <FONT SIZE=4 COLOR=\"blue\"> 4.10 Evaluar en el conjunto de Prueba  </FONT>\n",
        "\n",
        "Luego de tener el modelo entrenado con **X_{train}** y **y_{train}** pasamos a calcularlo en el conjunto **X_{test}**, con lo cual obtendremos valores de predicción del modelo."
      ],
      "metadata": {
        "id": "PsoZTQB33j66"
      }
    },
    {
      "cell_type": "code",
      "source": [
        "y_pred = KNN.predict(X_test)\n",
        "y_pred"
      ],
      "metadata": {
        "id": "Y3LZQ9s63n1U",
        "colab": {
          "base_uri": "https://localhost:8080/"
        },
        "outputId": "8c15b116-7273-4f70-c254-16fe5af2d6c3"
      },
      "execution_count": 23,
      "outputs": [
        {
          "output_type": "execute_result",
          "data": {
            "text/plain": [
              "array([1, 0, 0, 1, 0, 0, 1, 1, 0, 0, 1, 1, 0, 0, 0, 0, 1, 0, 0, 0, 0, 0,\n",
              "       0, 0, 0, 0, 0, 1, 0, 0, 1, 0, 0, 1, 0, 1, 0, 0, 0, 1, 0, 0, 0, 1,\n",
              "       1, 0, 0, 0, 0, 0, 0, 0, 1, 0, 0, 0, 0, 0, 0, 0, 1, 0, 0, 1, 1, 1,\n",
              "       1, 0, 1, 0, 0, 0, 0, 1, 1, 0, 0, 1, 0, 0, 1, 0, 0, 0, 0, 0, 0, 0,\n",
              "       1, 0, 0, 0, 0, 0, 1, 0, 0, 0, 1, 1, 0, 0, 0, 0, 0, 0, 0, 0, 0, 1,\n",
              "       0, 0, 1, 1, 1, 1, 0, 1, 0, 1, 0, 0, 0, 0, 0, 0, 0, 0, 1, 0, 0, 0,\n",
              "       0, 1, 0, 0, 0, 0, 1, 0, 0, 1, 0, 0, 1, 0, 0, 0, 0, 0, 0, 0, 0, 0])"
            ]
          },
          "metadata": {},
          "execution_count": 23
        }
      ]
    },
    {
      "cell_type": "code",
      "source": [
        "np.array(y_test)"
      ],
      "metadata": {
        "colab": {
          "base_uri": "https://localhost:8080/"
        },
        "id": "U__P1T43EgT_",
        "outputId": "603d3234-2b58-4644-c7f2-47508b77ed91"
      },
      "execution_count": 24,
      "outputs": [
        {
          "output_type": "execute_result",
          "data": {
            "text/plain": [
              "array([1, 0, 0, 1, 0, 0, 1, 1, 0, 0, 1, 1, 0, 0, 0, 0, 1, 0, 0, 0, 1, 1,\n",
              "       0, 0, 0, 0, 0, 0, 0, 0, 0, 0, 0, 0, 0, 1, 1, 0, 0, 0, 0, 0, 0, 1,\n",
              "       1, 0, 0, 1, 1, 1, 0, 0, 1, 0, 0, 0, 0, 1, 1, 1, 1, 0, 0, 1, 1, 1,\n",
              "       1, 0, 0, 0, 0, 0, 0, 0, 1, 0, 0, 0, 0, 0, 0, 0, 0, 0, 0, 0, 1, 0,\n",
              "       1, 0, 0, 0, 0, 0, 0, 0, 1, 0, 1, 1, 0, 0, 0, 0, 0, 1, 0, 0, 0, 1,\n",
              "       0, 1, 1, 1, 1, 1, 0, 0, 0, 1, 0, 0, 0, 0, 0, 0, 0, 1, 0, 0, 0, 0,\n",
              "       0, 1, 0, 1, 0, 1, 1, 0, 0, 0, 0, 0, 1, 0, 0, 0, 0, 1, 0, 1, 0, 0])"
            ]
          },
          "metadata": {},
          "execution_count": 24
        }
      ]
    },
    {
      "cell_type": "markdown",
      "source": [
        "La pregunta que nos hacemos ahora es:\n",
        "\n",
        "***¿Qué tanta coincidencia hay en el modelo con los datos de prueba?***\n",
        "\n",
        "La respuesta a esta pregunta la tendremos justamente comparando **$y_{pred}$** con **$y_{test}$**. Esto lo haremos con una herramienta muy importante en Machine Learning y modelos de clasificación denominada ***matriz de confusión***."
      ],
      "metadata": {
        "id": "3Gzcmncd7CRx"
      }
    },
    {
      "cell_type": "markdown",
      "source": [
        "# <FONT SIZE=5 COLOR=\"purple\"> 5. Matriz de Confusión </FONT>\n",
        "\n",
        "En el campo del Machine Learning la **matriz de confusión** es una herramienta que permite visualizar el desempeño de un algoritmo de clasificación.\n",
        "\n",
        "- Las columnas de la matriz representa el número de predicciones de cada clase.\n",
        "\n",
        "- Las filas representan las instancias en la clase real.\n",
        "\n",
        "Esta matriz permite ver qué tipos de aciertos y errores está teniendo nuestro modelo a la hora de pasar por el proceso de aprendizaje con los datos.\n",
        "\n",
        "En el siguiente gráfico se muestra lo anterior\n",
        "\n",
        "<br>\n",
        "<center><img src=\"https://github.com/Fabian830348/cursos/blob/master/Imagen/metricas.png?raw=true\" alt=\"centered image\" width=\"500\" height=\"400\"></center>\n",
        "<br>\n",
        "\n",
        "Para entender la matriz de confusión debemos definir dos conceptos:\n",
        "\n",
        "**Exactitud:** Mide cuánto se aproximan los resultados al valor verdadero\n",
        "\n",
        "**Precisión:** Mide cuánto se aproximan los datos entre sí.\n",
        "\n",
        "Veamos algunas definiciones\n",
        "\n",
        "**Verdadero positivo:** El valor real es positivo y la prueba predice tambien que es positivo.\n",
        "\n",
        "- La persona estaba enferma y el modelo predice bien que estaba enferma. *Prediccón correcta*\n",
        "\n",
        "**Verdadero negativo:** El valor real es negativo y la prueba predice tambien que el resultado es negativo.\n",
        "\n",
        "- La persona no está enferma y el modelo predice que no está enferma. *Predicción correcta*\n",
        "\n",
        "**Falso negativo:** El valor real es positivo, y la prueba predice que el resultado es negativo.\n",
        "\n",
        "- La persona esta enferma y el modelo predice que no lo está. *predicción incorrecta* : error tipo II\n",
        "\n",
        "**Falso positivo:** El valor real es negativo, y la prueba predice que el resultado es positivo.\n",
        "\n",
        "- La persona no está enferma y el modelo predice que lo está. *predicción incorrecta* : error tipo I\n",
        "\n",
        "Veamos las métricas que se utilizan para evaluar el modelo.\n",
        "\n",
        "**Accuracy** : Exactitud\n",
        "\n",
        "- La Exactitud (en inglés, “Accuracy”) se refiere a lo cerca que está el resultado de una medición del valor verdadero.\n",
        "\n",
        "- Es el porcentaje de predicciones correctas de todo el modelo.\n",
        "\n",
        "- En términos estadísticos, la exactitud está relacionada con el sesgo de una estimación.\n",
        "\n",
        "- Es la proporción de resultados verdaderos (tanto verdaderos positivos (VP) como verdaderos negativos (VN)) dividido entre el número total de casos examinados (verdaderos positivos, falsos positivos, verdaderos negativos, falsos negativos)\n",
        "\n",
        "$$Accurary = \\dfrac{VP+VN}{VP+FN+VN+FP}$$\n",
        "\n",
        "**Precision** : Precisión\n",
        "\n",
        "- La Precisión (en inglés “Precision”)  se refiere a la dispersión del conjunto de valores obtenidos a partir de mediciones repetidas de una magnitud.\n",
        "\n",
        "- A mayor precisión menos es la dispersión.\n",
        "\n",
        "- Es la proporción de verdaderos positivos dividido entre los resultados etiquetados como positivos.\n",
        "\n",
        "- Es el porcentaje de casos reales positivos dentro de los casos positivos detectados.\n",
        "\n",
        "$$Precision = \\dfrac{VP}{VP+FP}$$\n",
        "\n",
        "**Recall**: sensibilidad\n",
        "\n",
        "- Es la proporción de casos positivos que fueron correctamente identificadas por el algoritmo.\n",
        "\n",
        "$$recall = \\dfrac{VP}{VP+FN}$$\n",
        "\n",
        "*En el área de la salud se dice que la sensibilidad o recall es la capacidad de de poder detectar correctamente la enfermedad entre los enfermos*\n",
        "\n",
        "**Especifity**\n",
        "\n",
        "- Es la proporción de casos negativos que fueron correctamente identificadas por el algoritmo.\n",
        "\n",
        "$$Especifity = \\dfrac{VN}{VN+FP}$$\n",
        "\n",
        "*En el area de la salud se dice que la especificidad es la capacidad de poder identificar los casos de pacientes sanos entre todos los sanos*\n",
        "\n",
        "**F1 Score:**\n",
        "\n",
        "- Esta una métrica muy empleada porque nos resume la precisión y sensibilidad en una sola métrica. Por ello es de gran utilidad cuando la distribución de las clases es desigual, por ejemplo cuando el número de pacientes con una condición es del 15% y el otro es 85%.\n",
        "\n",
        "$$F1 = \\dfrac{2*precision*recall}{precision+recall} $$\n",
        "\n",
        "$$ F1= \\dfrac{2}{ \\dfrac{1}{precision}+\\dfrac{1}{recall}} $$\n",
        "\n",
        "Resumen:\n",
        "\n",
        "**Alta precisión y alto recall**: el modelo de Machine Learning escogido maneja perfectamente esa clase.\n",
        "\n",
        "**Alta precisión y bajo recall**: el modelo de Machine Learning escogido no detecta la clase muy bien, pero cuando lo hace es altamente confiable.\n",
        "\n",
        "**Baja precisión y alto recall**: El modelo de Machine Learning escogido detecta bien la clase,  pero también incluye muestras de la otra clase.\n",
        "\n",
        "**Baja precisión y bajo recall**: El modelo de Machine Learning escogido no logra clasificar la clase correctamente.\n",
        "\n",
        "***Observación importante***\n",
        "\n",
        "- Cuando se tiene un conjunto de datos con clases **desbalanceadas**, suele ocurrir que obtenemos un alto valor de precisión en la clase mayoritaria y un bajo recall en la clase Minoritaria.  En el campo de la salud ésta circunstancia es particularmente frecuente y se debe recurrir al balanceo de clases.\n",
        "\n",
        "Consejos generales sobre La matriz de confusión y sus métricas:\n",
        "\n",
        "1,) La precisión es un gran estadístico, pero es útil únicamente cuando se tienen conjuntos de datos simétricos (la cantidad de casos de la clase 1 y de las clase 2 tienen magnitudes similares)\n",
        "\n",
        "2.) El indicador F1 de la matriz de confusión es útil si se tiene una distribución de clases desigual.\n",
        "\n",
        "3.) Elija mayor precisión para conocer qué tan seguro está de los verdaderos positivos, Mientras que la sensibilidad o “Recall” le servirá para saber si no está perdiendo positivos.\n",
        "\n",
        "4.) Las Falsas Alarmas:  Por ejemplo,  si cree que es mejor en su caso tener falsos positivos que falsos negativos, utilice una sensibilidad alta  (Recall) , cuando la aparición de falsos negativos le resulta inaceptable pero no le importa tener falsos positivos adicionales (falsas alarmas).\n",
        "\n",
        "Un ejemplo de esto es:  Prefieres que algunas personas sanas sean etiquetadas como diabéticas en lugar de dejar a una persona diabética etiquetada como sana.\n",
        "\n",
        "5.)  Elija precisión (precision en inglés)  si quiere estar más seguro de sus verdaderos positivos. por ejemplo, correos electrónicos no deseados.  En este caso se prefiere tener algunos correos electrónicos “no deseados” en su bandeja de entrada en lugar de tener correos electrónicos “reales” en su bandeja de SPAM.\n",
        "\n",
        "6.) Elija alta Especificidad:  si desea identificar los verdaderos negativos, o lo que es igual cuando no desea falsos positivos. Por ejemplo conductores  y las pruebas de alcoholemia\n",
        "\n",
        "Referencia : https://www.juanbarrios.com/la-matriz-de-confusion-y-sus-metricas/\n",
        "\n",
        "\n"
      ],
      "metadata": {
        "id": "k36weu033utG"
      }
    },
    {
      "cell_type": "markdown",
      "source": [
        "Con base a lo anterior vamos a construir la matriz de confusión"
      ],
      "metadata": {
        "id": "zxREriCb9iH5"
      }
    },
    {
      "cell_type": "code",
      "source": [
        "from sklearn import metrics\n",
        "metrics.confusion_matrix(y_test, y_pred)"
      ],
      "metadata": {
        "colab": {
          "base_uri": "https://localhost:8080/"
        },
        "id": "h6a-VWvC1KwN",
        "outputId": "95129fb5-4714-4b97-d92a-df4a0461f291"
      },
      "execution_count": 25,
      "outputs": [
        {
          "output_type": "execute_result",
          "data": {
            "text/plain": [
              "array([[95, 12],\n",
              "       [18, 29]])"
            ]
          },
          "metadata": {},
          "execution_count": 25
        }
      ]
    },
    {
      "cell_type": "markdown",
      "source": [
        "Una versión gráfica de la matriz de confusión."
      ],
      "metadata": {
        "id": "wq2cPiiYtaRu"
      }
    },
    {
      "cell_type": "code",
      "source": [
        "from sklearn import metrics\n",
        "MC= metrics.confusion_matrix(y_test, y_pred)\n",
        "p = sns.heatmap(pd.DataFrame(MC),                    # data.frame\n",
        "                annot=True,                          # colocar números de las cajitas\n",
        "                annot_kws = {'size':20},             # tamaño de la letra\n",
        "                cmap=\"YlOrRd\",                       # color de la letra 'Pastel1', 'Pastel1_r', 'Pastel2', 'Pastel2_r', 'PiYG', 'PiYG_r', 'PuBu'\n",
        "                fmt='g')                             # para que salgan los número no : notación científica\n",
        "plt.title('Matriz de Confusión', y=1.1)\n",
        "plt.ylabel('Valores Reales')\n",
        "plt.xlabel('Predicciones')"
      ],
      "metadata": {
        "id": "LWYlILDN6llf",
        "colab": {
          "base_uri": "https://localhost:8080/",
          "height": 378
        },
        "outputId": "24f14252-e2ff-44d0-cfa9-5fe99970caf5"
      },
      "execution_count": 26,
      "outputs": [
        {
          "output_type": "execute_result",
          "data": {
            "text/plain": [
              "Text(0.5, 36.72222222222221, 'Predicciones')"
            ]
          },
          "metadata": {},
          "execution_count": 26
        },
        {
          "output_type": "display_data",
          "data": {
            "text/plain": [
              "<Figure size 1500x600 with 2 Axes>"
            ],
            "image/png": "[encoded data removed]"
          },
          "metadata": {}
        }
      ]
    },
    {
      "cell_type": "markdown",
      "source": [
        "Revisaremos las otras métricas"
      ],
      "metadata": {
        "id": "xhci7d2O-AbN"
      }
    },
    {
      "cell_type": "code",
      "source": [
        "print(classification_report(y_test,y_pred))"
      ],
      "metadata": {
        "id": "9QlAzMIg-DWS",
        "colab": {
          "base_uri": "https://localhost:8080/"
        },
        "outputId": "6e923b63-3f61-44ea-b718-b045e9c3579c"
      },
      "execution_count": 27,
      "outputs": [
        {
          "output_type": "stream",
          "name": "stdout",
          "text": [
            "              precision    recall  f1-score   support\n",
            "\n",
            "           0       0.84      0.89      0.86       107\n",
            "           1       0.71      0.62      0.66        47\n",
            "\n",
            "    accuracy                           0.81       154\n",
            "   macro avg       0.77      0.75      0.76       154\n",
            "weighted avg       0.80      0.81      0.80       154\n",
            "\n"
          ]
        }
      ]
    },
    {
      "cell_type": "markdown",
      "source": [
        "**Conclusiones**:\n",
        "\n",
        "- El modelo está clasificando bien al $xxx$ de los registros.\n",
        "\n",
        "- El *recall* es $xxx$, es decir, de las personas que tienen diabetes, el algoritmo detecta correctamente un $xxx$."
      ],
      "metadata": {
        "id": "-ehqc7RMAEE2"
      }
    },
    {
      "cell_type": "markdown",
      "source": [
        "# <FONT SIZE=5 COLOR=\"Purple\"> 6. Predicción en KNN </FONT>\n",
        "\n"
      ],
      "metadata": {
        "id": "FAzMR4_0-zDH"
      }
    },
    {
      "cell_type": "markdown",
      "source": [
        "Particularmente, en estos algoritmos en los que se debe escalar, es importante escalar los valores a predecir. Este escalamiento se hace con base a $X_{train}$.\n",
        "\n",
        "Supongamos que queremos predecir si un paciente es propenso a diabetes o no, con los siguientes valores:\n",
        "\n",
        "- ***Pregnancies***: 6\n",
        "- ***Glucose***: 148\n",
        "- ***BloodPressure***: 72\n",
        "- ***SkinThikness***: 35\n",
        "- ***Insulin***: 0\n",
        "- ***BMI***: 33.6\n",
        "- ***DiabetesPedigreeFunction***: 0.627\n",
        "- ***Age***: 50"
      ],
      "metadata": {
        "id": "1yvrS3bbM8ph"
      }
    },
    {
      "cell_type": "code",
      "source": [
        "# representamos en forma de lista.\n",
        "[6,\t148,\t72,\t35,\t0,\t33.6,\t0.627,\t50]"
      ],
      "metadata": {
        "id": "wl4Owkwbt0S3",
        "colab": {
          "base_uri": "https://localhost:8080/"
        },
        "outputId": "5184e726-04ef-4097-d9c3-4c7b9a879bed"
      },
      "execution_count": 28,
      "outputs": [
        {
          "output_type": "execute_result",
          "data": {
            "text/plain": [
              "[6, 148, 72, 35, 0, 33.6, 0.627, 50]"
            ]
          },
          "metadata": {},
          "execution_count": 28
        }
      ]
    },
    {
      "cell_type": "code",
      "source": [
        "# para hacer la predicción usamos un objeto tipo arreglo.\n",
        "X_new = np.array([[5,\t150,\t70,\t33,\t0,\t31.7,\t0.618,\t48]])\n",
        "X_news = (X_new-X_train.mean())/(X_train.std())\n",
        "X_news\n",
        "# escalar.transform(X_new)"
      ],
      "metadata": {
        "id": "bQhMDLDz_nuz",
        "colab": {
          "base_uri": "https://localhost:8080/"
        },
        "outputId": "bec5cc24-a143-4cea-f14d-922a8ee5ce8f"
      },
      "execution_count": 29,
      "outputs": [
        {
          "output_type": "execute_result",
          "data": {
            "text/plain": [
              "array([[5.00000000e+00, 1.50000000e+02, 7.00000000e+01, 3.30000000e+01,\n",
              "        3.77909792e-17, 3.17000000e+01, 6.18000000e-01, 4.80000000e+01]])"
            ]
          },
          "metadata": {},
          "execution_count": 29
        }
      ]
    },
    {
      "cell_type": "code",
      "source": [
        "KNN.predict(X_news)"
      ],
      "metadata": {
        "id": "mxTW8vDfB7iD",
        "colab": {
          "base_uri": "https://localhost:8080/"
        },
        "outputId": "9764aab1-ddb5-4f43-f57d-3265e546ff7b"
      },
      "execution_count": 30,
      "outputs": [
        {
          "output_type": "execute_result",
          "data": {
            "text/plain": [
              "array([1])"
            ]
          },
          "metadata": {},
          "execution_count": 30
        }
      ]
    },
    {
      "cell_type": "markdown",
      "source": [
        "También se puede hacer así:"
      ],
      "metadata": {
        "id": "7JIQRLGPuMgF"
      }
    },
    {
      "cell_type": "code",
      "source": [
        "escalar = StandardScaler()\n",
        "X_train1 = escalar.fit_transform(X_train)\n",
        "X_test1 = escalar.transform(X_new)\n",
        "KNN.predict(X_test1)"
      ],
      "metadata": {
        "id": "fxIS-_HLL8WG",
        "colab": {
          "base_uri": "https://localhost:8080/"
        },
        "outputId": "88ee4571-6bd9-4cde-c715-3bcbfbad8c5b"
      },
      "execution_count": 31,
      "outputs": [
        {
          "output_type": "execute_result",
          "data": {
            "text/plain": [
              "array([1])"
            ]
          },
          "metadata": {},
          "execution_count": 31
        }
      ]
    },
    {
      "cell_type": "markdown",
      "source": [
        "# <FONT SIZE=5 COLOR=\"purple\"> 7. Regresión Logística </FONT>\n",
        "\n",
        "- Usamos regresión logística para estudiar la probabilidad de una variable categórica cualitativa (por ejemplo, dicotómica)  en función de una o más variables cuantitativas.\n",
        "\n",
        "- En otras palabras, la regresión logística no permite clasificar directamente, pero si permite determinar una probabilidad de pertenecer a un grupo determinado de la variable categórica. Y luego, de acuerdo con esa probabilidad, tomar una decisión de asignación.\n",
        "\n",
        "<FONT SIZE=4 COLOR=\"red\"> Motivación al modelo </FONT>\n",
        "\n",
        "Supongamos que tenemos una variable categórica con dos clase, que las llamaremos $\\{0, 1\\}$. Entonces, si tratamos de buscar un modelo lineal de la forma\n",
        "\n",
        "$$y = \\beta_0 +\\beta_1 x_1 +\\epsilon$$\n",
        "\n",
        "donde $y$ es una variable binaria, no sería un bueno modelo ya que la izquierda de la expresión es continua. Luego, podríamos pensar en no tener una relación directa, sino vía la probabilidad, así:\n",
        "\n",
        "$$P(y_i=1 \\mid X = x_i)= \\beta_0+\\beta_1x_i$$\n",
        "\n",
        "Cuando intentamos usar mínimos cuadrados, es fácil ver que el modelo no funciona ya que predecimos valores mayores que 1 y menores que 0.\n",
        "\n",
        "<center><img src=\"https://github.com/Fabian830348/cursos/blob/0da91b828112d77dbddb387cbb7043ab8a78f252/Imagen/log1.png?raw=true\" alt=\"centered image\" width=\"500\" height=\"400\"></center>\n",
        "\n",
        "podemos observar que este modelo no se ajusta a los datos. Más aún, si tratamos de predecir un valor, como $x=1.1$, al tratarse de una probabilidad, este valor no tiene sentido, pues es negativo.\n",
        "\n",
        "Entonces, buscaremos una función cumpla lo siguiente\n",
        "\n",
        "- $P(y_i=1 \\mid X = x_i) = f(\\beta_0 + \\beta_1 x_i)$\n",
        "\n",
        "- $P(y_i=1 \\mid  x_i)$ sea creciente en $x$ para $\\beta_1>0$.\n",
        "\n",
        "- $P(y_i=1 \\mid  x_i)$ sea decreciente en $x$ para $\\beta_1<0$.\n",
        "\n",
        "- $0 \\leq P(y_i=1 \\mid  x_i) \\leq 1$ para todo valor de $x_i$.\n",
        "\n",
        "Se puede ver rápidamente que la función debería tener una forma de S. A esta función se le denomina función sigmoide y es la base del modelo logístico\n",
        "\n",
        "$$f(x)= \\dfrac{e^x}{1+e^x}$$\n",
        "\n",
        "La gráfica de esta función es:\n",
        "\n",
        "<center><img src=\"https://github.com/Fabian830348/cursos/blob/0da91b828112d77dbddb387cbb7043ab8a78f252/Imagen/log2.png?raw=true\" alt=\"centered image\" width=\"500\" height=\"400\"></center>\n",
        "\n",
        "Así pues, tenemos una expresión de la forma\n",
        "\n",
        "$$P(y_i=1 \\mid  X = x_i)= \\dfrac{e^{\\beta_0+\\beta_1x_i}}{1+e^{\\beta_0+\\beta_1x_i}}$$\n"
      ],
      "metadata": {
        "id": "2O5mziINXgpZ"
      }
    },
    {
      "cell_type": "code",
      "source": [
        "# generación del modelo de regresión logística\n",
        "from sklearn.linear_model      import LogisticRegression\n",
        "\n",
        "# selección de características\n",
        "from sklearn.feature_selection import RFE"
      ],
      "metadata": {
        "id": "o7LADN0iYJGm"
      },
      "execution_count": 32,
      "outputs": []
    },
    {
      "cell_type": "code",
      "source": [
        "# generar y entrenar el modelo\n",
        "reg_log = LogisticRegression(random_state=0)\n",
        "reg_log.fit(X_train, y_train)\n",
        "\n",
        "# calculamos las predicciones\n",
        "y_pred_log = reg_log.predict(X_test)\n",
        "\n",
        "# matriz de confusión\n",
        "cm = metrics.confusion_matrix(y_test, y_pred_log)\n",
        "cm"
      ],
      "metadata": {
        "colab": {
          "base_uri": "https://localhost:8080/"
        },
        "id": "6Ve3sUmlYOWq",
        "outputId": "5a265e86-d32b-4b65-9073-e30c837d052a"
      },
      "execution_count": 33,
      "outputs": [
        {
          "output_type": "execute_result",
          "data": {
            "text/plain": [
              "array([[98,  9],\n",
              "       [18, 29]])"
            ]
          },
          "metadata": {},
          "execution_count": 33
        }
      ]
    },
    {
      "cell_type": "code",
      "source": [
        "print(classification_report(y_test,y_pred_log))"
      ],
      "metadata": {
        "colab": {
          "base_uri": "https://localhost:8080/"
        },
        "id": "_JgaTnSTYv2t",
        "outputId": "7be75e7a-5954-42dd-ef76-574b334e826c"
      },
      "execution_count": 34,
      "outputs": [
        {
          "output_type": "stream",
          "name": "stdout",
          "text": [
            "              precision    recall  f1-score   support\n",
            "\n",
            "           0       0.84      0.92      0.88       107\n",
            "           1       0.76      0.62      0.68        47\n",
            "\n",
            "    accuracy                           0.82       154\n",
            "   macro avg       0.80      0.77      0.78       154\n",
            "weighted avg       0.82      0.82      0.82       154\n",
            "\n"
          ]
        }
      ]
    },
    {
      "cell_type": "code",
      "source": [
        "# Le indico que me seleccione las 5 variables más importantes\n",
        "rfe=RFE(reg_log, n_features_to_select=5)\n",
        "rfe.fit(X_train, y_train)\n",
        "rfe.ranking_\n",
        "X.columns[rfe.ranking_== 1]"
      ],
      "metadata": {
        "id": "EP1oqXJRZWEC",
        "colab": {
          "base_uri": "https://localhost:8080/"
        },
        "outputId": "aa694292-6925-44f8-f34c-27096ad4e653"
      },
      "execution_count": 35,
      "outputs": [
        {
          "output_type": "execute_result",
          "data": {
            "text/plain": [
              "Index(['Pregnancies', 'Glucose', 'BloodPressure', 'BMI',\n",
              "       'DiabetesPedigreeFunction'],\n",
              "      dtype='object')"
            ]
          },
          "metadata": {},
          "execution_count": 35
        }
      ]
    },
    {
      "cell_type": "markdown",
      "source": [
        "# <FONT SIZE=5 COLOR=\"purple\"> 8. Árboles de Decisión </FONT>"
      ],
      "metadata": {
        "id": "nvsLodQ5bdvK"
      }
    },
    {
      "cell_type": "code",
      "source": [
        "from sklearn.tree             import DecisionTreeClassifier\n",
        "from sklearn.tree             import export_graphviz\n",
        "from graphviz                 import Source\n",
        "\n",
        "# Generamos el modelo\n",
        "model_Tree = DecisionTreeClassifier(max_depth = 10,           # Profundidad del árbol\n",
        "                                    criterion = \"gini\",      # Función de costo.\n",
        "                                    random_state = 123)      # Semilla\n",
        "\n",
        "# Entrenamos el modelo\n",
        "model_Tree.fit(X_train, y_train)\n",
        "\n",
        "# Prediccion de las clases vía el modelo DecisionTree.\n",
        "y_predict = model_Tree.predict(X_test)\n",
        "\n",
        "print(classification_report(y_test,y_predict))"
      ],
      "metadata": {
        "id": "GeJz602gwj5j",
        "colab": {
          "base_uri": "https://localhost:8080/"
        },
        "outputId": "7f423de5-ee90-4fdc-e56e-240a92a174c6"
      },
      "execution_count": 36,
      "outputs": [
        {
          "output_type": "stream",
          "name": "stdout",
          "text": [
            "              precision    recall  f1-score   support\n",
            "\n",
            "           0       0.88      0.81      0.84       107\n",
            "           1       0.64      0.74      0.69        47\n",
            "\n",
            "    accuracy                           0.79       154\n",
            "   macro avg       0.76      0.78      0.77       154\n",
            "weighted avg       0.80      0.79      0.80       154\n",
            "\n"
          ]
        }
      ]
    },
    {
      "cell_type": "code",
      "source": [
        "# Revisamos la profundidad y el número de nodos terminales\n",
        "print(f\"Profundidad del árbol: {model_Tree.get_depth()}\")\n",
        "print(f\"Número de nodos terminales: {model_Tree.get_n_leaves()}\")\n",
        "# Generamos el árbol\n",
        "dot_data = export_graphviz(model_Tree,                           # modelo\n",
        "                           feature_names = X.columns,            # columnas de entrenamiento\n",
        "                           filled=True,)                         # colores del árbol (relleno)\n",
        "Source(dot_data, format=\"png\")"
      ],
      "metadata": {
        "id": "GP-KrIv0bq9d",
        "colab": {
          "base_uri": "https://localhost:8080/",
          "height": 1000
        },
        "outputId": "3fd22590-5f92-4c79-a7d6-bb4055af246e"
      },
      "execution_count": 37,
      "outputs": [
        {
          "output_type": "stream",
          "name": "stdout",
          "text": [
            "Profundidad del árbol: 10\n",
            "Número de nodos terminales: 95\n"
          ]
        },
        {
          "output_type": "execute_result",
          "data": {
            "image/svg+xml": "<?xml version=\"1.0\" encoding=\"UTF-8\" standalone=\"no\"?>\n<!DOCTYPE svg PUBLIC \"-//W3C//DTD SVG 1.1//EN\"\n \"http://www.w3.org/Graphics/SVG/1.1/DTD/svg11.dtd\">\n<!-- Generated by graphviz version 2.43.0 (0)\n -->\n<!-- Title: Tree Pages: 1 -->\n<svg width=\"5573pt\" height=\"1101pt\"\n viewBox=\"0.00 0.00 5572.50 1101.00\" xmlns=\"http://www.w3.org/2000/svg\" xmlns:xlink=\"http://www.w3.org/1999/xlink\">\n<g id=\"graph0\" class=\"graph\" transform=\"scale(1 1) rotate(0) translate(4 1097)\">\n<title>Tree</title>\n<polygon fill=\"white\" stroke=\"transparent\" points=\"-4,4 -4,-1097 5568.5,-1097 5568.5,4 -4,4\"/>\n<!-- 0 -->\n<g id=\"node1\" class=\"node\">\n<title>0</title>\n<polygon fill=\"#f4c8a8\" stroke=\"black\" points=\"2196.5,-1093 2049.5,-1093 2049.5,-1025 2196.5,-1025 2196.5,-1093\"/>\n<text text-anchor=\"middle\" x=\"2123\" y=\"-1077.8\" font-family=\"Helvetica,sans-Serif\" font-size=\"14.00\">Glucose &lt;= 0.082</text>\n<text text-anchor=\"middle\" x=\"2123\" y=\"-1062.8\" font-family=\"Helvetica,sans-Serif\" font-size=\"14.00\">gini = 0.461</text>\n<text text-anchor=\"middle\" x=\"2123\" y=\"-1047.8\" font-family=\"Helvetica,sans-Serif\" font-size=\"14.00\">samples = 614</text>\n<text text-anchor=\"middle\" x=\"2123\" y=\"-1032.8\" font-family=\"Helvetica,sans-Serif\" font-size=\"14.00\">value = [393.0, 221.0]</text>\n</g>\n<!-- 1 -->\n<g id=\"node2\" class=\"node\">\n<title>1</title>\n<polygon fill=\"#eb9e66\" stroke=\"black\" points=\"1455.5,-989 1338.5,-989 1338.5,-921 1455.5,-921 1455.5,-989\"/>\n<text text-anchor=\"middle\" x=\"1397\" y=\"-973.8\" font-family=\"Helvetica,sans-Serif\" font-size=\"14.00\">Age &lt;= &#45;0.424</text>\n<text text-anchor=\"middle\" x=\"1397\" y=\"-958.8\" font-family=\"Helvetica,sans-Serif\" font-size=\"14.00\">gini = 0.301</text>\n<text text-anchor=\"middle\" x=\"1397\" y=\"-943.8\" font-family=\"Helvetica,sans-Serif\" font-size=\"14.00\">samples = 352</text>\n<text text-anchor=\"middle\" x=\"1397\" y=\"-928.8\" font-family=\"Helvetica,sans-Serif\" font-size=\"14.00\">value = [287, 65]</text>\n</g>\n<!-- 0&#45;&gt;1 -->\n<g id=\"edge1\" class=\"edge\">\n<title>0&#45;&gt;1</title>\n<path fill=\"none\" stroke=\"black\" d=\"M2049.39,-1047.66C1908.54,-1027.87 1602.73,-984.9 1465.76,-965.66\"/>\n<polygon fill=\"black\" stroke=\"black\" points=\"1466.19,-962.19 1455.8,-964.26 1465.22,-969.12 1466.19,-962.19\"/>\n<text text-anchor=\"middle\" x=\"1470.85\" y=\"-980.53\" font-family=\"Helvetica,sans-Serif\" font-size=\"14.00\">True</text>\n</g>\n<!-- 80 -->\n<g id=\"node81\" class=\"node\">\n<title>80</title>\n<polygon fill=\"#c0e0f7\" stroke=\"black\" points=\"2847.5,-989 2722.5,-989 2722.5,-921 2847.5,-921 2847.5,-989\"/>\n<text text-anchor=\"middle\" x=\"2785\" y=\"-973.8\" font-family=\"Helvetica,sans-Serif\" font-size=\"14.00\">BMI &lt;= &#45;0.273</text>\n<text text-anchor=\"middle\" x=\"2785\" y=\"-958.8\" font-family=\"Helvetica,sans-Serif\" font-size=\"14.00\">gini = 0.482</text>\n<text text-anchor=\"middle\" x=\"2785\" y=\"-943.8\" font-family=\"Helvetica,sans-Serif\" font-size=\"14.00\">samples = 262</text>\n<text text-anchor=\"middle\" x=\"2785\" y=\"-928.8\" font-family=\"Helvetica,sans-Serif\" font-size=\"14.00\">value = [106, 156]</text>\n</g>\n<!-- 0&#45;&gt;80 -->\n<g id=\"edge80\" class=\"edge\">\n<title>0&#45;&gt;80</title>\n<path fill=\"none\" stroke=\"black\" d=\"M2196.69,-1046.65C2324.34,-1026.98 2585.06,-986.81 2712.13,-967.23\"/>\n<polygon fill=\"black\" stroke=\"black\" points=\"2712.8,-970.67 2722.15,-965.68 2711.74,-963.75 2712.8,-970.67\"/>\n<text text-anchor=\"middle\" x=\"2707.37\" y=\"-982.15\" font-family=\"Helvetica,sans-Serif\" font-size=\"14.00\">False</text>\n</g>\n<!-- 2 -->\n<g id=\"node3\" class=\"node\">\n<title>2</title>\n<polygon fill=\"#e88d4c\" stroke=\"black\" points=\"751.5,-885 634.5,-885 634.5,-817 751.5,-817 751.5,-885\"/>\n<text text-anchor=\"middle\" x=\"693\" y=\"-869.8\" font-family=\"Helvetica,sans-Serif\" font-size=\"14.00\">BMI &lt;= &#45;0.159</text>\n<text text-anchor=\"middle\" x=\"693\" y=\"-854.8\" font-family=\"Helvetica,sans-Serif\" font-size=\"14.00\">gini = 0.162</text>\n<text text-anchor=\"middle\" x=\"693\" y=\"-839.8\" font-family=\"Helvetica,sans-Serif\" font-size=\"14.00\">samples = 202</text>\n<text text-anchor=\"middle\" x=\"693\" y=\"-824.8\" font-family=\"Helvetica,sans-Serif\" font-size=\"14.00\">value = [184, 18]</text>\n</g>\n<!-- 1&#45;&gt;2 -->\n<g id=\"edge2\" class=\"edge\">\n<title>1&#45;&gt;2</title>\n<path fill=\"none\" stroke=\"black\" d=\"M1338.49,-945.52C1209.25,-926.8 899.96,-881.99 761.76,-861.96\"/>\n<polygon fill=\"black\" stroke=\"black\" points=\"762.11,-858.48 751.71,-860.51 761.1,-865.4 762.11,-858.48\"/>\n</g>\n<!-- 35 -->\n<g id=\"node36\" class=\"node\">\n<title>35</title>\n<polygon fill=\"#f1ba93\" stroke=\"black\" points=\"1455.5,-885 1338.5,-885 1338.5,-817 1455.5,-817 1455.5,-885\"/>\n<text text-anchor=\"middle\" x=\"1397\" y=\"-869.8\" font-family=\"Helvetica,sans-Serif\" font-size=\"14.00\">BMI &lt;= &#45;0.741</text>\n<text text-anchor=\"middle\" x=\"1397\" y=\"-854.8\" font-family=\"Helvetica,sans-Serif\" font-size=\"14.00\">gini = 0.43</text>\n<text text-anchor=\"middle\" x=\"1397\" y=\"-839.8\" font-family=\"Helvetica,sans-Serif\" font-size=\"14.00\">samples = 150</text>\n<text text-anchor=\"middle\" x=\"1397\" y=\"-824.8\" font-family=\"Helvetica,sans-Serif\" font-size=\"14.00\">value = [103, 47]</text>\n</g>\n<!-- 1&#45;&gt;35 -->\n<g id=\"edge35\" class=\"edge\">\n<title>1&#45;&gt;35</title>\n<path fill=\"none\" stroke=\"black\" d=\"M1397,-920.88C1397,-912.78 1397,-903.98 1397,-895.47\"/>\n<polygon fill=\"black\" stroke=\"black\" points=\"1400.5,-895.3 1397,-885.3 1393.5,-895.3 1400.5,-895.3\"/>\n</g>\n<!-- 3 -->\n<g id=\"node4\" class=\"node\">\n<title>3</title>\n<polygon fill=\"#e5833d\" stroke=\"black\" points=\"459.5,-781 310.5,-781 310.5,-713 459.5,-713 459.5,-781\"/>\n<text text-anchor=\"middle\" x=\"385\" y=\"-765.8\" font-family=\"Helvetica,sans-Serif\" font-size=\"14.00\">Pregnancies &lt;= 0.908</text>\n<text text-anchor=\"middle\" x=\"385\" y=\"-750.8\" font-family=\"Helvetica,sans-Serif\" font-size=\"14.00\">gini = 0.036</text>\n<text text-anchor=\"middle\" x=\"385\" y=\"-735.8\" font-family=\"Helvetica,sans-Serif\" font-size=\"14.00\">samples = 110</text>\n<text text-anchor=\"middle\" x=\"385\" y=\"-720.8\" font-family=\"Helvetica,sans-Serif\" font-size=\"14.00\">value = [108, 2]</text>\n</g>\n<!-- 2&#45;&gt;3 -->\n<g id=\"edge3\" class=\"edge\">\n<title>2&#45;&gt;3</title>\n<path fill=\"none\" stroke=\"black\" d=\"M634.34,-830.57C587.6,-815.09 521.53,-793.21 469.14,-775.86\"/>\n<polygon fill=\"black\" stroke=\"black\" points=\"470.12,-772.5 459.53,-772.68 467.92,-779.15 470.12,-772.5\"/>\n</g>\n<!-- 10 -->\n<g id=\"node11\" class=\"node\">\n<title>10</title>\n<polygon fill=\"#ea9c63\" stroke=\"black\" points=\"776.5,-781 609.5,-781 609.5,-713 776.5,-713 776.5,-781\"/>\n<text text-anchor=\"middle\" x=\"693\" y=\"-765.8\" font-family=\"Helvetica,sans-Serif\" font-size=\"14.00\">BloodPressure &lt;= &#45;0.831</text>\n<text text-anchor=\"middle\" x=\"693\" y=\"-750.8\" font-family=\"Helvetica,sans-Serif\" font-size=\"14.00\">gini = 0.287</text>\n<text text-anchor=\"middle\" x=\"693\" y=\"-735.8\" font-family=\"Helvetica,sans-Serif\" font-size=\"14.00\">samples = 92</text>\n<text text-anchor=\"middle\" x=\"693\" y=\"-720.8\" font-family=\"Helvetica,sans-Serif\" font-size=\"14.00\">value = [76, 16]</text>\n</g>\n<!-- 2&#45;&gt;10 -->\n<g id=\"edge10\" class=\"edge\">\n<title>2&#45;&gt;10</title>\n<path fill=\"none\" stroke=\"black\" d=\"M693,-816.88C693,-808.78 693,-799.98 693,-791.47\"/>\n<polygon fill=\"black\" stroke=\"black\" points=\"696.5,-791.3 693,-781.3 689.5,-791.3 696.5,-791.3\"/>\n</g>\n<!-- 4 -->\n<g id=\"node5\" class=\"node\">\n<title>4</title>\n<polygon fill=\"#e5823b\" stroke=\"black\" points=\"319.5,-677 86.5,-677 86.5,-609 319.5,-609 319.5,-677\"/>\n<text text-anchor=\"middle\" x=\"203\" y=\"-661.8\" font-family=\"Helvetica,sans-Serif\" font-size=\"14.00\">DiabetesPedigreeFunction &lt;= 0.617</text>\n<text text-anchor=\"middle\" x=\"203\" y=\"-646.8\" font-family=\"Helvetica,sans-Serif\" font-size=\"14.00\">gini = 0.018</text>\n<text text-anchor=\"middle\" x=\"203\" y=\"-631.8\" font-family=\"Helvetica,sans-Serif\" font-size=\"14.00\">samples = 109</text>\n<text text-anchor=\"middle\" x=\"203\" y=\"-616.8\" font-family=\"Helvetica,sans-Serif\" font-size=\"14.00\">value = [108, 1]</text>\n</g>\n<!-- 3&#45;&gt;4 -->\n<g id=\"edge4\" class=\"edge\">\n<title>3&#45;&gt;4</title>\n<path fill=\"none\" stroke=\"black\" d=\"M325.91,-712.88C308.34,-703.04 288.95,-692.17 270.86,-682.03\"/>\n<polygon fill=\"black\" stroke=\"black\" points=\"272.54,-678.96 262.1,-677.12 269.12,-685.07 272.54,-678.96\"/>\n</g>\n<!-- 9 -->\n<g id=\"node10\" class=\"node\">\n<title>9</title>\n<polygon fill=\"#399de5\" stroke=\"black\" points=\"432.5,-669.5 337.5,-669.5 337.5,-616.5 432.5,-616.5 432.5,-669.5\"/>\n<text text-anchor=\"middle\" x=\"385\" y=\"-654.3\" font-family=\"Helvetica,sans-Serif\" font-size=\"14.00\">gini = 0.0</text>\n<text text-anchor=\"middle\" x=\"385\" y=\"-639.3\" font-family=\"Helvetica,sans-Serif\" font-size=\"14.00\">samples = 1</text>\n<text text-anchor=\"middle\" x=\"385\" y=\"-624.3\" font-family=\"Helvetica,sans-Serif\" font-size=\"14.00\">value = [0, 1]</text>\n</g>\n<!-- 3&#45;&gt;9 -->\n<g id=\"edge9\" class=\"edge\">\n<title>3&#45;&gt;9</title>\n<path fill=\"none\" stroke=\"black\" d=\"M385,-712.88C385,-702.33 385,-690.6 385,-679.85\"/>\n<polygon fill=\"black\" stroke=\"black\" points=\"388.5,-679.52 385,-669.52 381.5,-679.52 388.5,-679.52\"/>\n</g>\n<!-- 5 -->\n<g id=\"node6\" class=\"node\">\n<title>5</title>\n<polygon fill=\"#e58139\" stroke=\"black\" points=\"102,-565.5 0,-565.5 0,-512.5 102,-512.5 102,-565.5\"/>\n<text text-anchor=\"middle\" x=\"51\" y=\"-550.3\" font-family=\"Helvetica,sans-Serif\" font-size=\"14.00\">gini = 0.0</text>\n<text text-anchor=\"middle\" x=\"51\" y=\"-535.3\" font-family=\"Helvetica,sans-Serif\" font-size=\"14.00\">samples = 99</text>\n<text text-anchor=\"middle\" x=\"51\" y=\"-520.3\" font-family=\"Helvetica,sans-Serif\" font-size=\"14.00\">value = [99, 0]</text>\n</g>\n<!-- 4&#45;&gt;5 -->\n<g id=\"edge5\" class=\"edge\">\n<title>4&#45;&gt;5</title>\n<path fill=\"none\" stroke=\"black\" d=\"M153.65,-608.88C135.62,-596.79 115.3,-583.15 97.53,-571.22\"/>\n<polygon fill=\"black\" stroke=\"black\" points=\"99.28,-568.19 89.03,-565.52 95.38,-574 99.28,-568.19\"/>\n</g>\n<!-- 6 -->\n<g id=\"node7\" class=\"node\">\n<title>6</title>\n<polygon fill=\"#e88f4f\" stroke=\"black\" points=\"353.5,-573 120.5,-573 120.5,-505 353.5,-505 353.5,-573\"/>\n<text text-anchor=\"middle\" x=\"237\" y=\"-557.8\" font-family=\"Helvetica,sans-Serif\" font-size=\"14.00\">DiabetesPedigreeFunction &lt;= 0.694</text>\n<text text-anchor=\"middle\" x=\"237\" y=\"-542.8\" font-family=\"Helvetica,sans-Serif\" font-size=\"14.00\">gini = 0.18</text>\n<text text-anchor=\"middle\" x=\"237\" y=\"-527.8\" font-family=\"Helvetica,sans-Serif\" font-size=\"14.00\">samples = 10</text>\n<text text-anchor=\"middle\" x=\"237\" y=\"-512.8\" font-family=\"Helvetica,sans-Serif\" font-size=\"14.00\">value = [9, 1]</text>\n</g>\n<!-- 4&#45;&gt;6 -->\n<g id=\"edge6\" class=\"edge\">\n<title>4&#45;&gt;6</title>\n<path fill=\"none\" stroke=\"black\" d=\"M214.04,-608.88C216.8,-600.6 219.8,-591.6 222.7,-582.91\"/>\n<polygon fill=\"black\" stroke=\"black\" points=\"226.06,-583.89 225.9,-573.3 219.42,-581.68 226.06,-583.89\"/>\n</g>\n<!-- 7 -->\n<g id=\"node8\" class=\"node\">\n<title>7</title>\n<polygon fill=\"#399de5\" stroke=\"black\" points=\"228.5,-461.5 133.5,-461.5 133.5,-408.5 228.5,-408.5 228.5,-461.5\"/>\n<text text-anchor=\"middle\" x=\"181\" y=\"-446.3\" font-family=\"Helvetica,sans-Serif\" font-size=\"14.00\">gini = 0.0</text>\n<text text-anchor=\"middle\" x=\"181\" y=\"-431.3\" font-family=\"Helvetica,sans-Serif\" font-size=\"14.00\">samples = 1</text>\n<text text-anchor=\"middle\" x=\"181\" y=\"-416.3\" font-family=\"Helvetica,sans-Serif\" font-size=\"14.00\">value = [0, 1]</text>\n</g>\n<!-- 6&#45;&gt;7 -->\n<g id=\"edge7\" class=\"edge\">\n<title>6&#45;&gt;7</title>\n<path fill=\"none\" stroke=\"black\" d=\"M218.82,-504.88C212.78,-493.89 206.04,-481.62 199.95,-470.52\"/>\n<polygon fill=\"black\" stroke=\"black\" points=\"202.89,-468.6 195.01,-461.52 196.76,-471.97 202.89,-468.6\"/>\n</g>\n<!-- 8 -->\n<g id=\"node9\" class=\"node\">\n<title>8</title>\n<polygon fill=\"#e58139\" stroke=\"black\" points=\"341.5,-461.5 246.5,-461.5 246.5,-408.5 341.5,-408.5 341.5,-461.5\"/>\n<text text-anchor=\"middle\" x=\"294\" y=\"-446.3\" font-family=\"Helvetica,sans-Serif\" font-size=\"14.00\">gini = 0.0</text>\n<text text-anchor=\"middle\" x=\"294\" y=\"-431.3\" font-family=\"Helvetica,sans-Serif\" font-size=\"14.00\">samples = 9</text>\n<text text-anchor=\"middle\" x=\"294\" y=\"-416.3\" font-family=\"Helvetica,sans-Serif\" font-size=\"14.00\">value = [9, 0]</text>\n</g>\n<!-- 6&#45;&gt;8 -->\n<g id=\"edge8\" class=\"edge\">\n<title>6&#45;&gt;8</title>\n<path fill=\"none\" stroke=\"black\" d=\"M255.51,-504.88C261.65,-493.89 268.51,-481.62 274.71,-470.52\"/>\n<polygon fill=\"black\" stroke=\"black\" points=\"277.92,-471.96 279.74,-461.52 271.81,-468.54 277.92,-471.96\"/>\n</g>\n<!-- 11 -->\n<g id=\"node12\" class=\"node\">\n<title>11</title>\n<polygon fill=\"#9ccef2\" stroke=\"black\" points=\"683.5,-677 450.5,-677 450.5,-609 683.5,-609 683.5,-677\"/>\n<text text-anchor=\"middle\" x=\"567\" y=\"-661.8\" font-family=\"Helvetica,sans-Serif\" font-size=\"14.00\">DiabetesPedigreeFunction &lt;= 0.125</text>\n<text text-anchor=\"middle\" x=\"567\" y=\"-646.8\" font-family=\"Helvetica,sans-Serif\" font-size=\"14.00\">gini = 0.444</text>\n<text text-anchor=\"middle\" x=\"567\" y=\"-631.8\" font-family=\"Helvetica,sans-Serif\" font-size=\"14.00\">samples = 6</text>\n<text text-anchor=\"middle\" x=\"567\" y=\"-616.8\" font-family=\"Helvetica,sans-Serif\" font-size=\"14.00\">value = [2, 4]</text>\n</g>\n<!-- 10&#45;&gt;11 -->\n<g id=\"edge11\" class=\"edge\">\n<title>10&#45;&gt;11</title>\n<path fill=\"none\" stroke=\"black\" d=\"M652.09,-712.88C640.65,-703.62 628.09,-693.45 616.22,-683.85\"/>\n<polygon fill=\"black\" stroke=\"black\" points=\"618.11,-680.87 608.13,-677.3 613.7,-686.31 618.11,-680.87\"/>\n</g>\n<!-- 14 -->\n<g id=\"node15\" class=\"node\">\n<title>14</title>\n<polygon fill=\"#e99559\" stroke=\"black\" points=\"934.5,-677 701.5,-677 701.5,-609 934.5,-609 934.5,-677\"/>\n<text text-anchor=\"middle\" x=\"818\" y=\"-661.8\" font-family=\"Helvetica,sans-Serif\" font-size=\"14.00\">DiabetesPedigreeFunction &lt;= 2.418</text>\n<text text-anchor=\"middle\" x=\"818\" y=\"-646.8\" font-family=\"Helvetica,sans-Serif\" font-size=\"14.00\">gini = 0.24</text>\n<text text-anchor=\"middle\" x=\"818\" y=\"-631.8\" font-family=\"Helvetica,sans-Serif\" font-size=\"14.00\">samples = 86</text>\n<text text-anchor=\"middle\" x=\"818\" y=\"-616.8\" font-family=\"Helvetica,sans-Serif\" font-size=\"14.00\">value = [74, 12]</text>\n</g>\n<!-- 10&#45;&gt;14 -->\n<g id=\"edge14\" class=\"edge\">\n<title>10&#45;&gt;14</title>\n<path fill=\"none\" stroke=\"black\" d=\"M733.58,-712.88C744.94,-703.62 757.39,-693.45 769.17,-683.85\"/>\n<polygon fill=\"black\" stroke=\"black\" points=\"771.66,-686.33 777.19,-677.3 767.23,-680.91 771.66,-686.33\"/>\n</g>\n<!-- 12 -->\n<g id=\"node13\" class=\"node\">\n<title>12</title>\n<polygon fill=\"#399de5\" stroke=\"black\" points=\"501.5,-565.5 406.5,-565.5 406.5,-512.5 501.5,-512.5 501.5,-565.5\"/>\n<text text-anchor=\"middle\" x=\"454\" y=\"-550.3\" font-family=\"Helvetica,sans-Serif\" font-size=\"14.00\">gini = 0.0</text>\n<text text-anchor=\"middle\" x=\"454\" y=\"-535.3\" font-family=\"Helvetica,sans-Serif\" font-size=\"14.00\">samples = 4</text>\n<text text-anchor=\"middle\" x=\"454\" y=\"-520.3\" font-family=\"Helvetica,sans-Serif\" font-size=\"14.00\">value = [0, 4]</text>\n</g>\n<!-- 11&#45;&gt;12 -->\n<g id=\"edge12\" class=\"edge\">\n<title>11&#45;&gt;12</title>\n<path fill=\"none\" stroke=\"black\" d=\"M530.31,-608.88C517.4,-597.23 502.9,-584.14 490.04,-572.53\"/>\n<polygon fill=\"black\" stroke=\"black\" points=\"492.04,-569.62 482.27,-565.52 487.35,-574.82 492.04,-569.62\"/>\n</g>\n<!-- 13 -->\n<g id=\"node14\" class=\"node\">\n<title>13</title>\n<polygon fill=\"#e58139\" stroke=\"black\" points=\"614.5,-565.5 519.5,-565.5 519.5,-512.5 614.5,-512.5 614.5,-565.5\"/>\n<text text-anchor=\"middle\" x=\"567\" y=\"-550.3\" font-family=\"Helvetica,sans-Serif\" font-size=\"14.00\">gini = 0.0</text>\n<text text-anchor=\"middle\" x=\"567\" y=\"-535.3\" font-family=\"Helvetica,sans-Serif\" font-size=\"14.00\">samples = 2</text>\n<text text-anchor=\"middle\" x=\"567\" y=\"-520.3\" font-family=\"Helvetica,sans-Serif\" font-size=\"14.00\">value = [2, 0]</text>\n</g>\n<!-- 11&#45;&gt;13 -->\n<g id=\"edge13\" class=\"edge\">\n<title>11&#45;&gt;13</title>\n<path fill=\"none\" stroke=\"black\" d=\"M567,-608.88C567,-598.33 567,-586.6 567,-575.85\"/>\n<polygon fill=\"black\" stroke=\"black\" points=\"570.5,-575.52 567,-565.52 563.5,-575.52 570.5,-575.52\"/>\n</g>\n<!-- 15 -->\n<g id=\"node16\" class=\"node\">\n<title>15</title>\n<polygon fill=\"#e99456\" stroke=\"black\" points=\"865.5,-573 632.5,-573 632.5,-505 865.5,-505 865.5,-573\"/>\n<text text-anchor=\"middle\" x=\"749\" y=\"-557.8\" font-family=\"Helvetica,sans-Serif\" font-size=\"14.00\">DiabetesPedigreeFunction &lt;= 0.102</text>\n<text text-anchor=\"middle\" x=\"749\" y=\"-542.8\" font-family=\"Helvetica,sans-Serif\" font-size=\"14.00\">gini = 0.225</text>\n<text text-anchor=\"middle\" x=\"749\" y=\"-527.8\" font-family=\"Helvetica,sans-Serif\" font-size=\"14.00\">samples = 85</text>\n<text text-anchor=\"middle\" x=\"749\" y=\"-512.8\" font-family=\"Helvetica,sans-Serif\" font-size=\"14.00\">value = [74.0, 11.0]</text>\n</g>\n<!-- 14&#45;&gt;15 -->\n<g id=\"edge15\" class=\"edge\">\n<title>14&#45;&gt;15</title>\n<path fill=\"none\" stroke=\"black\" d=\"M795.6,-608.88C789.75,-600.24 783.38,-590.82 777.27,-581.79\"/>\n<polygon fill=\"black\" stroke=\"black\" points=\"780.03,-579.62 771.53,-573.3 774.23,-583.54 780.03,-579.62\"/>\n</g>\n<!-- 34 -->\n<g id=\"node35\" class=\"node\">\n<title>34</title>\n<polygon fill=\"#399de5\" stroke=\"black\" points=\"978.5,-565.5 883.5,-565.5 883.5,-512.5 978.5,-512.5 978.5,-565.5\"/>\n<text text-anchor=\"middle\" x=\"931\" y=\"-550.3\" font-family=\"Helvetica,sans-Serif\" font-size=\"14.00\">gini = 0.0</text>\n<text text-anchor=\"middle\" x=\"931\" y=\"-535.3\" font-family=\"Helvetica,sans-Serif\" font-size=\"14.00\">samples = 1</text>\n<text text-anchor=\"middle\" x=\"931\" y=\"-520.3\" font-family=\"Helvetica,sans-Serif\" font-size=\"14.00\">value = [0, 1]</text>\n</g>\n<!-- 14&#45;&gt;34 -->\n<g id=\"edge34\" class=\"edge\">\n<title>14&#45;&gt;34</title>\n<path fill=\"none\" stroke=\"black\" d=\"M854.69,-608.88C867.6,-597.23 882.1,-584.14 894.96,-572.53\"/>\n<polygon fill=\"black\" stroke=\"black\" points=\"897.65,-574.82 902.73,-565.52 892.96,-569.62 897.65,-574.82\"/>\n</g>\n<!-- 16 -->\n<g id=\"node17\" class=\"node\">\n<title>16</title>\n<polygon fill=\"#e78b49\" stroke=\"black\" points=\"591,-469 489,-469 489,-401 591,-401 591,-469\"/>\n<text text-anchor=\"middle\" x=\"540\" y=\"-453.8\" font-family=\"Helvetica,sans-Serif\" font-size=\"14.00\">BMI &lt;= 1.662</text>\n<text text-anchor=\"middle\" x=\"540\" y=\"-438.8\" font-family=\"Helvetica,sans-Serif\" font-size=\"14.00\">gini = 0.135</text>\n<text text-anchor=\"middle\" x=\"540\" y=\"-423.8\" font-family=\"Helvetica,sans-Serif\" font-size=\"14.00\">samples = 55</text>\n<text text-anchor=\"middle\" x=\"540\" y=\"-408.8\" font-family=\"Helvetica,sans-Serif\" font-size=\"14.00\">value = [51, 4]</text>\n</g>\n<!-- 15&#45;&gt;16 -->\n<g id=\"edge16\" class=\"edge\">\n<title>15&#45;&gt;16</title>\n<path fill=\"none\" stroke=\"black\" d=\"M681.14,-504.88C655.14,-492.19 625.66,-477.81 600.4,-465.48\"/>\n<polygon fill=\"black\" stroke=\"black\" points=\"601.82,-462.27 591.29,-461.03 598.75,-468.56 601.82,-462.27\"/>\n</g>\n<!-- 25 -->\n<g id=\"node26\" class=\"node\">\n<title>25</title>\n<polygon fill=\"#eda775\" stroke=\"black\" points=\"832.5,-469 665.5,-469 665.5,-401 832.5,-401 832.5,-469\"/>\n<text text-anchor=\"middle\" x=\"749\" y=\"-453.8\" font-family=\"Helvetica,sans-Serif\" font-size=\"14.00\">BloodPressure &lt;= &#45;0.012</text>\n<text text-anchor=\"middle\" x=\"749\" y=\"-438.8\" font-family=\"Helvetica,sans-Serif\" font-size=\"14.00\">gini = 0.358</text>\n<text text-anchor=\"middle\" x=\"749\" y=\"-423.8\" font-family=\"Helvetica,sans-Serif\" font-size=\"14.00\">samples = 30</text>\n<text text-anchor=\"middle\" x=\"749\" y=\"-408.8\" font-family=\"Helvetica,sans-Serif\" font-size=\"14.00\">value = [23, 7]</text>\n</g>\n<!-- 15&#45;&gt;25 -->\n<g id=\"edge25\" class=\"edge\">\n<title>15&#45;&gt;25</title>\n<path fill=\"none\" stroke=\"black\" d=\"M749,-504.88C749,-496.78 749,-487.98 749,-479.47\"/>\n<polygon fill=\"black\" stroke=\"black\" points=\"752.5,-479.3 749,-469.3 745.5,-479.3 752.5,-479.3\"/>\n</g>\n<!-- 17 -->\n<g id=\"node18\" class=\"node\">\n<title>17</title>\n<polygon fill=\"#e78845\" stroke=\"black\" points=\"474,-365 356,-365 356,-297 474,-297 474,-365\"/>\n<text text-anchor=\"middle\" x=\"415\" y=\"-349.8\" font-family=\"Helvetica,sans-Serif\" font-size=\"14.00\">Insulin &lt;= &#45;0.389</text>\n<text text-anchor=\"middle\" x=\"415\" y=\"-334.8\" font-family=\"Helvetica,sans-Serif\" font-size=\"14.00\">gini = 0.105</text>\n<text text-anchor=\"middle\" x=\"415\" y=\"-319.8\" font-family=\"Helvetica,sans-Serif\" font-size=\"14.00\">samples = 54</text>\n<text text-anchor=\"middle\" x=\"415\" y=\"-304.8\" font-family=\"Helvetica,sans-Serif\" font-size=\"14.00\">value = [51, 3]</text>\n</g>\n<!-- 16&#45;&gt;17 -->\n<g id=\"edge17\" class=\"edge\">\n<title>16&#45;&gt;17</title>\n<path fill=\"none\" stroke=\"black\" d=\"M499.42,-400.88C488.06,-391.62 475.61,-381.45 463.83,-371.85\"/>\n<polygon fill=\"black\" stroke=\"black\" points=\"465.77,-368.91 455.81,-365.3 461.34,-374.33 465.77,-368.91\"/>\n</g>\n<!-- 24 -->\n<g id=\"node25\" class=\"node\">\n<title>24</title>\n<polygon fill=\"#399de5\" stroke=\"black\" points=\"587.5,-357.5 492.5,-357.5 492.5,-304.5 587.5,-304.5 587.5,-357.5\"/>\n<text text-anchor=\"middle\" x=\"540\" y=\"-342.3\" font-family=\"Helvetica,sans-Serif\" font-size=\"14.00\">gini = 0.0</text>\n<text text-anchor=\"middle\" x=\"540\" y=\"-327.3\" font-family=\"Helvetica,sans-Serif\" font-size=\"14.00\">samples = 1</text>\n<text text-anchor=\"middle\" x=\"540\" y=\"-312.3\" font-family=\"Helvetica,sans-Serif\" font-size=\"14.00\">value = [0, 1]</text>\n</g>\n<!-- 16&#45;&gt;24 -->\n<g id=\"edge24\" class=\"edge\">\n<title>16&#45;&gt;24</title>\n<path fill=\"none\" stroke=\"black\" d=\"M540,-400.88C540,-390.33 540,-378.6 540,-367.85\"/>\n<polygon fill=\"black\" stroke=\"black\" points=\"543.5,-367.52 540,-357.52 536.5,-367.52 543.5,-367.52\"/>\n</g>\n<!-- 18 -->\n<g id=\"node19\" class=\"node\">\n<title>18</title>\n<polygon fill=\"#ea995e\" stroke=\"black\" points=\"369,-261 259,-261 259,-193 369,-193 369,-261\"/>\n<text text-anchor=\"middle\" x=\"314\" y=\"-245.8\" font-family=\"Helvetica,sans-Serif\" font-size=\"14.00\">Insulin &lt;= &#45;0.41</text>\n<text text-anchor=\"middle\" x=\"314\" y=\"-230.8\" font-family=\"Helvetica,sans-Serif\" font-size=\"14.00\">gini = 0.266</text>\n<text text-anchor=\"middle\" x=\"314\" y=\"-215.8\" font-family=\"Helvetica,sans-Serif\" font-size=\"14.00\">samples = 19</text>\n<text text-anchor=\"middle\" x=\"314\" y=\"-200.8\" font-family=\"Helvetica,sans-Serif\" font-size=\"14.00\">value = [16, 3]</text>\n</g>\n<!-- 17&#45;&gt;18 -->\n<g id=\"edge18\" class=\"edge\">\n<title>17&#45;&gt;18</title>\n<path fill=\"none\" stroke=\"black\" d=\"M382.21,-296.88C373.3,-287.89 363.55,-278.04 354.28,-268.68\"/>\n<polygon fill=\"black\" stroke=\"black\" points=\"356.5,-265.94 346.97,-261.3 351.52,-270.87 356.5,-265.94\"/>\n</g>\n<!-- 23 -->\n<g id=\"node24\" class=\"node\">\n<title>23</title>\n<polygon fill=\"#e58139\" stroke=\"black\" points=\"489,-253.5 387,-253.5 387,-200.5 489,-200.5 489,-253.5\"/>\n<text text-anchor=\"middle\" x=\"438\" y=\"-238.3\" font-family=\"Helvetica,sans-Serif\" font-size=\"14.00\">gini = 0.0</text>\n<text text-anchor=\"middle\" x=\"438\" y=\"-223.3\" font-family=\"Helvetica,sans-Serif\" font-size=\"14.00\">samples = 35</text>\n<text text-anchor=\"middle\" x=\"438\" y=\"-208.3\" font-family=\"Helvetica,sans-Serif\" font-size=\"14.00\">value = [35, 0]</text>\n</g>\n<!-- 17&#45;&gt;23 -->\n<g id=\"edge23\" class=\"edge\">\n<title>17&#45;&gt;23</title>\n<path fill=\"none\" stroke=\"black\" d=\"M422.47,-296.88C424.87,-286.22 427.55,-274.35 429.99,-263.52\"/>\n<polygon fill=\"black\" stroke=\"black\" points=\"433.46,-264.04 432.25,-253.52 426.63,-262.51 433.46,-264.04\"/>\n</g>\n<!-- 19 -->\n<g id=\"node20\" class=\"node\">\n<title>19</title>\n<polygon fill=\"#e89152\" stroke=\"black\" points=\"307,-157 205,-157 205,-89 307,-89 307,-157\"/>\n<text text-anchor=\"middle\" x=\"256\" y=\"-141.8\" font-family=\"Helvetica,sans-Serif\" font-size=\"14.00\">BMI &lt;= 0.195</text>\n<text text-anchor=\"middle\" x=\"256\" y=\"-126.8\" font-family=\"Helvetica,sans-Serif\" font-size=\"14.00\">gini = 0.198</text>\n<text text-anchor=\"middle\" x=\"256\" y=\"-111.8\" font-family=\"Helvetica,sans-Serif\" font-size=\"14.00\">samples = 18</text>\n<text text-anchor=\"middle\" x=\"256\" y=\"-96.8\" font-family=\"Helvetica,sans-Serif\" font-size=\"14.00\">value = [16, 2]</text>\n</g>\n<!-- 18&#45;&gt;19 -->\n<g id=\"edge19\" class=\"edge\">\n<title>18&#45;&gt;19</title>\n<path fill=\"none\" stroke=\"black\" d=\"M295.17,-192.88C290.31,-184.33 285.01,-175.01 279.92,-166.07\"/>\n<polygon fill=\"black\" stroke=\"black\" points=\"282.92,-164.26 274.93,-157.3 276.84,-167.72 282.92,-164.26\"/>\n</g>\n<!-- 22 -->\n<g id=\"node23\" class=\"node\">\n<title>22</title>\n<polygon fill=\"#399de5\" stroke=\"black\" points=\"420.5,-149.5 325.5,-149.5 325.5,-96.5 420.5,-96.5 420.5,-149.5\"/>\n<text text-anchor=\"middle\" x=\"373\" y=\"-134.3\" font-family=\"Helvetica,sans-Serif\" font-size=\"14.00\">gini = 0.0</text>\n<text text-anchor=\"middle\" x=\"373\" y=\"-119.3\" font-family=\"Helvetica,sans-Serif\" font-size=\"14.00\">samples = 1</text>\n<text text-anchor=\"middle\" x=\"373\" y=\"-104.3\" font-family=\"Helvetica,sans-Serif\" font-size=\"14.00\">value = [0, 1]</text>\n</g>\n<!-- 18&#45;&gt;22 -->\n<g id=\"edge22\" class=\"edge\">\n<title>18&#45;&gt;22</title>\n<path fill=\"none\" stroke=\"black\" d=\"M333.16,-192.88C339.58,-181.78 346.76,-169.37 353.23,-158.18\"/>\n<polygon fill=\"black\" stroke=\"black\" points=\"356.26,-159.93 358.24,-149.52 350.2,-156.42 356.26,-159.93\"/>\n</g>\n<!-- 20 -->\n<g id=\"node21\" class=\"node\">\n<title>20</title>\n<polygon fill=\"#f6d5bd\" stroke=\"black\" points=\"245.5,-53 150.5,-53 150.5,0 245.5,0 245.5,-53\"/>\n<text text-anchor=\"middle\" x=\"198\" y=\"-37.8\" font-family=\"Helvetica,sans-Serif\" font-size=\"14.00\">gini = 0.48</text>\n<text text-anchor=\"middle\" x=\"198\" y=\"-22.8\" font-family=\"Helvetica,sans-Serif\" font-size=\"14.00\">samples = 5</text>\n<text text-anchor=\"middle\" x=\"198\" y=\"-7.8\" font-family=\"Helvetica,sans-Serif\" font-size=\"14.00\">value = [3, 2]</text>\n</g>\n<!-- 19&#45;&gt;20 -->\n<g id=\"edge20\" class=\"edge\">\n<title>19&#45;&gt;20</title>\n<path fill=\"none\" stroke=\"black\" d=\"M235.71,-88.95C230.32,-80.17 224.49,-70.66 219.06,-61.82\"/>\n<polygon fill=\"black\" stroke=\"black\" points=\"222.01,-59.93 213.8,-53.24 216.04,-63.59 222.01,-59.93\"/>\n</g>\n<!-- 21 -->\n<g id=\"node22\" class=\"node\">\n<title>21</title>\n<polygon fill=\"#e58139\" stroke=\"black\" points=\"366,-53 264,-53 264,0 366,0 366,-53\"/>\n<text text-anchor=\"middle\" x=\"315\" y=\"-37.8\" font-family=\"Helvetica,sans-Serif\" font-size=\"14.00\">gini = 0.0</text>\n<text text-anchor=\"middle\" x=\"315\" y=\"-22.8\" font-family=\"Helvetica,sans-Serif\" font-size=\"14.00\">samples = 13</text>\n<text text-anchor=\"middle\" x=\"315\" y=\"-7.8\" font-family=\"Helvetica,sans-Serif\" font-size=\"14.00\">value = [13, 0]</text>\n</g>\n<!-- 19&#45;&gt;21 -->\n<g id=\"edge21\" class=\"edge\">\n<title>19&#45;&gt;21</title>\n<path fill=\"none\" stroke=\"black\" d=\"M276.64,-88.95C282.12,-80.17 288.05,-70.66 293.58,-61.82\"/>\n<polygon fill=\"black\" stroke=\"black\" points=\"296.6,-63.57 298.93,-53.24 290.67,-59.87 296.6,-63.57\"/>\n</g>\n<!-- 26 -->\n<g id=\"node27\" class=\"node\">\n<title>26</title>\n<polygon fill=\"#f9e3d3\" stroke=\"black\" points=\"734.5,-365 605.5,-365 605.5,-297 734.5,-297 734.5,-365\"/>\n<text text-anchor=\"middle\" x=\"670\" y=\"-349.8\" font-family=\"Helvetica,sans-Serif\" font-size=\"14.00\">Glucose &lt;= &#45;1.019</text>\n<text text-anchor=\"middle\" x=\"670\" y=\"-334.8\" font-family=\"Helvetica,sans-Serif\" font-size=\"14.00\">gini = 0.492</text>\n<text text-anchor=\"middle\" x=\"670\" y=\"-319.8\" font-family=\"Helvetica,sans-Serif\" font-size=\"14.00\">samples = 16</text>\n<text text-anchor=\"middle\" x=\"670\" y=\"-304.8\" font-family=\"Helvetica,sans-Serif\" font-size=\"14.00\">value = [9, 7]</text>\n</g>\n<!-- 25&#45;&gt;26 -->\n<g id=\"edge26\" class=\"edge\">\n<title>25&#45;&gt;26</title>\n<path fill=\"none\" stroke=\"black\" d=\"M723.35,-400.88C716.52,-392.07 709.06,-382.43 701.94,-373.24\"/>\n<polygon fill=\"black\" stroke=\"black\" points=\"704.68,-371.06 695.79,-365.3 699.15,-375.35 704.68,-371.06\"/>\n</g>\n<!-- 33 -->\n<g id=\"node34\" class=\"node\">\n<title>33</title>\n<polygon fill=\"#e58139\" stroke=\"black\" points=\"855,-357.5 753,-357.5 753,-304.5 855,-304.5 855,-357.5\"/>\n<text text-anchor=\"middle\" x=\"804\" y=\"-342.3\" font-family=\"Helvetica,sans-Serif\" font-size=\"14.00\">gini = 0.0</text>\n<text text-anchor=\"middle\" x=\"804\" y=\"-327.3\" font-family=\"Helvetica,sans-Serif\" font-size=\"14.00\">samples = 14</text>\n<text text-anchor=\"middle\" x=\"804\" y=\"-312.3\" font-family=\"Helvetica,sans-Serif\" font-size=\"14.00\">value = [14, 0]</text>\n</g>\n<!-- 25&#45;&gt;33 -->\n<g id=\"edge33\" class=\"edge\">\n<title>25&#45;&gt;33</title>\n<path fill=\"none\" stroke=\"black\" d=\"M766.86,-400.88C772.79,-389.89 779.4,-377.62 785.39,-366.52\"/>\n<polygon fill=\"black\" stroke=\"black\" points=\"788.57,-367.98 790.24,-357.52 782.41,-364.66 788.57,-367.98\"/>\n</g>\n<!-- 27 -->\n<g id=\"node28\" class=\"node\">\n<title>27</title>\n<polygon fill=\"#e58139\" stroke=\"black\" points=\"622.5,-253.5 527.5,-253.5 527.5,-200.5 622.5,-200.5 622.5,-253.5\"/>\n<text text-anchor=\"middle\" x=\"575\" y=\"-238.3\" font-family=\"Helvetica,sans-Serif\" font-size=\"14.00\">gini = 0.0</text>\n<text text-anchor=\"middle\" x=\"575\" y=\"-223.3\" font-family=\"Helvetica,sans-Serif\" font-size=\"14.00\">samples = 7</text>\n<text text-anchor=\"middle\" x=\"575\" y=\"-208.3\" font-family=\"Helvetica,sans-Serif\" font-size=\"14.00\">value = [7, 0]</text>\n</g>\n<!-- 26&#45;&gt;27 -->\n<g id=\"edge27\" class=\"edge\">\n<title>26&#45;&gt;27</title>\n<path fill=\"none\" stroke=\"black\" d=\"M639.16,-296.88C628.4,-285.34 616.34,-272.39 605.61,-260.86\"/>\n<polygon fill=\"black\" stroke=\"black\" points=\"608.15,-258.45 598.77,-253.52 603.02,-263.22 608.15,-258.45\"/>\n</g>\n<!-- 28 -->\n<g id=\"node29\" class=\"node\">\n<title>28</title>\n<polygon fill=\"#72b9ec\" stroke=\"black\" points=\"873.5,-261 640.5,-261 640.5,-193 873.5,-193 873.5,-261\"/>\n<text text-anchor=\"middle\" x=\"757\" y=\"-245.8\" font-family=\"Helvetica,sans-Serif\" font-size=\"14.00\">DiabetesPedigreeFunction &lt;= 1.326</text>\n<text text-anchor=\"middle\" x=\"757\" y=\"-230.8\" font-family=\"Helvetica,sans-Serif\" font-size=\"14.00\">gini = 0.346</text>\n<text text-anchor=\"middle\" x=\"757\" y=\"-215.8\" font-family=\"Helvetica,sans-Serif\" font-size=\"14.00\">samples = 9</text>\n<text text-anchor=\"middle\" x=\"757\" y=\"-200.8\" font-family=\"Helvetica,sans-Serif\" font-size=\"14.00\">value = [2, 7]</text>\n</g>\n<!-- 26&#45;&gt;28 -->\n<g id=\"edge28\" class=\"edge\">\n<title>26&#45;&gt;28</title>\n<path fill=\"none\" stroke=\"black\" d=\"M698.25,-296.88C705.84,-287.98 714.15,-278.24 722.07,-268.96\"/>\n<polygon fill=\"black\" stroke=\"black\" points=\"724.77,-271.18 728.6,-261.3 719.45,-266.64 724.77,-271.18\"/>\n</g>\n<!-- 29 -->\n<g id=\"node30\" class=\"node\">\n<title>29</title>\n<polygon fill=\"#55abe9\" stroke=\"black\" points=\"748.5,-157 619.5,-157 619.5,-89 748.5,-89 748.5,-157\"/>\n<text text-anchor=\"middle\" x=\"684\" y=\"-141.8\" font-family=\"Helvetica,sans-Serif\" font-size=\"14.00\">Glucose &lt;= &#45;0.705</text>\n<text text-anchor=\"middle\" x=\"684\" y=\"-126.8\" font-family=\"Helvetica,sans-Serif\" font-size=\"14.00\">gini = 0.219</text>\n<text text-anchor=\"middle\" x=\"684\" y=\"-111.8\" font-family=\"Helvetica,sans-Serif\" font-size=\"14.00\">samples = 8</text>\n<text text-anchor=\"middle\" x=\"684\" y=\"-96.8\" font-family=\"Helvetica,sans-Serif\" font-size=\"14.00\">value = [1, 7]</text>\n</g>\n<!-- 28&#45;&gt;29 -->\n<g id=\"edge29\" class=\"edge\">\n<title>28&#45;&gt;29</title>\n<path fill=\"none\" stroke=\"black\" d=\"M733.3,-192.88C727.05,-184.15 720.23,-174.62 713.71,-165.51\"/>\n<polygon fill=\"black\" stroke=\"black\" points=\"716.5,-163.39 707.83,-157.3 710.81,-167.47 716.5,-163.39\"/>\n</g>\n<!-- 32 -->\n<g id=\"node33\" class=\"node\">\n<title>32</title>\n<polygon fill=\"#e58139\" stroke=\"black\" points=\"861.5,-149.5 766.5,-149.5 766.5,-96.5 861.5,-96.5 861.5,-149.5\"/>\n<text text-anchor=\"middle\" x=\"814\" y=\"-134.3\" font-family=\"Helvetica,sans-Serif\" font-size=\"14.00\">gini = 0.0</text>\n<text text-anchor=\"middle\" x=\"814\" y=\"-119.3\" font-family=\"Helvetica,sans-Serif\" font-size=\"14.00\">samples = 1</text>\n<text text-anchor=\"middle\" x=\"814\" y=\"-104.3\" font-family=\"Helvetica,sans-Serif\" font-size=\"14.00\">value = [1, 0]</text>\n</g>\n<!-- 28&#45;&gt;32 -->\n<g id=\"edge32\" class=\"edge\">\n<title>28&#45;&gt;32</title>\n<path fill=\"none\" stroke=\"black\" d=\"M775.51,-192.88C781.65,-181.89 788.51,-169.62 794.71,-158.52\"/>\n<polygon fill=\"black\" stroke=\"black\" points=\"797.92,-159.96 799.74,-149.52 791.81,-156.54 797.92,-159.96\"/>\n</g>\n<!-- 30 -->\n<g id=\"node31\" class=\"node\">\n<title>30</title>\n<polygon fill=\"#9ccef2\" stroke=\"black\" points=\"675.5,-53 580.5,-53 580.5,0 675.5,0 675.5,-53\"/>\n<text text-anchor=\"middle\" x=\"628\" y=\"-37.8\" font-family=\"Helvetica,sans-Serif\" font-size=\"14.00\">gini = 0.444</text>\n<text text-anchor=\"middle\" x=\"628\" y=\"-22.8\" font-family=\"Helvetica,sans-Serif\" font-size=\"14.00\">samples = 3</text>\n<text text-anchor=\"middle\" x=\"628\" y=\"-7.8\" font-family=\"Helvetica,sans-Serif\" font-size=\"14.00\">value = [1, 2]</text>\n</g>\n<!-- 29&#45;&gt;30 -->\n<g id=\"edge30\" class=\"edge\">\n<title>29&#45;&gt;30</title>\n<path fill=\"none\" stroke=\"black\" d=\"M664.41,-88.95C659.26,-80.26 653.7,-70.86 648.5,-62.09\"/>\n<polygon fill=\"black\" stroke=\"black\" points=\"651.36,-60.06 643.25,-53.24 645.34,-63.62 651.36,-60.06\"/>\n</g>\n<!-- 31 -->\n<g id=\"node32\" class=\"node\">\n<title>31</title>\n<polygon fill=\"#399de5\" stroke=\"black\" points=\"788.5,-53 693.5,-53 693.5,0 788.5,0 788.5,-53\"/>\n<text text-anchor=\"middle\" x=\"741\" y=\"-37.8\" font-family=\"Helvetica,sans-Serif\" font-size=\"14.00\">gini = 0.0</text>\n<text text-anchor=\"middle\" x=\"741\" y=\"-22.8\" font-family=\"Helvetica,sans-Serif\" font-size=\"14.00\">samples = 5</text>\n<text text-anchor=\"middle\" x=\"741\" y=\"-7.8\" font-family=\"Helvetica,sans-Serif\" font-size=\"14.00\">value = [0, 5]</text>\n</g>\n<!-- 29&#45;&gt;31 -->\n<g id=\"edge31\" class=\"edge\">\n<title>29&#45;&gt;31</title>\n<path fill=\"none\" stroke=\"black\" d=\"M703.94,-88.95C709.23,-80.17 714.97,-70.66 720.3,-61.82\"/>\n<polygon fill=\"black\" stroke=\"black\" points=\"723.31,-63.61 725.48,-53.24 717.31,-59.99 723.31,-63.61\"/>\n</g>\n<!-- 36 -->\n<g id=\"node37\" class=\"node\">\n<title>36</title>\n<polygon fill=\"#e58139\" stroke=\"black\" points=\"1381,-773.5 1279,-773.5 1279,-720.5 1381,-720.5 1381,-773.5\"/>\n<text text-anchor=\"middle\" x=\"1330\" y=\"-758.3\" font-family=\"Helvetica,sans-Serif\" font-size=\"14.00\">gini = 0.0</text>\n<text text-anchor=\"middle\" x=\"1330\" y=\"-743.3\" font-family=\"Helvetica,sans-Serif\" font-size=\"14.00\">samples = 29</text>\n<text text-anchor=\"middle\" x=\"1330\" y=\"-728.3\" font-family=\"Helvetica,sans-Serif\" font-size=\"14.00\">value = [29, 0]</text>\n</g>\n<!-- 35&#45;&gt;36 -->\n<g id=\"edge36\" class=\"edge\">\n<title>35&#45;&gt;36</title>\n<path fill=\"none\" stroke=\"black\" d=\"M1375.25,-816.88C1367.95,-805.78 1359.8,-793.37 1352.45,-782.18\"/>\n<polygon fill=\"black\" stroke=\"black\" points=\"1355.18,-779.96 1346.76,-773.52 1349.33,-783.8 1355.18,-779.96\"/>\n</g>\n<!-- 37 -->\n<g id=\"node38\" class=\"node\">\n<title>37</title>\n<polygon fill=\"#f6d1b7\" stroke=\"black\" points=\"1528.5,-781 1399.5,-781 1399.5,-713 1528.5,-713 1528.5,-781\"/>\n<text text-anchor=\"middle\" x=\"1464\" y=\"-765.8\" font-family=\"Helvetica,sans-Serif\" font-size=\"14.00\">Glucose &lt;= &#45;0.673</text>\n<text text-anchor=\"middle\" x=\"1464\" y=\"-750.8\" font-family=\"Helvetica,sans-Serif\" font-size=\"14.00\">gini = 0.475</text>\n<text text-anchor=\"middle\" x=\"1464\" y=\"-735.8\" font-family=\"Helvetica,sans-Serif\" font-size=\"14.00\">samples = 121</text>\n<text text-anchor=\"middle\" x=\"1464\" y=\"-720.8\" font-family=\"Helvetica,sans-Serif\" font-size=\"14.00\">value = [74, 47]</text>\n</g>\n<!-- 35&#45;&gt;37 -->\n<g id=\"edge37\" class=\"edge\">\n<title>35&#45;&gt;37</title>\n<path fill=\"none\" stroke=\"black\" d=\"M1418.75,-816.88C1424.43,-808.24 1430.62,-798.82 1436.55,-789.79\"/>\n<polygon fill=\"black\" stroke=\"black\" points=\"1439.56,-791.58 1442.13,-781.3 1433.71,-787.74 1439.56,-791.58\"/>\n</g>\n<!-- 38 -->\n<g id=\"node39\" class=\"node\">\n<title>38</title>\n<polygon fill=\"#eca36f\" stroke=\"black\" points=\"1457.5,-677 1328.5,-677 1328.5,-609 1457.5,-609 1457.5,-677\"/>\n<text text-anchor=\"middle\" x=\"1393\" y=\"-661.8\" font-family=\"Helvetica,sans-Serif\" font-size=\"14.00\">Glucose &lt;= &#45;2.907</text>\n<text text-anchor=\"middle\" x=\"1393\" y=\"-646.8\" font-family=\"Helvetica,sans-Serif\" font-size=\"14.00\">gini = 0.337</text>\n<text text-anchor=\"middle\" x=\"1393\" y=\"-631.8\" font-family=\"Helvetica,sans-Serif\" font-size=\"14.00\">samples = 42</text>\n<text text-anchor=\"middle\" x=\"1393\" y=\"-616.8\" font-family=\"Helvetica,sans-Serif\" font-size=\"14.00\">value = [33, 9]</text>\n</g>\n<!-- 37&#45;&gt;38 -->\n<g id=\"edge38\" class=\"edge\">\n<title>37&#45;&gt;38</title>\n<path fill=\"none\" stroke=\"black\" d=\"M1440.95,-712.88C1434.87,-704.15 1428.24,-694.62 1421.9,-685.51\"/>\n<polygon fill=\"black\" stroke=\"black\" points=\"1424.76,-683.51 1416.18,-677.3 1419.02,-687.51 1424.76,-683.51\"/>\n</g>\n<!-- 55 -->\n<g id=\"node56\" class=\"node\">\n<title>55</title>\n<polygon fill=\"#fdf6f1\" stroke=\"black\" points=\"1590,-677 1480,-677 1480,-609 1590,-609 1590,-677\"/>\n<text text-anchor=\"middle\" x=\"1535\" y=\"-661.8\" font-family=\"Helvetica,sans-Serif\" font-size=\"14.00\">BMI &lt;= &#45;0.589</text>\n<text text-anchor=\"middle\" x=\"1535\" y=\"-646.8\" font-family=\"Helvetica,sans-Serif\" font-size=\"14.00\">gini = 0.499</text>\n<text text-anchor=\"middle\" x=\"1535\" y=\"-631.8\" font-family=\"Helvetica,sans-Serif\" font-size=\"14.00\">samples = 79</text>\n<text text-anchor=\"middle\" x=\"1535\" y=\"-616.8\" font-family=\"Helvetica,sans-Serif\" font-size=\"14.00\">value = [41, 38]</text>\n</g>\n<!-- 37&#45;&gt;55 -->\n<g id=\"edge55\" class=\"edge\">\n<title>37&#45;&gt;55</title>\n<path fill=\"none\" stroke=\"black\" d=\"M1487.05,-712.88C1493.13,-704.15 1499.76,-694.62 1506.1,-685.51\"/>\n<polygon fill=\"black\" stroke=\"black\" points=\"1508.98,-687.51 1511.82,-677.3 1503.24,-683.51 1508.98,-687.51\"/>\n</g>\n<!-- 39 -->\n<g id=\"node40\" class=\"node\">\n<title>39</title>\n<polygon fill=\"#399de5\" stroke=\"black\" points=\"1323.5,-565.5 1228.5,-565.5 1228.5,-512.5 1323.5,-512.5 1323.5,-565.5\"/>\n<text text-anchor=\"middle\" x=\"1276\" y=\"-550.3\" font-family=\"Helvetica,sans-Serif\" font-size=\"14.00\">gini = 0.0</text>\n<text text-anchor=\"middle\" x=\"1276\" y=\"-535.3\" font-family=\"Helvetica,sans-Serif\" font-size=\"14.00\">samples = 2</text>\n<text text-anchor=\"middle\" x=\"1276\" y=\"-520.3\" font-family=\"Helvetica,sans-Serif\" font-size=\"14.00\">value = [0, 2]</text>\n</g>\n<!-- 38&#45;&gt;39 -->\n<g id=\"edge39\" class=\"edge\">\n<title>38&#45;&gt;39</title>\n<path fill=\"none\" stroke=\"black\" d=\"M1355.01,-608.88C1341.52,-597.12 1326.35,-583.89 1312.94,-572.2\"/>\n<polygon fill=\"black\" stroke=\"black\" points=\"1315.11,-569.45 1305.27,-565.52 1310.51,-574.73 1315.11,-569.45\"/>\n</g>\n<!-- 40 -->\n<g id=\"node41\" class=\"node\">\n<title>40</title>\n<polygon fill=\"#eb9c63\" stroke=\"black\" points=\"1444,-573 1342,-573 1342,-505 1444,-505 1444,-573\"/>\n<text text-anchor=\"middle\" x=\"1393\" y=\"-557.8\" font-family=\"Helvetica,sans-Serif\" font-size=\"14.00\">Age &lt;= 0.742</text>\n<text text-anchor=\"middle\" x=\"1393\" y=\"-542.8\" font-family=\"Helvetica,sans-Serif\" font-size=\"14.00\">gini = 0.289</text>\n<text text-anchor=\"middle\" x=\"1393\" y=\"-527.8\" font-family=\"Helvetica,sans-Serif\" font-size=\"14.00\">samples = 40</text>\n<text text-anchor=\"middle\" x=\"1393\" y=\"-512.8\" font-family=\"Helvetica,sans-Serif\" font-size=\"14.00\">value = [33, 7]</text>\n</g>\n<!-- 38&#45;&gt;40 -->\n<g id=\"edge40\" class=\"edge\">\n<title>38&#45;&gt;40</title>\n<path fill=\"none\" stroke=\"black\" d=\"M1393,-608.88C1393,-600.78 1393,-591.98 1393,-583.47\"/>\n<polygon fill=\"black\" stroke=\"black\" points=\"1396.5,-583.3 1393,-573.3 1389.5,-583.3 1396.5,-583.3\"/>\n</g>\n<!-- 41 -->\n<g id=\"node42\" class=\"node\">\n<title>41</title>\n<polygon fill=\"#e78b49\" stroke=\"black\" points=\"1293.5,-469 1060.5,-469 1060.5,-401 1293.5,-401 1293.5,-469\"/>\n<text text-anchor=\"middle\" x=\"1177\" y=\"-453.8\" font-family=\"Helvetica,sans-Serif\" font-size=\"14.00\">DiabetesPedigreeFunction &lt;= 2.083</text>\n<text text-anchor=\"middle\" x=\"1177\" y=\"-438.8\" font-family=\"Helvetica,sans-Serif\" font-size=\"14.00\">gini = 0.137</text>\n<text text-anchor=\"middle\" x=\"1177\" y=\"-423.8\" font-family=\"Helvetica,sans-Serif\" font-size=\"14.00\">samples = 27</text>\n<text text-anchor=\"middle\" x=\"1177\" y=\"-408.8\" font-family=\"Helvetica,sans-Serif\" font-size=\"14.00\">value = [25, 2]</text>\n</g>\n<!-- 40&#45;&gt;41 -->\n<g id=\"edge41\" class=\"edge\">\n<title>40&#45;&gt;41</title>\n<path fill=\"none\" stroke=\"black\" d=\"M1341.89,-509.98C1338.56,-508.27 1335.24,-506.6 1332,-505 1310.05,-494.2 1286.03,-483.14 1263.59,-473.13\"/>\n<polygon fill=\"black\" stroke=\"black\" points=\"1264.97,-469.92 1254.41,-469.06 1262.13,-476.32 1264.97,-469.92\"/>\n</g>\n<!-- 48 -->\n<g id=\"node49\" class=\"node\">\n<title>48</title>\n<polygon fill=\"#f5d0b5\" stroke=\"black\" points=\"1445,-469 1341,-469 1341,-401 1445,-401 1445,-469\"/>\n<text text-anchor=\"middle\" x=\"1393\" y=\"-453.8\" font-family=\"Helvetica,sans-Serif\" font-size=\"14.00\">BMI &lt;= &#45;0.172</text>\n<text text-anchor=\"middle\" x=\"1393\" y=\"-438.8\" font-family=\"Helvetica,sans-Serif\" font-size=\"14.00\">gini = 0.473</text>\n<text text-anchor=\"middle\" x=\"1393\" y=\"-423.8\" font-family=\"Helvetica,sans-Serif\" font-size=\"14.00\">samples = 13</text>\n<text text-anchor=\"middle\" x=\"1393\" y=\"-408.8\" font-family=\"Helvetica,sans-Serif\" font-size=\"14.00\">value = [8, 5]</text>\n</g>\n<!-- 40&#45;&gt;48 -->\n<g id=\"edge48\" class=\"edge\">\n<title>40&#45;&gt;48</title>\n<path fill=\"none\" stroke=\"black\" d=\"M1393,-504.88C1393,-496.78 1393,-487.98 1393,-479.47\"/>\n<polygon fill=\"black\" stroke=\"black\" points=\"1396.5,-479.3 1393,-469.3 1389.5,-479.3 1396.5,-479.3\"/>\n</g>\n<!-- 42 -->\n<g id=\"node43\" class=\"node\">\n<title>42</title>\n<polygon fill=\"#e68641\" stroke=\"black\" points=\"1111,-365 873,-365 873,-297 1111,-297 1111,-365\"/>\n<text text-anchor=\"middle\" x=\"992\" y=\"-349.8\" font-family=\"Helvetica,sans-Serif\" font-size=\"14.00\">DiabetesPedigreeFunction &lt;= &#45;0.889</text>\n<text text-anchor=\"middle\" x=\"992\" y=\"-334.8\" font-family=\"Helvetica,sans-Serif\" font-size=\"14.00\">gini = 0.074</text>\n<text text-anchor=\"middle\" x=\"992\" y=\"-319.8\" font-family=\"Helvetica,sans-Serif\" font-size=\"14.00\">samples = 26</text>\n<text text-anchor=\"middle\" x=\"992\" y=\"-304.8\" font-family=\"Helvetica,sans-Serif\" font-size=\"14.00\">value = [25, 1]</text>\n</g>\n<!-- 41&#45;&gt;42 -->\n<g id=\"edge42\" class=\"edge\">\n<title>41&#45;&gt;42</title>\n<path fill=\"none\" stroke=\"black\" d=\"M1116.94,-400.88C1099.07,-391.04 1079.36,-380.17 1060.98,-370.03\"/>\n<polygon fill=\"black\" stroke=\"black\" points=\"1062.53,-366.89 1052.08,-365.12 1059.15,-373.02 1062.53,-366.89\"/>\n</g>\n<!-- 47 -->\n<g id=\"node48\" class=\"node\">\n<title>47</title>\n<polygon fill=\"#399de5\" stroke=\"black\" points=\"1224.5,-357.5 1129.5,-357.5 1129.5,-304.5 1224.5,-304.5 1224.5,-357.5\"/>\n<text text-anchor=\"middle\" x=\"1177\" y=\"-342.3\" font-family=\"Helvetica,sans-Serif\" font-size=\"14.00\">gini = 0.0</text>\n<text text-anchor=\"middle\" x=\"1177\" y=\"-327.3\" font-family=\"Helvetica,sans-Serif\" font-size=\"14.00\">samples = 1</text>\n<text text-anchor=\"middle\" x=\"1177\" y=\"-312.3\" font-family=\"Helvetica,sans-Serif\" font-size=\"14.00\">value = [0, 1]</text>\n</g>\n<!-- 41&#45;&gt;47 -->\n<g id=\"edge47\" class=\"edge\">\n<title>41&#45;&gt;47</title>\n<path fill=\"none\" stroke=\"black\" d=\"M1177,-400.88C1177,-390.33 1177,-378.6 1177,-367.85\"/>\n<polygon fill=\"black\" stroke=\"black\" points=\"1180.5,-367.52 1177,-357.52 1173.5,-367.52 1180.5,-367.52\"/>\n</g>\n<!-- 43 -->\n<g id=\"node44\" class=\"node\">\n<title>43</title>\n<polygon fill=\"#eeab7b\" stroke=\"black\" points=\"1040.5,-261 937.5,-261 937.5,-193 1040.5,-193 1040.5,-261\"/>\n<text text-anchor=\"middle\" x=\"989\" y=\"-245.8\" font-family=\"Helvetica,sans-Serif\" font-size=\"14.00\">Age &lt;= &#45;0.133</text>\n<text text-anchor=\"middle\" x=\"989\" y=\"-230.8\" font-family=\"Helvetica,sans-Serif\" font-size=\"14.00\">gini = 0.375</text>\n<text text-anchor=\"middle\" x=\"989\" y=\"-215.8\" font-family=\"Helvetica,sans-Serif\" font-size=\"14.00\">samples = 4</text>\n<text text-anchor=\"middle\" x=\"989\" y=\"-200.8\" font-family=\"Helvetica,sans-Serif\" font-size=\"14.00\">value = [3, 1]</text>\n</g>\n<!-- 42&#45;&gt;43 -->\n<g id=\"edge43\" class=\"edge\">\n<title>42&#45;&gt;43</title>\n<path fill=\"none\" stroke=\"black\" d=\"M991.03,-296.88C990.79,-288.78 990.53,-279.98 990.28,-271.47\"/>\n<polygon fill=\"black\" stroke=\"black\" points=\"993.77,-271.19 989.98,-261.3 986.77,-271.4 993.77,-271.19\"/>\n</g>\n<!-- 46 -->\n<g id=\"node47\" class=\"node\">\n<title>46</title>\n<polygon fill=\"#e58139\" stroke=\"black\" points=\"1161,-253.5 1059,-253.5 1059,-200.5 1161,-200.5 1161,-253.5\"/>\n<text text-anchor=\"middle\" x=\"1110\" y=\"-238.3\" font-family=\"Helvetica,sans-Serif\" font-size=\"14.00\">gini = 0.0</text>\n<text text-anchor=\"middle\" x=\"1110\" y=\"-223.3\" font-family=\"Helvetica,sans-Serif\" font-size=\"14.00\">samples = 22</text>\n<text text-anchor=\"middle\" x=\"1110\" y=\"-208.3\" font-family=\"Helvetica,sans-Serif\" font-size=\"14.00\">value = [22, 0]</text>\n</g>\n<!-- 42&#45;&gt;46 -->\n<g id=\"edge46\" class=\"edge\">\n<title>42&#45;&gt;46</title>\n<path fill=\"none\" stroke=\"black\" d=\"M1030.31,-296.88C1043.92,-285.12 1059.22,-271.89 1072.75,-260.2\"/>\n<polygon fill=\"black\" stroke=\"black\" points=\"1075.2,-262.71 1080.48,-253.52 1070.62,-257.41 1075.2,-262.71\"/>\n</g>\n<!-- 44 -->\n<g id=\"node45\" class=\"node\">\n<title>44</title>\n<polygon fill=\"#399de5\" stroke=\"black\" points=\"1033.5,-149.5 938.5,-149.5 938.5,-96.5 1033.5,-96.5 1033.5,-149.5\"/>\n<text text-anchor=\"middle\" x=\"986\" y=\"-134.3\" font-family=\"Helvetica,sans-Serif\" font-size=\"14.00\">gini = 0.0</text>\n<text text-anchor=\"middle\" x=\"986\" y=\"-119.3\" font-family=\"Helvetica,sans-Serif\" font-size=\"14.00\">samples = 1</text>\n<text text-anchor=\"middle\" x=\"986\" y=\"-104.3\" font-family=\"Helvetica,sans-Serif\" font-size=\"14.00\">value = [0, 1]</text>\n</g>\n<!-- 43&#45;&gt;44 -->\n<g id=\"edge44\" class=\"edge\">\n<title>43&#45;&gt;44</title>\n<path fill=\"none\" stroke=\"black\" d=\"M988.03,-192.88C987.71,-182.22 987.36,-170.35 987.04,-159.52\"/>\n<polygon fill=\"black\" stroke=\"black\" points=\"990.54,-159.41 986.75,-149.52 983.55,-159.62 990.54,-159.41\"/>\n</g>\n<!-- 45 -->\n<g id=\"node46\" class=\"node\">\n<title>45</title>\n<polygon fill=\"#e58139\" stroke=\"black\" points=\"1146.5,-149.5 1051.5,-149.5 1051.5,-96.5 1146.5,-96.5 1146.5,-149.5\"/>\n<text text-anchor=\"middle\" x=\"1099\" y=\"-134.3\" font-family=\"Helvetica,sans-Serif\" font-size=\"14.00\">gini = 0.0</text>\n<text text-anchor=\"middle\" x=\"1099\" y=\"-119.3\" font-family=\"Helvetica,sans-Serif\" font-size=\"14.00\">samples = 3</text>\n<text text-anchor=\"middle\" x=\"1099\" y=\"-104.3\" font-family=\"Helvetica,sans-Serif\" font-size=\"14.00\">value = [3, 0]</text>\n</g>\n<!-- 43&#45;&gt;45 -->\n<g id=\"edge45\" class=\"edge\">\n<title>43&#45;&gt;45</title>\n<path fill=\"none\" stroke=\"black\" d=\"M1024.71,-192.88C1037.29,-181.23 1051.4,-168.14 1063.92,-156.53\"/>\n<polygon fill=\"black\" stroke=\"black\" points=\"1066.53,-158.89 1071.48,-149.52 1061.77,-153.75 1066.53,-158.89\"/>\n</g>\n<!-- 49 -->\n<g id=\"node50\" class=\"node\">\n<title>49</title>\n<polygon fill=\"#399de5\" stroke=\"black\" points=\"1337.5,-357.5 1242.5,-357.5 1242.5,-304.5 1337.5,-304.5 1337.5,-357.5\"/>\n<text text-anchor=\"middle\" x=\"1290\" y=\"-342.3\" font-family=\"Helvetica,sans-Serif\" font-size=\"14.00\">gini = 0.0</text>\n<text text-anchor=\"middle\" x=\"1290\" y=\"-327.3\" font-family=\"Helvetica,sans-Serif\" font-size=\"14.00\">samples = 2</text>\n<text text-anchor=\"middle\" x=\"1290\" y=\"-312.3\" font-family=\"Helvetica,sans-Serif\" font-size=\"14.00\">value = [0, 2]</text>\n</g>\n<!-- 48&#45;&gt;49 -->\n<g id=\"edge49\" class=\"edge\">\n<title>48&#45;&gt;49</title>\n<path fill=\"none\" stroke=\"black\" d=\"M1359.56,-400.88C1347.9,-389.34 1334.82,-376.39 1323.18,-364.86\"/>\n<polygon fill=\"black\" stroke=\"black\" points=\"1325.34,-362.07 1315.77,-357.52 1320.41,-367.04 1325.34,-362.07\"/>\n</g>\n<!-- 50 -->\n<g id=\"node51\" class=\"node\">\n<title>50</title>\n<polygon fill=\"#efb083\" stroke=\"black\" points=\"1518.5,-365 1355.5,-365 1355.5,-297 1518.5,-297 1518.5,-365\"/>\n<text text-anchor=\"middle\" x=\"1437\" y=\"-349.8\" font-family=\"Helvetica,sans-Serif\" font-size=\"14.00\">BloodPressure &lt;= 0.296</text>\n<text text-anchor=\"middle\" x=\"1437\" y=\"-334.8\" font-family=\"Helvetica,sans-Serif\" font-size=\"14.00\">gini = 0.397</text>\n<text text-anchor=\"middle\" x=\"1437\" y=\"-319.8\" font-family=\"Helvetica,sans-Serif\" font-size=\"14.00\">samples = 11</text>\n<text text-anchor=\"middle\" x=\"1437\" y=\"-304.8\" font-family=\"Helvetica,sans-Serif\" font-size=\"14.00\">value = [8, 3]</text>\n</g>\n<!-- 48&#45;&gt;50 -->\n<g id=\"edge50\" class=\"edge\">\n<title>48&#45;&gt;50</title>\n<path fill=\"none\" stroke=\"black\" d=\"M1407.29,-400.88C1410.9,-392.51 1414.83,-383.4 1418.61,-374.63\"/>\n<polygon fill=\"black\" stroke=\"black\" points=\"1421.89,-375.87 1422.64,-365.3 1415.46,-373.1 1421.89,-375.87\"/>\n</g>\n<!-- 51 -->\n<g id=\"node52\" class=\"node\">\n<title>51</title>\n<polygon fill=\"#e58139\" stroke=\"black\" points=\"1306.5,-253.5 1211.5,-253.5 1211.5,-200.5 1306.5,-200.5 1306.5,-253.5\"/>\n<text text-anchor=\"middle\" x=\"1259\" y=\"-238.3\" font-family=\"Helvetica,sans-Serif\" font-size=\"14.00\">gini = 0.0</text>\n<text text-anchor=\"middle\" x=\"1259\" y=\"-223.3\" font-family=\"Helvetica,sans-Serif\" font-size=\"14.00\">samples = 5</text>\n<text text-anchor=\"middle\" x=\"1259\" y=\"-208.3\" font-family=\"Helvetica,sans-Serif\" font-size=\"14.00\">value = [5, 0]</text>\n</g>\n<!-- 50&#45;&gt;51 -->\n<g id=\"edge51\" class=\"edge\">\n<title>50&#45;&gt;51</title>\n<path fill=\"none\" stroke=\"black\" d=\"M1378.8,-296.91C1358.87,-285.55 1336.44,-272.75 1316,-261 1314.7,-260.25 1313.38,-259.49 1312.05,-258.73\"/>\n<polygon fill=\"black\" stroke=\"black\" points=\"1313.58,-255.57 1303.17,-253.61 1310.09,-261.64 1313.58,-255.57\"/>\n</g>\n<!-- 52 -->\n<g id=\"node53\" class=\"node\">\n<title>52</title>\n<polygon fill=\"#ffffff\" stroke=\"black\" points=\"1491,-261 1325,-261 1325,-193 1491,-193 1491,-261\"/>\n<text text-anchor=\"middle\" x=\"1408\" y=\"-245.8\" font-family=\"Helvetica,sans-Serif\" font-size=\"14.00\">SkinThickness &lt;= &#45;0.506</text>\n<text text-anchor=\"middle\" x=\"1408\" y=\"-230.8\" font-family=\"Helvetica,sans-Serif\" font-size=\"14.00\">gini = 0.5</text>\n<text text-anchor=\"middle\" x=\"1408\" y=\"-215.8\" font-family=\"Helvetica,sans-Serif\" font-size=\"14.00\">samples = 6</text>\n<text text-anchor=\"middle\" x=\"1408\" y=\"-200.8\" font-family=\"Helvetica,sans-Serif\" font-size=\"14.00\">value = [3, 3]</text>\n</g>\n<!-- 50&#45;&gt;52 -->\n<g id=\"edge52\" class=\"edge\">\n<title>50&#45;&gt;52</title>\n<path fill=\"none\" stroke=\"black\" d=\"M1427.58,-296.88C1425.25,-288.69 1422.72,-279.79 1420.28,-271.19\"/>\n<polygon fill=\"black\" stroke=\"black\" points=\"1423.57,-269.96 1417.47,-261.3 1416.84,-271.88 1423.57,-269.96\"/>\n</g>\n<!-- 53 -->\n<g id=\"node54\" class=\"node\">\n<title>53</title>\n<polygon fill=\"#e58139\" stroke=\"black\" points=\"1314.5,-149.5 1219.5,-149.5 1219.5,-96.5 1314.5,-96.5 1314.5,-149.5\"/>\n<text text-anchor=\"middle\" x=\"1267\" y=\"-134.3\" font-family=\"Helvetica,sans-Serif\" font-size=\"14.00\">gini = 0.0</text>\n<text text-anchor=\"middle\" x=\"1267\" y=\"-119.3\" font-family=\"Helvetica,sans-Serif\" font-size=\"14.00\">samples = 3</text>\n<text text-anchor=\"middle\" x=\"1267\" y=\"-104.3\" font-family=\"Helvetica,sans-Serif\" font-size=\"14.00\">value = [3, 0]</text>\n</g>\n<!-- 52&#45;&gt;53 -->\n<g id=\"edge53\" class=\"edge\">\n<title>52&#45;&gt;53</title>\n<path fill=\"none\" stroke=\"black\" d=\"M1362.22,-192.88C1345.65,-180.9 1326.99,-167.4 1310.61,-155.55\"/>\n<polygon fill=\"black\" stroke=\"black\" points=\"1312.43,-152.55 1302.28,-149.52 1308.33,-158.22 1312.43,-152.55\"/>\n</g>\n<!-- 54 -->\n<g id=\"node55\" class=\"node\">\n<title>54</title>\n<polygon fill=\"#399de5\" stroke=\"black\" points=\"1427.5,-149.5 1332.5,-149.5 1332.5,-96.5 1427.5,-96.5 1427.5,-149.5\"/>\n<text text-anchor=\"middle\" x=\"1380\" y=\"-134.3\" font-family=\"Helvetica,sans-Serif\" font-size=\"14.00\">gini = 0.0</text>\n<text text-anchor=\"middle\" x=\"1380\" y=\"-119.3\" font-family=\"Helvetica,sans-Serif\" font-size=\"14.00\">samples = 3</text>\n<text text-anchor=\"middle\" x=\"1380\" y=\"-104.3\" font-family=\"Helvetica,sans-Serif\" font-size=\"14.00\">value = [0, 3]</text>\n</g>\n<!-- 52&#45;&gt;54 -->\n<g id=\"edge54\" class=\"edge\">\n<title>52&#45;&gt;54</title>\n<path fill=\"none\" stroke=\"black\" d=\"M1398.91,-192.88C1395.95,-182.11 1392.66,-170.11 1389.66,-159.18\"/>\n<polygon fill=\"black\" stroke=\"black\" points=\"1393.03,-158.24 1387.01,-149.52 1386.28,-160.09 1393.03,-158.24\"/>\n</g>\n<!-- 56 -->\n<g id=\"node57\" class=\"node\">\n<title>56</title>\n<polygon fill=\"#399de5\" stroke=\"black\" points=\"1582.5,-565.5 1487.5,-565.5 1487.5,-512.5 1582.5,-512.5 1582.5,-565.5\"/>\n<text text-anchor=\"middle\" x=\"1535\" y=\"-550.3\" font-family=\"Helvetica,sans-Serif\" font-size=\"14.00\">gini = 0.0</text>\n<text text-anchor=\"middle\" x=\"1535\" y=\"-535.3\" font-family=\"Helvetica,sans-Serif\" font-size=\"14.00\">samples = 5</text>\n<text text-anchor=\"middle\" x=\"1535\" y=\"-520.3\" font-family=\"Helvetica,sans-Serif\" font-size=\"14.00\">value = [0, 5]</text>\n</g>\n<!-- 55&#45;&gt;56 -->\n<g id=\"edge56\" class=\"edge\">\n<title>55&#45;&gt;56</title>\n<path fill=\"none\" stroke=\"black\" d=\"M1535,-608.88C1535,-598.33 1535,-586.6 1535,-575.85\"/>\n<polygon fill=\"black\" stroke=\"black\" points=\"1538.5,-575.52 1535,-565.52 1531.5,-575.52 1538.5,-575.52\"/>\n</g>\n<!-- 57 -->\n<g id=\"node58\" class=\"node\">\n<title>57</title>\n<polygon fill=\"#fae6d8\" stroke=\"black\" points=\"1846,-573 1608,-573 1608,-505 1846,-505 1846,-573\"/>\n<text text-anchor=\"middle\" x=\"1727\" y=\"-557.8\" font-family=\"Helvetica,sans-Serif\" font-size=\"14.00\">DiabetesPedigreeFunction &lt;= &#45;0.863</text>\n<text text-anchor=\"middle\" x=\"1727\" y=\"-542.8\" font-family=\"Helvetica,sans-Serif\" font-size=\"14.00\">gini = 0.494</text>\n<text text-anchor=\"middle\" x=\"1727\" y=\"-527.8\" font-family=\"Helvetica,sans-Serif\" font-size=\"14.00\">samples = 74</text>\n<text text-anchor=\"middle\" x=\"1727\" y=\"-512.8\" font-family=\"Helvetica,sans-Serif\" font-size=\"14.00\">value = [41, 33]</text>\n</g>\n<!-- 55&#45;&gt;57 -->\n<g id=\"edge57\" class=\"edge\">\n<title>55&#45;&gt;57</title>\n<path fill=\"none\" stroke=\"black\" d=\"M1590.02,-612.77C1610.57,-601.85 1634.2,-589.3 1655.99,-577.72\"/>\n<polygon fill=\"black\" stroke=\"black\" points=\"1657.69,-580.78 1664.88,-573 1654.41,-574.6 1657.69,-580.78\"/>\n</g>\n<!-- 58 -->\n<g id=\"node59\" class=\"node\">\n<title>58</title>\n<polygon fill=\"#e58139\" stroke=\"black\" points=\"1774.5,-461.5 1679.5,-461.5 1679.5,-408.5 1774.5,-408.5 1774.5,-461.5\"/>\n<text text-anchor=\"middle\" x=\"1727\" y=\"-446.3\" font-family=\"Helvetica,sans-Serif\" font-size=\"14.00\">gini = 0.0</text>\n<text text-anchor=\"middle\" x=\"1727\" y=\"-431.3\" font-family=\"Helvetica,sans-Serif\" font-size=\"14.00\">samples = 8</text>\n<text text-anchor=\"middle\" x=\"1727\" y=\"-416.3\" font-family=\"Helvetica,sans-Serif\" font-size=\"14.00\">value = [8, 0]</text>\n</g>\n<!-- 57&#45;&gt;58 -->\n<g id=\"edge58\" class=\"edge\">\n<title>57&#45;&gt;58</title>\n<path fill=\"none\" stroke=\"black\" d=\"M1727,-504.88C1727,-494.33 1727,-482.6 1727,-471.85\"/>\n<polygon fill=\"black\" stroke=\"black\" points=\"1730.5,-471.52 1727,-461.52 1723.5,-471.52 1730.5,-471.52\"/>\n</g>\n<!-- 59 -->\n<g id=\"node60\" class=\"node\">\n<title>59</title>\n<polygon fill=\"#ffffff\" stroke=\"black\" points=\"1955.5,-469 1806.5,-469 1806.5,-401 1955.5,-401 1955.5,-469\"/>\n<text text-anchor=\"middle\" x=\"1881\" y=\"-453.8\" font-family=\"Helvetica,sans-Serif\" font-size=\"14.00\">Pregnancies &lt;= 0.763</text>\n<text text-anchor=\"middle\" x=\"1881\" y=\"-438.8\" font-family=\"Helvetica,sans-Serif\" font-size=\"14.00\">gini = 0.5</text>\n<text text-anchor=\"middle\" x=\"1881\" y=\"-423.8\" font-family=\"Helvetica,sans-Serif\" font-size=\"14.00\">samples = 66</text>\n<text text-anchor=\"middle\" x=\"1881\" y=\"-408.8\" font-family=\"Helvetica,sans-Serif\" font-size=\"14.00\">value = [33, 33]</text>\n</g>\n<!-- 57&#45;&gt;59 -->\n<g id=\"edge59\" class=\"edge\">\n<title>57&#45;&gt;59</title>\n<path fill=\"none\" stroke=\"black\" d=\"M1777,-504.88C1791.46,-495.3 1807.38,-484.76 1822.32,-474.86\"/>\n<polygon fill=\"black\" stroke=\"black\" points=\"1824.58,-477.56 1830.99,-469.12 1820.72,-471.73 1824.58,-477.56\"/>\n</g>\n<!-- 60 -->\n<g id=\"node61\" class=\"node\">\n<title>60</title>\n<polygon fill=\"#f7d8c2\" stroke=\"black\" points=\"1954,-365 1808,-365 1808,-297 1954,-297 1954,-365\"/>\n<text text-anchor=\"middle\" x=\"1881\" y=\"-349.8\" font-family=\"Helvetica,sans-Serif\" font-size=\"14.00\">Pregnancies &lt;= &#45;0.69</text>\n<text text-anchor=\"middle\" x=\"1881\" y=\"-334.8\" font-family=\"Helvetica,sans-Serif\" font-size=\"14.00\">gini = 0.483</text>\n<text text-anchor=\"middle\" x=\"1881\" y=\"-319.8\" font-family=\"Helvetica,sans-Serif\" font-size=\"14.00\">samples = 44</text>\n<text text-anchor=\"middle\" x=\"1881\" y=\"-304.8\" font-family=\"Helvetica,sans-Serif\" font-size=\"14.00\">value = [26, 18]</text>\n</g>\n<!-- 59&#45;&gt;60 -->\n<g id=\"edge60\" class=\"edge\">\n<title>59&#45;&gt;60</title>\n<path fill=\"none\" stroke=\"black\" d=\"M1881,-400.88C1881,-392.78 1881,-383.98 1881,-375.47\"/>\n<polygon fill=\"black\" stroke=\"black\" points=\"1884.5,-375.3 1881,-365.3 1877.5,-375.3 1884.5,-375.3\"/>\n</g>\n<!-- 73 -->\n<g id=\"node74\" class=\"node\">\n<title>73</title>\n<polygon fill=\"#95cbf1\" stroke=\"black\" points=\"2102.5,-365 1977.5,-365 1977.5,-297 2102.5,-297 2102.5,-365\"/>\n<text text-anchor=\"middle\" x=\"2040\" y=\"-349.8\" font-family=\"Helvetica,sans-Serif\" font-size=\"14.00\">Age &lt;= 0.45</text>\n<text text-anchor=\"middle\" x=\"2040\" y=\"-334.8\" font-family=\"Helvetica,sans-Serif\" font-size=\"14.00\">gini = 0.434</text>\n<text text-anchor=\"middle\" x=\"2040\" y=\"-319.8\" font-family=\"Helvetica,sans-Serif\" font-size=\"14.00\">samples = 22</text>\n<text text-anchor=\"middle\" x=\"2040\" y=\"-304.8\" font-family=\"Helvetica,sans-Serif\" font-size=\"14.00\">value = [7.0, 15.0]</text>\n</g>\n<!-- 59&#45;&gt;73 -->\n<g id=\"edge73\" class=\"edge\">\n<title>59&#45;&gt;73</title>\n<path fill=\"none\" stroke=\"black\" d=\"M1932.62,-400.88C1947.7,-391.21 1964.3,-380.56 1979.85,-370.59\"/>\n<polygon fill=\"black\" stroke=\"black\" points=\"1981.84,-373.47 1988.36,-365.12 1978.06,-367.58 1981.84,-373.47\"/>\n</g>\n<!-- 61 -->\n<g id=\"node62\" class=\"node\">\n<title>61</title>\n<polygon fill=\"#b7dbf6\" stroke=\"black\" points=\"1832.5,-261 1599.5,-261 1599.5,-193 1832.5,-193 1832.5,-261\"/>\n<text text-anchor=\"middle\" x=\"1716\" y=\"-245.8\" font-family=\"Helvetica,sans-Serif\" font-size=\"14.00\">DiabetesPedigreeFunction &lt;= 1.283</text>\n<text text-anchor=\"middle\" x=\"1716\" y=\"-230.8\" font-family=\"Helvetica,sans-Serif\" font-size=\"14.00\">gini = 0.475</text>\n<text text-anchor=\"middle\" x=\"1716\" y=\"-215.8\" font-family=\"Helvetica,sans-Serif\" font-size=\"14.00\">samples = 18</text>\n<text text-anchor=\"middle\" x=\"1716\" y=\"-200.8\" font-family=\"Helvetica,sans-Serif\" font-size=\"14.00\">value = [7, 11]</text>\n</g>\n<!-- 60&#45;&gt;61 -->\n<g id=\"edge61\" class=\"edge\">\n<title>60&#45;&gt;61</title>\n<path fill=\"none\" stroke=\"black\" d=\"M1827.43,-296.88C1811.79,-287.21 1794.56,-276.56 1778.42,-266.59\"/>\n<polygon fill=\"black\" stroke=\"black\" points=\"1779.93,-263.41 1769.58,-261.12 1776.25,-269.36 1779.93,-263.41\"/>\n</g>\n<!-- 66 -->\n<g id=\"node67\" class=\"node\">\n<title>66</title>\n<polygon fill=\"#efaf82\" stroke=\"black\" points=\"1953,-261 1851,-261 1851,-193 1953,-193 1953,-261\"/>\n<text text-anchor=\"middle\" x=\"1902\" y=\"-245.8\" font-family=\"Helvetica,sans-Serif\" font-size=\"14.00\">Age &lt;= 0.075</text>\n<text text-anchor=\"middle\" x=\"1902\" y=\"-230.8\" font-family=\"Helvetica,sans-Serif\" font-size=\"14.00\">gini = 0.393</text>\n<text text-anchor=\"middle\" x=\"1902\" y=\"-215.8\" font-family=\"Helvetica,sans-Serif\" font-size=\"14.00\">samples = 26</text>\n<text text-anchor=\"middle\" x=\"1902\" y=\"-200.8\" font-family=\"Helvetica,sans-Serif\" font-size=\"14.00\">value = [19, 7]</text>\n</g>\n<!-- 60&#45;&gt;66 -->\n<g id=\"edge66\" class=\"edge\">\n<title>60&#45;&gt;66</title>\n<path fill=\"none\" stroke=\"black\" d=\"M1887.82,-296.88C1889.51,-288.69 1891.34,-279.79 1893.11,-271.19\"/>\n<polygon fill=\"black\" stroke=\"black\" points=\"1896.56,-271.8 1895.14,-261.3 1889.7,-270.39 1896.56,-271.8\"/>\n</g>\n<!-- 62 -->\n<g id=\"node63\" class=\"node\">\n<title>62</title>\n<polygon fill=\"#81c1ee\" stroke=\"black\" points=\"1668.5,-157 1445.5,-157 1445.5,-89 1668.5,-89 1668.5,-157\"/>\n<text text-anchor=\"middle\" x=\"1557\" y=\"-141.8\" font-family=\"Helvetica,sans-Serif\" font-size=\"14.00\">DiabetesPedigreeFunction &lt;= &#45;0.8</text>\n<text text-anchor=\"middle\" x=\"1557\" y=\"-126.8\" font-family=\"Helvetica,sans-Serif\" font-size=\"14.00\">gini = 0.391</text>\n<text text-anchor=\"middle\" x=\"1557\" y=\"-111.8\" font-family=\"Helvetica,sans-Serif\" font-size=\"14.00\">samples = 15</text>\n<text text-anchor=\"middle\" x=\"1557\" y=\"-96.8\" font-family=\"Helvetica,sans-Serif\" font-size=\"14.00\">value = [4, 11]</text>\n</g>\n<!-- 61&#45;&gt;62 -->\n<g id=\"edge62\" class=\"edge\">\n<title>61&#45;&gt;62</title>\n<path fill=\"none\" stroke=\"black\" d=\"M1664.38,-192.88C1649.3,-183.21 1632.7,-172.56 1617.15,-162.59\"/>\n<polygon fill=\"black\" stroke=\"black\" points=\"1618.94,-159.58 1608.64,-157.12 1615.16,-165.47 1618.94,-159.58\"/>\n</g>\n<!-- 65 -->\n<g id=\"node66\" class=\"node\">\n<title>65</title>\n<polygon fill=\"#e58139\" stroke=\"black\" points=\"1781.5,-149.5 1686.5,-149.5 1686.5,-96.5 1781.5,-96.5 1781.5,-149.5\"/>\n<text text-anchor=\"middle\" x=\"1734\" y=\"-134.3\" font-family=\"Helvetica,sans-Serif\" font-size=\"14.00\">gini = 0.0</text>\n<text text-anchor=\"middle\" x=\"1734\" y=\"-119.3\" font-family=\"Helvetica,sans-Serif\" font-size=\"14.00\">samples = 3</text>\n<text text-anchor=\"middle\" x=\"1734\" y=\"-104.3\" font-family=\"Helvetica,sans-Serif\" font-size=\"14.00\">value = [3, 0]</text>\n</g>\n<!-- 61&#45;&gt;65 -->\n<g id=\"edge65\" class=\"edge\">\n<title>61&#45;&gt;65</title>\n<path fill=\"none\" stroke=\"black\" d=\"M1721.84,-192.88C1723.73,-182.22 1725.82,-170.35 1727.73,-159.52\"/>\n<polygon fill=\"black\" stroke=\"black\" points=\"1731.21,-159.98 1729.5,-149.52 1724.31,-158.76 1731.21,-159.98\"/>\n</g>\n<!-- 63 -->\n<g id=\"node64\" class=\"node\">\n<title>63</title>\n<polygon fill=\"#e58139\" stroke=\"black\" points=\"1532.5,-53 1437.5,-53 1437.5,0 1532.5,0 1532.5,-53\"/>\n<text text-anchor=\"middle\" x=\"1485\" y=\"-37.8\" font-family=\"Helvetica,sans-Serif\" font-size=\"14.00\">gini = 0.0</text>\n<text text-anchor=\"middle\" x=\"1485\" y=\"-22.8\" font-family=\"Helvetica,sans-Serif\" font-size=\"14.00\">samples = 2</text>\n<text text-anchor=\"middle\" x=\"1485\" y=\"-7.8\" font-family=\"Helvetica,sans-Serif\" font-size=\"14.00\">value = [2, 0]</text>\n</g>\n<!-- 62&#45;&gt;63 -->\n<g id=\"edge63\" class=\"edge\">\n<title>62&#45;&gt;63</title>\n<path fill=\"none\" stroke=\"black\" d=\"M1531.82,-88.95C1524.99,-79.98 1517.58,-70.27 1510.72,-61.26\"/>\n<polygon fill=\"black\" stroke=\"black\" points=\"1513.45,-59.07 1504.61,-53.24 1507.89,-63.31 1513.45,-59.07\"/>\n</g>\n<!-- 64 -->\n<g id=\"node65\" class=\"node\">\n<title>64</title>\n<polygon fill=\"#5dafea\" stroke=\"black\" points=\"1653,-53 1551,-53 1551,0 1653,0 1653,-53\"/>\n<text text-anchor=\"middle\" x=\"1602\" y=\"-37.8\" font-family=\"Helvetica,sans-Serif\" font-size=\"14.00\">gini = 0.26</text>\n<text text-anchor=\"middle\" x=\"1602\" y=\"-22.8\" font-family=\"Helvetica,sans-Serif\" font-size=\"14.00\">samples = 13</text>\n<text text-anchor=\"middle\" x=\"1602\" y=\"-7.8\" font-family=\"Helvetica,sans-Serif\" font-size=\"14.00\">value = [2, 11]</text>\n</g>\n<!-- 62&#45;&gt;64 -->\n<g id=\"edge64\" class=\"edge\">\n<title>62&#45;&gt;64</title>\n<path fill=\"none\" stroke=\"black\" d=\"M1572.74,-88.95C1576.83,-80.35 1581.26,-71.06 1585.4,-62.37\"/>\n<polygon fill=\"black\" stroke=\"black\" points=\"1588.61,-63.77 1589.74,-53.24 1582.29,-60.76 1588.61,-63.77\"/>\n</g>\n<!-- 67 -->\n<g id=\"node68\" class=\"node\">\n<title>67</title>\n<polygon fill=\"#e78b48\" stroke=\"black\" points=\"1966.5,-157 1799.5,-157 1799.5,-89 1966.5,-89 1966.5,-157\"/>\n<text text-anchor=\"middle\" x=\"1883\" y=\"-141.8\" font-family=\"Helvetica,sans-Serif\" font-size=\"14.00\">BloodPressure &lt;= &#45;0.319</text>\n<text text-anchor=\"middle\" x=\"1883\" y=\"-126.8\" font-family=\"Helvetica,sans-Serif\" font-size=\"14.00\">gini = 0.133</text>\n<text text-anchor=\"middle\" x=\"1883\" y=\"-111.8\" font-family=\"Helvetica,sans-Serif\" font-size=\"14.00\">samples = 14</text>\n<text text-anchor=\"middle\" x=\"1883\" y=\"-96.8\" font-family=\"Helvetica,sans-Serif\" font-size=\"14.00\">value = [13, 1]</text>\n</g>\n<!-- 66&#45;&gt;67 -->\n<g id=\"edge67\" class=\"edge\">\n<title>66&#45;&gt;67</title>\n<path fill=\"none\" stroke=\"black\" d=\"M1895.83,-192.88C1894.3,-184.69 1892.65,-175.79 1891.05,-167.19\"/>\n<polygon fill=\"black\" stroke=\"black\" points=\"1894.47,-166.49 1889.2,-157.3 1887.59,-167.77 1894.47,-166.49\"/>\n</g>\n<!-- 70 -->\n<g id=\"node71\" class=\"node\">\n<title>70</title>\n<polygon fill=\"#ffffff\" stroke=\"black\" points=\"2139.5,-157 1984.5,-157 1984.5,-89 2139.5,-89 2139.5,-157\"/>\n<text text-anchor=\"middle\" x=\"2062\" y=\"-141.8\" font-family=\"Helvetica,sans-Serif\" font-size=\"14.00\">BloodPressure &lt;= 0.27</text>\n<text text-anchor=\"middle\" x=\"2062\" y=\"-126.8\" font-family=\"Helvetica,sans-Serif\" font-size=\"14.00\">gini = 0.5</text>\n<text text-anchor=\"middle\" x=\"2062\" y=\"-111.8\" font-family=\"Helvetica,sans-Serif\" font-size=\"14.00\">samples = 12</text>\n<text text-anchor=\"middle\" x=\"2062\" y=\"-96.8\" font-family=\"Helvetica,sans-Serif\" font-size=\"14.00\">value = [6, 6]</text>\n</g>\n<!-- 66&#45;&gt;70 -->\n<g id=\"edge70\" class=\"edge\">\n<title>66&#45;&gt;70</title>\n<path fill=\"none\" stroke=\"black\" d=\"M1953.06,-193.45C1968.42,-183.66 1985.42,-172.82 2001.33,-162.67\"/>\n<polygon fill=\"black\" stroke=\"black\" points=\"2003.5,-165.45 2010.05,-157.12 1999.73,-159.54 2003.5,-165.45\"/>\n</g>\n<!-- 68 -->\n<g id=\"node69\" class=\"node\">\n<title>68</title>\n<polygon fill=\"#ffffff\" stroke=\"black\" points=\"1812.5,-53 1717.5,-53 1717.5,0 1812.5,0 1812.5,-53\"/>\n<text text-anchor=\"middle\" x=\"1765\" y=\"-37.8\" font-family=\"Helvetica,sans-Serif\" font-size=\"14.00\">gini = 0.5</text>\n<text text-anchor=\"middle\" x=\"1765\" y=\"-22.8\" font-family=\"Helvetica,sans-Serif\" font-size=\"14.00\">samples = 2</text>\n<text text-anchor=\"middle\" x=\"1765\" y=\"-7.8\" font-family=\"Helvetica,sans-Serif\" font-size=\"14.00\">value = [1, 1]</text>\n</g>\n<!-- 67&#45;&gt;68 -->\n<g id=\"edge68\" class=\"edge\">\n<title>67&#45;&gt;68</title>\n<path fill=\"none\" stroke=\"black\" d=\"M1841.73,-88.95C1829.85,-79.43 1816.91,-69.07 1805.1,-59.62\"/>\n<polygon fill=\"black\" stroke=\"black\" points=\"1807.13,-56.76 1797.14,-53.24 1802.75,-62.22 1807.13,-56.76\"/>\n</g>\n<!-- 69 -->\n<g id=\"node70\" class=\"node\">\n<title>69</title>\n<polygon fill=\"#e58139\" stroke=\"black\" points=\"1933,-53 1831,-53 1831,0 1933,0 1933,-53\"/>\n<text text-anchor=\"middle\" x=\"1882\" y=\"-37.8\" font-family=\"Helvetica,sans-Serif\" font-size=\"14.00\">gini = 0.0</text>\n<text text-anchor=\"middle\" x=\"1882\" y=\"-22.8\" font-family=\"Helvetica,sans-Serif\" font-size=\"14.00\">samples = 12</text>\n<text text-anchor=\"middle\" x=\"1882\" y=\"-7.8\" font-family=\"Helvetica,sans-Serif\" font-size=\"14.00\">value = [12, 0]</text>\n</g>\n<!-- 67&#45;&gt;69 -->\n<g id=\"edge69\" class=\"edge\">\n<title>67&#45;&gt;69</title>\n<path fill=\"none\" stroke=\"black\" d=\"M1882.65,-88.95C1882.56,-80.72 1882.47,-71.85 1882.38,-63.48\"/>\n<polygon fill=\"black\" stroke=\"black\" points=\"1885.88,-63.2 1882.27,-53.24 1878.88,-63.27 1885.88,-63.2\"/>\n</g>\n<!-- 71 -->\n<g id=\"node72\" class=\"node\">\n<title>71</title>\n<polygon fill=\"#399de5\" stroke=\"black\" points=\"2046.5,-53 1951.5,-53 1951.5,0 2046.5,0 2046.5,-53\"/>\n<text text-anchor=\"middle\" x=\"1999\" y=\"-37.8\" font-family=\"Helvetica,sans-Serif\" font-size=\"14.00\">gini = 0.0</text>\n<text text-anchor=\"middle\" x=\"1999\" y=\"-22.8\" font-family=\"Helvetica,sans-Serif\" font-size=\"14.00\">samples = 4</text>\n<text text-anchor=\"middle\" x=\"1999\" y=\"-7.8\" font-family=\"Helvetica,sans-Serif\" font-size=\"14.00\">value = [0, 4]</text>\n</g>\n<!-- 70&#45;&gt;71 -->\n<g id=\"edge71\" class=\"edge\">\n<title>70&#45;&gt;71</title>\n<path fill=\"none\" stroke=\"black\" d=\"M2039.97,-88.95C2034.11,-80.17 2027.78,-70.66 2021.88,-61.82\"/>\n<polygon fill=\"black\" stroke=\"black\" points=\"2024.62,-59.62 2016.16,-53.24 2018.79,-63.5 2024.62,-59.62\"/>\n</g>\n<!-- 72 -->\n<g id=\"node73\" class=\"node\">\n<title>72</title>\n<polygon fill=\"#eeab7b\" stroke=\"black\" points=\"2159.5,-53 2064.5,-53 2064.5,0 2159.5,0 2159.5,-53\"/>\n<text text-anchor=\"middle\" x=\"2112\" y=\"-37.8\" font-family=\"Helvetica,sans-Serif\" font-size=\"14.00\">gini = 0.375</text>\n<text text-anchor=\"middle\" x=\"2112\" y=\"-22.8\" font-family=\"Helvetica,sans-Serif\" font-size=\"14.00\">samples = 8</text>\n<text text-anchor=\"middle\" x=\"2112\" y=\"-7.8\" font-family=\"Helvetica,sans-Serif\" font-size=\"14.00\">value = [6, 2]</text>\n</g>\n<!-- 70&#45;&gt;72 -->\n<g id=\"edge72\" class=\"edge\">\n<title>70&#45;&gt;72</title>\n<path fill=\"none\" stroke=\"black\" d=\"M2079.49,-88.95C2084.09,-80.26 2089.06,-70.86 2093.7,-62.09\"/>\n<polygon fill=\"black\" stroke=\"black\" points=\"2096.8,-63.71 2098.38,-53.24 2090.61,-60.44 2096.8,-63.71\"/>\n</g>\n<!-- 74 -->\n<g id=\"node75\" class=\"node\">\n<title>74</title>\n<polygon fill=\"#399de5\" stroke=\"black\" points=\"2087.5,-253.5 1992.5,-253.5 1992.5,-200.5 2087.5,-200.5 2087.5,-253.5\"/>\n<text text-anchor=\"middle\" x=\"2040\" y=\"-238.3\" font-family=\"Helvetica,sans-Serif\" font-size=\"14.00\">gini = 0.0</text>\n<text text-anchor=\"middle\" x=\"2040\" y=\"-223.3\" font-family=\"Helvetica,sans-Serif\" font-size=\"14.00\">samples = 8</text>\n<text text-anchor=\"middle\" x=\"2040\" y=\"-208.3\" font-family=\"Helvetica,sans-Serif\" font-size=\"14.00\">value = [0, 8]</text>\n</g>\n<!-- 73&#45;&gt;74 -->\n<g id=\"edge74\" class=\"edge\">\n<title>73&#45;&gt;74</title>\n<path fill=\"none\" stroke=\"black\" d=\"M2040,-296.88C2040,-286.33 2040,-274.6 2040,-263.85\"/>\n<polygon fill=\"black\" stroke=\"black\" points=\"2043.5,-263.52 2040,-253.52 2036.5,-263.52 2043.5,-263.52\"/>\n</g>\n<!-- 75 -->\n<g id=\"node76\" class=\"node\">\n<title>75</title>\n<polygon fill=\"#ffffff\" stroke=\"black\" points=\"2339.5,-261 2106.5,-261 2106.5,-193 2339.5,-193 2339.5,-261\"/>\n<text text-anchor=\"middle\" x=\"2223\" y=\"-245.8\" font-family=\"Helvetica,sans-Serif\" font-size=\"14.00\">DiabetesPedigreeFunction &lt;= 0.361</text>\n<text text-anchor=\"middle\" x=\"2223\" y=\"-230.8\" font-family=\"Helvetica,sans-Serif\" font-size=\"14.00\">gini = 0.5</text>\n<text text-anchor=\"middle\" x=\"2223\" y=\"-215.8\" font-family=\"Helvetica,sans-Serif\" font-size=\"14.00\">samples = 14</text>\n<text text-anchor=\"middle\" x=\"2223\" y=\"-200.8\" font-family=\"Helvetica,sans-Serif\" font-size=\"14.00\">value = [7, 7]</text>\n</g>\n<!-- 73&#45;&gt;75 -->\n<g id=\"edge75\" class=\"edge\">\n<title>73&#45;&gt;75</title>\n<path fill=\"none\" stroke=\"black\" d=\"M2099.41,-296.88C2117.08,-287.04 2136.58,-276.17 2154.76,-266.03\"/>\n<polygon fill=\"black\" stroke=\"black\" points=\"2156.54,-269.05 2163.57,-261.12 2153.13,-262.94 2156.54,-269.05\"/>\n</g>\n<!-- 76 -->\n<g id=\"node77\" class=\"node\">\n<title>76</title>\n<polygon fill=\"#f0b78e\" stroke=\"black\" points=\"2288.5,-157 2159.5,-157 2159.5,-89 2288.5,-89 2288.5,-157\"/>\n<text text-anchor=\"middle\" x=\"2224\" y=\"-141.8\" font-family=\"Helvetica,sans-Serif\" font-size=\"14.00\">Glucose &lt;= &#45;0.374</text>\n<text text-anchor=\"middle\" x=\"2224\" y=\"-126.8\" font-family=\"Helvetica,sans-Serif\" font-size=\"14.00\">gini = 0.42</text>\n<text text-anchor=\"middle\" x=\"2224\" y=\"-111.8\" font-family=\"Helvetica,sans-Serif\" font-size=\"14.00\">samples = 10</text>\n<text text-anchor=\"middle\" x=\"2224\" y=\"-96.8\" font-family=\"Helvetica,sans-Serif\" font-size=\"14.00\">value = [7, 3]</text>\n</g>\n<!-- 75&#45;&gt;76 -->\n<g id=\"edge76\" class=\"edge\">\n<title>75&#45;&gt;76</title>\n<path fill=\"none\" stroke=\"black\" d=\"M2223.32,-192.88C2223.4,-184.78 2223.49,-175.98 2223.57,-167.47\"/>\n<polygon fill=\"black\" stroke=\"black\" points=\"2227.08,-167.33 2223.67,-157.3 2220.08,-167.26 2227.08,-167.33\"/>\n</g>\n<!-- 79 -->\n<g id=\"node80\" class=\"node\">\n<title>79</title>\n<polygon fill=\"#399de5\" stroke=\"black\" points=\"2401.5,-149.5 2306.5,-149.5 2306.5,-96.5 2401.5,-96.5 2401.5,-149.5\"/>\n<text text-anchor=\"middle\" x=\"2354\" y=\"-134.3\" font-family=\"Helvetica,sans-Serif\" font-size=\"14.00\">gini = 0.0</text>\n<text text-anchor=\"middle\" x=\"2354\" y=\"-119.3\" font-family=\"Helvetica,sans-Serif\" font-size=\"14.00\">samples = 4</text>\n<text text-anchor=\"middle\" x=\"2354\" y=\"-104.3\" font-family=\"Helvetica,sans-Serif\" font-size=\"14.00\">value = [0, 4]</text>\n</g>\n<!-- 75&#45;&gt;79 -->\n<g id=\"edge79\" class=\"edge\">\n<title>75&#45;&gt;79</title>\n<path fill=\"none\" stroke=\"black\" d=\"M2265.53,-192.88C2280.79,-181.01 2297.94,-167.65 2313.06,-155.88\"/>\n<polygon fill=\"black\" stroke=\"black\" points=\"2315.48,-158.43 2321.22,-149.52 2311.18,-152.9 2315.48,-158.43\"/>\n</g>\n<!-- 77 -->\n<g id=\"node78\" class=\"node\">\n<title>77</title>\n<polygon fill=\"#ffffff\" stroke=\"black\" points=\"2272.5,-53 2177.5,-53 2177.5,0 2272.5,0 2272.5,-53\"/>\n<text text-anchor=\"middle\" x=\"2225\" y=\"-37.8\" font-family=\"Helvetica,sans-Serif\" font-size=\"14.00\">gini = 0.5</text>\n<text text-anchor=\"middle\" x=\"2225\" y=\"-22.8\" font-family=\"Helvetica,sans-Serif\" font-size=\"14.00\">samples = 6</text>\n<text text-anchor=\"middle\" x=\"2225\" y=\"-7.8\" font-family=\"Helvetica,sans-Serif\" font-size=\"14.00\">value = [3, 3]</text>\n</g>\n<!-- 76&#45;&gt;77 -->\n<g id=\"edge77\" class=\"edge\">\n<title>76&#45;&gt;77</title>\n<path fill=\"none\" stroke=\"black\" d=\"M2224.35,-88.95C2224.44,-80.72 2224.53,-71.85 2224.62,-63.48\"/>\n<polygon fill=\"black\" stroke=\"black\" points=\"2228.12,-63.27 2224.73,-53.24 2221.12,-63.2 2228.12,-63.27\"/>\n</g>\n<!-- 78 -->\n<g id=\"node79\" class=\"node\">\n<title>78</title>\n<polygon fill=\"#e58139\" stroke=\"black\" points=\"2385.5,-53 2290.5,-53 2290.5,0 2385.5,0 2385.5,-53\"/>\n<text text-anchor=\"middle\" x=\"2338\" y=\"-37.8\" font-family=\"Helvetica,sans-Serif\" font-size=\"14.00\">gini = 0.0</text>\n<text text-anchor=\"middle\" x=\"2338\" y=\"-22.8\" font-family=\"Helvetica,sans-Serif\" font-size=\"14.00\">samples = 4</text>\n<text text-anchor=\"middle\" x=\"2338\" y=\"-7.8\" font-family=\"Helvetica,sans-Serif\" font-size=\"14.00\">value = [4, 0]</text>\n</g>\n<!-- 76&#45;&gt;78 -->\n<g id=\"edge78\" class=\"edge\">\n<title>76&#45;&gt;78</title>\n<path fill=\"none\" stroke=\"black\" d=\"M2263.87,-88.95C2275.24,-79.53 2287.61,-69.27 2298.93,-59.89\"/>\n<polygon fill=\"black\" stroke=\"black\" points=\"2301.49,-62.31 2306.95,-53.24 2297.02,-56.92 2301.49,-62.31\"/>\n</g>\n<!-- 81 -->\n<g id=\"node82\" class=\"node\">\n<title>81</title>\n<polygon fill=\"#f1bd98\" stroke=\"black\" points=\"2840,-885 2730,-885 2730,-817 2840,-817 2840,-885\"/>\n<text text-anchor=\"middle\" x=\"2785\" y=\"-869.8\" font-family=\"Helvetica,sans-Serif\" font-size=\"14.00\">Age &lt;= &#45;0.633</text>\n<text text-anchor=\"middle\" x=\"2785\" y=\"-854.8\" font-family=\"Helvetica,sans-Serif\" font-size=\"14.00\">gini = 0.438</text>\n<text text-anchor=\"middle\" x=\"2785\" y=\"-839.8\" font-family=\"Helvetica,sans-Serif\" font-size=\"14.00\">samples = 74</text>\n<text text-anchor=\"middle\" x=\"2785\" y=\"-824.8\" font-family=\"Helvetica,sans-Serif\" font-size=\"14.00\">value = [50, 24]</text>\n</g>\n<!-- 80&#45;&gt;81 -->\n<g id=\"edge81\" class=\"edge\">\n<title>80&#45;&gt;81</title>\n<path fill=\"none\" stroke=\"black\" d=\"M2785,-920.88C2785,-912.78 2785,-903.98 2785,-895.47\"/>\n<polygon fill=\"black\" stroke=\"black\" points=\"2788.5,-895.3 2785,-885.3 2781.5,-895.3 2788.5,-895.3\"/>\n</g>\n<!-- 112 -->\n<g id=\"node113\" class=\"node\">\n<title>112</title>\n<polygon fill=\"#8dc7f0\" stroke=\"black\" points=\"4215.5,-885 4090.5,-885 4090.5,-817 4215.5,-817 4215.5,-885\"/>\n<text text-anchor=\"middle\" x=\"4153\" y=\"-869.8\" font-family=\"Helvetica,sans-Serif\" font-size=\"14.00\">Glucose &lt;= 1.152</text>\n<text text-anchor=\"middle\" x=\"4153\" y=\"-854.8\" font-family=\"Helvetica,sans-Serif\" font-size=\"14.00\">gini = 0.418</text>\n<text text-anchor=\"middle\" x=\"4153\" y=\"-839.8\" font-family=\"Helvetica,sans-Serif\" font-size=\"14.00\">samples = 188</text>\n<text text-anchor=\"middle\" x=\"4153\" y=\"-824.8\" font-family=\"Helvetica,sans-Serif\" font-size=\"14.00\">value = [56, 132]</text>\n</g>\n<!-- 80&#45;&gt;112 -->\n<g id=\"edge112\" class=\"edge\">\n<title>80&#45;&gt;112</title>\n<path fill=\"none\" stroke=\"black\" d=\"M2847.79,-949.32C3073.05,-932.52 3839.97,-875.34 4080.34,-857.42\"/>\n<polygon fill=\"black\" stroke=\"black\" points=\"4080.65,-860.9 4090.37,-856.67 4080.13,-853.92 4080.65,-860.9\"/>\n</g>\n<!-- 82 -->\n<g id=\"node83\" class=\"node\">\n<title>82</title>\n<polygon fill=\"#e58139\" stroke=\"black\" points=\"2769,-773.5 2667,-773.5 2667,-720.5 2769,-720.5 2769,-773.5\"/>\n<text text-anchor=\"middle\" x=\"2718\" y=\"-758.3\" font-family=\"Helvetica,sans-Serif\" font-size=\"14.00\">gini = 0.0</text>\n<text text-anchor=\"middle\" x=\"2718\" y=\"-743.3\" font-family=\"Helvetica,sans-Serif\" font-size=\"14.00\">samples = 19</text>\n<text text-anchor=\"middle\" x=\"2718\" y=\"-728.3\" font-family=\"Helvetica,sans-Serif\" font-size=\"14.00\">value = [19, 0]</text>\n</g>\n<!-- 81&#45;&gt;82 -->\n<g id=\"edge82\" class=\"edge\">\n<title>81&#45;&gt;82</title>\n<path fill=\"none\" stroke=\"black\" d=\"M2763.25,-816.88C2755.95,-805.78 2747.8,-793.37 2740.45,-782.18\"/>\n<polygon fill=\"black\" stroke=\"black\" points=\"2743.18,-779.96 2734.76,-773.52 2737.33,-783.8 2743.18,-779.96\"/>\n</g>\n<!-- 83 -->\n<g id=\"node84\" class=\"node\">\n<title>83</title>\n<polygon fill=\"#f9e3d2\" stroke=\"black\" points=\"2919,-781 2787,-781 2787,-713 2919,-713 2919,-781\"/>\n<text text-anchor=\"middle\" x=\"2853\" y=\"-765.8\" font-family=\"Helvetica,sans-Serif\" font-size=\"14.00\">Age &lt;= 2.241</text>\n<text text-anchor=\"middle\" x=\"2853\" y=\"-750.8\" font-family=\"Helvetica,sans-Serif\" font-size=\"14.00\">gini = 0.492</text>\n<text text-anchor=\"middle\" x=\"2853\" y=\"-735.8\" font-family=\"Helvetica,sans-Serif\" font-size=\"14.00\">samples = 55</text>\n<text text-anchor=\"middle\" x=\"2853\" y=\"-720.8\" font-family=\"Helvetica,sans-Serif\" font-size=\"14.00\">value = [31.0, 24.0]</text>\n</g>\n<!-- 81&#45;&gt;83 -->\n<g id=\"edge83\" class=\"edge\">\n<title>81&#45;&gt;83</title>\n<path fill=\"none\" stroke=\"black\" d=\"M2807.08,-816.88C2812.84,-808.24 2819.12,-798.82 2825.14,-789.79\"/>\n<polygon fill=\"black\" stroke=\"black\" points=\"2828.17,-791.56 2830.8,-781.3 2822.34,-787.68 2828.17,-791.56\"/>\n</g>\n<!-- 84 -->\n<g id=\"node85\" class=\"node\">\n<title>84</title>\n<polygon fill=\"#f7fbfe\" stroke=\"black\" points=\"2853,-677 2721,-677 2721,-609 2853,-609 2853,-677\"/>\n<text text-anchor=\"middle\" x=\"2787\" y=\"-661.8\" font-family=\"Helvetica,sans-Serif\" font-size=\"14.00\">Glucose &lt;= 0.963</text>\n<text text-anchor=\"middle\" x=\"2787\" y=\"-646.8\" font-family=\"Helvetica,sans-Serif\" font-size=\"14.00\">gini = 0.5</text>\n<text text-anchor=\"middle\" x=\"2787\" y=\"-631.8\" font-family=\"Helvetica,sans-Serif\" font-size=\"14.00\">samples = 47</text>\n<text text-anchor=\"middle\" x=\"2787\" y=\"-616.8\" font-family=\"Helvetica,sans-Serif\" font-size=\"14.00\">value = [23.0, 24.0]</text>\n</g>\n<!-- 83&#45;&gt;84 -->\n<g id=\"edge84\" class=\"edge\">\n<title>83&#45;&gt;84</title>\n<path fill=\"none\" stroke=\"black\" d=\"M2831.57,-712.88C2825.98,-704.24 2819.88,-694.82 2814.04,-685.79\"/>\n<polygon fill=\"black\" stroke=\"black\" points=\"2816.92,-683.79 2808.55,-677.3 2811.04,-687.6 2816.92,-683.79\"/>\n</g>\n<!-- 111 -->\n<g id=\"node112\" class=\"node\">\n<title>111</title>\n<polygon fill=\"#e58139\" stroke=\"black\" points=\"2966.5,-669.5 2871.5,-669.5 2871.5,-616.5 2966.5,-616.5 2966.5,-669.5\"/>\n<text text-anchor=\"middle\" x=\"2919\" y=\"-654.3\" font-family=\"Helvetica,sans-Serif\" font-size=\"14.00\">gini = 0.0</text>\n<text text-anchor=\"middle\" x=\"2919\" y=\"-639.3\" font-family=\"Helvetica,sans-Serif\" font-size=\"14.00\">samples = 8</text>\n<text text-anchor=\"middle\" x=\"2919\" y=\"-624.3\" font-family=\"Helvetica,sans-Serif\" font-size=\"14.00\">value = [8, 0]</text>\n</g>\n<!-- 83&#45;&gt;111 -->\n<g id=\"edge111\" class=\"edge\">\n<title>83&#45;&gt;111</title>\n<path fill=\"none\" stroke=\"black\" d=\"M2874.43,-712.88C2881.62,-701.78 2889.64,-689.37 2896.88,-678.18\"/>\n<polygon fill=\"black\" stroke=\"black\" points=\"2899.99,-679.82 2902.49,-669.52 2894.12,-676.01 2899.99,-679.82\"/>\n</g>\n<!-- 85 -->\n<g id=\"node86\" class=\"node\">\n<title>85</title>\n<polygon fill=\"#f5cdb0\" stroke=\"black\" points=\"2775.5,-573 2650.5,-573 2650.5,-505 2775.5,-505 2775.5,-573\"/>\n<text text-anchor=\"middle\" x=\"2713\" y=\"-557.8\" font-family=\"Helvetica,sans-Serif\" font-size=\"14.00\">Glucose &lt;= 0.145</text>\n<text text-anchor=\"middle\" x=\"2713\" y=\"-542.8\" font-family=\"Helvetica,sans-Serif\" font-size=\"14.00\">gini = 0.469</text>\n<text text-anchor=\"middle\" x=\"2713\" y=\"-527.8\" font-family=\"Helvetica,sans-Serif\" font-size=\"14.00\">samples = 32</text>\n<text text-anchor=\"middle\" x=\"2713\" y=\"-512.8\" font-family=\"Helvetica,sans-Serif\" font-size=\"14.00\">value = [20, 12]</text>\n</g>\n<!-- 84&#45;&gt;85 -->\n<g id=\"edge85\" class=\"edge\">\n<title>84&#45;&gt;85</title>\n<path fill=\"none\" stroke=\"black\" d=\"M2762.97,-608.88C2756.64,-600.15 2749.73,-590.62 2743.12,-581.51\"/>\n<polygon fill=\"black\" stroke=\"black\" points=\"2745.86,-579.34 2737.16,-573.3 2740.2,-583.45 2745.86,-579.34\"/>\n</g>\n<!-- 104 -->\n<g id=\"node105\" class=\"node\">\n<title>104</title>\n<polygon fill=\"#6ab6ec\" stroke=\"black\" points=\"2915,-573 2811,-573 2811,-505 2915,-505 2915,-573\"/>\n<text text-anchor=\"middle\" x=\"2863\" y=\"-557.8\" font-family=\"Helvetica,sans-Serif\" font-size=\"14.00\">BMI &lt;= &#45;0.646</text>\n<text text-anchor=\"middle\" x=\"2863\" y=\"-542.8\" font-family=\"Helvetica,sans-Serif\" font-size=\"14.00\">gini = 0.32</text>\n<text text-anchor=\"middle\" x=\"2863\" y=\"-527.8\" font-family=\"Helvetica,sans-Serif\" font-size=\"14.00\">samples = 15</text>\n<text text-anchor=\"middle\" x=\"2863\" y=\"-512.8\" font-family=\"Helvetica,sans-Serif\" font-size=\"14.00\">value = [3, 12]</text>\n</g>\n<!-- 84&#45;&gt;104 -->\n<g id=\"edge104\" class=\"edge\">\n<title>84&#45;&gt;104</title>\n<path fill=\"none\" stroke=\"black\" d=\"M2811.68,-608.88C2818.18,-600.15 2825.28,-590.62 2832.07,-581.51\"/>\n<polygon fill=\"black\" stroke=\"black\" points=\"2835.02,-583.41 2838.19,-573.3 2829.41,-579.23 2835.02,-583.41\"/>\n</g>\n<!-- 86 -->\n<g id=\"node87\" class=\"node\">\n<title>86</title>\n<polygon fill=\"#7bbeee\" stroke=\"black\" points=\"2598.5,-469 2437.5,-469 2437.5,-401 2598.5,-401 2598.5,-469\"/>\n<text text-anchor=\"middle\" x=\"2518\" y=\"-453.8\" font-family=\"Helvetica,sans-Serif\" font-size=\"14.00\">SkinThickness &lt;= 0.398</text>\n<text text-anchor=\"middle\" x=\"2518\" y=\"-438.8\" font-family=\"Helvetica,sans-Serif\" font-size=\"14.00\">gini = 0.375</text>\n<text text-anchor=\"middle\" x=\"2518\" y=\"-423.8\" font-family=\"Helvetica,sans-Serif\" font-size=\"14.00\">samples = 8</text>\n<text text-anchor=\"middle\" x=\"2518\" y=\"-408.8\" font-family=\"Helvetica,sans-Serif\" font-size=\"14.00\">value = [2, 6]</text>\n</g>\n<!-- 85&#45;&gt;86 -->\n<g id=\"edge86\" class=\"edge\">\n<title>85&#45;&gt;86</title>\n<path fill=\"none\" stroke=\"black\" d=\"M2650.5,-505.31C2631.27,-495.25 2609.95,-484.1 2590.14,-473.73\"/>\n<polygon fill=\"black\" stroke=\"black\" points=\"2591.64,-470.57 2581.15,-469.03 2588.39,-476.77 2591.64,-470.57\"/>\n</g>\n<!-- 91 -->\n<g id=\"node92\" class=\"node\">\n<title>91</title>\n<polygon fill=\"#eeab7b\" stroke=\"black\" points=\"2794.5,-469 2631.5,-469 2631.5,-401 2794.5,-401 2794.5,-469\"/>\n<text text-anchor=\"middle\" x=\"2713\" y=\"-453.8\" font-family=\"Helvetica,sans-Serif\" font-size=\"14.00\">BloodPressure &lt;= 0.193</text>\n<text text-anchor=\"middle\" x=\"2713\" y=\"-438.8\" font-family=\"Helvetica,sans-Serif\" font-size=\"14.00\">gini = 0.375</text>\n<text text-anchor=\"middle\" x=\"2713\" y=\"-423.8\" font-family=\"Helvetica,sans-Serif\" font-size=\"14.00\">samples = 24</text>\n<text text-anchor=\"middle\" x=\"2713\" y=\"-408.8\" font-family=\"Helvetica,sans-Serif\" font-size=\"14.00\">value = [18, 6]</text>\n</g>\n<!-- 85&#45;&gt;91 -->\n<g id=\"edge91\" class=\"edge\">\n<title>85&#45;&gt;91</title>\n<path fill=\"none\" stroke=\"black\" d=\"M2713,-504.88C2713,-496.78 2713,-487.98 2713,-479.47\"/>\n<polygon fill=\"black\" stroke=\"black\" points=\"2716.5,-479.3 2713,-469.3 2709.5,-479.3 2716.5,-479.3\"/>\n</g>\n<!-- 87 -->\n<g id=\"node88\" class=\"node\">\n<title>87</title>\n<polygon fill=\"#399de5\" stroke=\"black\" points=\"2450.5,-357.5 2355.5,-357.5 2355.5,-304.5 2450.5,-304.5 2450.5,-357.5\"/>\n<text text-anchor=\"middle\" x=\"2403\" y=\"-342.3\" font-family=\"Helvetica,sans-Serif\" font-size=\"14.00\">gini = 0.0</text>\n<text text-anchor=\"middle\" x=\"2403\" y=\"-327.3\" font-family=\"Helvetica,sans-Serif\" font-size=\"14.00\">samples = 5</text>\n<text text-anchor=\"middle\" x=\"2403\" y=\"-312.3\" font-family=\"Helvetica,sans-Serif\" font-size=\"14.00\">value = [0, 5]</text>\n</g>\n<!-- 86&#45;&gt;87 -->\n<g id=\"edge87\" class=\"edge\">\n<title>86&#45;&gt;87</title>\n<path fill=\"none\" stroke=\"black\" d=\"M2480.66,-400.88C2467.4,-389.12 2452.49,-375.89 2439.31,-364.2\"/>\n<polygon fill=\"black\" stroke=\"black\" points=\"2441.58,-361.54 2431.77,-357.52 2436.93,-366.77 2441.58,-361.54\"/>\n</g>\n<!-- 88 -->\n<g id=\"node89\" class=\"node\">\n<title>88</title>\n<polygon fill=\"#f2c09c\" stroke=\"black\" points=\"2567,-365 2469,-365 2469,-297 2567,-297 2567,-365\"/>\n<text text-anchor=\"middle\" x=\"2518\" y=\"-349.8\" font-family=\"Helvetica,sans-Serif\" font-size=\"14.00\">Age &lt;= 0.783</text>\n<text text-anchor=\"middle\" x=\"2518\" y=\"-334.8\" font-family=\"Helvetica,sans-Serif\" font-size=\"14.00\">gini = 0.444</text>\n<text text-anchor=\"middle\" x=\"2518\" y=\"-319.8\" font-family=\"Helvetica,sans-Serif\" font-size=\"14.00\">samples = 3</text>\n<text text-anchor=\"middle\" x=\"2518\" y=\"-304.8\" font-family=\"Helvetica,sans-Serif\" font-size=\"14.00\">value = [2, 1]</text>\n</g>\n<!-- 86&#45;&gt;88 -->\n<g id=\"edge88\" class=\"edge\">\n<title>86&#45;&gt;88</title>\n<path fill=\"none\" stroke=\"black\" d=\"M2518,-400.88C2518,-392.78 2518,-383.98 2518,-375.47\"/>\n<polygon fill=\"black\" stroke=\"black\" points=\"2521.5,-375.3 2518,-365.3 2514.5,-375.3 2521.5,-375.3\"/>\n</g>\n<!-- 89 -->\n<g id=\"node90\" class=\"node\">\n<title>89</title>\n<polygon fill=\"#e58139\" stroke=\"black\" points=\"2452.5,-253.5 2357.5,-253.5 2357.5,-200.5 2452.5,-200.5 2452.5,-253.5\"/>\n<text text-anchor=\"middle\" x=\"2405\" y=\"-238.3\" font-family=\"Helvetica,sans-Serif\" font-size=\"14.00\">gini = 0.0</text>\n<text text-anchor=\"middle\" x=\"2405\" y=\"-223.3\" font-family=\"Helvetica,sans-Serif\" font-size=\"14.00\">samples = 2</text>\n<text text-anchor=\"middle\" x=\"2405\" y=\"-208.3\" font-family=\"Helvetica,sans-Serif\" font-size=\"14.00\">value = [2, 0]</text>\n</g>\n<!-- 88&#45;&gt;89 -->\n<g id=\"edge89\" class=\"edge\">\n<title>88&#45;&gt;89</title>\n<path fill=\"none\" stroke=\"black\" d=\"M2481.31,-296.88C2468.4,-285.23 2453.9,-272.14 2441.04,-260.53\"/>\n<polygon fill=\"black\" stroke=\"black\" points=\"2443.04,-257.62 2433.27,-253.52 2438.35,-262.82 2443.04,-257.62\"/>\n</g>\n<!-- 90 -->\n<g id=\"node91\" class=\"node\">\n<title>90</title>\n<polygon fill=\"#399de5\" stroke=\"black\" points=\"2565.5,-253.5 2470.5,-253.5 2470.5,-200.5 2565.5,-200.5 2565.5,-253.5\"/>\n<text text-anchor=\"middle\" x=\"2518\" y=\"-238.3\" font-family=\"Helvetica,sans-Serif\" font-size=\"14.00\">gini = 0.0</text>\n<text text-anchor=\"middle\" x=\"2518\" y=\"-223.3\" font-family=\"Helvetica,sans-Serif\" font-size=\"14.00\">samples = 1</text>\n<text text-anchor=\"middle\" x=\"2518\" y=\"-208.3\" font-family=\"Helvetica,sans-Serif\" font-size=\"14.00\">value = [0, 1]</text>\n</g>\n<!-- 88&#45;&gt;90 -->\n<g id=\"edge90\" class=\"edge\">\n<title>88&#45;&gt;90</title>\n<path fill=\"none\" stroke=\"black\" d=\"M2518,-296.88C2518,-286.33 2518,-274.6 2518,-263.85\"/>\n<polygon fill=\"black\" stroke=\"black\" points=\"2521.5,-263.52 2518,-253.52 2514.5,-263.52 2521.5,-263.52\"/>\n</g>\n<!-- 92 -->\n<g id=\"node93\" class=\"node\">\n<title>92</title>\n<polygon fill=\"#ffffff\" stroke=\"black\" points=\"2794.5,-365 2627.5,-365 2627.5,-297 2794.5,-297 2794.5,-365\"/>\n<text text-anchor=\"middle\" x=\"2711\" y=\"-349.8\" font-family=\"Helvetica,sans-Serif\" font-size=\"14.00\">BloodPressure &lt;= &#45;0.242</text>\n<text text-anchor=\"middle\" x=\"2711\" y=\"-334.8\" font-family=\"Helvetica,sans-Serif\" font-size=\"14.00\">gini = 0.5</text>\n<text text-anchor=\"middle\" x=\"2711\" y=\"-319.8\" font-family=\"Helvetica,sans-Serif\" font-size=\"14.00\">samples = 8</text>\n<text text-anchor=\"middle\" x=\"2711\" y=\"-304.8\" font-family=\"Helvetica,sans-Serif\" font-size=\"14.00\">value = [4, 4]</text>\n</g>\n<!-- 91&#45;&gt;92 -->\n<g id=\"edge92\" class=\"edge\">\n<title>91&#45;&gt;92</title>\n<path fill=\"none\" stroke=\"black\" d=\"M2712.35,-400.88C2712.19,-392.78 2712.02,-383.98 2711.85,-375.47\"/>\n<polygon fill=\"black\" stroke=\"black\" points=\"2715.35,-375.23 2711.65,-365.3 2708.35,-375.37 2715.35,-375.23\"/>\n</g>\n<!-- 97 -->\n<g id=\"node98\" class=\"node\">\n<title>97</title>\n<polygon fill=\"#e99355\" stroke=\"black\" points=\"2917,-365 2813,-365 2813,-297 2917,-297 2917,-365\"/>\n<text text-anchor=\"middle\" x=\"2865\" y=\"-349.8\" font-family=\"Helvetica,sans-Serif\" font-size=\"14.00\">BMI &lt;= &#45;0.532</text>\n<text text-anchor=\"middle\" x=\"2865\" y=\"-334.8\" font-family=\"Helvetica,sans-Serif\" font-size=\"14.00\">gini = 0.219</text>\n<text text-anchor=\"middle\" x=\"2865\" y=\"-319.8\" font-family=\"Helvetica,sans-Serif\" font-size=\"14.00\">samples = 16</text>\n<text text-anchor=\"middle\" x=\"2865\" y=\"-304.8\" font-family=\"Helvetica,sans-Serif\" font-size=\"14.00\">value = [14, 2]</text>\n</g>\n<!-- 91&#45;&gt;97 -->\n<g id=\"edge97\" class=\"edge\">\n<title>91&#45;&gt;97</title>\n<path fill=\"none\" stroke=\"black\" d=\"M2762.35,-400.88C2776.63,-391.3 2792.34,-380.76 2807.08,-370.86\"/>\n<polygon fill=\"black\" stroke=\"black\" points=\"2809.28,-373.6 2815.64,-365.12 2805.38,-367.79 2809.28,-373.6\"/>\n</g>\n<!-- 93 -->\n<g id=\"node94\" class=\"node\">\n<title>93</title>\n<polygon fill=\"#eca06a\" stroke=\"black\" points=\"2686.5,-261 2583.5,-261 2583.5,-193 2686.5,-193 2686.5,-261\"/>\n<text text-anchor=\"middle\" x=\"2635\" y=\"-245.8\" font-family=\"Helvetica,sans-Serif\" font-size=\"14.00\">Age &lt;= &#45;0.424</text>\n<text text-anchor=\"middle\" x=\"2635\" y=\"-230.8\" font-family=\"Helvetica,sans-Serif\" font-size=\"14.00\">gini = 0.32</text>\n<text text-anchor=\"middle\" x=\"2635\" y=\"-215.8\" font-family=\"Helvetica,sans-Serif\" font-size=\"14.00\">samples = 5</text>\n<text text-anchor=\"middle\" x=\"2635\" y=\"-200.8\" font-family=\"Helvetica,sans-Serif\" font-size=\"14.00\">value = [4, 1]</text>\n</g>\n<!-- 92&#45;&gt;93 -->\n<g id=\"edge93\" class=\"edge\">\n<title>92&#45;&gt;93</title>\n<path fill=\"none\" stroke=\"black\" d=\"M2686.32,-296.88C2679.82,-288.15 2672.72,-278.62 2665.93,-269.51\"/>\n<polygon fill=\"black\" stroke=\"black\" points=\"2668.59,-267.23 2659.81,-261.3 2662.98,-271.41 2668.59,-267.23\"/>\n</g>\n<!-- 96 -->\n<g id=\"node97\" class=\"node\">\n<title>96</title>\n<polygon fill=\"#399de5\" stroke=\"black\" points=\"2799.5,-253.5 2704.5,-253.5 2704.5,-200.5 2799.5,-200.5 2799.5,-253.5\"/>\n<text text-anchor=\"middle\" x=\"2752\" y=\"-238.3\" font-family=\"Helvetica,sans-Serif\" font-size=\"14.00\">gini = 0.0</text>\n<text text-anchor=\"middle\" x=\"2752\" y=\"-223.3\" font-family=\"Helvetica,sans-Serif\" font-size=\"14.00\">samples = 3</text>\n<text text-anchor=\"middle\" x=\"2752\" y=\"-208.3\" font-family=\"Helvetica,sans-Serif\" font-size=\"14.00\">value = [0, 3]</text>\n</g>\n<!-- 92&#45;&gt;96 -->\n<g id=\"edge96\" class=\"edge\">\n<title>92&#45;&gt;96</title>\n<path fill=\"none\" stroke=\"black\" d=\"M2724.31,-296.88C2728.69,-286 2733.57,-273.86 2737.99,-262.85\"/>\n<polygon fill=\"black\" stroke=\"black\" points=\"2741.26,-264.1 2741.74,-253.52 2734.76,-261.49 2741.26,-264.1\"/>\n</g>\n<!-- 94 -->\n<g id=\"node95\" class=\"node\">\n<title>94</title>\n<polygon fill=\"#399de5\" stroke=\"black\" points=\"2625.5,-149.5 2530.5,-149.5 2530.5,-96.5 2625.5,-96.5 2625.5,-149.5\"/>\n<text text-anchor=\"middle\" x=\"2578\" y=\"-134.3\" font-family=\"Helvetica,sans-Serif\" font-size=\"14.00\">gini = 0.0</text>\n<text text-anchor=\"middle\" x=\"2578\" y=\"-119.3\" font-family=\"Helvetica,sans-Serif\" font-size=\"14.00\">samples = 1</text>\n<text text-anchor=\"middle\" x=\"2578\" y=\"-104.3\" font-family=\"Helvetica,sans-Serif\" font-size=\"14.00\">value = [0, 1]</text>\n</g>\n<!-- 93&#45;&gt;94 -->\n<g id=\"edge94\" class=\"edge\">\n<title>93&#45;&gt;94</title>\n<path fill=\"none\" stroke=\"black\" d=\"M2616.49,-192.88C2610.35,-181.89 2603.49,-169.62 2597.29,-158.52\"/>\n<polygon fill=\"black\" stroke=\"black\" points=\"2600.19,-156.54 2592.26,-149.52 2594.08,-159.96 2600.19,-156.54\"/>\n</g>\n<!-- 95 -->\n<g id=\"node96\" class=\"node\">\n<title>95</title>\n<polygon fill=\"#e58139\" stroke=\"black\" points=\"2738.5,-149.5 2643.5,-149.5 2643.5,-96.5 2738.5,-96.5 2738.5,-149.5\"/>\n<text text-anchor=\"middle\" x=\"2691\" y=\"-134.3\" font-family=\"Helvetica,sans-Serif\" font-size=\"14.00\">gini = 0.0</text>\n<text text-anchor=\"middle\" x=\"2691\" y=\"-119.3\" font-family=\"Helvetica,sans-Serif\" font-size=\"14.00\">samples = 4</text>\n<text text-anchor=\"middle\" x=\"2691\" y=\"-104.3\" font-family=\"Helvetica,sans-Serif\" font-size=\"14.00\">value = [4, 0]</text>\n</g>\n<!-- 93&#45;&gt;95 -->\n<g id=\"edge95\" class=\"edge\">\n<title>93&#45;&gt;95</title>\n<path fill=\"none\" stroke=\"black\" d=\"M2653.18,-192.88C2659.22,-181.89 2665.96,-169.62 2672.05,-158.52\"/>\n<polygon fill=\"black\" stroke=\"black\" points=\"2675.24,-159.97 2676.99,-149.52 2669.11,-156.6 2675.24,-159.97\"/>\n</g>\n<!-- 98 -->\n<g id=\"node99\" class=\"node\">\n<title>98</title>\n<polygon fill=\"#e58139\" stroke=\"black\" points=\"2912.5,-253.5 2817.5,-253.5 2817.5,-200.5 2912.5,-200.5 2912.5,-253.5\"/>\n<text text-anchor=\"middle\" x=\"2865\" y=\"-238.3\" font-family=\"Helvetica,sans-Serif\" font-size=\"14.00\">gini = 0.0</text>\n<text text-anchor=\"middle\" x=\"2865\" y=\"-223.3\" font-family=\"Helvetica,sans-Serif\" font-size=\"14.00\">samples = 9</text>\n<text text-anchor=\"middle\" x=\"2865\" y=\"-208.3\" font-family=\"Helvetica,sans-Serif\" font-size=\"14.00\">value = [9, 0]</text>\n</g>\n<!-- 97&#45;&gt;98 -->\n<g id=\"edge98\" class=\"edge\">\n<title>97&#45;&gt;98</title>\n<path fill=\"none\" stroke=\"black\" d=\"M2865,-296.88C2865,-286.33 2865,-274.6 2865,-263.85\"/>\n<polygon fill=\"black\" stroke=\"black\" points=\"2868.5,-263.52 2865,-253.52 2861.5,-263.52 2868.5,-263.52\"/>\n</g>\n<!-- 99 -->\n<g id=\"node100\" class=\"node\">\n<title>99</title>\n<polygon fill=\"#efb388\" stroke=\"black\" points=\"3035,-261 2931,-261 2931,-193 3035,-193 3035,-261\"/>\n<text text-anchor=\"middle\" x=\"2983\" y=\"-245.8\" font-family=\"Helvetica,sans-Serif\" font-size=\"14.00\">BMI &lt;= &#45;0.336</text>\n<text text-anchor=\"middle\" x=\"2983\" y=\"-230.8\" font-family=\"Helvetica,sans-Serif\" font-size=\"14.00\">gini = 0.408</text>\n<text text-anchor=\"middle\" x=\"2983\" y=\"-215.8\" font-family=\"Helvetica,sans-Serif\" font-size=\"14.00\">samples = 7</text>\n<text text-anchor=\"middle\" x=\"2983\" y=\"-200.8\" font-family=\"Helvetica,sans-Serif\" font-size=\"14.00\">value = [5, 2]</text>\n</g>\n<!-- 97&#45;&gt;99 -->\n<g id=\"edge99\" class=\"edge\">\n<title>97&#45;&gt;99</title>\n<path fill=\"none\" stroke=\"black\" d=\"M2903.31,-296.88C2914.03,-287.62 2925.79,-277.45 2936.9,-267.85\"/>\n<polygon fill=\"black\" stroke=\"black\" points=\"2939.2,-270.49 2944.48,-261.3 2934.62,-265.19 2939.2,-270.49\"/>\n</g>\n<!-- 100 -->\n<g id=\"node101\" class=\"node\">\n<title>100</title>\n<polygon fill=\"#9ccef2\" stroke=\"black\" points=\"2978.5,-157 2865.5,-157 2865.5,-89 2978.5,-89 2978.5,-157\"/>\n<text text-anchor=\"middle\" x=\"2922\" y=\"-141.8\" font-family=\"Helvetica,sans-Serif\" font-size=\"14.00\">Insulin &lt;= 0.063</text>\n<text text-anchor=\"middle\" x=\"2922\" y=\"-126.8\" font-family=\"Helvetica,sans-Serif\" font-size=\"14.00\">gini = 0.444</text>\n<text text-anchor=\"middle\" x=\"2922\" y=\"-111.8\" font-family=\"Helvetica,sans-Serif\" font-size=\"14.00\">samples = 3</text>\n<text text-anchor=\"middle\" x=\"2922\" y=\"-96.8\" font-family=\"Helvetica,sans-Serif\" font-size=\"14.00\">value = [1, 2]</text>\n</g>\n<!-- 99&#45;&gt;100 -->\n<g id=\"edge100\" class=\"edge\">\n<title>99&#45;&gt;100</title>\n<path fill=\"none\" stroke=\"black\" d=\"M2963.2,-192.88C2958.08,-184.33 2952.51,-175.01 2947.16,-166.07\"/>\n<polygon fill=\"black\" stroke=\"black\" points=\"2950.05,-164.09 2941.91,-157.3 2944.04,-167.68 2950.05,-164.09\"/>\n</g>\n<!-- 103 -->\n<g id=\"node104\" class=\"node\">\n<title>103</title>\n<polygon fill=\"#e58139\" stroke=\"black\" points=\"3091.5,-149.5 2996.5,-149.5 2996.5,-96.5 3091.5,-96.5 3091.5,-149.5\"/>\n<text text-anchor=\"middle\" x=\"3044\" y=\"-134.3\" font-family=\"Helvetica,sans-Serif\" font-size=\"14.00\">gini = 0.0</text>\n<text text-anchor=\"middle\" x=\"3044\" y=\"-119.3\" font-family=\"Helvetica,sans-Serif\" font-size=\"14.00\">samples = 4</text>\n<text text-anchor=\"middle\" x=\"3044\" y=\"-104.3\" font-family=\"Helvetica,sans-Serif\" font-size=\"14.00\">value = [4, 0]</text>\n</g>\n<!-- 99&#45;&gt;103 -->\n<g id=\"edge103\" class=\"edge\">\n<title>99&#45;&gt;103</title>\n<path fill=\"none\" stroke=\"black\" d=\"M3002.8,-192.88C3009.45,-181.78 3016.87,-169.37 3023.56,-158.18\"/>\n<polygon fill=\"black\" stroke=\"black\" points=\"3026.61,-159.9 3028.74,-149.52 3020.6,-156.31 3026.61,-159.9\"/>\n</g>\n<!-- 101 -->\n<g id=\"node102\" class=\"node\">\n<title>101</title>\n<polygon fill=\"#399de5\" stroke=\"black\" points=\"2912.5,-53 2817.5,-53 2817.5,0 2912.5,0 2912.5,-53\"/>\n<text text-anchor=\"middle\" x=\"2865\" y=\"-37.8\" font-family=\"Helvetica,sans-Serif\" font-size=\"14.00\">gini = 0.0</text>\n<text text-anchor=\"middle\" x=\"2865\" y=\"-22.8\" font-family=\"Helvetica,sans-Serif\" font-size=\"14.00\">samples = 2</text>\n<text text-anchor=\"middle\" x=\"2865\" y=\"-7.8\" font-family=\"Helvetica,sans-Serif\" font-size=\"14.00\">value = [0, 2]</text>\n</g>\n<!-- 100&#45;&gt;101 -->\n<g id=\"edge101\" class=\"edge\">\n<title>100&#45;&gt;101</title>\n<path fill=\"none\" stroke=\"black\" d=\"M2902.06,-88.95C2896.77,-80.17 2891.03,-70.66 2885.7,-61.82\"/>\n<polygon fill=\"black\" stroke=\"black\" points=\"2888.69,-59.99 2880.52,-53.24 2882.69,-63.61 2888.69,-59.99\"/>\n</g>\n<!-- 102 -->\n<g id=\"node103\" class=\"node\">\n<title>102</title>\n<polygon fill=\"#e58139\" stroke=\"black\" points=\"3025.5,-53 2930.5,-53 2930.5,0 3025.5,0 3025.5,-53\"/>\n<text text-anchor=\"middle\" x=\"2978\" y=\"-37.8\" font-family=\"Helvetica,sans-Serif\" font-size=\"14.00\">gini = 0.0</text>\n<text text-anchor=\"middle\" x=\"2978\" y=\"-22.8\" font-family=\"Helvetica,sans-Serif\" font-size=\"14.00\">samples = 1</text>\n<text text-anchor=\"middle\" x=\"2978\" y=\"-7.8\" font-family=\"Helvetica,sans-Serif\" font-size=\"14.00\">value = [1, 0]</text>\n</g>\n<!-- 100&#45;&gt;102 -->\n<g id=\"edge102\" class=\"edge\">\n<title>100&#45;&gt;102</title>\n<path fill=\"none\" stroke=\"black\" d=\"M2941.59,-88.95C2946.74,-80.26 2952.3,-70.86 2957.5,-62.09\"/>\n<polygon fill=\"black\" stroke=\"black\" points=\"2960.66,-63.62 2962.75,-53.24 2954.64,-60.06 2960.66,-63.62\"/>\n</g>\n<!-- 105 -->\n<g id=\"node106\" class=\"node\">\n<title>105</title>\n<polygon fill=\"#399de5\" stroke=\"black\" points=\"2910.5,-461.5 2815.5,-461.5 2815.5,-408.5 2910.5,-408.5 2910.5,-461.5\"/>\n<text text-anchor=\"middle\" x=\"2863\" y=\"-446.3\" font-family=\"Helvetica,sans-Serif\" font-size=\"14.00\">gini = 0.0</text>\n<text text-anchor=\"middle\" x=\"2863\" y=\"-431.3\" font-family=\"Helvetica,sans-Serif\" font-size=\"14.00\">samples = 8</text>\n<text text-anchor=\"middle\" x=\"2863\" y=\"-416.3\" font-family=\"Helvetica,sans-Serif\" font-size=\"14.00\">value = [0, 8]</text>\n</g>\n<!-- 104&#45;&gt;105 -->\n<g id=\"edge105\" class=\"edge\">\n<title>104&#45;&gt;105</title>\n<path fill=\"none\" stroke=\"black\" d=\"M2863,-504.88C2863,-494.33 2863,-482.6 2863,-471.85\"/>\n<polygon fill=\"black\" stroke=\"black\" points=\"2866.5,-471.52 2863,-461.52 2859.5,-471.52 2866.5,-471.52\"/>\n</g>\n<!-- 106 -->\n<g id=\"node107\" class=\"node\">\n<title>106</title>\n<polygon fill=\"#cee6f8\" stroke=\"black\" points=\"3032,-469 2934,-469 2934,-401 3032,-401 3032,-469\"/>\n<text text-anchor=\"middle\" x=\"2983\" y=\"-453.8\" font-family=\"Helvetica,sans-Serif\" font-size=\"14.00\">Age &lt;= 0.242</text>\n<text text-anchor=\"middle\" x=\"2983\" y=\"-438.8\" font-family=\"Helvetica,sans-Serif\" font-size=\"14.00\">gini = 0.49</text>\n<text text-anchor=\"middle\" x=\"2983\" y=\"-423.8\" font-family=\"Helvetica,sans-Serif\" font-size=\"14.00\">samples = 7</text>\n<text text-anchor=\"middle\" x=\"2983\" y=\"-408.8\" font-family=\"Helvetica,sans-Serif\" font-size=\"14.00\">value = [3, 4]</text>\n</g>\n<!-- 104&#45;&gt;106 -->\n<g id=\"edge106\" class=\"edge\">\n<title>104&#45;&gt;106</title>\n<path fill=\"none\" stroke=\"black\" d=\"M2901.96,-504.88C2912.86,-495.62 2924.82,-485.45 2936.12,-475.85\"/>\n<polygon fill=\"black\" stroke=\"black\" points=\"2938.47,-478.44 2943.82,-469.3 2933.94,-473.11 2938.47,-478.44\"/>\n</g>\n<!-- 107 -->\n<g id=\"node108\" class=\"node\">\n<title>107</title>\n<polygon fill=\"#399de5\" stroke=\"black\" points=\"3030.5,-357.5 2935.5,-357.5 2935.5,-304.5 3030.5,-304.5 3030.5,-357.5\"/>\n<text text-anchor=\"middle\" x=\"2983\" y=\"-342.3\" font-family=\"Helvetica,sans-Serif\" font-size=\"14.00\">gini = 0.0</text>\n<text text-anchor=\"middle\" x=\"2983\" y=\"-327.3\" font-family=\"Helvetica,sans-Serif\" font-size=\"14.00\">samples = 3</text>\n<text text-anchor=\"middle\" x=\"2983\" y=\"-312.3\" font-family=\"Helvetica,sans-Serif\" font-size=\"14.00\">value = [0, 3]</text>\n</g>\n<!-- 106&#45;&gt;107 -->\n<g id=\"edge107\" class=\"edge\">\n<title>106&#45;&gt;107</title>\n<path fill=\"none\" stroke=\"black\" d=\"M2983,-400.88C2983,-390.33 2983,-378.6 2983,-367.85\"/>\n<polygon fill=\"black\" stroke=\"black\" points=\"2986.5,-367.52 2983,-357.52 2979.5,-367.52 2986.5,-367.52\"/>\n</g>\n<!-- 108 -->\n<g id=\"node109\" class=\"node\">\n<title>108</title>\n<polygon fill=\"#eeab7b\" stroke=\"black\" points=\"3153,-365 3049,-365 3049,-297 3153,-297 3153,-365\"/>\n<text text-anchor=\"middle\" x=\"3101\" y=\"-349.8\" font-family=\"Helvetica,sans-Serif\" font-size=\"14.00\">BMI &lt;= &#45;0.374</text>\n<text text-anchor=\"middle\" x=\"3101\" y=\"-334.8\" font-family=\"Helvetica,sans-Serif\" font-size=\"14.00\">gini = 0.375</text>\n<text text-anchor=\"middle\" x=\"3101\" y=\"-319.8\" font-family=\"Helvetica,sans-Serif\" font-size=\"14.00\">samples = 4</text>\n<text text-anchor=\"middle\" x=\"3101\" y=\"-304.8\" font-family=\"Helvetica,sans-Serif\" font-size=\"14.00\">value = [3, 1]</text>\n</g>\n<!-- 106&#45;&gt;108 -->\n<g id=\"edge108\" class=\"edge\">\n<title>106&#45;&gt;108</title>\n<path fill=\"none\" stroke=\"black\" d=\"M3021.31,-400.88C3032.03,-391.62 3043.79,-381.45 3054.9,-371.85\"/>\n<polygon fill=\"black\" stroke=\"black\" points=\"3057.2,-374.49 3062.48,-365.3 3052.62,-369.19 3057.2,-374.49\"/>\n</g>\n<!-- 109 -->\n<g id=\"node110\" class=\"node\">\n<title>109</title>\n<polygon fill=\"#e58139\" stroke=\"black\" points=\"3148.5,-253.5 3053.5,-253.5 3053.5,-200.5 3148.5,-200.5 3148.5,-253.5\"/>\n<text text-anchor=\"middle\" x=\"3101\" y=\"-238.3\" font-family=\"Helvetica,sans-Serif\" font-size=\"14.00\">gini = 0.0</text>\n<text text-anchor=\"middle\" x=\"3101\" y=\"-223.3\" font-family=\"Helvetica,sans-Serif\" font-size=\"14.00\">samples = 3</text>\n<text text-anchor=\"middle\" x=\"3101\" y=\"-208.3\" font-family=\"Helvetica,sans-Serif\" font-size=\"14.00\">value = [3, 0]</text>\n</g>\n<!-- 108&#45;&gt;109 -->\n<g id=\"edge109\" class=\"edge\">\n<title>108&#45;&gt;109</title>\n<path fill=\"none\" stroke=\"black\" d=\"M3101,-296.88C3101,-286.33 3101,-274.6 3101,-263.85\"/>\n<polygon fill=\"black\" stroke=\"black\" points=\"3104.5,-263.52 3101,-253.52 3097.5,-263.52 3104.5,-263.52\"/>\n</g>\n<!-- 110 -->\n<g id=\"node111\" class=\"node\">\n<title>110</title>\n<polygon fill=\"#399de5\" stroke=\"black\" points=\"3261.5,-253.5 3166.5,-253.5 3166.5,-200.5 3261.5,-200.5 3261.5,-253.5\"/>\n<text text-anchor=\"middle\" x=\"3214\" y=\"-238.3\" font-family=\"Helvetica,sans-Serif\" font-size=\"14.00\">gini = 0.0</text>\n<text text-anchor=\"middle\" x=\"3214\" y=\"-223.3\" font-family=\"Helvetica,sans-Serif\" font-size=\"14.00\">samples = 1</text>\n<text text-anchor=\"middle\" x=\"3214\" y=\"-208.3\" font-family=\"Helvetica,sans-Serif\" font-size=\"14.00\">value = [0, 1]</text>\n</g>\n<!-- 108&#45;&gt;110 -->\n<g id=\"edge110\" class=\"edge\">\n<title>108&#45;&gt;110</title>\n<path fill=\"none\" stroke=\"black\" d=\"M3137.69,-296.88C3150.6,-285.23 3165.1,-272.14 3177.96,-260.53\"/>\n<polygon fill=\"black\" stroke=\"black\" points=\"3180.65,-262.82 3185.73,-253.52 3175.96,-257.62 3180.65,-262.82\"/>\n</g>\n<!-- 113 -->\n<g id=\"node114\" class=\"node\">\n<title>113</title>\n<polygon fill=\"#c0e0f7\" stroke=\"black\" points=\"4208,-781 4098,-781 4098,-713 4208,-713 4208,-781\"/>\n<text text-anchor=\"middle\" x=\"4153\" y=\"-765.8\" font-family=\"Helvetica,sans-Serif\" font-size=\"14.00\">Age &lt;= &#45;0.424</text>\n<text text-anchor=\"middle\" x=\"4153\" y=\"-750.8\" font-family=\"Helvetica,sans-Serif\" font-size=\"14.00\">gini = 0.482</text>\n<text text-anchor=\"middle\" x=\"4153\" y=\"-735.8\" font-family=\"Helvetica,sans-Serif\" font-size=\"14.00\">samples = 116</text>\n<text text-anchor=\"middle\" x=\"4153\" y=\"-720.8\" font-family=\"Helvetica,sans-Serif\" font-size=\"14.00\">value = [47, 69]</text>\n</g>\n<!-- 112&#45;&gt;113 -->\n<g id=\"edge113\" class=\"edge\">\n<title>112&#45;&gt;113</title>\n<path fill=\"none\" stroke=\"black\" d=\"M4153,-816.88C4153,-808.78 4153,-799.98 4153,-791.47\"/>\n<polygon fill=\"black\" stroke=\"black\" points=\"4156.5,-791.3 4153,-781.3 4149.5,-791.3 4156.5,-791.3\"/>\n</g>\n<!-- 168 -->\n<g id=\"node169\" class=\"node\">\n<title>168</title>\n<polygon fill=\"#55abe9\" stroke=\"black\" points=\"5202.5,-781 5089.5,-781 5089.5,-713 5202.5,-713 5202.5,-781\"/>\n<text text-anchor=\"middle\" x=\"5146\" y=\"-765.8\" font-family=\"Helvetica,sans-Serif\" font-size=\"14.00\">Insulin &lt;= 4.369</text>\n<text text-anchor=\"middle\" x=\"5146\" y=\"-750.8\" font-family=\"Helvetica,sans-Serif\" font-size=\"14.00\">gini = 0.219</text>\n<text text-anchor=\"middle\" x=\"5146\" y=\"-735.8\" font-family=\"Helvetica,sans-Serif\" font-size=\"14.00\">samples = 72</text>\n<text text-anchor=\"middle\" x=\"5146\" y=\"-720.8\" font-family=\"Helvetica,sans-Serif\" font-size=\"14.00\">value = [9, 63]</text>\n</g>\n<!-- 112&#45;&gt;168 -->\n<g id=\"edge168\" class=\"edge\">\n<title>112&#45;&gt;168</title>\n<path fill=\"none\" stroke=\"black\" d=\"M4215.87,-843.54C4393.38,-825.31 4897.32,-773.54 5079.36,-754.84\"/>\n<polygon fill=\"black\" stroke=\"black\" points=\"5079.75,-758.32 5089.34,-753.82 5079.03,-751.36 5079.75,-758.32\"/>\n</g>\n<!-- 114 -->\n<g id=\"node115\" class=\"node\">\n<title>114</title>\n<polygon fill=\"#f8e0ce\" stroke=\"black\" points=\"4008.5,-677 3845.5,-677 3845.5,-609 4008.5,-609 4008.5,-677\"/>\n<text text-anchor=\"middle\" x=\"3927\" y=\"-661.8\" font-family=\"Helvetica,sans-Serif\" font-size=\"14.00\">BloodPressure &lt;= 0.193</text>\n<text text-anchor=\"middle\" x=\"3927\" y=\"-646.8\" font-family=\"Helvetica,sans-Serif\" font-size=\"14.00\">gini = 0.49</text>\n<text text-anchor=\"middle\" x=\"3927\" y=\"-631.8\" font-family=\"Helvetica,sans-Serif\" font-size=\"14.00\">samples = 42</text>\n<text text-anchor=\"middle\" x=\"3927\" y=\"-616.8\" font-family=\"Helvetica,sans-Serif\" font-size=\"14.00\">value = [24, 18]</text>\n</g>\n<!-- 113&#45;&gt;114 -->\n<g id=\"edge114\" class=\"edge\">\n<title>113&#45;&gt;114</title>\n<path fill=\"none\" stroke=\"black\" d=\"M4097.71,-721.05C4071.3,-709.13 4039.14,-694.61 4009.88,-681.41\"/>\n<polygon fill=\"black\" stroke=\"black\" points=\"4011.05,-678.09 4000.49,-677.17 4008.17,-684.47 4011.05,-678.09\"/>\n</g>\n<!-- 137 -->\n<g id=\"node138\" class=\"node\">\n<title>137</title>\n<polygon fill=\"#92c9f1\" stroke=\"black\" points=\"4449,-677 4211,-677 4211,-609 4449,-609 4449,-677\"/>\n<text text-anchor=\"middle\" x=\"4330\" y=\"-661.8\" font-family=\"Helvetica,sans-Serif\" font-size=\"14.00\">DiabetesPedigreeFunction &lt;= &#45;0.111</text>\n<text text-anchor=\"middle\" x=\"4330\" y=\"-646.8\" font-family=\"Helvetica,sans-Serif\" font-size=\"14.00\">gini = 0.428</text>\n<text text-anchor=\"middle\" x=\"4330\" y=\"-631.8\" font-family=\"Helvetica,sans-Serif\" font-size=\"14.00\">samples = 74</text>\n<text text-anchor=\"middle\" x=\"4330\" y=\"-616.8\" font-family=\"Helvetica,sans-Serif\" font-size=\"14.00\">value = [23, 51]</text>\n</g>\n<!-- 113&#45;&gt;137 -->\n<g id=\"edge137\" class=\"edge\">\n<title>113&#45;&gt;137</title>\n<path fill=\"none\" stroke=\"black\" d=\"M4208.03,-714.29C4225.65,-704.13 4245.34,-692.79 4263.68,-682.22\"/>\n<polygon fill=\"black\" stroke=\"black\" points=\"4265.64,-685.13 4272.55,-677.11 4262.14,-679.07 4265.64,-685.13\"/>\n</g>\n<!-- 115 -->\n<g id=\"node116\" class=\"node\">\n<title>115</title>\n<polygon fill=\"#aad5f4\" stroke=\"black\" points=\"3732,-573 3494,-573 3494,-505 3732,-505 3732,-573\"/>\n<text text-anchor=\"middle\" x=\"3613\" y=\"-557.8\" font-family=\"Helvetica,sans-Serif\" font-size=\"14.00\">DiabetesPedigreeFunction &lt;= &#45;0.842</text>\n<text text-anchor=\"middle\" x=\"3613\" y=\"-542.8\" font-family=\"Helvetica,sans-Serif\" font-size=\"14.00\">gini = 0.463</text>\n<text text-anchor=\"middle\" x=\"3613\" y=\"-527.8\" font-family=\"Helvetica,sans-Serif\" font-size=\"14.00\">samples = 22</text>\n<text text-anchor=\"middle\" x=\"3613\" y=\"-512.8\" font-family=\"Helvetica,sans-Serif\" font-size=\"14.00\">value = [8, 14]</text>\n</g>\n<!-- 114&#45;&gt;115 -->\n<g id=\"edge115\" class=\"edge\">\n<title>114&#45;&gt;115</title>\n<path fill=\"none\" stroke=\"black\" d=\"M3845.32,-615.47C3808.47,-603.5 3764.37,-589.17 3724.54,-576.23\"/>\n<polygon fill=\"black\" stroke=\"black\" points=\"3725.37,-572.82 3714.78,-573.06 3723.21,-579.48 3725.37,-572.82\"/>\n</g>\n<!-- 128 -->\n<g id=\"node129\" class=\"node\">\n<title>128</title>\n<polygon fill=\"#eca06a\" stroke=\"black\" points=\"4008.5,-573 3845.5,-573 3845.5,-505 4008.5,-505 4008.5,-573\"/>\n<text text-anchor=\"middle\" x=\"3927\" y=\"-557.8\" font-family=\"Helvetica,sans-Serif\" font-size=\"14.00\">BloodPressure &lt;= 1.012</text>\n<text text-anchor=\"middle\" x=\"3927\" y=\"-542.8\" font-family=\"Helvetica,sans-Serif\" font-size=\"14.00\">gini = 0.32</text>\n<text text-anchor=\"middle\" x=\"3927\" y=\"-527.8\" font-family=\"Helvetica,sans-Serif\" font-size=\"14.00\">samples = 20</text>\n<text text-anchor=\"middle\" x=\"3927\" y=\"-512.8\" font-family=\"Helvetica,sans-Serif\" font-size=\"14.00\">value = [16, 4]</text>\n</g>\n<!-- 114&#45;&gt;128 -->\n<g id=\"edge128\" class=\"edge\">\n<title>114&#45;&gt;128</title>\n<path fill=\"none\" stroke=\"black\" d=\"M3927,-608.88C3927,-600.78 3927,-591.98 3927,-583.47\"/>\n<polygon fill=\"black\" stroke=\"black\" points=\"3930.5,-583.3 3927,-573.3 3923.5,-583.3 3930.5,-583.3\"/>\n</g>\n<!-- 116 -->\n<g id=\"node117\" class=\"node\">\n<title>116</title>\n<polygon fill=\"#e58139\" stroke=\"black\" points=\"3532.5,-461.5 3437.5,-461.5 3437.5,-408.5 3532.5,-408.5 3532.5,-461.5\"/>\n<text text-anchor=\"middle\" x=\"3485\" y=\"-446.3\" font-family=\"Helvetica,sans-Serif\" font-size=\"14.00\">gini = 0.0</text>\n<text text-anchor=\"middle\" x=\"3485\" y=\"-431.3\" font-family=\"Helvetica,sans-Serif\" font-size=\"14.00\">samples = 3</text>\n<text text-anchor=\"middle\" x=\"3485\" y=\"-416.3\" font-family=\"Helvetica,sans-Serif\" font-size=\"14.00\">value = [3, 0]</text>\n</g>\n<!-- 115&#45;&gt;116 -->\n<g id=\"edge116\" class=\"edge\">\n<title>115&#45;&gt;116</title>\n<path fill=\"none\" stroke=\"black\" d=\"M3571.44,-504.88C3556.54,-493.01 3539.77,-479.65 3525,-467.88\"/>\n<polygon fill=\"black\" stroke=\"black\" points=\"3527.03,-465.01 3517.03,-461.52 3522.66,-470.49 3527.03,-465.01\"/>\n</g>\n<!-- 117 -->\n<g id=\"node118\" class=\"node\">\n<title>117</title>\n<polygon fill=\"#80c0ee\" stroke=\"black\" points=\"3675.5,-469 3550.5,-469 3550.5,-401 3675.5,-401 3675.5,-469\"/>\n<text text-anchor=\"middle\" x=\"3613\" y=\"-453.8\" font-family=\"Helvetica,sans-Serif\" font-size=\"14.00\">Glucose &lt;= 0.821</text>\n<text text-anchor=\"middle\" x=\"3613\" y=\"-438.8\" font-family=\"Helvetica,sans-Serif\" font-size=\"14.00\">gini = 0.388</text>\n<text text-anchor=\"middle\" x=\"3613\" y=\"-423.8\" font-family=\"Helvetica,sans-Serif\" font-size=\"14.00\">samples = 19</text>\n<text text-anchor=\"middle\" x=\"3613\" y=\"-408.8\" font-family=\"Helvetica,sans-Serif\" font-size=\"14.00\">value = [5, 14]</text>\n</g>\n<!-- 115&#45;&gt;117 -->\n<g id=\"edge117\" class=\"edge\">\n<title>115&#45;&gt;117</title>\n<path fill=\"none\" stroke=\"black\" d=\"M3613,-504.88C3613,-496.78 3613,-487.98 3613,-479.47\"/>\n<polygon fill=\"black\" stroke=\"black\" points=\"3616.5,-479.3 3613,-469.3 3609.5,-479.3 3616.5,-479.3\"/>\n</g>\n<!-- 118 -->\n<g id=\"node119\" class=\"node\">\n<title>118</title>\n<polygon fill=\"#57ace9\" stroke=\"black\" points=\"3545.5,-365 3432.5,-365 3432.5,-297 3545.5,-297 3545.5,-365\"/>\n<text text-anchor=\"middle\" x=\"3489\" y=\"-349.8\" font-family=\"Helvetica,sans-Serif\" font-size=\"14.00\">Insulin &lt;= 2.409</text>\n<text text-anchor=\"middle\" x=\"3489\" y=\"-334.8\" font-family=\"Helvetica,sans-Serif\" font-size=\"14.00\">gini = 0.231</text>\n<text text-anchor=\"middle\" x=\"3489\" y=\"-319.8\" font-family=\"Helvetica,sans-Serif\" font-size=\"14.00\">samples = 15</text>\n<text text-anchor=\"middle\" x=\"3489\" y=\"-304.8\" font-family=\"Helvetica,sans-Serif\" font-size=\"14.00\">value = [2, 13]</text>\n</g>\n<!-- 117&#45;&gt;118 -->\n<g id=\"edge118\" class=\"edge\">\n<title>117&#45;&gt;118</title>\n<path fill=\"none\" stroke=\"black\" d=\"M3572.74,-400.88C3561.48,-391.62 3549.12,-381.45 3537.44,-371.85\"/>\n<polygon fill=\"black\" stroke=\"black\" points=\"3539.43,-368.95 3529.48,-365.3 3534.98,-374.36 3539.43,-368.95\"/>\n</g>\n<!-- 125 -->\n<g id=\"node126\" class=\"node\">\n<title>125</title>\n<polygon fill=\"#eeab7b\" stroke=\"black\" points=\"3662.5,-365 3563.5,-365 3563.5,-297 3662.5,-297 3662.5,-365\"/>\n<text text-anchor=\"middle\" x=\"3613\" y=\"-349.8\" font-family=\"Helvetica,sans-Serif\" font-size=\"14.00\">BMI &lt;= 0.619</text>\n<text text-anchor=\"middle\" x=\"3613\" y=\"-334.8\" font-family=\"Helvetica,sans-Serif\" font-size=\"14.00\">gini = 0.375</text>\n<text text-anchor=\"middle\" x=\"3613\" y=\"-319.8\" font-family=\"Helvetica,sans-Serif\" font-size=\"14.00\">samples = 4</text>\n<text text-anchor=\"middle\" x=\"3613\" y=\"-304.8\" font-family=\"Helvetica,sans-Serif\" font-size=\"14.00\">value = [3, 1]</text>\n</g>\n<!-- 117&#45;&gt;125 -->\n<g id=\"edge125\" class=\"edge\">\n<title>117&#45;&gt;125</title>\n<path fill=\"none\" stroke=\"black\" d=\"M3613,-400.88C3613,-392.78 3613,-383.98 3613,-375.47\"/>\n<polygon fill=\"black\" stroke=\"black\" points=\"3616.5,-375.3 3613,-365.3 3609.5,-375.3 3616.5,-375.3\"/>\n</g>\n<!-- 119 -->\n<g id=\"node120\" class=\"node\">\n<title>119</title>\n<polygon fill=\"#48a5e7\" stroke=\"black\" points=\"3434,-261 3280,-261 3280,-193 3434,-193 3434,-261\"/>\n<text text-anchor=\"middle\" x=\"3357\" y=\"-245.8\" font-family=\"Helvetica,sans-Serif\" font-size=\"14.00\">Pregnancies &lt;= &#45;0.109</text>\n<text text-anchor=\"middle\" x=\"3357\" y=\"-230.8\" font-family=\"Helvetica,sans-Serif\" font-size=\"14.00\">gini = 0.133</text>\n<text text-anchor=\"middle\" x=\"3357\" y=\"-215.8\" font-family=\"Helvetica,sans-Serif\" font-size=\"14.00\">samples = 14</text>\n<text text-anchor=\"middle\" x=\"3357\" y=\"-200.8\" font-family=\"Helvetica,sans-Serif\" font-size=\"14.00\">value = [1, 13]</text>\n</g>\n<!-- 118&#45;&gt;119 -->\n<g id=\"edge119\" class=\"edge\">\n<title>118&#45;&gt;119</title>\n<path fill=\"none\" stroke=\"black\" d=\"M3446.14,-296.88C3434.04,-287.53 3420.75,-277.26 3408.21,-267.57\"/>\n<polygon fill=\"black\" stroke=\"black\" points=\"3410.15,-264.64 3400.09,-261.3 3405.87,-270.18 3410.15,-264.64\"/>\n</g>\n<!-- 124 -->\n<g id=\"node125\" class=\"node\">\n<title>124</title>\n<polygon fill=\"#e58139\" stroke=\"black\" points=\"3547.5,-253.5 3452.5,-253.5 3452.5,-200.5 3547.5,-200.5 3547.5,-253.5\"/>\n<text text-anchor=\"middle\" x=\"3500\" y=\"-238.3\" font-family=\"Helvetica,sans-Serif\" font-size=\"14.00\">gini = 0.0</text>\n<text text-anchor=\"middle\" x=\"3500\" y=\"-223.3\" font-family=\"Helvetica,sans-Serif\" font-size=\"14.00\">samples = 1</text>\n<text text-anchor=\"middle\" x=\"3500\" y=\"-208.3\" font-family=\"Helvetica,sans-Serif\" font-size=\"14.00\">value = [1, 0]</text>\n</g>\n<!-- 118&#45;&gt;124 -->\n<g id=\"edge124\" class=\"edge\">\n<title>118&#45;&gt;124</title>\n<path fill=\"none\" stroke=\"black\" d=\"M3492.57,-296.88C3493.72,-286.22 3495,-274.35 3496.17,-263.52\"/>\n<polygon fill=\"black\" stroke=\"black\" points=\"3499.66,-263.84 3497.25,-253.52 3492.7,-263.09 3499.66,-263.84\"/>\n</g>\n<!-- 120 -->\n<g id=\"node121\" class=\"node\">\n<title>120</title>\n<polygon fill=\"#399de5\" stroke=\"black\" points=\"3348,-149.5 3246,-149.5 3246,-96.5 3348,-96.5 3348,-149.5\"/>\n<text text-anchor=\"middle\" x=\"3297\" y=\"-134.3\" font-family=\"Helvetica,sans-Serif\" font-size=\"14.00\">gini = 0.0</text>\n<text text-anchor=\"middle\" x=\"3297\" y=\"-119.3\" font-family=\"Helvetica,sans-Serif\" font-size=\"14.00\">samples = 11</text>\n<text text-anchor=\"middle\" x=\"3297\" y=\"-104.3\" font-family=\"Helvetica,sans-Serif\" font-size=\"14.00\">value = [0, 11]</text>\n</g>\n<!-- 119&#45;&gt;120 -->\n<g id=\"edge120\" class=\"edge\">\n<title>119&#45;&gt;120</title>\n<path fill=\"none\" stroke=\"black\" d=\"M3337.52,-192.88C3330.99,-181.78 3323.69,-169.37 3317.11,-158.18\"/>\n<polygon fill=\"black\" stroke=\"black\" points=\"3320.1,-156.36 3312.01,-149.52 3314.07,-159.91 3320.1,-156.36\"/>\n</g>\n<!-- 121 -->\n<g id=\"node122\" class=\"node\">\n<title>121</title>\n<polygon fill=\"#9ccef2\" stroke=\"black\" points=\"3465.5,-157 3366.5,-157 3366.5,-89 3465.5,-89 3465.5,-157\"/>\n<text text-anchor=\"middle\" x=\"3416\" y=\"-141.8\" font-family=\"Helvetica,sans-Serif\" font-size=\"14.00\">BMI &lt;= 0.176</text>\n<text text-anchor=\"middle\" x=\"3416\" y=\"-126.8\" font-family=\"Helvetica,sans-Serif\" font-size=\"14.00\">gini = 0.444</text>\n<text text-anchor=\"middle\" x=\"3416\" y=\"-111.8\" font-family=\"Helvetica,sans-Serif\" font-size=\"14.00\">samples = 3</text>\n<text text-anchor=\"middle\" x=\"3416\" y=\"-96.8\" font-family=\"Helvetica,sans-Serif\" font-size=\"14.00\">value = [1, 2]</text>\n</g>\n<!-- 119&#45;&gt;121 -->\n<g id=\"edge121\" class=\"edge\">\n<title>119&#45;&gt;121</title>\n<path fill=\"none\" stroke=\"black\" d=\"M3376.16,-192.88C3381.1,-184.33 3386.49,-175.01 3391.66,-166.07\"/>\n<polygon fill=\"black\" stroke=\"black\" points=\"3394.76,-167.71 3396.74,-157.3 3388.7,-164.2 3394.76,-167.71\"/>\n</g>\n<!-- 122 -->\n<g id=\"node123\" class=\"node\">\n<title>122</title>\n<polygon fill=\"#399de5\" stroke=\"black\" points=\"3406.5,-53 3311.5,-53 3311.5,0 3406.5,0 3406.5,-53\"/>\n<text text-anchor=\"middle\" x=\"3359\" y=\"-37.8\" font-family=\"Helvetica,sans-Serif\" font-size=\"14.00\">gini = 0.0</text>\n<text text-anchor=\"middle\" x=\"3359\" y=\"-22.8\" font-family=\"Helvetica,sans-Serif\" font-size=\"14.00\">samples = 2</text>\n<text text-anchor=\"middle\" x=\"3359\" y=\"-7.8\" font-family=\"Helvetica,sans-Serif\" font-size=\"14.00\">value = [0, 2]</text>\n</g>\n<!-- 121&#45;&gt;122 -->\n<g id=\"edge122\" class=\"edge\">\n<title>121&#45;&gt;122</title>\n<path fill=\"none\" stroke=\"black\" d=\"M3396.06,-88.95C3390.77,-80.17 3385.03,-70.66 3379.7,-61.82\"/>\n<polygon fill=\"black\" stroke=\"black\" points=\"3382.69,-59.99 3374.52,-53.24 3376.69,-63.61 3382.69,-59.99\"/>\n</g>\n<!-- 123 -->\n<g id=\"node124\" class=\"node\">\n<title>123</title>\n<polygon fill=\"#e58139\" stroke=\"black\" points=\"3519.5,-53 3424.5,-53 3424.5,0 3519.5,0 3519.5,-53\"/>\n<text text-anchor=\"middle\" x=\"3472\" y=\"-37.8\" font-family=\"Helvetica,sans-Serif\" font-size=\"14.00\">gini = 0.0</text>\n<text text-anchor=\"middle\" x=\"3472\" y=\"-22.8\" font-family=\"Helvetica,sans-Serif\" font-size=\"14.00\">samples = 1</text>\n<text text-anchor=\"middle\" x=\"3472\" y=\"-7.8\" font-family=\"Helvetica,sans-Serif\" font-size=\"14.00\">value = [1, 0]</text>\n</g>\n<!-- 121&#45;&gt;123 -->\n<g id=\"edge123\" class=\"edge\">\n<title>121&#45;&gt;123</title>\n<path fill=\"none\" stroke=\"black\" d=\"M3435.59,-88.95C3440.74,-80.26 3446.3,-70.86 3451.5,-62.09\"/>\n<polygon fill=\"black\" stroke=\"black\" points=\"3454.66,-63.62 3456.75,-53.24 3448.64,-60.06 3454.66,-63.62\"/>\n</g>\n<!-- 126 -->\n<g id=\"node127\" class=\"node\">\n<title>126</title>\n<polygon fill=\"#e58139\" stroke=\"black\" points=\"3660.5,-253.5 3565.5,-253.5 3565.5,-200.5 3660.5,-200.5 3660.5,-253.5\"/>\n<text text-anchor=\"middle\" x=\"3613\" y=\"-238.3\" font-family=\"Helvetica,sans-Serif\" font-size=\"14.00\">gini = 0.0</text>\n<text text-anchor=\"middle\" x=\"3613\" y=\"-223.3\" font-family=\"Helvetica,sans-Serif\" font-size=\"14.00\">samples = 3</text>\n<text text-anchor=\"middle\" x=\"3613\" y=\"-208.3\" font-family=\"Helvetica,sans-Serif\" font-size=\"14.00\">value = [3, 0]</text>\n</g>\n<!-- 125&#45;&gt;126 -->\n<g id=\"edge126\" class=\"edge\">\n<title>125&#45;&gt;126</title>\n<path fill=\"none\" stroke=\"black\" d=\"M3613,-296.88C3613,-286.33 3613,-274.6 3613,-263.85\"/>\n<polygon fill=\"black\" stroke=\"black\" points=\"3616.5,-263.52 3613,-253.52 3609.5,-263.52 3616.5,-263.52\"/>\n</g>\n<!-- 127 -->\n<g id=\"node128\" class=\"node\">\n<title>127</title>\n<polygon fill=\"#399de5\" stroke=\"black\" points=\"3773.5,-253.5 3678.5,-253.5 3678.5,-200.5 3773.5,-200.5 3773.5,-253.5\"/>\n<text text-anchor=\"middle\" x=\"3726\" y=\"-238.3\" font-family=\"Helvetica,sans-Serif\" font-size=\"14.00\">gini = 0.0</text>\n<text text-anchor=\"middle\" x=\"3726\" y=\"-223.3\" font-family=\"Helvetica,sans-Serif\" font-size=\"14.00\">samples = 1</text>\n<text text-anchor=\"middle\" x=\"3726\" y=\"-208.3\" font-family=\"Helvetica,sans-Serif\" font-size=\"14.00\">value = [0, 1]</text>\n</g>\n<!-- 125&#45;&gt;127 -->\n<g id=\"edge127\" class=\"edge\">\n<title>125&#45;&gt;127</title>\n<path fill=\"none\" stroke=\"black\" d=\"M3649.69,-296.88C3662.6,-285.23 3677.1,-272.14 3689.96,-260.53\"/>\n<polygon fill=\"black\" stroke=\"black\" points=\"3692.65,-262.82 3697.73,-253.52 3687.96,-257.62 3692.65,-262.82\"/>\n</g>\n<!-- 129 -->\n<g id=\"node130\" class=\"node\">\n<title>129</title>\n<polygon fill=\"#e78946\" stroke=\"black\" points=\"3904.5,-469 3755.5,-469 3755.5,-401 3904.5,-401 3904.5,-469\"/>\n<text text-anchor=\"middle\" x=\"3830\" y=\"-453.8\" font-family=\"Helvetica,sans-Serif\" font-size=\"14.00\">Pregnancies &lt;= 0.182</text>\n<text text-anchor=\"middle\" x=\"3830\" y=\"-438.8\" font-family=\"Helvetica,sans-Serif\" font-size=\"14.00\">gini = 0.117</text>\n<text text-anchor=\"middle\" x=\"3830\" y=\"-423.8\" font-family=\"Helvetica,sans-Serif\" font-size=\"14.00\">samples = 16</text>\n<text text-anchor=\"middle\" x=\"3830\" y=\"-408.8\" font-family=\"Helvetica,sans-Serif\" font-size=\"14.00\">value = [15, 1]</text>\n</g>\n<!-- 128&#45;&gt;129 -->\n<g id=\"edge129\" class=\"edge\">\n<title>128&#45;&gt;129</title>\n<path fill=\"none\" stroke=\"black\" d=\"M3895.51,-504.88C3886.95,-495.89 3877.59,-486.04 3868.68,-476.68\"/>\n<polygon fill=\"black\" stroke=\"black\" points=\"3871.09,-474.13 3861.67,-469.3 3866.02,-478.96 3871.09,-474.13\"/>\n</g>\n<!-- 134 -->\n<g id=\"node135\" class=\"node\">\n<title>134</title>\n<polygon fill=\"#7bbeee\" stroke=\"black\" points=\"4161,-469 3923,-469 3923,-401 4161,-401 4161,-469\"/>\n<text text-anchor=\"middle\" x=\"4042\" y=\"-453.8\" font-family=\"Helvetica,sans-Serif\" font-size=\"14.00\">DiabetesPedigreeFunction &lt;= &#45;0.496</text>\n<text text-anchor=\"middle\" x=\"4042\" y=\"-438.8\" font-family=\"Helvetica,sans-Serif\" font-size=\"14.00\">gini = 0.375</text>\n<text text-anchor=\"middle\" x=\"4042\" y=\"-423.8\" font-family=\"Helvetica,sans-Serif\" font-size=\"14.00\">samples = 4</text>\n<text text-anchor=\"middle\" x=\"4042\" y=\"-408.8\" font-family=\"Helvetica,sans-Serif\" font-size=\"14.00\">value = [1, 3]</text>\n</g>\n<!-- 128&#45;&gt;134 -->\n<g id=\"edge134\" class=\"edge\">\n<title>128&#45;&gt;134</title>\n<path fill=\"none\" stroke=\"black\" d=\"M3964.34,-504.88C3974.68,-495.71 3986.02,-485.65 3996.76,-476.12\"/>\n<polygon fill=\"black\" stroke=\"black\" points=\"3999.3,-478.55 4004.46,-469.3 3994.65,-473.32 3999.3,-478.55\"/>\n</g>\n<!-- 130 -->\n<g id=\"node131\" class=\"node\">\n<title>130</title>\n<polygon fill=\"#e58139\" stroke=\"black\" points=\"3783,-357.5 3681,-357.5 3681,-304.5 3783,-304.5 3783,-357.5\"/>\n<text text-anchor=\"middle\" x=\"3732\" y=\"-342.3\" font-family=\"Helvetica,sans-Serif\" font-size=\"14.00\">gini = 0.0</text>\n<text text-anchor=\"middle\" x=\"3732\" y=\"-327.3\" font-family=\"Helvetica,sans-Serif\" font-size=\"14.00\">samples = 14</text>\n<text text-anchor=\"middle\" x=\"3732\" y=\"-312.3\" font-family=\"Helvetica,sans-Serif\" font-size=\"14.00\">value = [14, 0]</text>\n</g>\n<!-- 129&#45;&gt;130 -->\n<g id=\"edge130\" class=\"edge\">\n<title>129&#45;&gt;130</title>\n<path fill=\"none\" stroke=\"black\" d=\"M3798.18,-400.88C3787.09,-389.34 3774.65,-376.39 3763.57,-364.86\"/>\n<polygon fill=\"black\" stroke=\"black\" points=\"3765.97,-362.31 3756.52,-357.52 3760.92,-367.16 3765.97,-362.31\"/>\n</g>\n<!-- 131 -->\n<g id=\"node132\" class=\"node\">\n<title>131</title>\n<polygon fill=\"#ffffff\" stroke=\"black\" points=\"3949,-365 3801,-365 3801,-297 3949,-297 3949,-365\"/>\n<text text-anchor=\"middle\" x=\"3875\" y=\"-349.8\" font-family=\"Helvetica,sans-Serif\" font-size=\"14.00\">BloodPressure &lt;= 0.5</text>\n<text text-anchor=\"middle\" x=\"3875\" y=\"-334.8\" font-family=\"Helvetica,sans-Serif\" font-size=\"14.00\">gini = 0.5</text>\n<text text-anchor=\"middle\" x=\"3875\" y=\"-319.8\" font-family=\"Helvetica,sans-Serif\" font-size=\"14.00\">samples = 2</text>\n<text text-anchor=\"middle\" x=\"3875\" y=\"-304.8\" font-family=\"Helvetica,sans-Serif\" font-size=\"14.00\">value = [1, 1]</text>\n</g>\n<!-- 129&#45;&gt;131 -->\n<g id=\"edge131\" class=\"edge\">\n<title>129&#45;&gt;131</title>\n<path fill=\"none\" stroke=\"black\" d=\"M3844.61,-400.88C3848.3,-392.51 3852.32,-383.4 3856.19,-374.63\"/>\n<polygon fill=\"black\" stroke=\"black\" points=\"3859.47,-375.86 3860.31,-365.3 3853.07,-373.04 3859.47,-375.86\"/>\n</g>\n<!-- 132 -->\n<g id=\"node133\" class=\"node\">\n<title>132</title>\n<polygon fill=\"#e58139\" stroke=\"black\" points=\"3904.5,-253.5 3809.5,-253.5 3809.5,-200.5 3904.5,-200.5 3904.5,-253.5\"/>\n<text text-anchor=\"middle\" x=\"3857\" y=\"-238.3\" font-family=\"Helvetica,sans-Serif\" font-size=\"14.00\">gini = 0.0</text>\n<text text-anchor=\"middle\" x=\"3857\" y=\"-223.3\" font-family=\"Helvetica,sans-Serif\" font-size=\"14.00\">samples = 1</text>\n<text text-anchor=\"middle\" x=\"3857\" y=\"-208.3\" font-family=\"Helvetica,sans-Serif\" font-size=\"14.00\">value = [1, 0]</text>\n</g>\n<!-- 131&#45;&gt;132 -->\n<g id=\"edge132\" class=\"edge\">\n<title>131&#45;&gt;132</title>\n<path fill=\"none\" stroke=\"black\" d=\"M3869.16,-296.88C3867.27,-286.22 3865.18,-274.35 3863.27,-263.52\"/>\n<polygon fill=\"black\" stroke=\"black\" points=\"3866.69,-262.76 3861.5,-253.52 3859.79,-263.98 3866.69,-262.76\"/>\n</g>\n<!-- 133 -->\n<g id=\"node134\" class=\"node\">\n<title>133</title>\n<polygon fill=\"#399de5\" stroke=\"black\" points=\"4017.5,-253.5 3922.5,-253.5 3922.5,-200.5 4017.5,-200.5 4017.5,-253.5\"/>\n<text text-anchor=\"middle\" x=\"3970\" y=\"-238.3\" font-family=\"Helvetica,sans-Serif\" font-size=\"14.00\">gini = 0.0</text>\n<text text-anchor=\"middle\" x=\"3970\" y=\"-223.3\" font-family=\"Helvetica,sans-Serif\" font-size=\"14.00\">samples = 1</text>\n<text text-anchor=\"middle\" x=\"3970\" y=\"-208.3\" font-family=\"Helvetica,sans-Serif\" font-size=\"14.00\">value = [0, 1]</text>\n</g>\n<!-- 131&#45;&gt;133 -->\n<g id=\"edge133\" class=\"edge\">\n<title>131&#45;&gt;133</title>\n<path fill=\"none\" stroke=\"black\" d=\"M3905.84,-296.88C3916.6,-285.34 3928.66,-272.39 3939.39,-260.86\"/>\n<polygon fill=\"black\" stroke=\"black\" points=\"3941.98,-263.22 3946.23,-253.52 3936.85,-258.45 3941.98,-263.22\"/>\n</g>\n<!-- 135 -->\n<g id=\"node136\" class=\"node\">\n<title>135</title>\n<polygon fill=\"#e58139\" stroke=\"black\" points=\"4062.5,-357.5 3967.5,-357.5 3967.5,-304.5 4062.5,-304.5 4062.5,-357.5\"/>\n<text text-anchor=\"middle\" x=\"4015\" y=\"-342.3\" font-family=\"Helvetica,sans-Serif\" font-size=\"14.00\">gini = 0.0</text>\n<text text-anchor=\"middle\" x=\"4015\" y=\"-327.3\" font-family=\"Helvetica,sans-Serif\" font-size=\"14.00\">samples = 1</text>\n<text text-anchor=\"middle\" x=\"4015\" y=\"-312.3\" font-family=\"Helvetica,sans-Serif\" font-size=\"14.00\">value = [1, 0]</text>\n</g>\n<!-- 134&#45;&gt;135 -->\n<g id=\"edge135\" class=\"edge\">\n<title>134&#45;&gt;135</title>\n<path fill=\"none\" stroke=\"black\" d=\"M4033.23,-400.88C4030.41,-390.22 4027.27,-378.35 4024.4,-367.52\"/>\n<polygon fill=\"black\" stroke=\"black\" points=\"4027.7,-366.29 4021.76,-357.52 4020.93,-368.08 4027.7,-366.29\"/>\n</g>\n<!-- 136 -->\n<g id=\"node137\" class=\"node\">\n<title>136</title>\n<polygon fill=\"#399de5\" stroke=\"black\" points=\"4175.5,-357.5 4080.5,-357.5 4080.5,-304.5 4175.5,-304.5 4175.5,-357.5\"/>\n<text text-anchor=\"middle\" x=\"4128\" y=\"-342.3\" font-family=\"Helvetica,sans-Serif\" font-size=\"14.00\">gini = 0.0</text>\n<text text-anchor=\"middle\" x=\"4128\" y=\"-327.3\" font-family=\"Helvetica,sans-Serif\" font-size=\"14.00\">samples = 3</text>\n<text text-anchor=\"middle\" x=\"4128\" y=\"-312.3\" font-family=\"Helvetica,sans-Serif\" font-size=\"14.00\">value = [0, 3]</text>\n</g>\n<!-- 134&#45;&gt;136 -->\n<g id=\"edge136\" class=\"edge\">\n<title>134&#45;&gt;136</title>\n<path fill=\"none\" stroke=\"black\" d=\"M4069.92,-400.88C4079.57,-389.45 4090.37,-376.63 4100.02,-365.19\"/>\n<polygon fill=\"black\" stroke=\"black\" points=\"4102.71,-367.42 4106.48,-357.52 4097.36,-362.91 4102.71,-367.42\"/>\n</g>\n<!-- 138 -->\n<g id=\"node139\" class=\"node\">\n<title>138</title>\n<polygon fill=\"#ebf5fc\" stroke=\"black\" points=\"4385,-573 4275,-573 4275,-505 4385,-505 4385,-573\"/>\n<text text-anchor=\"middle\" x=\"4330\" y=\"-557.8\" font-family=\"Helvetica,sans-Serif\" font-size=\"14.00\">BMI &lt;= 1.687</text>\n<text text-anchor=\"middle\" x=\"4330\" y=\"-542.8\" font-family=\"Helvetica,sans-Serif\" font-size=\"14.00\">gini = 0.499</text>\n<text text-anchor=\"middle\" x=\"4330\" y=\"-527.8\" font-family=\"Helvetica,sans-Serif\" font-size=\"14.00\">samples = 38</text>\n<text text-anchor=\"middle\" x=\"4330\" y=\"-512.8\" font-family=\"Helvetica,sans-Serif\" font-size=\"14.00\">value = [18, 20]</text>\n</g>\n<!-- 137&#45;&gt;138 -->\n<g id=\"edge138\" class=\"edge\">\n<title>137&#45;&gt;138</title>\n<path fill=\"none\" stroke=\"black\" d=\"M4330,-608.88C4330,-600.78 4330,-591.98 4330,-583.47\"/>\n<polygon fill=\"black\" stroke=\"black\" points=\"4333.5,-583.3 4330,-573.3 4326.5,-583.3 4333.5,-583.3\"/>\n</g>\n<!-- 153 -->\n<g id=\"node154\" class=\"node\">\n<title>153</title>\n<polygon fill=\"#59ade9\" stroke=\"black\" points=\"4617.5,-573 4504.5,-573 4504.5,-505 4617.5,-505 4617.5,-573\"/>\n<text text-anchor=\"middle\" x=\"4561\" y=\"-557.8\" font-family=\"Helvetica,sans-Serif\" font-size=\"14.00\">Insulin &lt;= 2.141</text>\n<text text-anchor=\"middle\" x=\"4561\" y=\"-542.8\" font-family=\"Helvetica,sans-Serif\" font-size=\"14.00\">gini = 0.239</text>\n<text text-anchor=\"middle\" x=\"4561\" y=\"-527.8\" font-family=\"Helvetica,sans-Serif\" font-size=\"14.00\">samples = 36</text>\n<text text-anchor=\"middle\" x=\"4561\" y=\"-512.8\" font-family=\"Helvetica,sans-Serif\" font-size=\"14.00\">value = [5, 31]</text>\n</g>\n<!-- 137&#45;&gt;153 -->\n<g id=\"edge153\" class=\"edge\">\n<title>137&#45;&gt;153</title>\n<path fill=\"none\" stroke=\"black\" d=\"M4405,-608.88C4434,-596.08 4466.9,-581.55 4494.98,-569.15\"/>\n<polygon fill=\"black\" stroke=\"black\" points=\"4496.57,-572.27 4504.31,-565.03 4493.75,-565.87 4496.57,-572.27\"/>\n</g>\n<!-- 139 -->\n<g id=\"node140\" class=\"node\">\n<title>139</title>\n<polygon fill=\"#fbeade\" stroke=\"black\" points=\"4333,-469 4187,-469 4187,-401 4333,-401 4333,-469\"/>\n<text text-anchor=\"middle\" x=\"4260\" y=\"-453.8\" font-family=\"Helvetica,sans-Serif\" font-size=\"14.00\">Pregnancies &lt;= &#45;0.69</text>\n<text text-anchor=\"middle\" x=\"4260\" y=\"-438.8\" font-family=\"Helvetica,sans-Serif\" font-size=\"14.00\">gini = 0.496</text>\n<text text-anchor=\"middle\" x=\"4260\" y=\"-423.8\" font-family=\"Helvetica,sans-Serif\" font-size=\"14.00\">samples = 33</text>\n<text text-anchor=\"middle\" x=\"4260\" y=\"-408.8\" font-family=\"Helvetica,sans-Serif\" font-size=\"14.00\">value = [18, 15]</text>\n</g>\n<!-- 138&#45;&gt;139 -->\n<g id=\"edge139\" class=\"edge\">\n<title>138&#45;&gt;139</title>\n<path fill=\"none\" stroke=\"black\" d=\"M4307.27,-504.88C4301.34,-496.24 4294.88,-486.82 4288.68,-477.79\"/>\n<polygon fill=\"black\" stroke=\"black\" points=\"4291.4,-475.56 4282.85,-469.3 4285.63,-479.52 4291.4,-475.56\"/>\n</g>\n<!-- 152 -->\n<g id=\"node153\" class=\"node\">\n<title>152</title>\n<polygon fill=\"#399de5\" stroke=\"black\" points=\"4446.5,-461.5 4351.5,-461.5 4351.5,-408.5 4446.5,-408.5 4446.5,-461.5\"/>\n<text text-anchor=\"middle\" x=\"4399\" y=\"-446.3\" font-family=\"Helvetica,sans-Serif\" font-size=\"14.00\">gini = 0.0</text>\n<text text-anchor=\"middle\" x=\"4399\" y=\"-431.3\" font-family=\"Helvetica,sans-Serif\" font-size=\"14.00\">samples = 5</text>\n<text text-anchor=\"middle\" x=\"4399\" y=\"-416.3\" font-family=\"Helvetica,sans-Serif\" font-size=\"14.00\">value = [0, 5]</text>\n</g>\n<!-- 138&#45;&gt;152 -->\n<g id=\"edge152\" class=\"edge\">\n<title>138&#45;&gt;152</title>\n<path fill=\"none\" stroke=\"black\" d=\"M4352.4,-504.88C4359.99,-493.67 4368.47,-481.13 4376.1,-469.85\"/>\n<polygon fill=\"black\" stroke=\"black\" points=\"4379.03,-471.76 4381.74,-461.52 4373.23,-467.84 4379.03,-471.76\"/>\n</g>\n<!-- 140 -->\n<g id=\"node141\" class=\"node\">\n<title>140</title>\n<polygon fill=\"#399de5\" stroke=\"black\" points=\"4288.5,-357.5 4193.5,-357.5 4193.5,-304.5 4288.5,-304.5 4288.5,-357.5\"/>\n<text text-anchor=\"middle\" x=\"4241\" y=\"-342.3\" font-family=\"Helvetica,sans-Serif\" font-size=\"14.00\">gini = 0.0</text>\n<text text-anchor=\"middle\" x=\"4241\" y=\"-327.3\" font-family=\"Helvetica,sans-Serif\" font-size=\"14.00\">samples = 3</text>\n<text text-anchor=\"middle\" x=\"4241\" y=\"-312.3\" font-family=\"Helvetica,sans-Serif\" font-size=\"14.00\">value = [0, 3]</text>\n</g>\n<!-- 139&#45;&gt;140 -->\n<g id=\"edge140\" class=\"edge\">\n<title>139&#45;&gt;140</title>\n<path fill=\"none\" stroke=\"black\" d=\"M4253.83,-400.88C4251.84,-390.22 4249.63,-378.35 4247.62,-367.52\"/>\n<polygon fill=\"black\" stroke=\"black\" points=\"4251.03,-366.71 4245.75,-357.52 4244.14,-367.99 4251.03,-366.71\"/>\n</g>\n<!-- 141 -->\n<g id=\"node142\" class=\"node\">\n<title>141</title>\n<polygon fill=\"#f6d5bd\" stroke=\"black\" points=\"4417,-365 4307,-365 4307,-297 4417,-297 4417,-365\"/>\n<text text-anchor=\"middle\" x=\"4362\" y=\"-349.8\" font-family=\"Helvetica,sans-Serif\" font-size=\"14.00\">BMI &lt;= 0.638</text>\n<text text-anchor=\"middle\" x=\"4362\" y=\"-334.8\" font-family=\"Helvetica,sans-Serif\" font-size=\"14.00\">gini = 0.48</text>\n<text text-anchor=\"middle\" x=\"4362\" y=\"-319.8\" font-family=\"Helvetica,sans-Serif\" font-size=\"14.00\">samples = 30</text>\n<text text-anchor=\"middle\" x=\"4362\" y=\"-304.8\" font-family=\"Helvetica,sans-Serif\" font-size=\"14.00\">value = [18, 12]</text>\n</g>\n<!-- 139&#45;&gt;141 -->\n<g id=\"edge141\" class=\"edge\">\n<title>139&#45;&gt;141</title>\n<path fill=\"none\" stroke=\"black\" d=\"M4293.12,-400.88C4302.2,-391.8 4312.15,-381.85 4321.6,-372.4\"/>\n<polygon fill=\"black\" stroke=\"black\" points=\"4324.1,-374.85 4328.7,-365.3 4319.15,-369.9 4324.1,-374.85\"/>\n</g>\n<!-- 142 -->\n<g id=\"node143\" class=\"node\">\n<title>142</title>\n<polygon fill=\"#edf6fd\" stroke=\"black\" points=\"4200,-261 4090,-261 4090,-193 4200,-193 4200,-261\"/>\n<text text-anchor=\"middle\" x=\"4145\" y=\"-245.8\" font-family=\"Helvetica,sans-Serif\" font-size=\"14.00\">BMI &lt;= 0.511</text>\n<text text-anchor=\"middle\" x=\"4145\" y=\"-230.8\" font-family=\"Helvetica,sans-Serif\" font-size=\"14.00\">gini = 0.499</text>\n<text text-anchor=\"middle\" x=\"4145\" y=\"-215.8\" font-family=\"Helvetica,sans-Serif\" font-size=\"14.00\">samples = 21</text>\n<text text-anchor=\"middle\" x=\"4145\" y=\"-200.8\" font-family=\"Helvetica,sans-Serif\" font-size=\"14.00\">value = [10, 11]</text>\n</g>\n<!-- 141&#45;&gt;142 -->\n<g id=\"edge142\" class=\"edge\">\n<title>141&#45;&gt;142</title>\n<path fill=\"none\" stroke=\"black\" d=\"M4306.83,-301.61C4303.52,-300.02 4300.22,-298.47 4297,-297 4261.2,-280.62 4249.03,-278.88 4209.23,-260.97\"/>\n<polygon fill=\"black\" stroke=\"black\" points=\"4210.56,-257.72 4200.01,-256.75 4207.65,-264.09 4210.56,-257.72\"/>\n</g>\n<!-- 147 -->\n<g id=\"node148\" class=\"node\">\n<title>147</title>\n<polygon fill=\"#e89152\" stroke=\"black\" points=\"4343.5,-261 4218.5,-261 4218.5,-193 4343.5,-193 4343.5,-261\"/>\n<text text-anchor=\"middle\" x=\"4281\" y=\"-245.8\" font-family=\"Helvetica,sans-Serif\" font-size=\"14.00\">Glucose &lt;= 0.806</text>\n<text text-anchor=\"middle\" x=\"4281\" y=\"-230.8\" font-family=\"Helvetica,sans-Serif\" font-size=\"14.00\">gini = 0.198</text>\n<text text-anchor=\"middle\" x=\"4281\" y=\"-215.8\" font-family=\"Helvetica,sans-Serif\" font-size=\"14.00\">samples = 9</text>\n<text text-anchor=\"middle\" x=\"4281\" y=\"-200.8\" font-family=\"Helvetica,sans-Serif\" font-size=\"14.00\">value = [8, 1]</text>\n</g>\n<!-- 141&#45;&gt;147 -->\n<g id=\"edge147\" class=\"edge\">\n<title>141&#45;&gt;147</title>\n<path fill=\"none\" stroke=\"black\" d=\"M4335.7,-296.88C4328.7,-288.07 4321.05,-278.43 4313.75,-269.24\"/>\n<polygon fill=\"black\" stroke=\"black\" points=\"4316.4,-266.95 4307.44,-261.3 4310.92,-271.31 4316.4,-266.95\"/>\n</g>\n<!-- 143 -->\n<g id=\"node144\" class=\"node\">\n<title>143</title>\n<polygon fill=\"#fcf2eb\" stroke=\"black\" points=\"4085.5,-157 3936.5,-157 3936.5,-89 4085.5,-89 4085.5,-157\"/>\n<text text-anchor=\"middle\" x=\"4011\" y=\"-141.8\" font-family=\"Helvetica,sans-Serif\" font-size=\"14.00\">Pregnancies &lt;= 1.344</text>\n<text text-anchor=\"middle\" x=\"4011\" y=\"-126.8\" font-family=\"Helvetica,sans-Serif\" font-size=\"14.00\">gini = 0.499</text>\n<text text-anchor=\"middle\" x=\"4011\" y=\"-111.8\" font-family=\"Helvetica,sans-Serif\" font-size=\"14.00\">samples = 19</text>\n<text text-anchor=\"middle\" x=\"4011\" y=\"-96.8\" font-family=\"Helvetica,sans-Serif\" font-size=\"14.00\">value = [10, 9]</text>\n</g>\n<!-- 142&#45;&gt;143 -->\n<g id=\"edge143\" class=\"edge\">\n<title>142&#45;&gt;143</title>\n<path fill=\"none\" stroke=\"black\" d=\"M4101.49,-192.88C4089.21,-183.53 4075.71,-173.26 4062.98,-163.57\"/>\n<polygon fill=\"black\" stroke=\"black\" points=\"4064.82,-160.57 4054.75,-157.3 4060.58,-166.14 4064.82,-160.57\"/>\n</g>\n<!-- 146 -->\n<g id=\"node147\" class=\"node\">\n<title>146</title>\n<polygon fill=\"#399de5\" stroke=\"black\" points=\"4198.5,-149.5 4103.5,-149.5 4103.5,-96.5 4198.5,-96.5 4198.5,-149.5\"/>\n<text text-anchor=\"middle\" x=\"4151\" y=\"-134.3\" font-family=\"Helvetica,sans-Serif\" font-size=\"14.00\">gini = 0.0</text>\n<text text-anchor=\"middle\" x=\"4151\" y=\"-119.3\" font-family=\"Helvetica,sans-Serif\" font-size=\"14.00\">samples = 2</text>\n<text text-anchor=\"middle\" x=\"4151\" y=\"-104.3\" font-family=\"Helvetica,sans-Serif\" font-size=\"14.00\">value = [0, 2]</text>\n</g>\n<!-- 142&#45;&gt;146 -->\n<g id=\"edge146\" class=\"edge\">\n<title>142&#45;&gt;146</title>\n<path fill=\"none\" stroke=\"black\" d=\"M4146.95,-192.88C4147.58,-182.22 4148.27,-170.35 4148.91,-159.52\"/>\n<polygon fill=\"black\" stroke=\"black\" points=\"4152.41,-159.71 4149.5,-149.52 4145.42,-159.3 4152.41,-159.71\"/>\n</g>\n<!-- 144 -->\n<g id=\"node145\" class=\"node\">\n<title>144</title>\n<polygon fill=\"#cee6f8\" stroke=\"black\" points=\"4002,-53 3904,-53 3904,0 4002,0 4002,-53\"/>\n<text text-anchor=\"middle\" x=\"3953\" y=\"-37.8\" font-family=\"Helvetica,sans-Serif\" font-size=\"14.00\">gini = 0.49</text>\n<text text-anchor=\"middle\" x=\"3953\" y=\"-22.8\" font-family=\"Helvetica,sans-Serif\" font-size=\"14.00\">samples = 14</text>\n<text text-anchor=\"middle\" x=\"3953\" y=\"-7.8\" font-family=\"Helvetica,sans-Serif\" font-size=\"14.00\">value = [6, 8]</text>\n</g>\n<!-- 143&#45;&gt;144 -->\n<g id=\"edge144\" class=\"edge\">\n<title>143&#45;&gt;144</title>\n<path fill=\"none\" stroke=\"black\" d=\"M3990.71,-88.95C3985.32,-80.17 3979.49,-70.66 3974.06,-61.82\"/>\n<polygon fill=\"black\" stroke=\"black\" points=\"3977.01,-59.93 3968.8,-53.24 3971.04,-63.59 3977.01,-59.93\"/>\n</g>\n<!-- 145 -->\n<g id=\"node146\" class=\"node\">\n<title>145</title>\n<polygon fill=\"#eca06a\" stroke=\"black\" points=\"4115.5,-53 4020.5,-53 4020.5,0 4115.5,0 4115.5,-53\"/>\n<text text-anchor=\"middle\" x=\"4068\" y=\"-37.8\" font-family=\"Helvetica,sans-Serif\" font-size=\"14.00\">gini = 0.32</text>\n<text text-anchor=\"middle\" x=\"4068\" y=\"-22.8\" font-family=\"Helvetica,sans-Serif\" font-size=\"14.00\">samples = 5</text>\n<text text-anchor=\"middle\" x=\"4068\" y=\"-7.8\" font-family=\"Helvetica,sans-Serif\" font-size=\"14.00\">value = [4, 1]</text>\n</g>\n<!-- 143&#45;&gt;145 -->\n<g id=\"edge145\" class=\"edge\">\n<title>143&#45;&gt;145</title>\n<path fill=\"none\" stroke=\"black\" d=\"M4030.94,-88.95C4036.23,-80.17 4041.97,-70.66 4047.3,-61.82\"/>\n<polygon fill=\"black\" stroke=\"black\" points=\"4050.31,-63.61 4052.48,-53.24 4044.31,-59.99 4050.31,-63.61\"/>\n</g>\n<!-- 148 -->\n<g id=\"node149\" class=\"node\">\n<title>148</title>\n<polygon fill=\"#e58139\" stroke=\"black\" points=\"4322.5,-149.5 4227.5,-149.5 4227.5,-96.5 4322.5,-96.5 4322.5,-149.5\"/>\n<text text-anchor=\"middle\" x=\"4275\" y=\"-134.3\" font-family=\"Helvetica,sans-Serif\" font-size=\"14.00\">gini = 0.0</text>\n<text text-anchor=\"middle\" x=\"4275\" y=\"-119.3\" font-family=\"Helvetica,sans-Serif\" font-size=\"14.00\">samples = 7</text>\n<text text-anchor=\"middle\" x=\"4275\" y=\"-104.3\" font-family=\"Helvetica,sans-Serif\" font-size=\"14.00\">value = [7, 0]</text>\n</g>\n<!-- 147&#45;&gt;148 -->\n<g id=\"edge148\" class=\"edge\">\n<title>147&#45;&gt;148</title>\n<path fill=\"none\" stroke=\"black\" d=\"M4279.05,-192.88C4278.42,-182.22 4277.73,-170.35 4277.09,-159.52\"/>\n<polygon fill=\"black\" stroke=\"black\" points=\"4280.58,-159.3 4276.5,-149.52 4273.59,-159.71 4280.58,-159.3\"/>\n</g>\n<!-- 149 -->\n<g id=\"node150\" class=\"node\">\n<title>149</title>\n<polygon fill=\"#ffffff\" stroke=\"black\" points=\"4465.5,-157 4340.5,-157 4340.5,-89 4465.5,-89 4465.5,-157\"/>\n<text text-anchor=\"middle\" x=\"4403\" y=\"-141.8\" font-family=\"Helvetica,sans-Serif\" font-size=\"14.00\">Glucose &lt;= 0.979</text>\n<text text-anchor=\"middle\" x=\"4403\" y=\"-126.8\" font-family=\"Helvetica,sans-Serif\" font-size=\"14.00\">gini = 0.5</text>\n<text text-anchor=\"middle\" x=\"4403\" y=\"-111.8\" font-family=\"Helvetica,sans-Serif\" font-size=\"14.00\">samples = 2</text>\n<text text-anchor=\"middle\" x=\"4403\" y=\"-96.8\" font-family=\"Helvetica,sans-Serif\" font-size=\"14.00\">value = [1, 1]</text>\n</g>\n<!-- 147&#45;&gt;149 -->\n<g id=\"edge149\" class=\"edge\">\n<title>147&#45;&gt;149</title>\n<path fill=\"none\" stroke=\"black\" d=\"M4320.61,-192.88C4331.69,-183.62 4343.85,-173.45 4355.34,-163.85\"/>\n<polygon fill=\"black\" stroke=\"black\" points=\"4357.74,-166.4 4363.17,-157.3 4353.25,-161.03 4357.74,-166.4\"/>\n</g>\n<!-- 150 -->\n<g id=\"node151\" class=\"node\">\n<title>150</title>\n<polygon fill=\"#399de5\" stroke=\"black\" points=\"4393.5,-53 4298.5,-53 4298.5,0 4393.5,0 4393.5,-53\"/>\n<text text-anchor=\"middle\" x=\"4346\" y=\"-37.8\" font-family=\"Helvetica,sans-Serif\" font-size=\"14.00\">gini = 0.0</text>\n<text text-anchor=\"middle\" x=\"4346\" y=\"-22.8\" font-family=\"Helvetica,sans-Serif\" font-size=\"14.00\">samples = 1</text>\n<text text-anchor=\"middle\" x=\"4346\" y=\"-7.8\" font-family=\"Helvetica,sans-Serif\" font-size=\"14.00\">value = [0, 1]</text>\n</g>\n<!-- 149&#45;&gt;150 -->\n<g id=\"edge150\" class=\"edge\">\n<title>149&#45;&gt;150</title>\n<path fill=\"none\" stroke=\"black\" d=\"M4383.06,-88.95C4377.77,-80.17 4372.03,-70.66 4366.7,-61.82\"/>\n<polygon fill=\"black\" stroke=\"black\" points=\"4369.69,-59.99 4361.52,-53.24 4363.69,-63.61 4369.69,-59.99\"/>\n</g>\n<!-- 151 -->\n<g id=\"node152\" class=\"node\">\n<title>151</title>\n<polygon fill=\"#e58139\" stroke=\"black\" points=\"4506.5,-53 4411.5,-53 4411.5,0 4506.5,0 4506.5,-53\"/>\n<text text-anchor=\"middle\" x=\"4459\" y=\"-37.8\" font-family=\"Helvetica,sans-Serif\" font-size=\"14.00\">gini = 0.0</text>\n<text text-anchor=\"middle\" x=\"4459\" y=\"-22.8\" font-family=\"Helvetica,sans-Serif\" font-size=\"14.00\">samples = 1</text>\n<text text-anchor=\"middle\" x=\"4459\" y=\"-7.8\" font-family=\"Helvetica,sans-Serif\" font-size=\"14.00\">value = [1, 0]</text>\n</g>\n<!-- 149&#45;&gt;151 -->\n<g id=\"edge151\" class=\"edge\">\n<title>149&#45;&gt;151</title>\n<path fill=\"none\" stroke=\"black\" d=\"M4422.59,-88.95C4427.74,-80.26 4433.3,-70.86 4438.5,-62.09\"/>\n<polygon fill=\"black\" stroke=\"black\" points=\"4441.66,-63.62 4443.75,-53.24 4435.64,-60.06 4441.66,-63.62\"/>\n</g>\n<!-- 154 -->\n<g id=\"node155\" class=\"node\">\n<title>154</title>\n<polygon fill=\"#4da7e8\" stroke=\"black\" points=\"4638,-469 4484,-469 4484,-401 4638,-401 4638,-469\"/>\n<text text-anchor=\"middle\" x=\"4561\" y=\"-453.8\" font-family=\"Helvetica,sans-Serif\" font-size=\"14.00\">Pregnancies &lt;= &#45;0.981</text>\n<text text-anchor=\"middle\" x=\"4561\" y=\"-438.8\" font-family=\"Helvetica,sans-Serif\" font-size=\"14.00\">gini = 0.165</text>\n<text text-anchor=\"middle\" x=\"4561\" y=\"-423.8\" font-family=\"Helvetica,sans-Serif\" font-size=\"14.00\">samples = 33</text>\n<text text-anchor=\"middle\" x=\"4561\" y=\"-408.8\" font-family=\"Helvetica,sans-Serif\" font-size=\"14.00\">value = [3, 30]</text>\n</g>\n<!-- 153&#45;&gt;154 -->\n<g id=\"edge154\" class=\"edge\">\n<title>153&#45;&gt;154</title>\n<path fill=\"none\" stroke=\"black\" d=\"M4561,-504.88C4561,-496.78 4561,-487.98 4561,-479.47\"/>\n<polygon fill=\"black\" stroke=\"black\" points=\"4564.5,-479.3 4561,-469.3 4557.5,-479.3 4564.5,-479.3\"/>\n</g>\n<!-- 165 -->\n<g id=\"node166\" class=\"node\">\n<title>165</title>\n<polygon fill=\"#f2c09c\" stroke=\"black\" points=\"4917.5,-469 4684.5,-469 4684.5,-401 4917.5,-401 4917.5,-469\"/>\n<text text-anchor=\"middle\" x=\"4801\" y=\"-453.8\" font-family=\"Helvetica,sans-Serif\" font-size=\"14.00\">DiabetesPedigreeFunction &lt;= 0.344</text>\n<text text-anchor=\"middle\" x=\"4801\" y=\"-438.8\" font-family=\"Helvetica,sans-Serif\" font-size=\"14.00\">gini = 0.444</text>\n<text text-anchor=\"middle\" x=\"4801\" y=\"-423.8\" font-family=\"Helvetica,sans-Serif\" font-size=\"14.00\">samples = 3</text>\n<text text-anchor=\"middle\" x=\"4801\" y=\"-408.8\" font-family=\"Helvetica,sans-Serif\" font-size=\"14.00\">value = [2, 1]</text>\n</g>\n<!-- 153&#45;&gt;165 -->\n<g id=\"edge165\" class=\"edge\">\n<title>153&#45;&gt;165</title>\n<path fill=\"none\" stroke=\"black\" d=\"M4617.57,-513.96C4646.2,-501.79 4681.6,-486.75 4713.63,-473.13\"/>\n<polygon fill=\"black\" stroke=\"black\" points=\"4715.18,-476.28 4723.01,-469.15 4712.44,-469.84 4715.18,-476.28\"/>\n</g>\n<!-- 155 -->\n<g id=\"node156\" class=\"node\">\n<title>155</title>\n<polygon fill=\"#bddef6\" stroke=\"black\" points=\"4615.5,-365 4448.5,-365 4448.5,-297 4615.5,-297 4615.5,-365\"/>\n<text text-anchor=\"middle\" x=\"4532\" y=\"-349.8\" font-family=\"Helvetica,sans-Serif\" font-size=\"14.00\">BloodPressure &lt;= &#45;0.472</text>\n<text text-anchor=\"middle\" x=\"4532\" y=\"-334.8\" font-family=\"Helvetica,sans-Serif\" font-size=\"14.00\">gini = 0.48</text>\n<text text-anchor=\"middle\" x=\"4532\" y=\"-319.8\" font-family=\"Helvetica,sans-Serif\" font-size=\"14.00\">samples = 5</text>\n<text text-anchor=\"middle\" x=\"4532\" y=\"-304.8\" font-family=\"Helvetica,sans-Serif\" font-size=\"14.00\">value = [2, 3]</text>\n</g>\n<!-- 154&#45;&gt;155 -->\n<g id=\"edge155\" class=\"edge\">\n<title>154&#45;&gt;155</title>\n<path fill=\"none\" stroke=\"black\" d=\"M4551.58,-400.88C4549.25,-392.69 4546.72,-383.79 4544.28,-375.19\"/>\n<polygon fill=\"black\" stroke=\"black\" points=\"4547.57,-373.96 4541.47,-365.3 4540.84,-375.88 4547.57,-373.96\"/>\n</g>\n<!-- 160 -->\n<g id=\"node161\" class=\"node\">\n<title>160</title>\n<polygon fill=\"#40a1e6\" stroke=\"black\" points=\"4735,-365 4633,-365 4633,-297 4735,-297 4735,-365\"/>\n<text text-anchor=\"middle\" x=\"4684\" y=\"-349.8\" font-family=\"Helvetica,sans-Serif\" font-size=\"14.00\">BMI &lt;= 0.992</text>\n<text text-anchor=\"middle\" x=\"4684\" y=\"-334.8\" font-family=\"Helvetica,sans-Serif\" font-size=\"14.00\">gini = 0.069</text>\n<text text-anchor=\"middle\" x=\"4684\" y=\"-319.8\" font-family=\"Helvetica,sans-Serif\" font-size=\"14.00\">samples = 28</text>\n<text text-anchor=\"middle\" x=\"4684\" y=\"-304.8\" font-family=\"Helvetica,sans-Serif\" font-size=\"14.00\">value = [1, 27]</text>\n</g>\n<!-- 154&#45;&gt;160 -->\n<g id=\"edge160\" class=\"edge\">\n<title>154&#45;&gt;160</title>\n<path fill=\"none\" stroke=\"black\" d=\"M4600.93,-400.88C4612.11,-391.62 4624.36,-381.45 4635.95,-371.85\"/>\n<polygon fill=\"black\" stroke=\"black\" points=\"4638.38,-374.38 4643.84,-365.3 4633.91,-368.99 4638.38,-374.38\"/>\n</g>\n<!-- 156 -->\n<g id=\"node157\" class=\"node\">\n<title>156</title>\n<polygon fill=\"#399de5\" stroke=\"black\" points=\"4456.5,-253.5 4361.5,-253.5 4361.5,-200.5 4456.5,-200.5 4456.5,-253.5\"/>\n<text text-anchor=\"middle\" x=\"4409\" y=\"-238.3\" font-family=\"Helvetica,sans-Serif\" font-size=\"14.00\">gini = 0.0</text>\n<text text-anchor=\"middle\" x=\"4409\" y=\"-223.3\" font-family=\"Helvetica,sans-Serif\" font-size=\"14.00\">samples = 2</text>\n<text text-anchor=\"middle\" x=\"4409\" y=\"-208.3\" font-family=\"Helvetica,sans-Serif\" font-size=\"14.00\">value = [0, 2]</text>\n</g>\n<!-- 155&#45;&gt;156 -->\n<g id=\"edge156\" class=\"edge\">\n<title>155&#45;&gt;156</title>\n<path fill=\"none\" stroke=\"black\" d=\"M4492.07,-296.88C4477.87,-285.12 4461.93,-271.89 4447.83,-260.2\"/>\n<polygon fill=\"black\" stroke=\"black\" points=\"4449.71,-257.21 4439.77,-253.52 4445.24,-262.6 4449.71,-257.21\"/>\n</g>\n<!-- 157 -->\n<g id=\"node158\" class=\"node\">\n<title>157</title>\n<polygon fill=\"#f2c09c\" stroke=\"black\" points=\"4637.5,-261 4474.5,-261 4474.5,-193 4637.5,-193 4637.5,-261\"/>\n<text text-anchor=\"middle\" x=\"4556\" y=\"-245.8\" font-family=\"Helvetica,sans-Serif\" font-size=\"14.00\">BloodPressure &lt;= 0.807</text>\n<text text-anchor=\"middle\" x=\"4556\" y=\"-230.8\" font-family=\"Helvetica,sans-Serif\" font-size=\"14.00\">gini = 0.444</text>\n<text text-anchor=\"middle\" x=\"4556\" y=\"-215.8\" font-family=\"Helvetica,sans-Serif\" font-size=\"14.00\">samples = 3</text>\n<text text-anchor=\"middle\" x=\"4556\" y=\"-200.8\" font-family=\"Helvetica,sans-Serif\" font-size=\"14.00\">value = [2, 1]</text>\n</g>\n<!-- 155&#45;&gt;157 -->\n<g id=\"edge157\" class=\"edge\">\n<title>155&#45;&gt;157</title>\n<path fill=\"none\" stroke=\"black\" d=\"M4539.79,-296.88C4541.72,-288.69 4543.81,-279.79 4545.84,-271.19\"/>\n<polygon fill=\"black\" stroke=\"black\" points=\"4549.28,-271.84 4548.16,-261.3 4542.47,-270.23 4549.28,-271.84\"/>\n</g>\n<!-- 158 -->\n<g id=\"node159\" class=\"node\">\n<title>158</title>\n<polygon fill=\"#e58139\" stroke=\"black\" points=\"4582.5,-149.5 4487.5,-149.5 4487.5,-96.5 4582.5,-96.5 4582.5,-149.5\"/>\n<text text-anchor=\"middle\" x=\"4535\" y=\"-134.3\" font-family=\"Helvetica,sans-Serif\" font-size=\"14.00\">gini = 0.0</text>\n<text text-anchor=\"middle\" x=\"4535\" y=\"-119.3\" font-family=\"Helvetica,sans-Serif\" font-size=\"14.00\">samples = 2</text>\n<text text-anchor=\"middle\" x=\"4535\" y=\"-104.3\" font-family=\"Helvetica,sans-Serif\" font-size=\"14.00\">value = [2, 0]</text>\n</g>\n<!-- 157&#45;&gt;158 -->\n<g id=\"edge158\" class=\"edge\">\n<title>157&#45;&gt;158</title>\n<path fill=\"none\" stroke=\"black\" d=\"M4549.18,-192.88C4546.99,-182.22 4544.54,-170.35 4542.31,-159.52\"/>\n<polygon fill=\"black\" stroke=\"black\" points=\"4545.7,-158.61 4540.25,-149.52 4538.84,-160.02 4545.7,-158.61\"/>\n</g>\n<!-- 159 -->\n<g id=\"node160\" class=\"node\">\n<title>159</title>\n<polygon fill=\"#399de5\" stroke=\"black\" points=\"4695.5,-149.5 4600.5,-149.5 4600.5,-96.5 4695.5,-96.5 4695.5,-149.5\"/>\n<text text-anchor=\"middle\" x=\"4648\" y=\"-134.3\" font-family=\"Helvetica,sans-Serif\" font-size=\"14.00\">gini = 0.0</text>\n<text text-anchor=\"middle\" x=\"4648\" y=\"-119.3\" font-family=\"Helvetica,sans-Serif\" font-size=\"14.00\">samples = 1</text>\n<text text-anchor=\"middle\" x=\"4648\" y=\"-104.3\" font-family=\"Helvetica,sans-Serif\" font-size=\"14.00\">value = [0, 1]</text>\n</g>\n<!-- 157&#45;&gt;159 -->\n<g id=\"edge159\" class=\"edge\">\n<title>157&#45;&gt;159</title>\n<path fill=\"none\" stroke=\"black\" d=\"M4585.87,-192.88C4596.19,-181.45 4607.74,-168.63 4618.06,-157.19\"/>\n<polygon fill=\"black\" stroke=\"black\" points=\"4620.88,-159.29 4624.98,-149.52 4615.69,-154.6 4620.88,-159.29\"/>\n</g>\n<!-- 161 -->\n<g id=\"node162\" class=\"node\">\n<title>161</title>\n<polygon fill=\"#399de5\" stroke=\"black\" points=\"4758,-253.5 4656,-253.5 4656,-200.5 4758,-200.5 4758,-253.5\"/>\n<text text-anchor=\"middle\" x=\"4707\" y=\"-238.3\" font-family=\"Helvetica,sans-Serif\" font-size=\"14.00\">gini = 0.0</text>\n<text text-anchor=\"middle\" x=\"4707\" y=\"-223.3\" font-family=\"Helvetica,sans-Serif\" font-size=\"14.00\">samples = 22</text>\n<text text-anchor=\"middle\" x=\"4707\" y=\"-208.3\" font-family=\"Helvetica,sans-Serif\" font-size=\"14.00\">value = [0, 22]</text>\n</g>\n<!-- 160&#45;&gt;161 -->\n<g id=\"edge161\" class=\"edge\">\n<title>160&#45;&gt;161</title>\n<path fill=\"none\" stroke=\"black\" d=\"M4691.47,-296.88C4693.87,-286.22 4696.55,-274.35 4698.99,-263.52\"/>\n<polygon fill=\"black\" stroke=\"black\" points=\"4702.46,-264.04 4701.25,-253.52 4695.63,-262.51 4702.46,-264.04\"/>\n</g>\n<!-- 162 -->\n<g id=\"node163\" class=\"node\">\n<title>162</title>\n<polygon fill=\"#61b1ea\" stroke=\"black\" points=\"4875.5,-261 4776.5,-261 4776.5,-193 4875.5,-193 4875.5,-261\"/>\n<text text-anchor=\"middle\" x=\"4826\" y=\"-245.8\" font-family=\"Helvetica,sans-Serif\" font-size=\"14.00\">BMI &lt;= 1.074</text>\n<text text-anchor=\"middle\" x=\"4826\" y=\"-230.8\" font-family=\"Helvetica,sans-Serif\" font-size=\"14.00\">gini = 0.278</text>\n<text text-anchor=\"middle\" x=\"4826\" y=\"-215.8\" font-family=\"Helvetica,sans-Serif\" font-size=\"14.00\">samples = 6</text>\n<text text-anchor=\"middle\" x=\"4826\" y=\"-200.8\" font-family=\"Helvetica,sans-Serif\" font-size=\"14.00\">value = [1, 5]</text>\n</g>\n<!-- 160&#45;&gt;162 -->\n<g id=\"edge162\" class=\"edge\">\n<title>160&#45;&gt;162</title>\n<path fill=\"none\" stroke=\"black\" d=\"M4730.1,-296.88C4743.25,-287.44 4757.7,-277.06 4771.3,-267.29\"/>\n<polygon fill=\"black\" stroke=\"black\" points=\"4773.56,-269.98 4779.64,-261.3 4769.48,-264.29 4773.56,-269.98\"/>\n</g>\n<!-- 163 -->\n<g id=\"node164\" class=\"node\">\n<title>163</title>\n<polygon fill=\"#e58139\" stroke=\"black\" points=\"4814.5,-149.5 4719.5,-149.5 4719.5,-96.5 4814.5,-96.5 4814.5,-149.5\"/>\n<text text-anchor=\"middle\" x=\"4767\" y=\"-134.3\" font-family=\"Helvetica,sans-Serif\" font-size=\"14.00\">gini = 0.0</text>\n<text text-anchor=\"middle\" x=\"4767\" y=\"-119.3\" font-family=\"Helvetica,sans-Serif\" font-size=\"14.00\">samples = 1</text>\n<text text-anchor=\"middle\" x=\"4767\" y=\"-104.3\" font-family=\"Helvetica,sans-Serif\" font-size=\"14.00\">value = [1, 0]</text>\n</g>\n<!-- 162&#45;&gt;163 -->\n<g id=\"edge163\" class=\"edge\">\n<title>162&#45;&gt;163</title>\n<path fill=\"none\" stroke=\"black\" d=\"M4806.84,-192.88C4800.42,-181.78 4793.24,-169.37 4786.77,-158.18\"/>\n<polygon fill=\"black\" stroke=\"black\" points=\"4789.8,-156.42 4781.76,-149.52 4783.74,-159.93 4789.8,-156.42\"/>\n</g>\n<!-- 164 -->\n<g id=\"node165\" class=\"node\">\n<title>164</title>\n<polygon fill=\"#399de5\" stroke=\"black\" points=\"4927.5,-149.5 4832.5,-149.5 4832.5,-96.5 4927.5,-96.5 4927.5,-149.5\"/>\n<text text-anchor=\"middle\" x=\"4880\" y=\"-134.3\" font-family=\"Helvetica,sans-Serif\" font-size=\"14.00\">gini = 0.0</text>\n<text text-anchor=\"middle\" x=\"4880\" y=\"-119.3\" font-family=\"Helvetica,sans-Serif\" font-size=\"14.00\">samples = 5</text>\n<text text-anchor=\"middle\" x=\"4880\" y=\"-104.3\" font-family=\"Helvetica,sans-Serif\" font-size=\"14.00\">value = [0, 5]</text>\n</g>\n<!-- 162&#45;&gt;164 -->\n<g id=\"edge164\" class=\"edge\">\n<title>162&#45;&gt;164</title>\n<path fill=\"none\" stroke=\"black\" d=\"M4843.53,-192.88C4849.35,-181.89 4855.85,-169.62 4861.73,-158.52\"/>\n<polygon fill=\"black\" stroke=\"black\" points=\"4864.9,-160 4866.49,-149.52 4858.72,-156.72 4864.9,-160\"/>\n</g>\n<!-- 166 -->\n<g id=\"node167\" class=\"node\">\n<title>166</title>\n<polygon fill=\"#399de5\" stroke=\"black\" points=\"4848.5,-357.5 4753.5,-357.5 4753.5,-304.5 4848.5,-304.5 4848.5,-357.5\"/>\n<text text-anchor=\"middle\" x=\"4801\" y=\"-342.3\" font-family=\"Helvetica,sans-Serif\" font-size=\"14.00\">gini = 0.0</text>\n<text text-anchor=\"middle\" x=\"4801\" y=\"-327.3\" font-family=\"Helvetica,sans-Serif\" font-size=\"14.00\">samples = 1</text>\n<text text-anchor=\"middle\" x=\"4801\" y=\"-312.3\" font-family=\"Helvetica,sans-Serif\" font-size=\"14.00\">value = [0, 1]</text>\n</g>\n<!-- 165&#45;&gt;166 -->\n<g id=\"edge166\" class=\"edge\">\n<title>165&#45;&gt;166</title>\n<path fill=\"none\" stroke=\"black\" d=\"M4801,-400.88C4801,-390.33 4801,-378.6 4801,-367.85\"/>\n<polygon fill=\"black\" stroke=\"black\" points=\"4804.5,-367.52 4801,-357.52 4797.5,-367.52 4804.5,-367.52\"/>\n</g>\n<!-- 167 -->\n<g id=\"node168\" class=\"node\">\n<title>167</title>\n<polygon fill=\"#e58139\" stroke=\"black\" points=\"4961.5,-357.5 4866.5,-357.5 4866.5,-304.5 4961.5,-304.5 4961.5,-357.5\"/>\n<text text-anchor=\"middle\" x=\"4914\" y=\"-342.3\" font-family=\"Helvetica,sans-Serif\" font-size=\"14.00\">gini = 0.0</text>\n<text text-anchor=\"middle\" x=\"4914\" y=\"-327.3\" font-family=\"Helvetica,sans-Serif\" font-size=\"14.00\">samples = 2</text>\n<text text-anchor=\"middle\" x=\"4914\" y=\"-312.3\" font-family=\"Helvetica,sans-Serif\" font-size=\"14.00\">value = [2, 0]</text>\n</g>\n<!-- 165&#45;&gt;167 -->\n<g id=\"edge167\" class=\"edge\">\n<title>165&#45;&gt;167</title>\n<path fill=\"none\" stroke=\"black\" d=\"M4837.69,-400.88C4850.6,-389.23 4865.1,-376.14 4877.96,-364.53\"/>\n<polygon fill=\"black\" stroke=\"black\" points=\"4880.65,-366.82 4885.73,-357.52 4875.96,-361.62 4880.65,-366.82\"/>\n</g>\n<!-- 169 -->\n<g id=\"node170\" class=\"node\">\n<title>169</title>\n<polygon fill=\"#4fa8e8\" stroke=\"black\" points=\"5261,-677 5031,-677 5031,-609 5261,-609 5261,-677\"/>\n<text text-anchor=\"middle\" x=\"5146\" y=\"-661.8\" font-family=\"Helvetica,sans-Serif\" font-size=\"14.00\">DiabetesPedigreeFunction &lt;= &#45;0.48</text>\n<text text-anchor=\"middle\" x=\"5146\" y=\"-646.8\" font-family=\"Helvetica,sans-Serif\" font-size=\"14.00\">gini = 0.182</text>\n<text text-anchor=\"middle\" x=\"5146\" y=\"-631.8\" font-family=\"Helvetica,sans-Serif\" font-size=\"14.00\">samples = 69</text>\n<text text-anchor=\"middle\" x=\"5146\" y=\"-616.8\" font-family=\"Helvetica,sans-Serif\" font-size=\"14.00\">value = [7, 62]</text>\n</g>\n<!-- 168&#45;&gt;169 -->\n<g id=\"edge169\" class=\"edge\">\n<title>168&#45;&gt;169</title>\n<path fill=\"none\" stroke=\"black\" d=\"M5146,-712.88C5146,-704.78 5146,-695.98 5146,-687.47\"/>\n<polygon fill=\"black\" stroke=\"black\" points=\"5149.5,-687.3 5146,-677.3 5142.5,-687.3 5149.5,-687.3\"/>\n</g>\n<!-- 186 -->\n<g id=\"node187\" class=\"node\">\n<title>186</title>\n<polygon fill=\"#f2c09c\" stroke=\"black\" points=\"5481,-677 5327,-677 5327,-609 5481,-609 5481,-677\"/>\n<text text-anchor=\"middle\" x=\"5404\" y=\"-661.8\" font-family=\"Helvetica,sans-Serif\" font-size=\"14.00\">SkinThickness &lt;= 0.46</text>\n<text text-anchor=\"middle\" x=\"5404\" y=\"-646.8\" font-family=\"Helvetica,sans-Serif\" font-size=\"14.00\">gini = 0.444</text>\n<text text-anchor=\"middle\" x=\"5404\" y=\"-631.8\" font-family=\"Helvetica,sans-Serif\" font-size=\"14.00\">samples = 3</text>\n<text text-anchor=\"middle\" x=\"5404\" y=\"-616.8\" font-family=\"Helvetica,sans-Serif\" font-size=\"14.00\">value = [2, 1]</text>\n</g>\n<!-- 168&#45;&gt;186 -->\n<g id=\"edge186\" class=\"edge\">\n<title>168&#45;&gt;186</title>\n<path fill=\"none\" stroke=\"black\" d=\"M5202.62,-723.62C5236.26,-710.32 5279.61,-693.18 5317.46,-678.21\"/>\n<polygon fill=\"black\" stroke=\"black\" points=\"5318.95,-681.39 5326.96,-674.46 5316.37,-674.88 5318.95,-681.39\"/>\n</g>\n<!-- 170 -->\n<g id=\"node171\" class=\"node\">\n<title>170</title>\n<polygon fill=\"#85c3ef\" stroke=\"black\" points=\"5218,-573 4980,-573 4980,-505 5218,-505 5218,-573\"/>\n<text text-anchor=\"middle\" x=\"5099\" y=\"-557.8\" font-family=\"Helvetica,sans-Serif\" font-size=\"14.00\">DiabetesPedigreeFunction &lt;= &#45;0.535</text>\n<text text-anchor=\"middle\" x=\"5099\" y=\"-542.8\" font-family=\"Helvetica,sans-Serif\" font-size=\"14.00\">gini = 0.401</text>\n<text text-anchor=\"middle\" x=\"5099\" y=\"-527.8\" font-family=\"Helvetica,sans-Serif\" font-size=\"14.00\">samples = 18</text>\n<text text-anchor=\"middle\" x=\"5099\" y=\"-512.8\" font-family=\"Helvetica,sans-Serif\" font-size=\"14.00\">value = [5, 13]</text>\n</g>\n<!-- 169&#45;&gt;170 -->\n<g id=\"edge170\" class=\"edge\">\n<title>169&#45;&gt;170</title>\n<path fill=\"none\" stroke=\"black\" d=\"M5130.74,-608.88C5126.88,-600.51 5122.68,-591.4 5118.64,-582.63\"/>\n<polygon fill=\"black\" stroke=\"black\" points=\"5121.71,-580.92 5114.34,-573.3 5115.35,-583.85 5121.71,-580.92\"/>\n</g>\n<!-- 179 -->\n<g id=\"node180\" class=\"node\">\n<title>179</title>\n<polygon fill=\"#41a1e6\" stroke=\"black\" points=\"5338,-573 5236,-573 5236,-505 5338,-505 5338,-573\"/>\n<text text-anchor=\"middle\" x=\"5287\" y=\"-557.8\" font-family=\"Helvetica,sans-Serif\" font-size=\"14.00\">Age &lt;= 1.2</text>\n<text text-anchor=\"middle\" x=\"5287\" y=\"-542.8\" font-family=\"Helvetica,sans-Serif\" font-size=\"14.00\">gini = 0.075</text>\n<text text-anchor=\"middle\" x=\"5287\" y=\"-527.8\" font-family=\"Helvetica,sans-Serif\" font-size=\"14.00\">samples = 51</text>\n<text text-anchor=\"middle\" x=\"5287\" y=\"-512.8\" font-family=\"Helvetica,sans-Serif\" font-size=\"14.00\">value = [2, 49]</text>\n</g>\n<!-- 169&#45;&gt;179 -->\n<g id=\"edge179\" class=\"edge\">\n<title>169&#45;&gt;179</title>\n<path fill=\"none\" stroke=\"black\" d=\"M5191.78,-608.88C5204.83,-599.44 5219.18,-589.06 5232.69,-579.29\"/>\n<polygon fill=\"black\" stroke=\"black\" points=\"5234.92,-582 5240.97,-573.3 5230.81,-576.32 5234.92,-582\"/>\n</g>\n<!-- 171 -->\n<g id=\"node172\" class=\"node\">\n<title>171</title>\n<polygon fill=\"#67b4eb\" stroke=\"black\" points=\"5104.5,-469 4979.5,-469 4979.5,-401 5104.5,-401 5104.5,-469\"/>\n<text text-anchor=\"middle\" x=\"5042\" y=\"-453.8\" font-family=\"Helvetica,sans-Serif\" font-size=\"14.00\">Glucose &lt;= 1.844</text>\n<text text-anchor=\"middle\" x=\"5042\" y=\"-438.8\" font-family=\"Helvetica,sans-Serif\" font-size=\"14.00\">gini = 0.305</text>\n<text text-anchor=\"middle\" x=\"5042\" y=\"-423.8\" font-family=\"Helvetica,sans-Serif\" font-size=\"14.00\">samples = 16</text>\n<text text-anchor=\"middle\" x=\"5042\" y=\"-408.8\" font-family=\"Helvetica,sans-Serif\" font-size=\"14.00\">value = [3, 13]</text>\n</g>\n<!-- 170&#45;&gt;171 -->\n<g id=\"edge171\" class=\"edge\">\n<title>170&#45;&gt;171</title>\n<path fill=\"none\" stroke=\"black\" d=\"M5080.49,-504.88C5075.72,-496.33 5070.51,-487.01 5065.51,-478.07\"/>\n<polygon fill=\"black\" stroke=\"black\" points=\"5068.54,-476.32 5060.61,-469.3 5062.43,-479.74 5068.54,-476.32\"/>\n</g>\n<!-- 178 -->\n<g id=\"node179\" class=\"node\">\n<title>178</title>\n<polygon fill=\"#e58139\" stroke=\"black\" points=\"5217.5,-461.5 5122.5,-461.5 5122.5,-408.5 5217.5,-408.5 5217.5,-461.5\"/>\n<text text-anchor=\"middle\" x=\"5170\" y=\"-446.3\" font-family=\"Helvetica,sans-Serif\" font-size=\"14.00\">gini = 0.0</text>\n<text text-anchor=\"middle\" x=\"5170\" y=\"-431.3\" font-family=\"Helvetica,sans-Serif\" font-size=\"14.00\">samples = 2</text>\n<text text-anchor=\"middle\" x=\"5170\" y=\"-416.3\" font-family=\"Helvetica,sans-Serif\" font-size=\"14.00\">value = [2, 0]</text>\n</g>\n<!-- 170&#45;&gt;178 -->\n<g id=\"edge178\" class=\"edge\">\n<title>170&#45;&gt;178</title>\n<path fill=\"none\" stroke=\"black\" d=\"M5122.05,-504.88C5129.86,-493.67 5138.59,-481.13 5146.44,-469.85\"/>\n<polygon fill=\"black\" stroke=\"black\" points=\"5149.4,-471.73 5152.24,-461.52 5143.65,-467.73 5149.4,-471.73\"/>\n</g>\n<!-- 172 -->\n<g id=\"node173\" class=\"node\">\n<title>172</title>\n<polygon fill=\"#8ec7f0\" stroke=\"black\" points=\"5104.5,-365 4979.5,-365 4979.5,-297 5104.5,-297 5104.5,-365\"/>\n<text text-anchor=\"middle\" x=\"5042\" y=\"-349.8\" font-family=\"Helvetica,sans-Serif\" font-size=\"14.00\">Glucose &lt;= 1.765</text>\n<text text-anchor=\"middle\" x=\"5042\" y=\"-334.8\" font-family=\"Helvetica,sans-Serif\" font-size=\"14.00\">gini = 0.42</text>\n<text text-anchor=\"middle\" x=\"5042\" y=\"-319.8\" font-family=\"Helvetica,sans-Serif\" font-size=\"14.00\">samples = 10</text>\n<text text-anchor=\"middle\" x=\"5042\" y=\"-304.8\" font-family=\"Helvetica,sans-Serif\" font-size=\"14.00\">value = [3, 7]</text>\n</g>\n<!-- 171&#45;&gt;172 -->\n<g id=\"edge172\" class=\"edge\">\n<title>171&#45;&gt;172</title>\n<path fill=\"none\" stroke=\"black\" d=\"M5042,-400.88C5042,-392.78 5042,-383.98 5042,-375.47\"/>\n<polygon fill=\"black\" stroke=\"black\" points=\"5045.5,-375.3 5042,-365.3 5038.5,-375.3 5045.5,-375.3\"/>\n</g>\n<!-- 177 -->\n<g id=\"node178\" class=\"node\">\n<title>177</title>\n<polygon fill=\"#399de5\" stroke=\"black\" points=\"5217.5,-357.5 5122.5,-357.5 5122.5,-304.5 5217.5,-304.5 5217.5,-357.5\"/>\n<text text-anchor=\"middle\" x=\"5170\" y=\"-342.3\" font-family=\"Helvetica,sans-Serif\" font-size=\"14.00\">gini = 0.0</text>\n<text text-anchor=\"middle\" x=\"5170\" y=\"-327.3\" font-family=\"Helvetica,sans-Serif\" font-size=\"14.00\">samples = 6</text>\n<text text-anchor=\"middle\" x=\"5170\" y=\"-312.3\" font-family=\"Helvetica,sans-Serif\" font-size=\"14.00\">value = [0, 6]</text>\n</g>\n<!-- 171&#45;&gt;177 -->\n<g id=\"edge177\" class=\"edge\">\n<title>171&#45;&gt;177</title>\n<path fill=\"none\" stroke=\"black\" d=\"M5083.56,-400.88C5098.46,-389.01 5115.23,-375.65 5130,-363.88\"/>\n<polygon fill=\"black\" stroke=\"black\" points=\"5132.34,-366.49 5137.97,-357.52 5127.97,-361.01 5132.34,-366.49\"/>\n</g>\n<!-- 173 -->\n<g id=\"node174\" class=\"node\">\n<title>173</title>\n<polygon fill=\"#55abe9\" stroke=\"black\" points=\"5099.5,-261 4938.5,-261 4938.5,-193 5099.5,-193 5099.5,-261\"/>\n<text text-anchor=\"middle\" x=\"5019\" y=\"-245.8\" font-family=\"Helvetica,sans-Serif\" font-size=\"14.00\">SkinThickness &lt;= 1.083</text>\n<text text-anchor=\"middle\" x=\"5019\" y=\"-230.8\" font-family=\"Helvetica,sans-Serif\" font-size=\"14.00\">gini = 0.219</text>\n<text text-anchor=\"middle\" x=\"5019\" y=\"-215.8\" font-family=\"Helvetica,sans-Serif\" font-size=\"14.00\">samples = 8</text>\n<text text-anchor=\"middle\" x=\"5019\" y=\"-200.8\" font-family=\"Helvetica,sans-Serif\" font-size=\"14.00\">value = [1, 7]</text>\n</g>\n<!-- 172&#45;&gt;173 -->\n<g id=\"edge173\" class=\"edge\">\n<title>172&#45;&gt;173</title>\n<path fill=\"none\" stroke=\"black\" d=\"M5034.53,-296.88C5032.68,-288.69 5030.68,-279.79 5028.74,-271.19\"/>\n<polygon fill=\"black\" stroke=\"black\" points=\"5032.12,-270.28 5026.51,-261.3 5025.29,-271.82 5032.12,-270.28\"/>\n</g>\n<!-- 176 -->\n<g id=\"node177\" class=\"node\">\n<title>176</title>\n<polygon fill=\"#e58139\" stroke=\"black\" points=\"5212.5,-253.5 5117.5,-253.5 5117.5,-200.5 5212.5,-200.5 5212.5,-253.5\"/>\n<text text-anchor=\"middle\" x=\"5165\" y=\"-238.3\" font-family=\"Helvetica,sans-Serif\" font-size=\"14.00\">gini = 0.0</text>\n<text text-anchor=\"middle\" x=\"5165\" y=\"-223.3\" font-family=\"Helvetica,sans-Serif\" font-size=\"14.00\">samples = 2</text>\n<text text-anchor=\"middle\" x=\"5165\" y=\"-208.3\" font-family=\"Helvetica,sans-Serif\" font-size=\"14.00\">value = [2, 0]</text>\n</g>\n<!-- 172&#45;&gt;176 -->\n<g id=\"edge176\" class=\"edge\">\n<title>172&#45;&gt;176</title>\n<path fill=\"none\" stroke=\"black\" d=\"M5081.93,-296.88C5096.13,-285.12 5112.07,-271.89 5126.17,-260.2\"/>\n<polygon fill=\"black\" stroke=\"black\" points=\"5128.76,-262.6 5134.23,-253.52 5124.29,-257.21 5128.76,-262.6\"/>\n</g>\n<!-- 174 -->\n<g id=\"node175\" class=\"node\">\n<title>174</title>\n<polygon fill=\"#399de5\" stroke=\"black\" points=\"5059.5,-149.5 4964.5,-149.5 4964.5,-96.5 5059.5,-96.5 5059.5,-149.5\"/>\n<text text-anchor=\"middle\" x=\"5012\" y=\"-134.3\" font-family=\"Helvetica,sans-Serif\" font-size=\"14.00\">gini = 0.0</text>\n<text text-anchor=\"middle\" x=\"5012\" y=\"-119.3\" font-family=\"Helvetica,sans-Serif\" font-size=\"14.00\">samples = 7</text>\n<text text-anchor=\"middle\" x=\"5012\" y=\"-104.3\" font-family=\"Helvetica,sans-Serif\" font-size=\"14.00\">value = [0, 7]</text>\n</g>\n<!-- 173&#45;&gt;174 -->\n<g id=\"edge174\" class=\"edge\">\n<title>173&#45;&gt;174</title>\n<path fill=\"none\" stroke=\"black\" d=\"M5016.73,-192.88C5016,-182.22 5015.18,-170.35 5014.44,-159.52\"/>\n<polygon fill=\"black\" stroke=\"black\" points=\"5017.93,-159.26 5013.75,-149.52 5010.94,-159.74 5017.93,-159.26\"/>\n</g>\n<!-- 175 -->\n<g id=\"node176\" class=\"node\">\n<title>175</title>\n<polygon fill=\"#e58139\" stroke=\"black\" points=\"5172.5,-149.5 5077.5,-149.5 5077.5,-96.5 5172.5,-96.5 5172.5,-149.5\"/>\n<text text-anchor=\"middle\" x=\"5125\" y=\"-134.3\" font-family=\"Helvetica,sans-Serif\" font-size=\"14.00\">gini = 0.0</text>\n<text text-anchor=\"middle\" x=\"5125\" y=\"-119.3\" font-family=\"Helvetica,sans-Serif\" font-size=\"14.00\">samples = 1</text>\n<text text-anchor=\"middle\" x=\"5125\" y=\"-104.3\" font-family=\"Helvetica,sans-Serif\" font-size=\"14.00\">value = [1, 0]</text>\n</g>\n<!-- 173&#45;&gt;175 -->\n<g id=\"edge175\" class=\"edge\">\n<title>173&#45;&gt;175</title>\n<path fill=\"none\" stroke=\"black\" d=\"M5053.42,-192.88C5065.53,-181.23 5079.13,-168.14 5091.19,-156.53\"/>\n<polygon fill=\"black\" stroke=\"black\" points=\"5093.7,-158.98 5098.48,-149.52 5088.85,-153.93 5093.7,-158.98\"/>\n</g>\n<!-- 180 -->\n<g id=\"node181\" class=\"node\">\n<title>180</title>\n<polygon fill=\"#399de5\" stroke=\"black\" points=\"5338,-461.5 5236,-461.5 5236,-408.5 5338,-408.5 5338,-461.5\"/>\n<text text-anchor=\"middle\" x=\"5287\" y=\"-446.3\" font-family=\"Helvetica,sans-Serif\" font-size=\"14.00\">gini = 0.0</text>\n<text text-anchor=\"middle\" x=\"5287\" y=\"-431.3\" font-family=\"Helvetica,sans-Serif\" font-size=\"14.00\">samples = 42</text>\n<text text-anchor=\"middle\" x=\"5287\" y=\"-416.3\" font-family=\"Helvetica,sans-Serif\" font-size=\"14.00\">value = [0, 42]</text>\n</g>\n<!-- 179&#45;&gt;180 -->\n<g id=\"edge180\" class=\"edge\">\n<title>179&#45;&gt;180</title>\n<path fill=\"none\" stroke=\"black\" d=\"M5287,-504.88C5287,-494.33 5287,-482.6 5287,-471.85\"/>\n<polygon fill=\"black\" stroke=\"black\" points=\"5290.5,-471.52 5287,-461.52 5283.5,-471.52 5290.5,-471.52\"/>\n</g>\n<!-- 181 -->\n<g id=\"node182\" class=\"node\">\n<title>181</title>\n<polygon fill=\"#72b9ec\" stroke=\"black\" points=\"5455.5,-469 5356.5,-469 5356.5,-401 5455.5,-401 5455.5,-469\"/>\n<text text-anchor=\"middle\" x=\"5406\" y=\"-453.8\" font-family=\"Helvetica,sans-Serif\" font-size=\"14.00\">BMI &lt;= 1.738</text>\n<text text-anchor=\"middle\" x=\"5406\" y=\"-438.8\" font-family=\"Helvetica,sans-Serif\" font-size=\"14.00\">gini = 0.346</text>\n<text text-anchor=\"middle\" x=\"5406\" y=\"-423.8\" font-family=\"Helvetica,sans-Serif\" font-size=\"14.00\">samples = 9</text>\n<text text-anchor=\"middle\" x=\"5406\" y=\"-408.8\" font-family=\"Helvetica,sans-Serif\" font-size=\"14.00\">value = [2, 7]</text>\n</g>\n<!-- 179&#45;&gt;181 -->\n<g id=\"edge181\" class=\"edge\">\n<title>179&#45;&gt;181</title>\n<path fill=\"none\" stroke=\"black\" d=\"M5325.64,-504.88C5336.44,-495.62 5348.3,-485.45 5359.51,-475.85\"/>\n<polygon fill=\"black\" stroke=\"black\" points=\"5361.84,-478.46 5367.15,-469.3 5357.28,-473.15 5361.84,-478.46\"/>\n</g>\n<!-- 182 -->\n<g id=\"node183\" class=\"node\">\n<title>182</title>\n<polygon fill=\"#55abe9\" stroke=\"black\" points=\"5417,-365 5319,-365 5319,-297 5417,-297 5417,-365\"/>\n<text text-anchor=\"middle\" x=\"5368\" y=\"-349.8\" font-family=\"Helvetica,sans-Serif\" font-size=\"14.00\">Age &lt;= 1.408</text>\n<text text-anchor=\"middle\" x=\"5368\" y=\"-334.8\" font-family=\"Helvetica,sans-Serif\" font-size=\"14.00\">gini = 0.219</text>\n<text text-anchor=\"middle\" x=\"5368\" y=\"-319.8\" font-family=\"Helvetica,sans-Serif\" font-size=\"14.00\">samples = 8</text>\n<text text-anchor=\"middle\" x=\"5368\" y=\"-304.8\" font-family=\"Helvetica,sans-Serif\" font-size=\"14.00\">value = [1, 7]</text>\n</g>\n<!-- 181&#45;&gt;182 -->\n<g id=\"edge182\" class=\"edge\">\n<title>181&#45;&gt;182</title>\n<path fill=\"none\" stroke=\"black\" d=\"M5393.66,-400.88C5390.58,-392.6 5387.22,-383.6 5383.99,-374.91\"/>\n<polygon fill=\"black\" stroke=\"black\" points=\"5387.18,-373.45 5380.41,-365.3 5380.62,-375.89 5387.18,-373.45\"/>\n</g>\n<!-- 185 -->\n<g id=\"node186\" class=\"node\">\n<title>185</title>\n<polygon fill=\"#e58139\" stroke=\"black\" points=\"5530.5,-357.5 5435.5,-357.5 5435.5,-304.5 5530.5,-304.5 5530.5,-357.5\"/>\n<text text-anchor=\"middle\" x=\"5483\" y=\"-342.3\" font-family=\"Helvetica,sans-Serif\" font-size=\"14.00\">gini = 0.0</text>\n<text text-anchor=\"middle\" x=\"5483\" y=\"-327.3\" font-family=\"Helvetica,sans-Serif\" font-size=\"14.00\">samples = 1</text>\n<text text-anchor=\"middle\" x=\"5483\" y=\"-312.3\" font-family=\"Helvetica,sans-Serif\" font-size=\"14.00\">value = [1, 0]</text>\n</g>\n<!-- 181&#45;&gt;185 -->\n<g id=\"edge185\" class=\"edge\">\n<title>181&#45;&gt;185</title>\n<path fill=\"none\" stroke=\"black\" d=\"M5431,-400.88C5439.55,-389.56 5449.12,-376.88 5457.7,-365.52\"/>\n<polygon fill=\"black\" stroke=\"black\" points=\"5460.5,-367.61 5463.73,-357.52 5454.92,-363.39 5460.5,-367.61\"/>\n</g>\n<!-- 183 -->\n<g id=\"node184\" class=\"node\">\n<title>183</title>\n<polygon fill=\"#e58139\" stroke=\"black\" points=\"5377.5,-253.5 5282.5,-253.5 5282.5,-200.5 5377.5,-200.5 5377.5,-253.5\"/>\n<text text-anchor=\"middle\" x=\"5330\" y=\"-238.3\" font-family=\"Helvetica,sans-Serif\" font-size=\"14.00\">gini = 0.0</text>\n<text text-anchor=\"middle\" x=\"5330\" y=\"-223.3\" font-family=\"Helvetica,sans-Serif\" font-size=\"14.00\">samples = 1</text>\n<text text-anchor=\"middle\" x=\"5330\" y=\"-208.3\" font-family=\"Helvetica,sans-Serif\" font-size=\"14.00\">value = [1, 0]</text>\n</g>\n<!-- 182&#45;&gt;183 -->\n<g id=\"edge183\" class=\"edge\">\n<title>182&#45;&gt;183</title>\n<path fill=\"none\" stroke=\"black\" d=\"M5355.66,-296.88C5351.65,-286.11 5347.18,-274.11 5343.11,-263.18\"/>\n<polygon fill=\"black\" stroke=\"black\" points=\"5346.28,-261.67 5339.51,-253.52 5339.72,-264.11 5346.28,-261.67\"/>\n</g>\n<!-- 184 -->\n<g id=\"node185\" class=\"node\">\n<title>184</title>\n<polygon fill=\"#399de5\" stroke=\"black\" points=\"5490.5,-253.5 5395.5,-253.5 5395.5,-200.5 5490.5,-200.5 5490.5,-253.5\"/>\n<text text-anchor=\"middle\" x=\"5443\" y=\"-238.3\" font-family=\"Helvetica,sans-Serif\" font-size=\"14.00\">gini = 0.0</text>\n<text text-anchor=\"middle\" x=\"5443\" y=\"-223.3\" font-family=\"Helvetica,sans-Serif\" font-size=\"14.00\">samples = 7</text>\n<text text-anchor=\"middle\" x=\"5443\" y=\"-208.3\" font-family=\"Helvetica,sans-Serif\" font-size=\"14.00\">value = [0, 7]</text>\n</g>\n<!-- 182&#45;&gt;184 -->\n<g id=\"edge184\" class=\"edge\">\n<title>182&#45;&gt;184</title>\n<path fill=\"none\" stroke=\"black\" d=\"M5392.35,-296.88C5400.6,-285.67 5409.82,-273.13 5418.11,-261.85\"/>\n<polygon fill=\"black\" stroke=\"black\" points=\"5421.13,-263.65 5424.24,-253.52 5415.49,-259.5 5421.13,-263.65\"/>\n</g>\n<!-- 187 -->\n<g id=\"node188\" class=\"node\">\n<title>187</title>\n<polygon fill=\"#399de5\" stroke=\"black\" points=\"5451.5,-565.5 5356.5,-565.5 5356.5,-512.5 5451.5,-512.5 5451.5,-565.5\"/>\n<text text-anchor=\"middle\" x=\"5404\" y=\"-550.3\" font-family=\"Helvetica,sans-Serif\" font-size=\"14.00\">gini = 0.0</text>\n<text text-anchor=\"middle\" x=\"5404\" y=\"-535.3\" font-family=\"Helvetica,sans-Serif\" font-size=\"14.00\">samples = 1</text>\n<text text-anchor=\"middle\" x=\"5404\" y=\"-520.3\" font-family=\"Helvetica,sans-Serif\" font-size=\"14.00\">value = [0, 1]</text>\n</g>\n<!-- 186&#45;&gt;187 -->\n<g id=\"edge187\" class=\"edge\">\n<title>186&#45;&gt;187</title>\n<path fill=\"none\" stroke=\"black\" d=\"M5404,-608.88C5404,-598.33 5404,-586.6 5404,-575.85\"/>\n<polygon fill=\"black\" stroke=\"black\" points=\"5407.5,-575.52 5404,-565.52 5400.5,-575.52 5407.5,-575.52\"/>\n</g>\n<!-- 188 -->\n<g id=\"node189\" class=\"node\">\n<title>188</title>\n<polygon fill=\"#e58139\" stroke=\"black\" points=\"5564.5,-565.5 5469.5,-565.5 5469.5,-512.5 5564.5,-512.5 5564.5,-565.5\"/>\n<text text-anchor=\"middle\" x=\"5517\" y=\"-550.3\" font-family=\"Helvetica,sans-Serif\" font-size=\"14.00\">gini = 0.0</text>\n<text text-anchor=\"middle\" x=\"5517\" y=\"-535.3\" font-family=\"Helvetica,sans-Serif\" font-size=\"14.00\">samples = 2</text>\n<text text-anchor=\"middle\" x=\"5517\" y=\"-520.3\" font-family=\"Helvetica,sans-Serif\" font-size=\"14.00\">value = [2, 0]</text>\n</g>\n<!-- 186&#45;&gt;188 -->\n<g id=\"edge188\" class=\"edge\">\n<title>186&#45;&gt;188</title>\n<path fill=\"none\" stroke=\"black\" d=\"M5440.69,-608.88C5453.6,-597.23 5468.1,-584.14 5480.96,-572.53\"/>\n<polygon fill=\"black\" stroke=\"black\" points=\"5483.65,-574.82 5488.73,-565.52 5478.96,-569.62 5483.65,-574.82\"/>\n</g>\n</g>\n</svg>\n",
            "text/plain": [
              "<graphviz.sources.Source at 0x787b4de6ded0>"
            ]
          },
          "metadata": {},
          "execution_count": 37
        }
      ]
    },
    {
      "cell_type": "markdown",
      "source": [
        "# <FONT SIZE=5 COLOR=\"purple\"> 7. Optimicemos el valor de k </FONT>"
      ],
      "metadata": {
        "id": "itbWUL1XD78a"
      }
    },
    {
      "cell_type": "markdown",
      "source": [
        "Para esto podemos programar una función que itere sobre $k$ de la siguiente manera."
      ],
      "metadata": {
        "id": "_cLfbGzIF6g5"
      }
    },
    {
      "cell_type": "code",
      "source": [
        "k_range = range(1, 20) # rango de k. k desde 1 a 20.\n",
        "scores = []\n",
        "for k in k_range:\n",
        "    knn = KNeighborsClassifier(n_neighbors = k)\n",
        "    knn.fit(X_train, y_train)\n",
        "    scores.append(knn.score(X_test, y_test))\n",
        "plt.figure()\n",
        "plt.xlabel(\"# de vecinos k\")\n",
        "plt.ylabel(\"accuracy\")\n",
        "plt.scatter(k_range, scores)\n",
        "plt.xticks(range(1,20))"
      ],
      "metadata": {
        "id": "kHcTxqJ7GBG7",
        "colab": {
          "base_uri": "https://localhost:8080/",
          "height": 976
        },
        "outputId": "21a1dc4e-821d-4443-c15a-8597eb296fee"
      },
      "execution_count": 38,
      "outputs": [
        {
          "output_type": "execute_result",
          "data": {
            "text/plain": [
              "([<matplotlib.axis.XTick at 0x787b4df27100>,\n",
              "  <matplotlib.axis.XTick at 0x787b4df51b70>,\n",
              "  <matplotlib.axis.XTick at 0x787b4df51a80>,\n",
              "  <matplotlib.axis.XTick at 0x787b4d785e70>,\n",
              "  <matplotlib.axis.XTick at 0x787b4d786590>,\n",
              "  <matplotlib.axis.XTick at 0x787b4d787040>,\n",
              "  <matplotlib.axis.XTick at 0x787b4d787af0>,\n",
              "  <matplotlib.axis.XTick at 0x787b4d7b05e0>,\n",
              "  <matplotlib.axis.XTick at 0x787b4d787250>,\n",
              "  <matplotlib.axis.XTick at 0x787b4d7b0f70>,\n",
              "  <matplotlib.axis.XTick at 0x787b4d7b1a20>,\n",
              "  <matplotlib.axis.XTick at 0x787b4d7b24d0>,\n",
              "  <matplotlib.axis.XTick at 0x787b4d7b2f80>,\n",
              "  <matplotlib.axis.XTick at 0x787b4df51690>,\n",
              "  <matplotlib.axis.XTick at 0x787b4d7b0a00>,\n",
              "  <matplotlib.axis.XTick at 0x787b4d7b3f10>,\n",
              "  <matplotlib.axis.XTick at 0x787b4d7cca00>,\n",
              "  <matplotlib.axis.XTick at 0x787b4d7cd4b0>,\n",
              "  <matplotlib.axis.XTick at 0x787b4d7b1e40>],\n",
              " [Text(1, 0, '1'),\n",
              "  Text(2, 0, '2'),\n",
              "  Text(3, 0, '3'),\n",
              "  Text(4, 0, '4'),\n",
              "  Text(5, 0, '5'),\n",
              "  Text(6, 0, '6'),\n",
              "  Text(7, 0, '7'),\n",
              "  Text(8, 0, '8'),\n",
              "  Text(9, 0, '9'),\n",
              "  Text(10, 0, '10'),\n",
              "  Text(11, 0, '11'),\n",
              "  Text(12, 0, '12'),\n",
              "  Text(13, 0, '13'),\n",
              "  Text(14, 0, '14'),\n",
              "  Text(15, 0, '15'),\n",
              "  Text(16, 0, '16'),\n",
              "  Text(17, 0, '17'),\n",
              "  Text(18, 0, '18'),\n",
              "  Text(19, 0, '19')])"
            ]
          },
          "metadata": {},
          "execution_count": 38
        },
        {
          "output_type": "display_data",
          "data": {
            "text/plain": [
              "<Figure size 1500x600 with 1 Axes>"
            ],
            "image/png": "[encoded data removed]"
          },
          "metadata": {}
        }
      ]
    },
    {
      "cell_type": "markdown",
      "source": [
        "Podemos volver a ejecutar el modelo con $k=16$"
      ],
      "metadata": {
        "id": "iVAlNwd-udUm"
      }
    },
    {
      "cell_type": "markdown",
      "source": [
        "# <FONT SIZE=5 COLOR=\"bronw\"> 8. Validación Cruzada </FONT>\n",
        "\n",
        "La **validación cruzada**, o *cross validation*, es una técnica utilizada para evaluar los resultados obtenidos de un modelo de *machine learning* y garantizar que son independientes de los conjuntos de entrenamiento ($X_{train}$) y prueba ($X_{test}$).\n",
        "\n",
        "- Cuando usamos la función de *sklearn*:\n",
        "\n",
        "$$train\\_test\\_split(X, y, random\\_state = 123 )$$\n",
        "\n",
        "se extraen dos muestras aleatorias como conjuntos de entrenamiento y prueba y luego se hace el proceso de entrenamiento y validación del modelo, teniendo como referencias las muestras seleccionados. Sin emabrgo, una pregunta natural es:\n",
        "\n",
        "**¿Qué sucede si tomo otras muestras como conjunto de entrenamiento y de prueba, obtendré los mismos resultados?**\n",
        "\n",
        "Para responder lo anterior, debemos seleccionar varias muestras que correspondan a conjunto de entrenamiento y prueba diferentes y hacer el análisis del modelo. Precisamente, esto es lo que hace el proceso de validación cruzada.\n",
        "\n",
        "Se divide el conjunto de datos en $n$ partes, de las cuales se toma una como conjunto de *prueba* y las otras $n-1$ como conjunto de entrenamiento. Y vamos rotando el conjunto de prueba, tal y como se muestra en la siguiente figura.\n",
        "\n",
        "<br>\n",
        "\n",
        "<center><img src=\"https://github.com/Fabian830348/cursos/blob/master/val_cruzada/validation1.png?raw=true?\" alt=\"centered image\" width=\"600\" height=\"350\"></center>\n",
        "\n",
        "<br>"
      ],
      "metadata": {
        "id": "EsJ8N4Xju6UW"
      }
    },
    {
      "cell_type": "code",
      "source": [
        "# Validación cruzada k fold\n",
        "from sklearn.model_selection import KFold\n",
        "from sklearn.model_selection import cross_val_score\n",
        "\n",
        "kfold_validacion = KFold(10)                               # divide los datos en 10 pliegues.\n",
        "resultados = cross_val_score(KNN,                          # modelo aplicado\n",
        "                             X,                            # conjunto de predictores\n",
        "                             y,                            # variable de respuesta\n",
        "                             cv = kfold_validacion,        # número de divisiones en cross-validation.\n",
        "                             scoring = \"accuracy\")         # se puede escoger la métrica.\n",
        "print(resultados)                                          # para ver la variable resultados.\n",
        "resultados.mean()"
      ],
      "metadata": {
        "id": "H-KzaKC8uzNV",
        "colab": {
          "base_uri": "https://localhost:8080/"
        },
        "outputId": "e54c3660-7b2a-45f8-e669-53b44254e894"
      },
      "execution_count": 39,
      "outputs": [
        {
          "output_type": "stream",
          "name": "stdout",
          "text": [
            "[0.72727273 0.80519481 0.68831169 0.5974026  0.76623377 0.79220779\n",
            " 0.77922078 0.84415584 0.73684211 0.73684211]\n"
          ]
        },
        {
          "output_type": "execute_result",
          "data": {
            "text/plain": [
              "0.7473684210526315"
            ]
          },
          "metadata": {},
          "execution_count": 39
        }
      ]
    },
    {
      "cell_type": "markdown",
      "source": [
        "# <FONT SIZE=5 COLOR=\"bronw\"> 9. Búsqueda en Grilla </FONT>\n",
        "\n",
        "- La ***búsqueda en grilla*** (grid search) es una método que buscar las mejores combinaciones de parámetros que hacen que un modelo tenga el error más bajo, es decir, estimaciones más precisas.\n",
        "\n",
        "- En cada combinación de parámetros, la búsqueda en grilla aplica el proceso de *cross-validation* con el fin de dar una mejor evaluación del modelo en cada punto.\n",
        "\n",
        "- Cuando hablamos de búsqueda en grilla tenemos algunas alternativas. La primera se denomina propiamente *Grid Search* y en este método, se toman todas las combinaciones posibles de los hiperparámetros que se van a revisar. Como se ilustra en la siguiente gráfica\n",
        "\n",
        "<br>\n",
        "<center><img src=\"https://github.com/Fabian830348/cursos/blob/master/val_cruzada/grid1.png?raw=true?\" alt=\"centered image\" width=\"600\" height=\"350\"></center>\n",
        "<br>"
      ],
      "metadata": {
        "id": "LjQ39YTuvG6w"
      }
    },
    {
      "cell_type": "code",
      "source": [
        "from sklearn.model_selection import GridSearchCV\n",
        "\n",
        "# definimos los parámetros que vamos a combinar. Diccionario\n",
        "grid_params = {\"n_neighbors\" : list(range(1, 20)),         # se recorre la lista en k\n",
        "               \"weights\" : [\"uniform\",\"distance\"],         # se establecen los pesos\n",
        "               \"metric\" : [\"euclidean\",\"manhattan\"]}       # se establecen las métricas\n",
        "\n",
        "# hacemos la búsqueda en grilla con 5-folds\n",
        "Grid_Search = GridSearchCV(KNN,                            # el modelo aplicado\n",
        "                  grid_params,                             # los parámetros que van a variar\n",
        "                  cv = 10,                                 # el número de folds\n",
        "                  verbose = 3)                             # para que imprima resultados. Posibilidades: 1,2 o 3\n",
        "# Entrenar el modelo obtenido arriba\n",
        "g_res = Grid_Search.fit(X_train,y_train)"
      ],
      "metadata": {
        "id": "OGSluflxvR2v",
        "colab": {
          "base_uri": "https://localhost:8080/"
        },
        "outputId": "5d126f2d-bca5-4bbf-fc46-61a3af273305"
      },
      "execution_count": 40,
      "outputs": [
        {
          "output_type": "stream",
          "name": "stdout",
          "text": [
            "Fitting 10 folds for each of 76 candidates, totalling 760 fits\n",
            "[CV 1/10] END metric=euclidean, n_neighbors=1, weights=uniform;, score=0.694 total time=   0.0s\n",
            "[CV 2/10] END metric=euclidean, n_neighbors=1, weights=uniform;, score=0.629 total time=   0.0s\n",
            "[CV 3/10] END metric=euclidean, n_neighbors=1, weights=uniform;, score=0.710 total time=   0.0s\n",
            "[CV 4/10] END metric=euclidean, n_neighbors=1, weights=uniform;, score=0.710 total time=   0.0s\n",
            "[CV 5/10] END metric=euclidean, n_neighbors=1, weights=uniform;, score=0.689 total time=   0.0s\n",
            "[CV 6/10] END metric=euclidean, n_neighbors=1, weights=uniform;, score=0.770 total time=   0.0s\n",
            "[CV 7/10] END metric=euclidean, n_neighbors=1, weights=uniform;, score=0.623 total time=   0.0s\n",
            "[CV 8/10] END metric=euclidean, n_neighbors=1, weights=uniform;, score=0.689 total time=   0.0s\n",
            "[CV 9/10] END metric=euclidean, n_neighbors=1, weights=uniform;, score=0.672 total time=   0.0s\n",
            "[CV 10/10] END metric=euclidean, n_neighbors=1, weights=uniform;, score=0.705 total time=   0.0s\n",
            "[CV 1/10] END metric=euclidean, n_neighbors=1, weights=distance;, score=0.694 total time=   0.0s\n",
            "[CV 2/10] END metric=euclidean, n_neighbors=1, weights=distance;, score=0.629 total time=   0.0s\n",
            "[CV 3/10] END metric=euclidean, n_neighbors=1, weights=distance;, score=0.710 total time=   0.0s\n",
            "[CV 4/10] END metric=euclidean, n_neighbors=1, weights=distance;, score=0.710 total time=   0.0s\n",
            "[CV 5/10] END metric=euclidean, n_neighbors=1, weights=distance;, score=0.689 total time=   0.0s\n",
            "[CV 6/10] END metric=euclidean, n_neighbors=1, weights=distance;, score=0.770 total time=   0.0s\n",
            "[CV 7/10] END metric=euclidean, n_neighbors=1, weights=distance;, score=0.623 total time=   0.0s\n",
            "[CV 8/10] END metric=euclidean, n_neighbors=1, weights=distance;, score=0.689 total time=   0.0s\n",
            "[CV 9/10] END metric=euclidean, n_neighbors=1, weights=distance;, score=0.672 total time=   0.0s\n",
            "[CV 10/10] END metric=euclidean, n_neighbors=1, weights=distance;, score=0.705 total time=   0.0s\n",
            "[CV 1/10] END metric=euclidean, n_neighbors=2, weights=uniform;, score=0.661 total time=   0.0s\n",
            "[CV 2/10] END metric=euclidean, n_neighbors=2, weights=uniform;, score=0.677 total time=   0.0s\n",
            "[CV 3/10] END metric=euclidean, n_neighbors=2, weights=uniform;, score=0.758 total time=   0.0s\n",
            "[CV 4/10] END metric=euclidean, n_neighbors=2, weights=uniform;, score=0.758 total time=   0.0s\n",
            "[CV 5/10] END metric=euclidean, n_neighbors=2, weights=uniform;, score=0.738 total time=   0.0s\n",
            "[CV 6/10] END metric=euclidean, n_neighbors=2, weights=uniform;, score=0.721 total time=   0.0s\n",
            "[CV 7/10] END metric=euclidean, n_neighbors=2, weights=uniform;, score=0.639 total time=   0.0s\n",
            "[CV 8/10] END metric=euclidean, n_neighbors=2, weights=uniform;, score=0.656 total time=   0.0s\n",
            "[CV 9/10] END metric=euclidean, n_neighbors=2, weights=uniform;, score=0.705 total time=   0.0s\n",
            "[CV 10/10] END metric=euclidean, n_neighbors=2, weights=uniform;, score=0.721 total time=   0.0s\n",
            "[CV 1/10] END metric=euclidean, n_neighbors=2, weights=distance;, score=0.694 total time=   0.0s\n",
            "[CV 2/10] END metric=euclidean, n_neighbors=2, weights=distance;, score=0.629 total time=   0.0s\n",
            "[CV 3/10] END metric=euclidean, n_neighbors=2, weights=distance;, score=0.710 total time=   0.0s\n",
            "[CV 4/10] END metric=euclidean, n_neighbors=2, weights=distance;, score=0.710 total time=   0.0s\n",
            "[CV 5/10] END metric=euclidean, n_neighbors=2, weights=distance;, score=0.689 total time=   0.0s\n",
            "[CV 6/10] END metric=euclidean, n_neighbors=2, weights=distance;, score=0.770 total time=   0.0s\n",
            "[CV 7/10] END metric=euclidean, n_neighbors=2, weights=distance;, score=0.623 total time=   0.0s\n",
            "[CV 8/10] END metric=euclidean, n_neighbors=2, weights=distance;, score=0.689 total time=   0.0s\n",
            "[CV 9/10] END metric=euclidean, n_neighbors=2, weights=distance;, score=0.672 total time=   0.0s\n",
            "[CV 10/10] END metric=euclidean, n_neighbors=2, weights=distance;, score=0.705 total time=   0.0s\n",
            "[CV 1/10] END metric=euclidean, n_neighbors=3, weights=uniform;, score=0.694 total time=   0.0s\n",
            "[CV 2/10] END metric=euclidean, n_neighbors=3, weights=uniform;, score=0.758 total time=   0.0s\n",
            "[CV 3/10] END metric=euclidean, n_neighbors=3, weights=uniform;, score=0.726 total time=   0.0s\n",
            "[CV 4/10] END metric=euclidean, n_neighbors=3, weights=uniform;, score=0.790 total time=   0.0s\n",
            "[CV 5/10] END metric=euclidean, n_neighbors=3, weights=uniform;, score=0.738 total time=   0.0s\n",
            "[CV 6/10] END metric=euclidean, n_neighbors=3, weights=uniform;, score=0.721 total time=   0.0s\n",
            "[CV 7/10] END metric=euclidean, n_neighbors=3, weights=uniform;, score=0.689 total time=   0.0s\n",
            "[CV 8/10] END metric=euclidean, n_neighbors=3, weights=uniform;, score=0.672 total time=   0.0s\n",
            "[CV 9/10] END metric=euclidean, n_neighbors=3, weights=uniform;, score=0.770 total time=   0.0s\n",
            "[CV 10/10] END metric=euclidean, n_neighbors=3, weights=uniform;, score=0.689 total time=   0.0s\n",
            "[CV 1/10] END metric=euclidean, n_neighbors=3, weights=distance;, score=0.694 total time=   0.0s\n",
            "[CV 2/10] END metric=euclidean, n_neighbors=3, weights=distance;, score=0.758 total time=   0.0s\n",
            "[CV 3/10] END metric=euclidean, n_neighbors=3, weights=distance;, score=0.710 total time=   0.0s\n",
            "[CV 4/10] END metric=euclidean, n_neighbors=3, weights=distance;, score=0.790 total time=   0.0s\n",
            "[CV 5/10] END metric=euclidean, n_neighbors=3, weights=distance;, score=0.738 total time=   0.0s\n",
            "[CV 6/10] END metric=euclidean, n_neighbors=3, weights=distance;, score=0.721 total time=   0.0s\n",
            "[CV 7/10] END metric=euclidean, n_neighbors=3, weights=distance;, score=0.672 total time=   0.0s\n",
            "[CV 8/10] END metric=euclidean, n_neighbors=3, weights=distance;, score=0.672 total time=   0.0s\n",
            "[CV 9/10] END metric=euclidean, n_neighbors=3, weights=distance;, score=0.770 total time=   0.0s\n",
            "[CV 10/10] END metric=euclidean, n_neighbors=3, weights=distance;, score=0.689 total time=   0.0s\n",
            "[CV 1/10] END metric=euclidean, n_neighbors=4, weights=uniform;, score=0.710 total time=   0.0s\n",
            "[CV 2/10] END metric=euclidean, n_neighbors=4, weights=uniform;, score=0.677 total time=   0.0s\n",
            "[CV 3/10] END metric=euclidean, n_neighbors=4, weights=uniform;, score=0.758 total time=   0.0s\n",
            "[CV 4/10] END metric=euclidean, n_neighbors=4, weights=uniform;, score=0.758 total time=   0.0s\n",
            "[CV 5/10] END metric=euclidean, n_neighbors=4, weights=uniform;, score=0.754 total time=   0.0s\n",
            "[CV 6/10] END metric=euclidean, n_neighbors=4, weights=uniform;, score=0.705 total time=   0.0s\n",
            "[CV 7/10] END metric=euclidean, n_neighbors=4, weights=uniform;, score=0.656 total time=   0.0s\n",
            "[CV 8/10] END metric=euclidean, n_neighbors=4, weights=uniform;, score=0.705 total time=   0.0s\n",
            "[CV 9/10] END metric=euclidean, n_neighbors=4, weights=uniform;, score=0.754 total time=   0.0s\n",
            "[CV 10/10] END metric=euclidean, n_neighbors=4, weights=uniform;, score=0.689 total time=   0.0s\n",
            "[CV 1/10] END metric=euclidean, n_neighbors=4, weights=distance;, score=0.726 total time=   0.0s\n",
            "[CV 2/10] END metric=euclidean, n_neighbors=4, weights=distance;, score=0.694 total time=   0.0s\n",
            "[CV 3/10] END metric=euclidean, n_neighbors=4, weights=distance;, score=0.742 total time=   0.0s\n",
            "[CV 4/10] END metric=euclidean, n_neighbors=4, weights=distance;, score=0.790 total time=   0.0s\n",
            "[CV 5/10] END metric=euclidean, n_neighbors=4, weights=distance;, score=0.721 total time=   0.0s\n",
            "[CV 6/10] END metric=euclidean, n_neighbors=4, weights=distance;, score=0.738 total time=   0.0s\n",
            "[CV 7/10] END metric=euclidean, n_neighbors=4, weights=distance;, score=0.689 total time=   0.0s\n",
            "[CV 8/10] END metric=euclidean, n_neighbors=4, weights=distance;, score=0.705 total time=   0.0s\n",
            "[CV 9/10] END metric=euclidean, n_neighbors=4, weights=distance;, score=0.738 total time=   0.0s\n",
            "[CV 10/10] END metric=euclidean, n_neighbors=4, weights=distance;, score=0.705 total time=   0.0s\n",
            "[CV 1/10] END metric=euclidean, n_neighbors=5, weights=uniform;, score=0.758 total time=   0.0s\n",
            "[CV 2/10] END metric=euclidean, n_neighbors=5, weights=uniform;, score=0.710 total time=   0.0s\n",
            "[CV 3/10] END metric=euclidean, n_neighbors=5, weights=uniform;, score=0.710 total time=   0.0s\n",
            "[CV 4/10] END metric=euclidean, n_neighbors=5, weights=uniform;, score=0.742 total time=   0.0s\n",
            "[CV 5/10] END metric=euclidean, n_neighbors=5, weights=uniform;, score=0.754 total time=   0.0s\n",
            "[CV 6/10] END metric=euclidean, n_neighbors=5, weights=uniform;, score=0.721 total time=   0.0s\n",
            "[CV 7/10] END metric=euclidean, n_neighbors=5, weights=uniform;, score=0.721 total time=   0.0s\n",
            "[CV 8/10] END metric=euclidean, n_neighbors=5, weights=uniform;, score=0.689 total time=   0.0s\n",
            "[CV 9/10] END metric=euclidean, n_neighbors=5, weights=uniform;, score=0.770 total time=   0.0s\n",
            "[CV 10/10] END metric=euclidean, n_neighbors=5, weights=uniform;, score=0.705 total time=   0.0s\n",
            "[CV 1/10] END metric=euclidean, n_neighbors=5, weights=distance;, score=0.742 total time=   0.0s\n",
            "[CV 2/10] END metric=euclidean, n_neighbors=5, weights=distance;, score=0.710 total time=   0.0s\n",
            "[CV 3/10] END metric=euclidean, n_neighbors=5, weights=distance;, score=0.726 total time=   0.0s\n",
            "[CV 4/10] END metric=euclidean, n_neighbors=5, weights=distance;, score=0.758 total time=   0.0s\n",
            "[CV 5/10] END metric=euclidean, n_neighbors=5, weights=distance;, score=0.754 total time=   0.0s\n",
            "[CV 6/10] END metric=euclidean, n_neighbors=5, weights=distance;, score=0.738 total time=   0.0s\n",
            "[CV 7/10] END metric=euclidean, n_neighbors=5, weights=distance;, score=0.705 total time=   0.0s\n",
            "[CV 8/10] END metric=euclidean, n_neighbors=5, weights=distance;, score=0.689 total time=   0.0s\n",
            "[CV 9/10] END metric=euclidean, n_neighbors=5, weights=distance;, score=0.770 total time=   0.0s\n",
            "[CV 10/10] END metric=euclidean, n_neighbors=5, weights=distance;, score=0.705 total time=   0.0s\n",
            "[CV 1/10] END metric=euclidean, n_neighbors=6, weights=uniform;, score=0.742 total time=   0.0s\n",
            "[CV 2/10] END metric=euclidean, n_neighbors=6, weights=uniform;, score=0.694 total time=   0.0s\n",
            "[CV 3/10] END metric=euclidean, n_neighbors=6, weights=uniform;, score=0.742 total time=   0.0s\n",
            "[CV 4/10] END metric=euclidean, n_neighbors=6, weights=uniform;, score=0.758 total time=   0.0s\n",
            "[CV 5/10] END metric=euclidean, n_neighbors=6, weights=uniform;, score=0.770 total time=   0.0s\n",
            "[CV 6/10] END metric=euclidean, n_neighbors=6, weights=uniform;, score=0.705 total time=   0.0s\n",
            "[CV 7/10] END metric=euclidean, n_neighbors=6, weights=uniform;, score=0.672 total time=   0.0s\n",
            "[CV 8/10] END metric=euclidean, n_neighbors=6, weights=uniform;, score=0.623 total time=   0.0s\n",
            "[CV 9/10] END metric=euclidean, n_neighbors=6, weights=uniform;, score=0.738 total time=   0.0s\n",
            "[CV 10/10] END metric=euclidean, n_neighbors=6, weights=uniform;, score=0.721 total time=   0.0s\n",
            "[CV 1/10] END metric=euclidean, n_neighbors=6, weights=distance;, score=0.774 total time=   0.0s\n",
            "[CV 2/10] END metric=euclidean, n_neighbors=6, weights=distance;, score=0.710 total time=   0.0s\n",
            "[CV 3/10] END metric=euclidean, n_neighbors=6, weights=distance;, score=0.742 total time=   0.0s\n",
            "[CV 4/10] END metric=euclidean, n_neighbors=6, weights=distance;, score=0.758 total time=   0.0s\n",
            "[CV 5/10] END metric=euclidean, n_neighbors=6, weights=distance;, score=0.738 total time=   0.0s\n",
            "[CV 6/10] END metric=euclidean, n_neighbors=6, weights=distance;, score=0.754 total time=   0.0s\n",
            "[CV 7/10] END metric=euclidean, n_neighbors=6, weights=distance;, score=0.672 total time=   0.0s\n",
            "[CV 8/10] END metric=euclidean, n_neighbors=6, weights=distance;, score=0.639 total time=   0.0s\n",
            "[CV 9/10] END metric=euclidean, n_neighbors=6, weights=distance;, score=0.754 total time=   0.0s\n",
            "[CV 10/10] END metric=euclidean, n_neighbors=6, weights=distance;, score=0.721 total time=   0.0s\n",
            "[CV 1/10] END metric=euclidean, n_neighbors=7, weights=uniform;, score=0.710 total time=   0.0s\n",
            "[CV 2/10] END metric=euclidean, n_neighbors=7, weights=uniform;, score=0.694 total time=   0.0s\n",
            "[CV 3/10] END metric=euclidean, n_neighbors=7, weights=uniform;, score=0.710 total time=   0.0s\n",
            "[CV 4/10] END metric=euclidean, n_neighbors=7, weights=uniform;, score=0.823 total time=   0.0s\n",
            "[CV 5/10] END metric=euclidean, n_neighbors=7, weights=uniform;, score=0.754 total time=   0.0s\n",
            "[CV 6/10] END metric=euclidean, n_neighbors=7, weights=uniform;, score=0.672 total time=   0.0s\n",
            "[CV 7/10] END metric=euclidean, n_neighbors=7, weights=uniform;, score=0.689 total time=   0.0s\n",
            "[CV 8/10] END metric=euclidean, n_neighbors=7, weights=uniform;, score=0.639 total time=   0.0s\n",
            "[CV 9/10] END metric=euclidean, n_neighbors=7, weights=uniform;, score=0.754 total time=   0.0s\n",
            "[CV 10/10] END metric=euclidean, n_neighbors=7, weights=uniform;, score=0.738 total time=   0.0s\n",
            "[CV 1/10] END metric=euclidean, n_neighbors=7, weights=distance;, score=0.694 total time=   0.0s\n",
            "[CV 2/10] END metric=euclidean, n_neighbors=7, weights=distance;, score=0.694 total time=   0.0s\n",
            "[CV 3/10] END metric=euclidean, n_neighbors=7, weights=distance;, score=0.726 total time=   0.0s\n",
            "[CV 4/10] END metric=euclidean, n_neighbors=7, weights=distance;, score=0.806 total time=   0.0s\n",
            "[CV 5/10] END metric=euclidean, n_neighbors=7, weights=distance;, score=0.754 total time=   0.0s\n",
            "[CV 6/10] END metric=euclidean, n_neighbors=7, weights=distance;, score=0.705 total time=   0.0s\n",
            "[CV 7/10] END metric=euclidean, n_neighbors=7, weights=distance;, score=0.689 total time=   0.0s\n",
            "[CV 8/10] END metric=euclidean, n_neighbors=7, weights=distance;, score=0.639 total time=   0.0s\n",
            "[CV 9/10] END metric=euclidean, n_neighbors=7, weights=distance;, score=0.770 total time=   0.0s\n",
            "[CV 10/10] END metric=euclidean, n_neighbors=7, weights=distance;, score=0.738 total time=   0.0s\n",
            "[CV 1/10] END metric=euclidean, n_neighbors=8, weights=uniform;, score=0.726 total time=   0.0s\n",
            "[CV 2/10] END metric=euclidean, n_neighbors=8, weights=uniform;, score=0.677 total time=   0.0s\n",
            "[CV 3/10] END metric=euclidean, n_neighbors=8, weights=uniform;, score=0.758 total time=   0.0s\n",
            "[CV 4/10] END metric=euclidean, n_neighbors=8, weights=uniform;, score=0.758 total time=   0.0s\n",
            "[CV 5/10] END metric=euclidean, n_neighbors=8, weights=uniform;, score=0.787 total time=   0.0s\n",
            "[CV 6/10] END metric=euclidean, n_neighbors=8, weights=uniform;, score=0.689 total time=   0.0s\n",
            "[CV 7/10] END metric=euclidean, n_neighbors=8, weights=uniform;, score=0.721 total time=   0.0s\n",
            "[CV 8/10] END metric=euclidean, n_neighbors=8, weights=uniform;, score=0.607 total time=   0.0s\n",
            "[CV 9/10] END metric=euclidean, n_neighbors=8, weights=uniform;, score=0.738 total time=   0.0s\n",
            "[CV 10/10] END metric=euclidean, n_neighbors=8, weights=uniform;, score=0.705 total time=   0.0s\n",
            "[CV 1/10] END metric=euclidean, n_neighbors=8, weights=distance;, score=0.726 total time=   0.0s\n",
            "[CV 2/10] END metric=euclidean, n_neighbors=8, weights=distance;, score=0.710 total time=   0.0s\n",
            "[CV 3/10] END metric=euclidean, n_neighbors=8, weights=distance;, score=0.742 total time=   0.0s\n",
            "[CV 4/10] END metric=euclidean, n_neighbors=8, weights=distance;, score=0.790 total time=   0.0s\n",
            "[CV 5/10] END metric=euclidean, n_neighbors=8, weights=distance;, score=0.754 total time=   0.0s\n",
            "[CV 6/10] END metric=euclidean, n_neighbors=8, weights=distance;, score=0.705 total time=   0.0s\n",
            "[CV 7/10] END metric=euclidean, n_neighbors=8, weights=distance;, score=0.705 total time=   0.0s\n",
            "[CV 8/10] END metric=euclidean, n_neighbors=8, weights=distance;, score=0.639 total time=   0.0s\n",
            "[CV 9/10] END metric=euclidean, n_neighbors=8, weights=distance;, score=0.770 total time=   0.0s\n",
            "[CV 10/10] END metric=euclidean, n_neighbors=8, weights=distance;, score=0.721 total time=   0.0s\n",
            "[CV 1/10] END metric=euclidean, n_neighbors=9, weights=uniform;, score=0.726 total time=   0.0s\n",
            "[CV 2/10] END metric=euclidean, n_neighbors=9, weights=uniform;, score=0.694 total time=   0.0s\n",
            "[CV 3/10] END metric=euclidean, n_neighbors=9, weights=uniform;, score=0.742 total time=   0.0s\n",
            "[CV 4/10] END metric=euclidean, n_neighbors=9, weights=uniform;, score=0.774 total time=   0.0s\n",
            "[CV 5/10] END metric=euclidean, n_neighbors=9, weights=uniform;, score=0.738 total time=   0.0s\n",
            "[CV 6/10] END metric=euclidean, n_neighbors=9, weights=uniform;, score=0.770 total time=   0.0s\n",
            "[CV 7/10] END metric=euclidean, n_neighbors=9, weights=uniform;, score=0.754 total time=   0.0s\n",
            "[CV 8/10] END metric=euclidean, n_neighbors=9, weights=uniform;, score=0.623 total time=   0.0s\n",
            "[CV 9/10] END metric=euclidean, n_neighbors=9, weights=uniform;, score=0.738 total time=   0.0s\n",
            "[CV 10/10] END metric=euclidean, n_neighbors=9, weights=uniform;, score=0.738 total time=   0.0s\n",
            "[CV 1/10] END metric=euclidean, n_neighbors=9, weights=distance;, score=0.726 total time=   0.0s\n",
            "[CV 2/10] END metric=euclidean, n_neighbors=9, weights=distance;, score=0.677 total time=   0.0s\n",
            "[CV 3/10] END metric=euclidean, n_neighbors=9, weights=distance;, score=0.726 total time=   0.0s\n",
            "[CV 4/10] END metric=euclidean, n_neighbors=9, weights=distance;, score=0.758 total time=   0.0s\n",
            "[CV 5/10] END metric=euclidean, n_neighbors=9, weights=distance;, score=0.754 total time=   0.0s\n",
            "[CV 6/10] END metric=euclidean, n_neighbors=9, weights=distance;, score=0.770 total time=   0.0s\n",
            "[CV 7/10] END metric=euclidean, n_neighbors=9, weights=distance;, score=0.754 total time=   0.0s\n",
            "[CV 8/10] END metric=euclidean, n_neighbors=9, weights=distance;, score=0.623 total time=   0.0s\n",
            "[CV 9/10] END metric=euclidean, n_neighbors=9, weights=distance;, score=0.754 total time=   0.0s\n",
            "[CV 10/10] END metric=euclidean, n_neighbors=9, weights=distance;, score=0.705 total time=   0.0s\n",
            "[CV 1/10] END metric=euclidean, n_neighbors=10, weights=uniform;, score=0.677 total time=   0.0s\n",
            "[CV 2/10] END metric=euclidean, n_neighbors=10, weights=uniform;, score=0.677 total time=   0.0s\n",
            "[CV 3/10] END metric=euclidean, n_neighbors=10, weights=uniform;, score=0.774 total time=   0.0s\n",
            "[CV 4/10] END metric=euclidean, n_neighbors=10, weights=uniform;, score=0.758 total time=   0.0s\n",
            "[CV 5/10] END metric=euclidean, n_neighbors=10, weights=uniform;, score=0.754 total time=   0.0s\n",
            "[CV 6/10] END metric=euclidean, n_neighbors=10, weights=uniform;, score=0.754 total time=   0.0s\n",
            "[CV 7/10] END metric=euclidean, n_neighbors=10, weights=uniform;, score=0.721 total time=   0.0s\n",
            "[CV 8/10] END metric=euclidean, n_neighbors=10, weights=uniform;, score=0.623 total time=   0.0s\n",
            "[CV 9/10] END metric=euclidean, n_neighbors=10, weights=uniform;, score=0.738 total time=   0.0s\n",
            "[CV 10/10] END metric=euclidean, n_neighbors=10, weights=uniform;, score=0.738 total time=   0.0s\n",
            "[CV 1/10] END metric=euclidean, n_neighbors=10, weights=distance;, score=0.726 total time=   0.0s\n",
            "[CV 2/10] END metric=euclidean, n_neighbors=10, weights=distance;, score=0.710 total time=   0.0s\n",
            "[CV 3/10] END metric=euclidean, n_neighbors=10, weights=distance;, score=0.742 total time=   0.0s\n",
            "[CV 4/10] END metric=euclidean, n_neighbors=10, weights=distance;, score=0.758 total time=   0.0s\n",
            "[CV 5/10] END metric=euclidean, n_neighbors=10, weights=distance;, score=0.738 total time=   0.0s\n",
            "[CV 6/10] END metric=euclidean, n_neighbors=10, weights=distance;, score=0.754 total time=   0.0s\n",
            "[CV 7/10] END metric=euclidean, n_neighbors=10, weights=distance;, score=0.721 total time=   0.0s\n",
            "[CV 8/10] END metric=euclidean, n_neighbors=10, weights=distance;, score=0.623 total time=   0.0s\n",
            "[CV 9/10] END metric=euclidean, n_neighbors=10, weights=distance;, score=0.738 total time=   0.0s\n",
            "[CV 10/10] END metric=euclidean, n_neighbors=10, weights=distance;, score=0.754 total time=   0.0s\n",
            "[CV 1/10] END metric=euclidean, n_neighbors=11, weights=uniform;, score=0.694 total time=   0.0s\n",
            "[CV 2/10] END metric=euclidean, n_neighbors=11, weights=uniform;, score=0.710 total time=   0.0s\n",
            "[CV 3/10] END metric=euclidean, n_neighbors=11, weights=uniform;, score=0.758 total time=   0.0s\n",
            "[CV 4/10] END metric=euclidean, n_neighbors=11, weights=uniform;, score=0.758 total time=   0.0s\n",
            "[CV 5/10] END metric=euclidean, n_neighbors=11, weights=uniform;, score=0.738 total time=   0.0s\n",
            "[CV 6/10] END metric=euclidean, n_neighbors=11, weights=uniform;, score=0.787 total time=   0.0s\n",
            "[CV 7/10] END metric=euclidean, n_neighbors=11, weights=uniform;, score=0.721 total time=   0.0s\n",
            "[CV 8/10] END metric=euclidean, n_neighbors=11, weights=uniform;, score=0.672 total time=   0.0s\n",
            "[CV 9/10] END metric=euclidean, n_neighbors=11, weights=uniform;, score=0.754 total time=   0.0s\n",
            "[CV 10/10] END metric=euclidean, n_neighbors=11, weights=uniform;, score=0.738 total time=   0.0s\n",
            "[CV 1/10] END metric=euclidean, n_neighbors=11, weights=distance;, score=0.710 total time=   0.0s\n",
            "[CV 2/10] END metric=euclidean, n_neighbors=11, weights=distance;, score=0.710 total time=   0.0s\n",
            "[CV 3/10] END metric=euclidean, n_neighbors=11, weights=distance;, score=0.758 total time=   0.0s\n",
            "[CV 4/10] END metric=euclidean, n_neighbors=11, weights=distance;, score=0.758 total time=   0.0s\n",
            "[CV 5/10] END metric=euclidean, n_neighbors=11, weights=distance;, score=0.738 total time=   0.0s\n",
            "[CV 6/10] END metric=euclidean, n_neighbors=11, weights=distance;, score=0.787 total time=   0.0s\n",
            "[CV 7/10] END metric=euclidean, n_neighbors=11, weights=distance;, score=0.721 total time=   0.0s\n",
            "[CV 8/10] END metric=euclidean, n_neighbors=11, weights=distance;, score=0.656 total time=   0.0s\n",
            "[CV 9/10] END metric=euclidean, n_neighbors=11, weights=distance;, score=0.754 total time=   0.0s\n",
            "[CV 10/10] END metric=euclidean, n_neighbors=11, weights=distance;, score=0.721 total time=   0.0s\n",
            "[CV 1/10] END metric=euclidean, n_neighbors=12, weights=uniform;, score=0.694 total time=   0.0s\n",
            "[CV 2/10] END metric=euclidean, n_neighbors=12, weights=uniform;, score=0.726 total time=   0.0s\n",
            "[CV 3/10] END metric=euclidean, n_neighbors=12, weights=uniform;, score=0.758 total time=   0.0s\n",
            "[CV 4/10] END metric=euclidean, n_neighbors=12, weights=uniform;, score=0.758 total time=   0.0s\n",
            "[CV 5/10] END metric=euclidean, n_neighbors=12, weights=uniform;, score=0.803 total time=   0.0s\n",
            "[CV 6/10] END metric=euclidean, n_neighbors=12, weights=uniform;, score=0.770 total time=   0.0s\n",
            "[CV 7/10] END metric=euclidean, n_neighbors=12, weights=uniform;, score=0.656 total time=   0.0s\n",
            "[CV 8/10] END metric=euclidean, n_neighbors=12, weights=uniform;, score=0.623 total time=   0.0s\n",
            "[CV 9/10] END metric=euclidean, n_neighbors=12, weights=uniform;, score=0.754 total time=   0.0s\n",
            "[CV 10/10] END metric=euclidean, n_neighbors=12, weights=uniform;, score=0.738 total time=   0.0s\n",
            "[CV 1/10] END metric=euclidean, n_neighbors=12, weights=distance;, score=0.710 total time=   0.0s\n",
            "[CV 2/10] END metric=euclidean, n_neighbors=12, weights=distance;, score=0.726 total time=   0.0s\n",
            "[CV 3/10] END metric=euclidean, n_neighbors=12, weights=distance;, score=0.758 total time=   0.0s\n",
            "[CV 4/10] END metric=euclidean, n_neighbors=12, weights=distance;, score=0.758 total time=   0.0s\n",
            "[CV 5/10] END metric=euclidean, n_neighbors=12, weights=distance;, score=0.770 total time=   0.0s\n",
            "[CV 6/10] END metric=euclidean, n_neighbors=12, weights=distance;, score=0.738 total time=   0.0s\n",
            "[CV 7/10] END metric=euclidean, n_neighbors=12, weights=distance;, score=0.689 total time=   0.0s\n",
            "[CV 8/10] END metric=euclidean, n_neighbors=12, weights=distance;, score=0.656 total time=   0.0s\n",
            "[CV 9/10] END metric=euclidean, n_neighbors=12, weights=distance;, score=0.787 total time=   0.0s\n",
            "[CV 10/10] END metric=euclidean, n_neighbors=12, weights=distance;, score=0.721 total time=   0.0s\n",
            "[CV 1/10] END metric=euclidean, n_neighbors=13, weights=uniform;, score=0.677 total time=   0.0s\n",
            "[CV 2/10] END metric=euclidean, n_neighbors=13, weights=uniform;, score=0.726 total time=   0.0s\n",
            "[CV 3/10] END metric=euclidean, n_neighbors=13, weights=uniform;, score=0.742 total time=   0.0s\n",
            "[CV 4/10] END metric=euclidean, n_neighbors=13, weights=uniform;, score=0.742 total time=   0.0s\n",
            "[CV 5/10] END metric=euclidean, n_neighbors=13, weights=uniform;, score=0.836 total time=   0.0s\n",
            "[CV 6/10] END metric=euclidean, n_neighbors=13, weights=uniform;, score=0.803 total time=   0.0s\n",
            "[CV 7/10] END metric=euclidean, n_neighbors=13, weights=uniform;, score=0.705 total time=   0.0s\n",
            "[CV 8/10] END metric=euclidean, n_neighbors=13, weights=uniform;, score=0.607 total time=   0.0s\n",
            "[CV 9/10] END metric=euclidean, n_neighbors=13, weights=uniform;, score=0.754 total time=   0.0s\n",
            "[CV 10/10] END metric=euclidean, n_neighbors=13, weights=uniform;, score=0.721 total time=   0.0s\n",
            "[CV 1/10] END metric=euclidean, n_neighbors=13, weights=distance;, score=0.645 total time=   0.0s\n",
            "[CV 2/10] END metric=euclidean, n_neighbors=13, weights=distance;, score=0.726 total time=   0.0s\n",
            "[CV 3/10] END metric=euclidean, n_neighbors=13, weights=distance;, score=0.726 total time=   0.0s\n",
            "[CV 4/10] END metric=euclidean, n_neighbors=13, weights=distance;, score=0.742 total time=   0.0s\n",
            "[CV 5/10] END metric=euclidean, n_neighbors=13, weights=distance;, score=0.820 total time=   0.0s\n",
            "[CV 6/10] END metric=euclidean, n_neighbors=13, weights=distance;, score=0.803 total time=   0.0s\n",
            "[CV 7/10] END metric=euclidean, n_neighbors=13, weights=distance;, score=0.721 total time=   0.0s\n",
            "[CV 8/10] END metric=euclidean, n_neighbors=13, weights=distance;, score=0.590 total time=   0.0s\n",
            "[CV 9/10] END metric=euclidean, n_neighbors=13, weights=distance;, score=0.754 total time=   0.0s\n",
            "[CV 10/10] END metric=euclidean, n_neighbors=13, weights=distance;, score=0.705 total time=   0.0s\n",
            "[CV 1/10] END metric=euclidean, n_neighbors=14, weights=uniform;, score=0.710 total time=   0.0s\n",
            "[CV 2/10] END metric=euclidean, n_neighbors=14, weights=uniform;, score=0.742 total time=   0.0s\n",
            "[CV 3/10] END metric=euclidean, n_neighbors=14, weights=uniform;, score=0.742 total time=   0.0s\n",
            "[CV 4/10] END metric=euclidean, n_neighbors=14, weights=uniform;, score=0.758 total time=   0.0s\n",
            "[CV 5/10] END metric=euclidean, n_neighbors=14, weights=uniform;, score=0.820 total time=   0.0s\n",
            "[CV 6/10] END metric=euclidean, n_neighbors=14, weights=uniform;, score=0.820 total time=   0.0s\n",
            "[CV 7/10] END metric=euclidean, n_neighbors=14, weights=uniform;, score=0.689 total time=   0.0s\n",
            "[CV 8/10] END metric=euclidean, n_neighbors=14, weights=uniform;, score=0.623 total time=   0.0s\n",
            "[CV 9/10] END metric=euclidean, n_neighbors=14, weights=uniform;, score=0.738 total time=   0.0s\n",
            "[CV 10/10] END metric=euclidean, n_neighbors=14, weights=uniform;, score=0.738 total time=   0.0s\n",
            "[CV 1/10] END metric=euclidean, n_neighbors=14, weights=distance;, score=0.677 total time=   0.0s\n",
            "[CV 2/10] END metric=euclidean, n_neighbors=14, weights=distance;, score=0.726 total time=   0.0s\n",
            "[CV 3/10] END metric=euclidean, n_neighbors=14, weights=distance;, score=0.726 total time=   0.0s\n",
            "[CV 4/10] END metric=euclidean, n_neighbors=14, weights=distance;, score=0.742 total time=   0.0s\n",
            "[CV 5/10] END metric=euclidean, n_neighbors=14, weights=distance;, score=0.803 total time=   0.0s\n",
            "[CV 6/10] END metric=euclidean, n_neighbors=14, weights=distance;, score=0.803 total time=   0.0s\n",
            "[CV 7/10] END metric=euclidean, n_neighbors=14, weights=distance;, score=0.705 total time=   0.0s\n",
            "[CV 8/10] END metric=euclidean, n_neighbors=14, weights=distance;, score=0.656 total time=   0.0s\n",
            "[CV 9/10] END metric=euclidean, n_neighbors=14, weights=distance;, score=0.803 total time=   0.0s\n",
            "[CV 10/10] END metric=euclidean, n_neighbors=14, weights=distance;, score=0.754 total time=   0.0s\n",
            "[CV 1/10] END metric=euclidean, n_neighbors=15, weights=uniform;, score=0.677 total time=   0.0s\n",
            "[CV 2/10] END metric=euclidean, n_neighbors=15, weights=uniform;, score=0.742 total time=   0.0s\n",
            "[CV 3/10] END metric=euclidean, n_neighbors=15, weights=uniform;, score=0.726 total time=   0.0s\n",
            "[CV 4/10] END metric=euclidean, n_neighbors=15, weights=uniform;, score=0.742 total time=   0.0s\n",
            "[CV 5/10] END metric=euclidean, n_neighbors=15, weights=uniform;, score=0.770 total time=   0.0s\n",
            "[CV 6/10] END metric=euclidean, n_neighbors=15, weights=uniform;, score=0.820 total time=   0.0s\n",
            "[CV 7/10] END metric=euclidean, n_neighbors=15, weights=uniform;, score=0.721 total time=   0.0s\n",
            "[CV 8/10] END metric=euclidean, n_neighbors=15, weights=uniform;, score=0.656 total time=   0.0s\n",
            "[CV 9/10] END metric=euclidean, n_neighbors=15, weights=uniform;, score=0.787 total time=   0.0s\n",
            "[CV 10/10] END metric=euclidean, n_neighbors=15, weights=uniform;, score=0.770 total time=   0.0s\n",
            "[CV 1/10] END metric=euclidean, n_neighbors=15, weights=distance;, score=0.661 total time=   0.0s\n",
            "[CV 2/10] END metric=euclidean, n_neighbors=15, weights=distance;, score=0.742 total time=   0.0s\n",
            "[CV 3/10] END metric=euclidean, n_neighbors=15, weights=distance;, score=0.694 total time=   0.0s\n",
            "[CV 4/10] END metric=euclidean, n_neighbors=15, weights=distance;, score=0.726 total time=   0.0s\n",
            "[CV 5/10] END metric=euclidean, n_neighbors=15, weights=distance;, score=0.770 total time=   0.0s\n",
            "[CV 6/10] END metric=euclidean, n_neighbors=15, weights=distance;, score=0.803 total time=   0.0s\n",
            "[CV 7/10] END metric=euclidean, n_neighbors=15, weights=distance;, score=0.738 total time=   0.0s\n",
            "[CV 8/10] END metric=euclidean, n_neighbors=15, weights=distance;, score=0.639 total time=   0.0s\n",
            "[CV 9/10] END metric=euclidean, n_neighbors=15, weights=distance;, score=0.770 total time=   0.0s\n",
            "[CV 10/10] END metric=euclidean, n_neighbors=15, weights=distance;, score=0.770 total time=   0.0s\n",
            "[CV 1/10] END metric=euclidean, n_neighbors=16, weights=uniform;, score=0.694 total time=   0.0s\n",
            "[CV 2/10] END metric=euclidean, n_neighbors=16, weights=uniform;, score=0.694 total time=   0.0s\n",
            "[CV 3/10] END metric=euclidean, n_neighbors=16, weights=uniform;, score=0.742 total time=   0.0s\n",
            "[CV 4/10] END metric=euclidean, n_neighbors=16, weights=uniform;, score=0.758 total time=   0.0s\n",
            "[CV 5/10] END metric=euclidean, n_neighbors=16, weights=uniform;, score=0.820 total time=   0.0s\n",
            "[CV 6/10] END metric=euclidean, n_neighbors=16, weights=uniform;, score=0.820 total time=   0.0s\n",
            "[CV 7/10] END metric=euclidean, n_neighbors=16, weights=uniform;, score=0.705 total time=   0.0s\n",
            "[CV 8/10] END metric=euclidean, n_neighbors=16, weights=uniform;, score=0.639 total time=   0.0s\n",
            "[CV 9/10] END metric=euclidean, n_neighbors=16, weights=uniform;, score=0.770 total time=   0.0s\n",
            "[CV 10/10] END metric=euclidean, n_neighbors=16, weights=uniform;, score=0.770 total time=   0.0s\n",
            "[CV 1/10] END metric=euclidean, n_neighbors=16, weights=distance;, score=0.661 total time=   0.0s\n",
            "[CV 2/10] END metric=euclidean, n_neighbors=16, weights=distance;, score=0.742 total time=   0.0s\n",
            "[CV 3/10] END metric=euclidean, n_neighbors=16, weights=distance;, score=0.710 total time=   0.0s\n",
            "[CV 4/10] END metric=euclidean, n_neighbors=16, weights=distance;, score=0.774 total time=   0.0s\n",
            "[CV 5/10] END metric=euclidean, n_neighbors=16, weights=distance;, score=0.803 total time=   0.0s\n",
            "[CV 6/10] END metric=euclidean, n_neighbors=16, weights=distance;, score=0.820 total time=   0.0s\n",
            "[CV 7/10] END metric=euclidean, n_neighbors=16, weights=distance;, score=0.738 total time=   0.0s\n",
            "[CV 8/10] END metric=euclidean, n_neighbors=16, weights=distance;, score=0.672 total time=   0.0s\n",
            "[CV 9/10] END metric=euclidean, n_neighbors=16, weights=distance;, score=0.787 total time=   0.0s\n",
            "[CV 10/10] END metric=euclidean, n_neighbors=16, weights=distance;, score=0.738 total time=   0.0s\n",
            "[CV 1/10] END metric=euclidean, n_neighbors=17, weights=uniform;, score=0.677 total time=   0.0s\n",
            "[CV 2/10] END metric=euclidean, n_neighbors=17, weights=uniform;, score=0.742 total time=   0.0s\n",
            "[CV 3/10] END metric=euclidean, n_neighbors=17, weights=uniform;, score=0.726 total time=   0.0s\n",
            "[CV 4/10] END metric=euclidean, n_neighbors=17, weights=uniform;, score=0.742 total time=   0.0s\n",
            "[CV 5/10] END metric=euclidean, n_neighbors=17, weights=uniform;, score=0.754 total time=   0.0s\n",
            "[CV 6/10] END metric=euclidean, n_neighbors=17, weights=uniform;, score=0.836 total time=   0.0s\n",
            "[CV 7/10] END metric=euclidean, n_neighbors=17, weights=uniform;, score=0.738 total time=   0.0s\n",
            "[CV 8/10] END metric=euclidean, n_neighbors=17, weights=uniform;, score=0.689 total time=   0.0s\n",
            "[CV 9/10] END metric=euclidean, n_neighbors=17, weights=uniform;, score=0.787 total time=   0.0s\n",
            "[CV 10/10] END metric=euclidean, n_neighbors=17, weights=uniform;, score=0.770 total time=   0.0s\n",
            "[CV 1/10] END metric=euclidean, n_neighbors=17, weights=distance;, score=0.661 total time=   0.0s\n",
            "[CV 2/10] END metric=euclidean, n_neighbors=17, weights=distance;, score=0.742 total time=   0.0s\n",
            "[CV 3/10] END metric=euclidean, n_neighbors=17, weights=distance;, score=0.710 total time=   0.0s\n",
            "[CV 4/10] END metric=euclidean, n_neighbors=17, weights=distance;, score=0.758 total time=   0.0s\n",
            "[CV 5/10] END metric=euclidean, n_neighbors=17, weights=distance;, score=0.770 total time=   0.0s\n",
            "[CV 6/10] END metric=euclidean, n_neighbors=17, weights=distance;, score=0.820 total time=   0.0s\n",
            "[CV 7/10] END metric=euclidean, n_neighbors=17, weights=distance;, score=0.770 total time=   0.0s\n",
            "[CV 8/10] END metric=euclidean, n_neighbors=17, weights=distance;, score=0.689 total time=   0.0s\n",
            "[CV 9/10] END metric=euclidean, n_neighbors=17, weights=distance;, score=0.787 total time=   0.0s\n",
            "[CV 10/10] END metric=euclidean, n_neighbors=17, weights=distance;, score=0.770 total time=   0.0s\n",
            "[CV 1/10] END metric=euclidean, n_neighbors=18, weights=uniform;, score=0.677 total time=   0.0s\n",
            "[CV 2/10] END metric=euclidean, n_neighbors=18, weights=uniform;, score=0.710 total time=   0.0s\n",
            "[CV 3/10] END metric=euclidean, n_neighbors=18, weights=uniform;, score=0.726 total time=   0.0s\n",
            "[CV 4/10] END metric=euclidean, n_neighbors=18, weights=uniform;, score=0.758 total time=   0.0s\n",
            "[CV 5/10] END metric=euclidean, n_neighbors=18, weights=uniform;, score=0.787 total time=   0.0s\n",
            "[CV 6/10] END metric=euclidean, n_neighbors=18, weights=uniform;, score=0.820 total time=   0.0s\n",
            "[CV 7/10] END metric=euclidean, n_neighbors=18, weights=uniform;, score=0.705 total time=   0.0s\n",
            "[CV 8/10] END metric=euclidean, n_neighbors=18, weights=uniform;, score=0.656 total time=   0.0s\n",
            "[CV 9/10] END metric=euclidean, n_neighbors=18, weights=uniform;, score=0.787 total time=   0.0s\n",
            "[CV 10/10] END metric=euclidean, n_neighbors=18, weights=uniform;, score=0.770 total time=   0.0s\n",
            "[CV 1/10] END metric=euclidean, n_neighbors=18, weights=distance;, score=0.661 total time=   0.0s\n",
            "[CV 2/10] END metric=euclidean, n_neighbors=18, weights=distance;, score=0.726 total time=   0.0s\n",
            "[CV 3/10] END metric=euclidean, n_neighbors=18, weights=distance;, score=0.710 total time=   0.0s\n",
            "[CV 4/10] END metric=euclidean, n_neighbors=18, weights=distance;, score=0.742 total time=   0.0s\n",
            "[CV 5/10] END metric=euclidean, n_neighbors=18, weights=distance;, score=0.820 total time=   0.0s\n",
            "[CV 6/10] END metric=euclidean, n_neighbors=18, weights=distance;, score=0.836 total time=   0.0s\n",
            "[CV 7/10] END metric=euclidean, n_neighbors=18, weights=distance;, score=0.754 total time=   0.0s\n",
            "[CV 8/10] END metric=euclidean, n_neighbors=18, weights=distance;, score=0.689 total time=   0.0s\n",
            "[CV 9/10] END metric=euclidean, n_neighbors=18, weights=distance;, score=0.803 total time=   0.0s\n",
            "[CV 10/10] END metric=euclidean, n_neighbors=18, weights=distance;, score=0.787 total time=   0.0s\n",
            "[CV 1/10] END metric=euclidean, n_neighbors=19, weights=uniform;, score=0.677 total time=   0.0s\n",
            "[CV 2/10] END metric=euclidean, n_neighbors=19, weights=uniform;, score=0.710 total time=   0.0s\n",
            "[CV 3/10] END metric=euclidean, n_neighbors=19, weights=uniform;, score=0.726 total time=   0.0s\n",
            "[CV 4/10] END metric=euclidean, n_neighbors=19, weights=uniform;, score=0.758 total time=   0.0s\n",
            "[CV 5/10] END metric=euclidean, n_neighbors=19, weights=uniform;, score=0.787 total time=   0.0s\n",
            "[CV 6/10] END metric=euclidean, n_neighbors=19, weights=uniform;, score=0.820 total time=   0.0s\n",
            "[CV 7/10] END metric=euclidean, n_neighbors=19, weights=uniform;, score=0.754 total time=   0.0s\n",
            "[CV 8/10] END metric=euclidean, n_neighbors=19, weights=uniform;, score=0.672 total time=   0.0s\n",
            "[CV 9/10] END metric=euclidean, n_neighbors=19, weights=uniform;, score=0.787 total time=   0.0s\n",
            "[CV 10/10] END metric=euclidean, n_neighbors=19, weights=uniform;, score=0.770 total time=   0.0s\n",
            "[CV 1/10] END metric=euclidean, n_neighbors=19, weights=distance;, score=0.677 total time=   0.0s\n",
            "[CV 2/10] END metric=euclidean, n_neighbors=19, weights=distance;, score=0.710 total time=   0.0s\n",
            "[CV 3/10] END metric=euclidean, n_neighbors=19, weights=distance;, score=0.742 total time=   0.0s\n",
            "[CV 4/10] END metric=euclidean, n_neighbors=19, weights=distance;, score=0.758 total time=   0.0s\n",
            "[CV 5/10] END metric=euclidean, n_neighbors=19, weights=distance;, score=0.820 total time=   0.0s\n",
            "[CV 6/10] END metric=euclidean, n_neighbors=19, weights=distance;, score=0.820 total time=   0.0s\n",
            "[CV 7/10] END metric=euclidean, n_neighbors=19, weights=distance;, score=0.770 total time=   0.0s\n",
            "[CV 8/10] END metric=euclidean, n_neighbors=19, weights=distance;, score=0.656 total time=   0.0s\n",
            "[CV 9/10] END metric=euclidean, n_neighbors=19, weights=distance;, score=0.787 total time=   0.0s\n",
            "[CV 10/10] END metric=euclidean, n_neighbors=19, weights=distance;, score=0.770 total time=   0.0s\n",
            "[CV 1/10] END metric=manhattan, n_neighbors=1, weights=uniform;, score=0.661 total time=   0.0s\n",
            "[CV 2/10] END metric=manhattan, n_neighbors=1, weights=uniform;, score=0.661 total time=   0.0s\n",
            "[CV 3/10] END metric=manhattan, n_neighbors=1, weights=uniform;, score=0.742 total time=   0.0s\n",
            "[CV 4/10] END metric=manhattan, n_neighbors=1, weights=uniform;, score=0.710 total time=   0.0s\n",
            "[CV 5/10] END metric=manhattan, n_neighbors=1, weights=uniform;, score=0.705 total time=   0.0s\n",
            "[CV 6/10] END metric=manhattan, n_neighbors=1, weights=uniform;, score=0.721 total time=   0.0s\n",
            "[CV 7/10] END metric=manhattan, n_neighbors=1, weights=uniform;, score=0.607 total time=   0.0s\n",
            "[CV 8/10] END metric=manhattan, n_neighbors=1, weights=uniform;, score=0.639 total time=   0.0s\n",
            "[CV 9/10] END metric=manhattan, n_neighbors=1, weights=uniform;, score=0.672 total time=   0.0s\n",
            "[CV 10/10] END metric=manhattan, n_neighbors=1, weights=uniform;, score=0.689 total time=   0.0s\n",
            "[CV 1/10] END metric=manhattan, n_neighbors=1, weights=distance;, score=0.661 total time=   0.0s\n",
            "[CV 2/10] END metric=manhattan, n_neighbors=1, weights=distance;, score=0.661 total time=   0.0s\n",
            "[CV 3/10] END metric=manhattan, n_neighbors=1, weights=distance;, score=0.742 total time=   0.0s\n",
            "[CV 4/10] END metric=manhattan, n_neighbors=1, weights=distance;, score=0.710 total time=   0.0s\n",
            "[CV 5/10] END metric=manhattan, n_neighbors=1, weights=distance;, score=0.705 total time=   0.0s\n",
            "[CV 6/10] END metric=manhattan, n_neighbors=1, weights=distance;, score=0.721 total time=   0.0s\n",
            "[CV 7/10] END metric=manhattan, n_neighbors=1, weights=distance;, score=0.607 total time=   0.0s\n",
            "[CV 8/10] END metric=manhattan, n_neighbors=1, weights=distance;, score=0.639 total time=   0.0s\n",
            "[CV 9/10] END metric=manhattan, n_neighbors=1, weights=distance;, score=0.672 total time=   0.0s\n",
            "[CV 10/10] END metric=manhattan, n_neighbors=1, weights=distance;, score=0.689 total time=   0.0s\n",
            "[CV 1/10] END metric=manhattan, n_neighbors=2, weights=uniform;, score=0.645 total time=   0.0s\n",
            "[CV 2/10] END metric=manhattan, n_neighbors=2, weights=uniform;, score=0.677 total time=   0.0s\n",
            "[CV 3/10] END metric=manhattan, n_neighbors=2, weights=uniform;, score=0.758 total time=   0.0s\n",
            "[CV 4/10] END metric=manhattan, n_neighbors=2, weights=uniform;, score=0.774 total time=   0.0s\n",
            "[CV 5/10] END metric=manhattan, n_neighbors=2, weights=uniform;, score=0.705 total time=   0.0s\n",
            "[CV 6/10] END metric=manhattan, n_neighbors=2, weights=uniform;, score=0.738 total time=   0.0s\n",
            "[CV 7/10] END metric=manhattan, n_neighbors=2, weights=uniform;, score=0.656 total time=   0.0s\n",
            "[CV 8/10] END metric=manhattan, n_neighbors=2, weights=uniform;, score=0.623 total time=   0.0s\n",
            "[CV 9/10] END metric=manhattan, n_neighbors=2, weights=uniform;, score=0.689 total time=   0.0s\n",
            "[CV 10/10] END metric=manhattan, n_neighbors=2, weights=uniform;, score=0.672 total time=   0.0s\n",
            "[CV 1/10] END metric=manhattan, n_neighbors=2, weights=distance;, score=0.661 total time=   0.0s\n",
            "[CV 2/10] END metric=manhattan, n_neighbors=2, weights=distance;, score=0.661 total time=   0.0s\n",
            "[CV 3/10] END metric=manhattan, n_neighbors=2, weights=distance;, score=0.742 total time=   0.0s\n",
            "[CV 4/10] END metric=manhattan, n_neighbors=2, weights=distance;, score=0.710 total time=   0.0s\n",
            "[CV 5/10] END metric=manhattan, n_neighbors=2, weights=distance;, score=0.705 total time=   0.0s\n",
            "[CV 6/10] END metric=manhattan, n_neighbors=2, weights=distance;, score=0.721 total time=   0.0s\n",
            "[CV 7/10] END metric=manhattan, n_neighbors=2, weights=distance;, score=0.607 total time=   0.0s\n",
            "[CV 8/10] END metric=manhattan, n_neighbors=2, weights=distance;, score=0.639 total time=   0.0s\n",
            "[CV 9/10] END metric=manhattan, n_neighbors=2, weights=distance;, score=0.672 total time=   0.0s\n",
            "[CV 10/10] END metric=manhattan, n_neighbors=2, weights=distance;, score=0.689 total time=   0.0s\n",
            "[CV 1/10] END metric=manhattan, n_neighbors=3, weights=uniform;, score=0.694 total time=   0.0s\n",
            "[CV 2/10] END metric=manhattan, n_neighbors=3, weights=uniform;, score=0.677 total time=   0.0s\n",
            "[CV 3/10] END metric=manhattan, n_neighbors=3, weights=uniform;, score=0.726 total time=   0.0s\n",
            "[CV 4/10] END metric=manhattan, n_neighbors=3, weights=uniform;, score=0.855 total time=   0.0s\n",
            "[CV 5/10] END metric=manhattan, n_neighbors=3, weights=uniform;, score=0.656 total time=   0.0s\n",
            "[CV 6/10] END metric=manhattan, n_neighbors=3, weights=uniform;, score=0.721 total time=   0.0s\n",
            "[CV 7/10] END metric=manhattan, n_neighbors=3, weights=uniform;, score=0.656 total time=   0.0s\n",
            "[CV 8/10] END metric=manhattan, n_neighbors=3, weights=uniform;, score=0.656 total time=   0.0s\n",
            "[CV 9/10] END metric=manhattan, n_neighbors=3, weights=uniform;, score=0.770 total time=   0.0s\n",
            "[CV 10/10] END metric=manhattan, n_neighbors=3, weights=uniform;, score=0.672 total time=   0.0s\n",
            "[CV 1/10] END metric=manhattan, n_neighbors=3, weights=distance;, score=0.694 total time=   0.0s\n",
            "[CV 2/10] END metric=manhattan, n_neighbors=3, weights=distance;, score=0.677 total time=   0.0s\n",
            "[CV 3/10] END metric=manhattan, n_neighbors=3, weights=distance;, score=0.710 total time=   0.0s\n",
            "[CV 4/10] END metric=manhattan, n_neighbors=3, weights=distance;, score=0.855 total time=   0.0s\n",
            "[CV 5/10] END metric=manhattan, n_neighbors=3, weights=distance;, score=0.656 total time=   0.0s\n",
            "[CV 6/10] END metric=manhattan, n_neighbors=3, weights=distance;, score=0.721 total time=   0.0s\n",
            "[CV 7/10] END metric=manhattan, n_neighbors=3, weights=distance;, score=0.639 total time=   0.0s\n",
            "[CV 8/10] END metric=manhattan, n_neighbors=3, weights=distance;, score=0.656 total time=   0.0s\n",
            "[CV 9/10] END metric=manhattan, n_neighbors=3, weights=distance;, score=0.770 total time=   0.0s\n",
            "[CV 10/10] END metric=manhattan, n_neighbors=3, weights=distance;, score=0.672 total time=   0.0s\n",
            "[CV 1/10] END metric=manhattan, n_neighbors=4, weights=uniform;, score=0.677 total time=   0.0s\n",
            "[CV 2/10] END metric=manhattan, n_neighbors=4, weights=uniform;, score=0.710 total time=   0.0s\n",
            "[CV 3/10] END metric=manhattan, n_neighbors=4, weights=uniform;, score=0.710 total time=   0.0s\n",
            "[CV 4/10] END metric=manhattan, n_neighbors=4, weights=uniform;, score=0.774 total time=   0.0s\n",
            "[CV 5/10] END metric=manhattan, n_neighbors=4, weights=uniform;, score=0.721 total time=   0.0s\n",
            "[CV 6/10] END metric=manhattan, n_neighbors=4, weights=uniform;, score=0.689 total time=   0.0s\n",
            "[CV 7/10] END metric=manhattan, n_neighbors=4, weights=uniform;, score=0.656 total time=   0.0s\n",
            "[CV 8/10] END metric=manhattan, n_neighbors=4, weights=uniform;, score=0.656 total time=   0.0s\n",
            "[CV 9/10] END metric=manhattan, n_neighbors=4, weights=uniform;, score=0.721 total time=   0.0s\n",
            "[CV 10/10] END metric=manhattan, n_neighbors=4, weights=uniform;, score=0.705 total time=   0.0s\n",
            "[CV 1/10] END metric=manhattan, n_neighbors=4, weights=distance;, score=0.677 total time=   0.0s\n",
            "[CV 2/10] END metric=manhattan, n_neighbors=4, weights=distance;, score=0.694 total time=   0.0s\n",
            "[CV 3/10] END metric=manhattan, n_neighbors=4, weights=distance;, score=0.758 total time=   0.0s\n",
            "[CV 4/10] END metric=manhattan, n_neighbors=4, weights=distance;, score=0.790 total time=   0.0s\n",
            "[CV 5/10] END metric=manhattan, n_neighbors=4, weights=distance;, score=0.672 total time=   0.0s\n",
            "[CV 6/10] END metric=manhattan, n_neighbors=4, weights=distance;, score=0.721 total time=   0.0s\n",
            "[CV 7/10] END metric=manhattan, n_neighbors=4, weights=distance;, score=0.689 total time=   0.0s\n",
            "[CV 8/10] END metric=manhattan, n_neighbors=4, weights=distance;, score=0.639 total time=   0.0s\n",
            "[CV 9/10] END metric=manhattan, n_neighbors=4, weights=distance;, score=0.738 total time=   0.0s\n",
            "[CV 10/10] END metric=manhattan, n_neighbors=4, weights=distance;, score=0.705 total time=   0.0s\n",
            "[CV 1/10] END metric=manhattan, n_neighbors=5, weights=uniform;, score=0.710 total time=   0.0s\n",
            "[CV 2/10] END metric=manhattan, n_neighbors=5, weights=uniform;, score=0.726 total time=   0.0s\n",
            "[CV 3/10] END metric=manhattan, n_neighbors=5, weights=uniform;, score=0.742 total time=   0.0s\n",
            "[CV 4/10] END metric=manhattan, n_neighbors=5, weights=uniform;, score=0.774 total time=   0.0s\n",
            "[CV 5/10] END metric=manhattan, n_neighbors=5, weights=uniform;, score=0.721 total time=   0.0s\n",
            "[CV 6/10] END metric=manhattan, n_neighbors=5, weights=uniform;, score=0.738 total time=   0.0s\n",
            "[CV 7/10] END metric=manhattan, n_neighbors=5, weights=uniform;, score=0.705 total time=   0.0s\n",
            "[CV 8/10] END metric=manhattan, n_neighbors=5, weights=uniform;, score=0.672 total time=   0.0s\n",
            "[CV 9/10] END metric=manhattan, n_neighbors=5, weights=uniform;, score=0.754 total time=   0.0s\n",
            "[CV 10/10] END metric=manhattan, n_neighbors=5, weights=uniform;, score=0.705 total time=   0.0s\n",
            "[CV 1/10] END metric=manhattan, n_neighbors=5, weights=distance;, score=0.710 total time=   0.0s\n",
            "[CV 2/10] END metric=manhattan, n_neighbors=5, weights=distance;, score=0.726 total time=   0.0s\n",
            "[CV 3/10] END metric=manhattan, n_neighbors=5, weights=distance;, score=0.742 total time=   0.0s\n",
            "[CV 4/10] END metric=manhattan, n_neighbors=5, weights=distance;, score=0.774 total time=   0.0s\n",
            "[CV 5/10] END metric=manhattan, n_neighbors=5, weights=distance;, score=0.721 total time=   0.0s\n",
            "[CV 6/10] END metric=manhattan, n_neighbors=5, weights=distance;, score=0.738 total time=   0.0s\n",
            "[CV 7/10] END metric=manhattan, n_neighbors=5, weights=distance;, score=0.705 total time=   0.0s\n",
            "[CV 8/10] END metric=manhattan, n_neighbors=5, weights=distance;, score=0.672 total time=   0.0s\n",
            "[CV 9/10] END metric=manhattan, n_neighbors=5, weights=distance;, score=0.754 total time=   0.0s\n",
            "[CV 10/10] END metric=manhattan, n_neighbors=5, weights=distance;, score=0.705 total time=   0.0s\n",
            "[CV 1/10] END metric=manhattan, n_neighbors=6, weights=uniform;, score=0.710 total time=   0.0s\n",
            "[CV 2/10] END metric=manhattan, n_neighbors=6, weights=uniform;, score=0.661 total time=   0.0s\n",
            "[CV 3/10] END metric=manhattan, n_neighbors=6, weights=uniform;, score=0.742 total time=   0.0s\n",
            "[CV 4/10] END metric=manhattan, n_neighbors=6, weights=uniform;, score=0.742 total time=   0.0s\n",
            "[CV 5/10] END metric=manhattan, n_neighbors=6, weights=uniform;, score=0.787 total time=   0.0s\n",
            "[CV 6/10] END metric=manhattan, n_neighbors=6, weights=uniform;, score=0.787 total time=   0.0s\n",
            "[CV 7/10] END metric=manhattan, n_neighbors=6, weights=uniform;, score=0.689 total time=   0.0s\n",
            "[CV 8/10] END metric=manhattan, n_neighbors=6, weights=uniform;, score=0.639 total time=   0.0s\n",
            "[CV 9/10] END metric=manhattan, n_neighbors=6, weights=uniform;, score=0.721 total time=   0.0s\n",
            "[CV 10/10] END metric=manhattan, n_neighbors=6, weights=uniform;, score=0.689 total time=   0.0s\n",
            "[CV 1/10] END metric=manhattan, n_neighbors=6, weights=distance;, score=0.726 total time=   0.0s\n",
            "[CV 2/10] END metric=manhattan, n_neighbors=6, weights=distance;, score=0.710 total time=   0.0s\n",
            "[CV 3/10] END metric=manhattan, n_neighbors=6, weights=distance;, score=0.774 total time=   0.0s\n",
            "[CV 4/10] END metric=manhattan, n_neighbors=6, weights=distance;, score=0.758 total time=   0.0s\n",
            "[CV 5/10] END metric=manhattan, n_neighbors=6, weights=distance;, score=0.705 total time=   0.0s\n",
            "[CV 6/10] END metric=manhattan, n_neighbors=6, weights=distance;, score=0.754 total time=   0.0s\n",
            "[CV 7/10] END metric=manhattan, n_neighbors=6, weights=distance;, score=0.738 total time=   0.0s\n",
            "[CV 8/10] END metric=manhattan, n_neighbors=6, weights=distance;, score=0.689 total time=   0.0s\n",
            "[CV 9/10] END metric=manhattan, n_neighbors=6, weights=distance;, score=0.787 total time=   0.0s\n",
            "[CV 10/10] END metric=manhattan, n_neighbors=6, weights=distance;, score=0.721 total time=   0.0s\n",
            "[CV 1/10] END metric=manhattan, n_neighbors=7, weights=uniform;, score=0.726 total time=   0.0s\n",
            "[CV 2/10] END metric=manhattan, n_neighbors=7, weights=uniform;, score=0.677 total time=   0.0s\n",
            "[CV 3/10] END metric=manhattan, n_neighbors=7, weights=uniform;, score=0.758 total time=   0.0s\n",
            "[CV 4/10] END metric=manhattan, n_neighbors=7, weights=uniform;, score=0.758 total time=   0.0s\n",
            "[CV 5/10] END metric=manhattan, n_neighbors=7, weights=uniform;, score=0.738 total time=   0.0s\n",
            "[CV 6/10] END metric=manhattan, n_neighbors=7, weights=uniform;, score=0.754 total time=   0.0s\n",
            "[CV 7/10] END metric=manhattan, n_neighbors=7, weights=uniform;, score=0.689 total time=   0.0s\n",
            "[CV 8/10] END metric=manhattan, n_neighbors=7, weights=uniform;, score=0.689 total time=   0.0s\n",
            "[CV 9/10] END metric=manhattan, n_neighbors=7, weights=uniform;, score=0.754 total time=   0.0s\n",
            "[CV 10/10] END metric=manhattan, n_neighbors=7, weights=uniform;, score=0.721 total time=   0.0s\n",
            "[CV 1/10] END metric=manhattan, n_neighbors=7, weights=distance;, score=0.726 total time=   0.0s\n",
            "[CV 2/10] END metric=manhattan, n_neighbors=7, weights=distance;, score=0.677 total time=   0.0s\n",
            "[CV 3/10] END metric=manhattan, n_neighbors=7, weights=distance;, score=0.774 total time=   0.0s\n",
            "[CV 4/10] END metric=manhattan, n_neighbors=7, weights=distance;, score=0.774 total time=   0.0s\n",
            "[CV 5/10] END metric=manhattan, n_neighbors=7, weights=distance;, score=0.738 total time=   0.0s\n",
            "[CV 6/10] END metric=manhattan, n_neighbors=7, weights=distance;, score=0.754 total time=   0.0s\n",
            "[CV 7/10] END metric=manhattan, n_neighbors=7, weights=distance;, score=0.689 total time=   0.0s\n",
            "[CV 8/10] END metric=manhattan, n_neighbors=7, weights=distance;, score=0.689 total time=   0.0s\n",
            "[CV 9/10] END metric=manhattan, n_neighbors=7, weights=distance;, score=0.770 total time=   0.0s\n",
            "[CV 10/10] END metric=manhattan, n_neighbors=7, weights=distance;, score=0.721 total time=   0.0s\n",
            "[CV 1/10] END metric=manhattan, n_neighbors=8, weights=uniform;, score=0.710 total time=   0.0s\n",
            "[CV 2/10] END metric=manhattan, n_neighbors=8, weights=uniform;, score=0.677 total time=   0.0s\n",
            "[CV 3/10] END metric=manhattan, n_neighbors=8, weights=uniform;, score=0.742 total time=   0.0s\n",
            "[CV 4/10] END metric=manhattan, n_neighbors=8, weights=uniform;, score=0.790 total time=   0.0s\n",
            "[CV 5/10] END metric=manhattan, n_neighbors=8, weights=uniform;, score=0.787 total time=   0.0s\n",
            "[CV 6/10] END metric=manhattan, n_neighbors=8, weights=uniform;, score=0.754 total time=   0.0s\n",
            "[CV 7/10] END metric=manhattan, n_neighbors=8, weights=uniform;, score=0.672 total time=   0.0s\n",
            "[CV 8/10] END metric=manhattan, n_neighbors=8, weights=uniform;, score=0.656 total time=   0.0s\n",
            "[CV 9/10] END metric=manhattan, n_neighbors=8, weights=uniform;, score=0.754 total time=   0.0s\n",
            "[CV 10/10] END metric=manhattan, n_neighbors=8, weights=uniform;, score=0.705 total time=   0.0s\n",
            "[CV 1/10] END metric=manhattan, n_neighbors=8, weights=distance;, score=0.694 total time=   0.0s\n",
            "[CV 2/10] END metric=manhattan, n_neighbors=8, weights=distance;, score=0.677 total time=   0.0s\n",
            "[CV 3/10] END metric=manhattan, n_neighbors=8, weights=distance;, score=0.790 total time=   0.0s\n",
            "[CV 4/10] END metric=manhattan, n_neighbors=8, weights=distance;, score=0.742 total time=   0.0s\n",
            "[CV 5/10] END metric=manhattan, n_neighbors=8, weights=distance;, score=0.721 total time=   0.0s\n",
            "[CV 6/10] END metric=manhattan, n_neighbors=8, weights=distance;, score=0.754 total time=   0.0s\n",
            "[CV 7/10] END metric=manhattan, n_neighbors=8, weights=distance;, score=0.721 total time=   0.0s\n",
            "[CV 8/10] END metric=manhattan, n_neighbors=8, weights=distance;, score=0.705 total time=   0.0s\n",
            "[CV 9/10] END metric=manhattan, n_neighbors=8, weights=distance;, score=0.787 total time=   0.0s\n",
            "[CV 10/10] END metric=manhattan, n_neighbors=8, weights=distance;, score=0.738 total time=   0.0s\n",
            "[CV 1/10] END metric=manhattan, n_neighbors=9, weights=uniform;, score=0.694 total time=   0.0s\n",
            "[CV 2/10] END metric=manhattan, n_neighbors=9, weights=uniform;, score=0.694 total time=   0.0s\n",
            "[CV 3/10] END metric=manhattan, n_neighbors=9, weights=uniform;, score=0.774 total time=   0.0s\n",
            "[CV 4/10] END metric=manhattan, n_neighbors=9, weights=uniform;, score=0.742 total time=   0.0s\n",
            "[CV 5/10] END metric=manhattan, n_neighbors=9, weights=uniform;, score=0.738 total time=   0.0s\n",
            "[CV 6/10] END metric=manhattan, n_neighbors=9, weights=uniform;, score=0.738 total time=   0.0s\n",
            "[CV 7/10] END metric=manhattan, n_neighbors=9, weights=uniform;, score=0.754 total time=   0.0s\n",
            "[CV 8/10] END metric=manhattan, n_neighbors=9, weights=uniform;, score=0.672 total time=   0.0s\n",
            "[CV 9/10] END metric=manhattan, n_neighbors=9, weights=uniform;, score=0.770 total time=   0.0s\n",
            "[CV 10/10] END metric=manhattan, n_neighbors=9, weights=uniform;, score=0.754 total time=   0.0s\n",
            "[CV 1/10] END metric=manhattan, n_neighbors=9, weights=distance;, score=0.710 total time=   0.0s\n",
            "[CV 2/10] END metric=manhattan, n_neighbors=9, weights=distance;, score=0.677 total time=   0.0s\n",
            "[CV 3/10] END metric=manhattan, n_neighbors=9, weights=distance;, score=0.774 total time=   0.0s\n",
            "[CV 4/10] END metric=manhattan, n_neighbors=9, weights=distance;, score=0.758 total time=   0.0s\n",
            "[CV 5/10] END metric=manhattan, n_neighbors=9, weights=distance;, score=0.754 total time=   0.0s\n",
            "[CV 6/10] END metric=manhattan, n_neighbors=9, weights=distance;, score=0.738 total time=   0.0s\n",
            "[CV 7/10] END metric=manhattan, n_neighbors=9, weights=distance;, score=0.754 total time=   0.0s\n",
            "[CV 8/10] END metric=manhattan, n_neighbors=9, weights=distance;, score=0.672 total time=   0.0s\n",
            "[CV 9/10] END metric=manhattan, n_neighbors=9, weights=distance;, score=0.770 total time=   0.0s\n",
            "[CV 10/10] END metric=manhattan, n_neighbors=9, weights=distance;, score=0.754 total time=   0.0s\n",
            "[CV 1/10] END metric=manhattan, n_neighbors=10, weights=uniform;, score=0.710 total time=   0.0s\n",
            "[CV 2/10] END metric=manhattan, n_neighbors=10, weights=uniform;, score=0.694 total time=   0.0s\n",
            "[CV 3/10] END metric=manhattan, n_neighbors=10, weights=uniform;, score=0.758 total time=   0.0s\n",
            "[CV 4/10] END metric=manhattan, n_neighbors=10, weights=uniform;, score=0.774 total time=   0.0s\n",
            "[CV 5/10] END metric=manhattan, n_neighbors=10, weights=uniform;, score=0.770 total time=   0.0s\n",
            "[CV 6/10] END metric=manhattan, n_neighbors=10, weights=uniform;, score=0.738 total time=   0.0s\n",
            "[CV 7/10] END metric=manhattan, n_neighbors=10, weights=uniform;, score=0.721 total time=   0.0s\n",
            "[CV 8/10] END metric=manhattan, n_neighbors=10, weights=uniform;, score=0.623 total time=   0.0s\n",
            "[CV 9/10] END metric=manhattan, n_neighbors=10, weights=uniform;, score=0.738 total time=   0.0s\n",
            "[CV 10/10] END metric=manhattan, n_neighbors=10, weights=uniform;, score=0.705 total time=   0.0s\n",
            "[CV 1/10] END metric=manhattan, n_neighbors=10, weights=distance;, score=0.694 total time=   0.0s\n",
            "[CV 2/10] END metric=manhattan, n_neighbors=10, weights=distance;, score=0.661 total time=   0.0s\n",
            "[CV 3/10] END metric=manhattan, n_neighbors=10, weights=distance;, score=0.758 total time=   0.0s\n",
            "[CV 4/10] END metric=manhattan, n_neighbors=10, weights=distance;, score=0.742 total time=   0.0s\n",
            "[CV 5/10] END metric=manhattan, n_neighbors=10, weights=distance;, score=0.738 total time=   0.0s\n",
            "[CV 6/10] END metric=manhattan, n_neighbors=10, weights=distance;, score=0.721 total time=   0.0s\n",
            "[CV 7/10] END metric=manhattan, n_neighbors=10, weights=distance;, score=0.721 total time=   0.0s\n",
            "[CV 8/10] END metric=manhattan, n_neighbors=10, weights=distance;, score=0.689 total time=   0.0s\n",
            "[CV 9/10] END metric=manhattan, n_neighbors=10, weights=distance;, score=0.787 total time=   0.0s\n",
            "[CV 10/10] END metric=manhattan, n_neighbors=10, weights=distance;, score=0.721 total time=   0.0s\n",
            "[CV 1/10] END metric=manhattan, n_neighbors=11, weights=uniform;, score=0.710 total time=   0.0s\n",
            "[CV 2/10] END metric=manhattan, n_neighbors=11, weights=uniform;, score=0.677 total time=   0.0s\n",
            "[CV 3/10] END metric=manhattan, n_neighbors=11, weights=uniform;, score=0.758 total time=   0.0s\n",
            "[CV 4/10] END metric=manhattan, n_neighbors=11, weights=uniform;, score=0.758 total time=   0.0s\n",
            "[CV 5/10] END metric=manhattan, n_neighbors=11, weights=uniform;, score=0.754 total time=   0.0s\n",
            "[CV 6/10] END metric=manhattan, n_neighbors=11, weights=uniform;, score=0.705 total time=   0.0s\n",
            "[CV 7/10] END metric=manhattan, n_neighbors=11, weights=uniform;, score=0.721 total time=   0.0s\n",
            "[CV 8/10] END metric=manhattan, n_neighbors=11, weights=uniform;, score=0.672 total time=   0.0s\n",
            "[CV 9/10] END metric=manhattan, n_neighbors=11, weights=uniform;, score=0.754 total time=   0.0s\n",
            "[CV 10/10] END metric=manhattan, n_neighbors=11, weights=uniform;, score=0.738 total time=   0.0s\n",
            "[CV 1/10] END metric=manhattan, n_neighbors=11, weights=distance;, score=0.694 total time=   0.0s\n",
            "[CV 2/10] END metric=manhattan, n_neighbors=11, weights=distance;, score=0.661 total time=   0.0s\n",
            "[CV 3/10] END metric=manhattan, n_neighbors=11, weights=distance;, score=0.758 total time=   0.0s\n",
            "[CV 4/10] END metric=manhattan, n_neighbors=11, weights=distance;, score=0.758 total time=   0.0s\n",
            "[CV 5/10] END metric=manhattan, n_neighbors=11, weights=distance;, score=0.754 total time=   0.0s\n",
            "[CV 6/10] END metric=manhattan, n_neighbors=11, weights=distance;, score=0.738 total time=   0.0s\n",
            "[CV 7/10] END metric=manhattan, n_neighbors=11, weights=distance;, score=0.721 total time=   0.0s\n",
            "[CV 8/10] END metric=manhattan, n_neighbors=11, weights=distance;, score=0.672 total time=   0.0s\n",
            "[CV 9/10] END metric=manhattan, n_neighbors=11, weights=distance;, score=0.738 total time=   0.0s\n",
            "[CV 10/10] END metric=manhattan, n_neighbors=11, weights=distance;, score=0.721 total time=   0.0s\n",
            "[CV 1/10] END metric=manhattan, n_neighbors=12, weights=uniform;, score=0.677 total time=   0.0s\n",
            "[CV 2/10] END metric=manhattan, n_neighbors=12, weights=uniform;, score=0.677 total time=   0.0s\n",
            "[CV 3/10] END metric=manhattan, n_neighbors=12, weights=uniform;, score=0.774 total time=   0.0s\n",
            "[CV 4/10] END metric=manhattan, n_neighbors=12, weights=uniform;, score=0.726 total time=   0.0s\n",
            "[CV 5/10] END metric=manhattan, n_neighbors=12, weights=uniform;, score=0.770 total time=   0.0s\n",
            "[CV 6/10] END metric=manhattan, n_neighbors=12, weights=uniform;, score=0.770 total time=   0.0s\n",
            "[CV 7/10] END metric=manhattan, n_neighbors=12, weights=uniform;, score=0.689 total time=   0.0s\n",
            "[CV 8/10] END metric=manhattan, n_neighbors=12, weights=uniform;, score=0.639 total time=   0.0s\n",
            "[CV 9/10] END metric=manhattan, n_neighbors=12, weights=uniform;, score=0.721 total time=   0.0s\n",
            "[CV 10/10] END metric=manhattan, n_neighbors=12, weights=uniform;, score=0.672 total time=   0.0s\n",
            "[CV 1/10] END metric=manhattan, n_neighbors=12, weights=distance;, score=0.661 total time=   0.0s\n",
            "[CV 2/10] END metric=manhattan, n_neighbors=12, weights=distance;, score=0.661 total time=   0.0s\n",
            "[CV 3/10] END metric=manhattan, n_neighbors=12, weights=distance;, score=0.758 total time=   0.0s\n",
            "[CV 4/10] END metric=manhattan, n_neighbors=12, weights=distance;, score=0.742 total time=   0.0s\n",
            "[CV 5/10] END metric=manhattan, n_neighbors=12, weights=distance;, score=0.738 total time=   0.0s\n",
            "[CV 6/10] END metric=manhattan, n_neighbors=12, weights=distance;, score=0.787 total time=   0.0s\n",
            "[CV 7/10] END metric=manhattan, n_neighbors=12, weights=distance;, score=0.721 total time=   0.0s\n",
            "[CV 8/10] END metric=manhattan, n_neighbors=12, weights=distance;, score=0.672 total time=   0.0s\n",
            "[CV 9/10] END metric=manhattan, n_neighbors=12, weights=distance;, score=0.770 total time=   0.0s\n",
            "[CV 10/10] END metric=manhattan, n_neighbors=12, weights=distance;, score=0.705 total time=   0.0s\n",
            "[CV 1/10] END metric=manhattan, n_neighbors=13, weights=uniform;, score=0.645 total time=   0.0s\n",
            "[CV 2/10] END metric=manhattan, n_neighbors=13, weights=uniform;, score=0.694 total time=   0.0s\n",
            "[CV 3/10] END metric=manhattan, n_neighbors=13, weights=uniform;, score=0.758 total time=   0.0s\n",
            "[CV 4/10] END metric=manhattan, n_neighbors=13, weights=uniform;, score=0.742 total time=   0.0s\n",
            "[CV 5/10] END metric=manhattan, n_neighbors=13, weights=uniform;, score=0.754 total time=   0.0s\n",
            "[CV 6/10] END metric=manhattan, n_neighbors=13, weights=uniform;, score=0.787 total time=   0.0s\n",
            "[CV 7/10] END metric=manhattan, n_neighbors=13, weights=uniform;, score=0.738 total time=   0.0s\n",
            "[CV 8/10] END metric=manhattan, n_neighbors=13, weights=uniform;, score=0.656 total time=   0.0s\n",
            "[CV 9/10] END metric=manhattan, n_neighbors=13, weights=uniform;, score=0.738 total time=   0.0s\n",
            "[CV 10/10] END metric=manhattan, n_neighbors=13, weights=uniform;, score=0.721 total time=   0.0s\n",
            "[CV 1/10] END metric=manhattan, n_neighbors=13, weights=distance;, score=0.661 total time=   0.0s\n",
            "[CV 2/10] END metric=manhattan, n_neighbors=13, weights=distance;, score=0.677 total time=   0.0s\n",
            "[CV 3/10] END metric=manhattan, n_neighbors=13, weights=distance;, score=0.758 total time=   0.0s\n",
            "[CV 4/10] END metric=manhattan, n_neighbors=13, weights=distance;, score=0.742 total time=   0.0s\n",
            "[CV 5/10] END metric=manhattan, n_neighbors=13, weights=distance;, score=0.770 total time=   0.0s\n",
            "[CV 6/10] END metric=manhattan, n_neighbors=13, weights=distance;, score=0.820 total time=   0.0s\n",
            "[CV 7/10] END metric=manhattan, n_neighbors=13, weights=distance;, score=0.721 total time=   0.0s\n",
            "[CV 8/10] END metric=manhattan, n_neighbors=13, weights=distance;, score=0.656 total time=   0.0s\n",
            "[CV 9/10] END metric=manhattan, n_neighbors=13, weights=distance;, score=0.721 total time=   0.0s\n",
            "[CV 10/10] END metric=manhattan, n_neighbors=13, weights=distance;, score=0.689 total time=   0.0s\n",
            "[CV 1/10] END metric=manhattan, n_neighbors=14, weights=uniform;, score=0.661 total time=   0.0s\n",
            "[CV 2/10] END metric=manhattan, n_neighbors=14, weights=uniform;, score=0.726 total time=   0.0s\n",
            "[CV 3/10] END metric=manhattan, n_neighbors=14, weights=uniform;, score=0.774 total time=   0.0s\n",
            "[CV 4/10] END metric=manhattan, n_neighbors=14, weights=uniform;, score=0.710 total time=   0.0s\n",
            "[CV 5/10] END metric=manhattan, n_neighbors=14, weights=uniform;, score=0.820 total time=   0.0s\n",
            "[CV 6/10] END metric=manhattan, n_neighbors=14, weights=uniform;, score=0.787 total time=   0.0s\n",
            "[CV 7/10] END metric=manhattan, n_neighbors=14, weights=uniform;, score=0.705 total time=   0.0s\n",
            "[CV 8/10] END metric=manhattan, n_neighbors=14, weights=uniform;, score=0.607 total time=   0.0s\n",
            "[CV 9/10] END metric=manhattan, n_neighbors=14, weights=uniform;, score=0.738 total time=   0.0s\n",
            "[CV 10/10] END metric=manhattan, n_neighbors=14, weights=uniform;, score=0.705 total time=   0.0s\n",
            "[CV 1/10] END metric=manhattan, n_neighbors=14, weights=distance;, score=0.661 total time=   0.0s\n",
            "[CV 2/10] END metric=manhattan, n_neighbors=14, weights=distance;, score=0.710 total time=   0.0s\n",
            "[CV 3/10] END metric=manhattan, n_neighbors=14, weights=distance;, score=0.758 total time=   0.0s\n",
            "[CV 4/10] END metric=manhattan, n_neighbors=14, weights=distance;, score=0.742 total time=   0.0s\n",
            "[CV 5/10] END metric=manhattan, n_neighbors=14, weights=distance;, score=0.803 total time=   0.0s\n",
            "[CV 6/10] END metric=manhattan, n_neighbors=14, weights=distance;, score=0.836 total time=   0.0s\n",
            "[CV 7/10] END metric=manhattan, n_neighbors=14, weights=distance;, score=0.689 total time=   0.0s\n",
            "[CV 8/10] END metric=manhattan, n_neighbors=14, weights=distance;, score=0.639 total time=   0.0s\n",
            "[CV 9/10] END metric=manhattan, n_neighbors=14, weights=distance;, score=0.770 total time=   0.0s\n",
            "[CV 10/10] END metric=manhattan, n_neighbors=14, weights=distance;, score=0.721 total time=   0.0s\n",
            "[CV 1/10] END metric=manhattan, n_neighbors=15, weights=uniform;, score=0.694 total time=   0.0s\n",
            "[CV 2/10] END metric=manhattan, n_neighbors=15, weights=uniform;, score=0.742 total time=   0.0s\n",
            "[CV 3/10] END metric=manhattan, n_neighbors=15, weights=uniform;, score=0.774 total time=   0.0s\n",
            "[CV 4/10] END metric=manhattan, n_neighbors=15, weights=uniform;, score=0.742 total time=   0.0s\n",
            "[CV 5/10] END metric=manhattan, n_neighbors=15, weights=uniform;, score=0.803 total time=   0.0s\n",
            "[CV 6/10] END metric=manhattan, n_neighbors=15, weights=uniform;, score=0.803 total time=   0.0s\n",
            "[CV 7/10] END metric=manhattan, n_neighbors=15, weights=uniform;, score=0.705 total time=   0.0s\n",
            "[CV 8/10] END metric=manhattan, n_neighbors=15, weights=uniform;, score=0.623 total time=   0.0s\n",
            "[CV 9/10] END metric=manhattan, n_neighbors=15, weights=uniform;, score=0.803 total time=   0.0s\n",
            "[CV 10/10] END metric=manhattan, n_neighbors=15, weights=uniform;, score=0.738 total time=   0.0s\n",
            "[CV 1/10] END metric=manhattan, n_neighbors=15, weights=distance;, score=0.694 total time=   0.0s\n",
            "[CV 2/10] END metric=manhattan, n_neighbors=15, weights=distance;, score=0.726 total time=   0.0s\n",
            "[CV 3/10] END metric=manhattan, n_neighbors=15, weights=distance;, score=0.758 total time=   0.0s\n",
            "[CV 4/10] END metric=manhattan, n_neighbors=15, weights=distance;, score=0.758 total time=   0.0s\n",
            "[CV 5/10] END metric=manhattan, n_neighbors=15, weights=distance;, score=0.803 total time=   0.0s\n",
            "[CV 6/10] END metric=manhattan, n_neighbors=15, weights=distance;, score=0.820 total time=   0.0s\n",
            "[CV 7/10] END metric=manhattan, n_neighbors=15, weights=distance;, score=0.689 total time=   0.0s\n",
            "[CV 8/10] END metric=manhattan, n_neighbors=15, weights=distance;, score=0.639 total time=   0.0s\n",
            "[CV 9/10] END metric=manhattan, n_neighbors=15, weights=distance;, score=0.787 total time=   0.0s\n",
            "[CV 10/10] END metric=manhattan, n_neighbors=15, weights=distance;, score=0.738 total time=   0.0s\n",
            "[CV 1/10] END metric=manhattan, n_neighbors=16, weights=uniform;, score=0.694 total time=   0.0s\n",
            "[CV 2/10] END metric=manhattan, n_neighbors=16, weights=uniform;, score=0.758 total time=   0.0s\n",
            "[CV 3/10] END metric=manhattan, n_neighbors=16, weights=uniform;, score=0.742 total time=   0.0s\n",
            "[CV 4/10] END metric=manhattan, n_neighbors=16, weights=uniform;, score=0.742 total time=   0.0s\n",
            "[CV 5/10] END metric=manhattan, n_neighbors=16, weights=uniform;, score=0.787 total time=   0.0s\n",
            "[CV 6/10] END metric=manhattan, n_neighbors=16, weights=uniform;, score=0.820 total time=   0.0s\n",
            "[CV 7/10] END metric=manhattan, n_neighbors=16, weights=uniform;, score=0.705 total time=   0.0s\n",
            "[CV 8/10] END metric=manhattan, n_neighbors=16, weights=uniform;, score=0.672 total time=   0.0s\n",
            "[CV 9/10] END metric=manhattan, n_neighbors=16, weights=uniform;, score=0.787 total time=   0.0s\n",
            "[CV 10/10] END metric=manhattan, n_neighbors=16, weights=uniform;, score=0.738 total time=   0.0s\n",
            "[CV 1/10] END metric=manhattan, n_neighbors=16, weights=distance;, score=0.677 total time=   0.0s\n",
            "[CV 2/10] END metric=manhattan, n_neighbors=16, weights=distance;, score=0.726 total time=   0.0s\n",
            "[CV 3/10] END metric=manhattan, n_neighbors=16, weights=distance;, score=0.758 total time=   0.0s\n",
            "[CV 4/10] END metric=manhattan, n_neighbors=16, weights=distance;, score=0.742 total time=   0.0s\n",
            "[CV 5/10] END metric=manhattan, n_neighbors=16, weights=distance;, score=0.787 total time=   0.0s\n",
            "[CV 6/10] END metric=manhattan, n_neighbors=16, weights=distance;, score=0.852 total time=   0.0s\n",
            "[CV 7/10] END metric=manhattan, n_neighbors=16, weights=distance;, score=0.705 total time=   0.0s\n",
            "[CV 8/10] END metric=manhattan, n_neighbors=16, weights=distance;, score=0.656 total time=   0.0s\n",
            "[CV 9/10] END metric=manhattan, n_neighbors=16, weights=distance;, score=0.787 total time=   0.0s\n",
            "[CV 10/10] END metric=manhattan, n_neighbors=16, weights=distance;, score=0.754 total time=   0.0s\n",
            "[CV 1/10] END metric=manhattan, n_neighbors=17, weights=uniform;, score=0.694 total time=   0.0s\n",
            "[CV 2/10] END metric=manhattan, n_neighbors=17, weights=uniform;, score=0.758 total time=   0.0s\n",
            "[CV 3/10] END metric=manhattan, n_neighbors=17, weights=uniform;, score=0.758 total time=   0.0s\n",
            "[CV 4/10] END metric=manhattan, n_neighbors=17, weights=uniform;, score=0.758 total time=   0.0s\n",
            "[CV 5/10] END metric=manhattan, n_neighbors=17, weights=uniform;, score=0.787 total time=   0.0s\n",
            "[CV 6/10] END metric=manhattan, n_neighbors=17, weights=uniform;, score=0.836 total time=   0.0s\n",
            "[CV 7/10] END metric=manhattan, n_neighbors=17, weights=uniform;, score=0.689 total time=   0.0s\n",
            "[CV 8/10] END metric=manhattan, n_neighbors=17, weights=uniform;, score=0.656 total time=   0.0s\n",
            "[CV 9/10] END metric=manhattan, n_neighbors=17, weights=uniform;, score=0.770 total time=   0.0s\n",
            "[CV 10/10] END metric=manhattan, n_neighbors=17, weights=uniform;, score=0.770 total time=   0.0s\n",
            "[CV 1/10] END metric=manhattan, n_neighbors=17, weights=distance;, score=0.694 total time=   0.0s\n",
            "[CV 2/10] END metric=manhattan, n_neighbors=17, weights=distance;, score=0.742 total time=   0.0s\n",
            "[CV 3/10] END metric=manhattan, n_neighbors=17, weights=distance;, score=0.774 total time=   0.0s\n",
            "[CV 4/10] END metric=manhattan, n_neighbors=17, weights=distance;, score=0.758 total time=   0.0s\n",
            "[CV 5/10] END metric=manhattan, n_neighbors=17, weights=distance;, score=0.803 total time=   0.0s\n",
            "[CV 6/10] END metric=manhattan, n_neighbors=17, weights=distance;, score=0.836 total time=   0.0s\n",
            "[CV 7/10] END metric=manhattan, n_neighbors=17, weights=distance;, score=0.672 total time=   0.0s\n",
            "[CV 8/10] END metric=manhattan, n_neighbors=17, weights=distance;, score=0.656 total time=   0.0s\n",
            "[CV 9/10] END metric=manhattan, n_neighbors=17, weights=distance;, score=0.770 total time=   0.0s\n",
            "[CV 10/10] END metric=manhattan, n_neighbors=17, weights=distance;, score=0.770 total time=   0.0s\n",
            "[CV 1/10] END metric=manhattan, n_neighbors=18, weights=uniform;, score=0.710 total time=   0.0s\n",
            "[CV 2/10] END metric=manhattan, n_neighbors=18, weights=uniform;, score=0.758 total time=   0.0s\n",
            "[CV 3/10] END metric=manhattan, n_neighbors=18, weights=uniform;, score=0.758 total time=   0.0s\n",
            "[CV 4/10] END metric=manhattan, n_neighbors=18, weights=uniform;, score=0.758 total time=   0.0s\n",
            "[CV 5/10] END metric=manhattan, n_neighbors=18, weights=uniform;, score=0.803 total time=   0.0s\n",
            "[CV 6/10] END metric=manhattan, n_neighbors=18, weights=uniform;, score=0.820 total time=   0.0s\n",
            "[CV 7/10] END metric=manhattan, n_neighbors=18, weights=uniform;, score=0.705 total time=   0.0s\n",
            "[CV 8/10] END metric=manhattan, n_neighbors=18, weights=uniform;, score=0.639 total time=   0.0s\n",
            "[CV 9/10] END metric=manhattan, n_neighbors=18, weights=uniform;, score=0.770 total time=   0.0s\n",
            "[CV 10/10] END metric=manhattan, n_neighbors=18, weights=uniform;, score=0.770 total time=   0.0s\n",
            "[CV 1/10] END metric=manhattan, n_neighbors=18, weights=distance;, score=0.694 total time=   0.0s\n",
            "[CV 2/10] END metric=manhattan, n_neighbors=18, weights=distance;, score=0.758 total time=   0.0s\n",
            "[CV 3/10] END metric=manhattan, n_neighbors=18, weights=distance;, score=0.774 total time=   0.0s\n",
            "[CV 4/10] END metric=manhattan, n_neighbors=18, weights=distance;, score=0.758 total time=   0.0s\n",
            "[CV 5/10] END metric=manhattan, n_neighbors=18, weights=distance;, score=0.787 total time=   0.0s\n",
            "[CV 6/10] END metric=manhattan, n_neighbors=18, weights=distance;, score=0.836 total time=   0.0s\n",
            "[CV 7/10] END metric=manhattan, n_neighbors=18, weights=distance;, score=0.705 total time=   0.0s\n",
            "[CV 8/10] END metric=manhattan, n_neighbors=18, weights=distance;, score=0.672 total time=   0.0s\n",
            "[CV 9/10] END metric=manhattan, n_neighbors=18, weights=distance;, score=0.787 total time=   0.0s\n",
            "[CV 10/10] END metric=manhattan, n_neighbors=18, weights=distance;, score=0.770 total time=   0.0s\n",
            "[CV 1/10] END metric=manhattan, n_neighbors=19, weights=uniform;, score=0.694 total time=   0.0s\n",
            "[CV 2/10] END metric=manhattan, n_neighbors=19, weights=uniform;, score=0.742 total time=   0.0s\n",
            "[CV 3/10] END metric=manhattan, n_neighbors=19, weights=uniform;, score=0.774 total time=   0.0s\n",
            "[CV 4/10] END metric=manhattan, n_neighbors=19, weights=uniform;, score=0.774 total time=   0.0s\n",
            "[CV 5/10] END metric=manhattan, n_neighbors=19, weights=uniform;, score=0.803 total time=   0.0s\n",
            "[CV 6/10] END metric=manhattan, n_neighbors=19, weights=uniform;, score=0.852 total time=   0.0s\n",
            "[CV 7/10] END metric=manhattan, n_neighbors=19, weights=uniform;, score=0.721 total time=   0.0s\n",
            "[CV 8/10] END metric=manhattan, n_neighbors=19, weights=uniform;, score=0.656 total time=   0.0s\n",
            "[CV 9/10] END metric=manhattan, n_neighbors=19, weights=uniform;, score=0.738 total time=   0.0s\n",
            "[CV 10/10] END metric=manhattan, n_neighbors=19, weights=uniform;, score=0.754 total time=   0.0s\n",
            "[CV 1/10] END metric=manhattan, n_neighbors=19, weights=distance;, score=0.694 total time=   0.0s\n",
            "[CV 2/10] END metric=manhattan, n_neighbors=19, weights=distance;, score=0.742 total time=   0.0s\n",
            "[CV 3/10] END metric=manhattan, n_neighbors=19, weights=distance;, score=0.774 total time=   0.0s\n",
            "[CV 4/10] END metric=manhattan, n_neighbors=19, weights=distance;, score=0.790 total time=   0.0s\n",
            "[CV 5/10] END metric=manhattan, n_neighbors=19, weights=distance;, score=0.820 total time=   0.0s\n",
            "[CV 6/10] END metric=manhattan, n_neighbors=19, weights=distance;, score=0.852 total time=   0.0s\n",
            "[CV 7/10] END metric=manhattan, n_neighbors=19, weights=distance;, score=0.705 total time=   0.0s\n",
            "[CV 8/10] END metric=manhattan, n_neighbors=19, weights=distance;, score=0.672 total time=   0.0s\n",
            "[CV 9/10] END metric=manhattan, n_neighbors=19, weights=distance;, score=0.754 total time=   0.0s\n",
            "[CV 10/10] END metric=manhattan, n_neighbors=19, weights=distance;, score=0.770 total time=   0.0s\n"
          ]
        }
      ]
    },
    {
      "cell_type": "markdown",
      "source": [
        "Ahora, buscamos el mejor *score*"
      ],
      "metadata": {
        "id": "Fz22advXvpOQ"
      }
    },
    {
      "cell_type": "code",
      "source": [
        "print(\"Mejor score: \",g_res.best_score_)"
      ],
      "metadata": {
        "id": "nx9iLativXJf",
        "colab": {
          "base_uri": "https://localhost:8080/"
        },
        "outputId": "48ebd658-9aad-44e6-b8fb-8774f29f5bb1"
      },
      "execution_count": 41,
      "outputs": [
        {
          "output_type": "stream",
          "name": "stdout",
          "text": [
            "Mejor score:  0.757377049180328\n"
          ]
        }
      ]
    },
    {
      "cell_type": "markdown",
      "source": [
        "Finalmente, los hiperparámetros que lograron ese *score*"
      ],
      "metadata": {
        "id": "NByeZ0aSvp2Q"
      }
    },
    {
      "cell_type": "code",
      "source": [
        "print(\"Mejores hiperparámetros\", g_res.best_params_)"
      ],
      "metadata": {
        "id": "PDROtYIzvaZK",
        "colab": {
          "base_uri": "https://localhost:8080/"
        },
        "outputId": "62721a4c-e19c-4974-952b-8ca11b077590"
      },
      "execution_count": 42,
      "outputs": [
        {
          "output_type": "stream",
          "name": "stdout",
          "text": [
            "Mejores hiperparámetros {'metric': 'manhattan', 'n_neighbors': 19, 'weights': 'distance'}\n"
          ]
        }
      ]
    }
  ]
}